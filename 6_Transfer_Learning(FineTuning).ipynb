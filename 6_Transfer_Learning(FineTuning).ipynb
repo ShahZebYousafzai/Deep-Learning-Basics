{
  "nbformat": 4,
  "nbformat_minor": 0,
  "metadata": {
    "colab": {
      "name": "6_Transfer_Learning(FineTuning).ipynb",
      "provenance": [],
      "collapsed_sections": [],
      "authorship_tag": "ABX9TyPN6zPTK/QI4xV3Jz2Apan1",
      "include_colab_link": true
    },
    "kernelspec": {
      "name": "python3",
      "display_name": "Python 3"
    },
    "language_info": {
      "name": "python"
    },
    "accelerator": "GPU"
  },
  "cells": [
    {
      "cell_type": "markdown",
      "metadata": {
        "id": "view-in-github",
        "colab_type": "text"
      },
      "source": [
        "<a href=\"https://colab.research.google.com/github/ShahZebYousafzai/Deep-Learning-Basics/blob/main/6_Transfer_Learning(FineTuning).ipynb\" target=\"_parent\"><img src=\"https://colab.research.google.com/assets/colab-badge.svg\" alt=\"Open In Colab\"/></a>"
      ]
    },
    {
      "cell_type": "markdown",
      "metadata": {
        "id": "thcaPyw5bsU2"
      },
      "source": [
        "# Transfer_Learning (FineTuning)"
      ]
    },
    {
      "cell_type": "markdown",
      "metadata": {
        "id": "qv13a-DIaQB4"
      },
      "source": [
        "In previous notebook, we covered transfer learning feature extraction, now it's time to learn about a new kind of transfer learning: fine-tuning."
      ]
    },
    {
      "cell_type": "code",
      "metadata": {
        "colab": {
          "base_uri": "https://localhost:8080/"
        },
        "id": "gCNW7qYfcG0o",
        "outputId": "f8bb7ca8-6122-4726-a873-560331ece81e"
      },
      "source": [
        "# Check if we're using a GPU\n",
        "!nvidia-smi"
      ],
      "execution_count": 1,
      "outputs": [
        {
          "output_type": "stream",
          "name": "stdout",
          "text": [
            "Sat Oct 16 14:11:05 2021       \n",
            "+-----------------------------------------------------------------------------+\n",
            "| NVIDIA-SMI 470.74       Driver Version: 460.32.03    CUDA Version: 11.2     |\n",
            "|-------------------------------+----------------------+----------------------+\n",
            "| GPU  Name        Persistence-M| Bus-Id        Disp.A | Volatile Uncorr. ECC |\n",
            "| Fan  Temp  Perf  Pwr:Usage/Cap|         Memory-Usage | GPU-Util  Compute M. |\n",
            "|                               |                      |               MIG M. |\n",
            "|===============================+======================+======================|\n",
            "|   0  Tesla K80           Off  | 00000000:00:04.0 Off |                    0 |\n",
            "| N/A   36C    P8    28W / 149W |      0MiB / 11441MiB |      0%      Default |\n",
            "|                               |                      |                  N/A |\n",
            "+-------------------------------+----------------------+----------------------+\n",
            "                                                                               \n",
            "+-----------------------------------------------------------------------------+\n",
            "| Processes:                                                                  |\n",
            "|  GPU   GI   CI        PID   Type   Process name                  GPU Memory |\n",
            "|        ID   ID                                                   Usage      |\n",
            "|=============================================================================|\n",
            "|  No running processes found                                                 |\n",
            "+-----------------------------------------------------------------------------+\n"
          ]
        }
      ]
    },
    {
      "cell_type": "markdown",
      "metadata": {
        "id": "oM7CV8ZXcReT"
      },
      "source": [
        "## Creating helper functions\n",
        "\n",
        "In previous notebooks, we've created a bunch of helper functions, now we could rewrite them all, however, this is tedious.\n",
        "\n",
        "So, it's a good idea to put functions you'll want to use again in a script you can download and import into your notebooks (or elsewhere).\n",
        "\n",
        "We've done this for some of the functions we've used previously here: https://raw.githubusercontent.com/mrdbourke/tensorflow-deep-learning/main/extras/helper_functions.py"
      ]
    },
    {
      "cell_type": "code",
      "metadata": {
        "colab": {
          "base_uri": "https://localhost:8080/"
        },
        "id": "CPrdrK91cnpa",
        "outputId": "4bf3173f-68c6-46c0-baa7-cd616e023456"
      },
      "source": [
        "!wget https://raw.githubusercontent.com/mrdbourke/tensorflow-deep-learning/main/extras/helper_functions.py"
      ],
      "execution_count": 2,
      "outputs": [
        {
          "output_type": "stream",
          "name": "stdout",
          "text": [
            "--2021-10-16 14:13:59--  https://raw.githubusercontent.com/mrdbourke/tensorflow-deep-learning/main/extras/helper_functions.py\n",
            "Resolving raw.githubusercontent.com (raw.githubusercontent.com)... 185.199.108.133, 185.199.109.133, 185.199.110.133, ...\n",
            "Connecting to raw.githubusercontent.com (raw.githubusercontent.com)|185.199.108.133|:443... connected.\n",
            "HTTP request sent, awaiting response... 200 OK\n",
            "Length: 10246 (10K) [text/plain]\n",
            "Saving to: ‘helper_functions.py’\n",
            "\n",
            "\rhelper_functions.py   0%[                    ]       0  --.-KB/s               \rhelper_functions.py 100%[===================>]  10.01K  --.-KB/s    in 0s      \n",
            "\n",
            "2021-10-16 14:13:59 (68.1 MB/s) - ‘helper_functions.py’ saved [10246/10246]\n",
            "\n"
          ]
        }
      ]
    },
    {
      "cell_type": "code",
      "metadata": {
        "id": "vIF0Znu-coaj"
      },
      "source": [
        "# Import helper functions we're going to use in this notebook\n",
        "from helper_functions import create_tensorboard_callback, plot_loss_curves, unzip_data, walk_through_dir"
      ],
      "execution_count": 3,
      "outputs": []
    },
    {
      "cell_type": "markdown",
      "metadata": {
        "id": "MaH-NPEDdyGT"
      },
      "source": [
        "> 🔑 **Note:** If you're running this notebook in Google Colab, when it times out Colab will delete `helper_function.py`, so you'll have to redownload it if you want access to your helper_functions."
      ]
    },
    {
      "cell_type": "markdown",
      "metadata": {
        "id": "k42mQ3KgeWqg"
      },
      "source": [
        "## Let's get some data\n",
        "\n",
        "This time we're going to see how we can use the pretrained models with `tf.keras.applications` and apply them to our own problem (recognizing images of food."
      ]
    },
    {
      "cell_type": "code",
      "metadata": {
        "colab": {
          "base_uri": "https://localhost:8080/"
        },
        "id": "v5j9fxvsdxRr",
        "outputId": "b845f34b-7cd0-4092-dfae-4752d86b5e37"
      },
      "source": [
        "# Get 10% of the data of the 10 classes\n",
        "!wget https://storage.googleapis.com/ztm_tf_course/food_vision/10_food_classes_10_percent.zip \n",
        "\n",
        "unzip_data(\"10_food_classes_10_percent.zip\")"
      ],
      "execution_count": 4,
      "outputs": [
        {
          "output_type": "stream",
          "name": "stdout",
          "text": [
            "--2021-10-16 14:22:08--  https://storage.googleapis.com/ztm_tf_course/food_vision/10_food_classes_10_percent.zip\n",
            "Resolving storage.googleapis.com (storage.googleapis.com)... 108.177.120.128, 142.250.128.128, 142.251.6.128, ...\n",
            "Connecting to storage.googleapis.com (storage.googleapis.com)|108.177.120.128|:443... connected.\n",
            "HTTP request sent, awaiting response... 200 OK\n",
            "Length: 168546183 (161M) [application/zip]\n",
            "Saving to: ‘10_food_classes_10_percent.zip’\n",
            "\n",
            "10_food_classes_10_ 100%[===================>] 160.74M   192MB/s    in 0.8s    \n",
            "\n",
            "2021-10-16 14:22:09 (192 MB/s) - ‘10_food_classes_10_percent.zip’ saved [168546183/168546183]\n",
            "\n"
          ]
        }
      ]
    },
    {
      "cell_type": "code",
      "metadata": {
        "colab": {
          "base_uri": "https://localhost:8080/"
        },
        "id": "OaaWYlt6eznH",
        "outputId": "153b76cc-e17a-49a9-b304-bbd7201f2943"
      },
      "source": [
        "# Cehck out how many images and subdirectories are in our dataset\n",
        "walk_through_dir(\"10_food_classes_10_percent\")"
      ],
      "execution_count": 5,
      "outputs": [
        {
          "output_type": "stream",
          "name": "stdout",
          "text": [
            "There are 2 directories and 0 images in '10_food_classes_10_percent'.\n",
            "There are 10 directories and 0 images in '10_food_classes_10_percent/train'.\n",
            "There are 0 directories and 75 images in '10_food_classes_10_percent/train/grilled_salmon'.\n",
            "There are 0 directories and 75 images in '10_food_classes_10_percent/train/sushi'.\n",
            "There are 0 directories and 75 images in '10_food_classes_10_percent/train/hamburger'.\n",
            "There are 0 directories and 75 images in '10_food_classes_10_percent/train/chicken_curry'.\n",
            "There are 0 directories and 75 images in '10_food_classes_10_percent/train/pizza'.\n",
            "There are 0 directories and 75 images in '10_food_classes_10_percent/train/chicken_wings'.\n",
            "There are 0 directories and 75 images in '10_food_classes_10_percent/train/steak'.\n",
            "There are 0 directories and 75 images in '10_food_classes_10_percent/train/ramen'.\n",
            "There are 0 directories and 75 images in '10_food_classes_10_percent/train/ice_cream'.\n",
            "There are 0 directories and 75 images in '10_food_classes_10_percent/train/fried_rice'.\n",
            "There are 10 directories and 0 images in '10_food_classes_10_percent/test'.\n",
            "There are 0 directories and 250 images in '10_food_classes_10_percent/test/grilled_salmon'.\n",
            "There are 0 directories and 250 images in '10_food_classes_10_percent/test/sushi'.\n",
            "There are 0 directories and 250 images in '10_food_classes_10_percent/test/hamburger'.\n",
            "There are 0 directories and 250 images in '10_food_classes_10_percent/test/chicken_curry'.\n",
            "There are 0 directories and 250 images in '10_food_classes_10_percent/test/pizza'.\n",
            "There are 0 directories and 250 images in '10_food_classes_10_percent/test/chicken_wings'.\n",
            "There are 0 directories and 250 images in '10_food_classes_10_percent/test/steak'.\n",
            "There are 0 directories and 250 images in '10_food_classes_10_percent/test/ramen'.\n",
            "There are 0 directories and 250 images in '10_food_classes_10_percent/test/ice_cream'.\n",
            "There are 0 directories and 250 images in '10_food_classes_10_percent/test/fried_rice'.\n"
          ]
        }
      ]
    },
    {
      "cell_type": "code",
      "metadata": {
        "id": "eI4yM8DUfTyo"
      },
      "source": [
        "# Create Train and test directory paths\n",
        "train_dir = \"/content/10_food_classes_10_percent/train\"\n",
        "test_dir = \"/content/10_food_classes_10_percent/test\""
      ],
      "execution_count": 6,
      "outputs": []
    },
    {
      "cell_type": "code",
      "metadata": {
        "colab": {
          "base_uri": "https://localhost:8080/"
        },
        "id": "WDi-1vj5fkaa",
        "outputId": "d59bb4f8-b29b-4eb0-d67c-b99796bcc302"
      },
      "source": [
        "import tensorflow as tf\n",
        "\n",
        "IMG_SIZE = (224, 224)\n",
        "BATCH_SIZE = 32\n",
        "\n",
        "train_data_10_percent = tf.keras.preprocessing.image_dataset_from_directory(directory=train_dir,\n",
        "                                                                            image_size=IMG_SIZE,\n",
        "                                                                            label_mode=\"categorical\",\n",
        "                                                                            batch_size=BATCH_SIZE)\n",
        "\n",
        "test_data_10_percent = tf.keras.preprocessing.image_dataset_from_directory(directory=test_dir,\n",
        "                                                                            image_size=IMG_SIZE,\n",
        "                                                                            label_mode=\"categorical\",\n",
        "                                                                            batch_size=BATCH_SIZE)"
      ],
      "execution_count": 7,
      "outputs": [
        {
          "output_type": "stream",
          "name": "stdout",
          "text": [
            "Found 750 files belonging to 10 classes.\n",
            "Found 2500 files belonging to 10 classes.\n"
          ]
        }
      ]
    },
    {
      "cell_type": "code",
      "metadata": {
        "colab": {
          "base_uri": "https://localhost:8080/"
        },
        "id": "uIRs0kjSglXU",
        "outputId": "d2f09db1-a84c-4952-ed47-c2ffa03a1fdf"
      },
      "source": [
        "train_data_10_percent"
      ],
      "execution_count": 8,
      "outputs": [
        {
          "output_type": "execute_result",
          "data": {
            "text/plain": [
              "<BatchDataset shapes: ((None, 224, 224, 3), (None, 10)), types: (tf.float32, tf.float32)>"
            ]
          },
          "metadata": {},
          "execution_count": 8
        }
      ]
    },
    {
      "cell_type": "code",
      "metadata": {
        "colab": {
          "base_uri": "https://localhost:8080/"
        },
        "id": "ZHnyFXudgq55",
        "outputId": "d28283f1-92b1-47bb-e26d-79d757afe03b"
      },
      "source": [
        "# Check out class names of our dataset\n",
        "train_data_10_percent.class_names"
      ],
      "execution_count": 9,
      "outputs": [
        {
          "output_type": "execute_result",
          "data": {
            "text/plain": [
              "['chicken_curry',\n",
              " 'chicken_wings',\n",
              " 'fried_rice',\n",
              " 'grilled_salmon',\n",
              " 'hamburger',\n",
              " 'ice_cream',\n",
              " 'pizza',\n",
              " 'ramen',\n",
              " 'steak',\n",
              " 'sushi']"
            ]
          },
          "metadata": {},
          "execution_count": 9
        }
      ]
    },
    {
      "cell_type": "code",
      "metadata": {
        "colab": {
          "base_uri": "https://localhost:8080/"
        },
        "id": "U0YpoLHhhQMI",
        "outputId": "41157212-0282-4f74-e41f-2fd9067c8f26"
      },
      "source": [
        "# See an example of a batch of data\n",
        "for image, label in train_data_10_percent.take(1):\n",
        "  print(image, label)"
      ],
      "execution_count": 10,
      "outputs": [
        {
          "output_type": "stream",
          "name": "stdout",
          "text": [
            "tf.Tensor(\n",
            "[[[[  1.           0.          31.        ]\n",
            "   [  1.           0.          31.        ]\n",
            "   [  1.           0.          31.        ]\n",
            "   ...\n",
            "   [  1.           0.          31.        ]\n",
            "   [  1.           0.          31.        ]\n",
            "   [  1.           0.          31.        ]]\n",
            "\n",
            "  [[  1.           0.          31.        ]\n",
            "   [  1.           0.          31.        ]\n",
            "   [  1.           0.          31.        ]\n",
            "   ...\n",
            "   [  1.           0.          31.        ]\n",
            "   [  1.           0.          31.        ]\n",
            "   [  1.           0.          31.        ]]\n",
            "\n",
            "  [[  1.           0.          31.        ]\n",
            "   [  1.           0.          31.        ]\n",
            "   [  1.           0.          31.        ]\n",
            "   ...\n",
            "   [  1.           0.          31.        ]\n",
            "   [  1.           0.          31.        ]\n",
            "   [  1.           0.          31.        ]]\n",
            "\n",
            "  ...\n",
            "\n",
            "  [[107.50011     94.928635    89.08168   ]\n",
            "   [115.71439    101.28578     94.15825   ]\n",
            "   [117.97455    104.18881     95.18881   ]\n",
            "   ...\n",
            "   [118.61738     29.          27.693918  ]\n",
            "   [119.          29.          28.        ]\n",
            "   [120.07653     30.07653     29.862267  ]]\n",
            "\n",
            "  [[107.04589     92.04589     87.04589   ]\n",
            "   [115.85204    100.85204     93.85204   ]\n",
            "   [115.84182    102.0561      93.270386  ]\n",
            "   ...\n",
            "   [117.94386     29.943865    28.7296    ]\n",
            "   [117.923454    27.923454    27.923454  ]\n",
            "   [117.85712     27.857117    27.857117  ]]\n",
            "\n",
            "  [[100.78561     85.78561     80.78561   ]\n",
            "   [113.99993     98.99993     92.80612   ]\n",
            "   [111.99993     97.4285      90.642784  ]\n",
            "   ...\n",
            "   [116.857086    28.857086    27.642822  ]\n",
            "   [114.57138     26.57138     25.57138   ]\n",
            "   [114.64282     24.642822    26.642822  ]]]\n",
            "\n",
            "\n",
            " [[[102.91183     75.29799      6.8861604 ]\n",
            "   [ 92.53125     68.66741      4.7165184 ]\n",
            "   [ 76.2087      60.74107      3.3883924 ]\n",
            "   ...\n",
            "   [ 35.818188    36.246716    12.246714  ]\n",
            "   [ 30.881725    26.273462     4.1428833 ]\n",
            "   [ 32.928467    27.928467     5.928467  ]]\n",
            "\n",
            "  [[106.18192     80.296875    14.261161  ]\n",
            "   [ 96.828125    76.05469     13.714287  ]\n",
            "   [ 79.35156     63.871647     9.060267  ]\n",
            "   ...\n",
            "   [ 33.30475     33.733276     9.733274  ]\n",
            "   [ 28.411877    26.287971     3.3292727 ]\n",
            "   [ 32.084717    27.084717     5.084717  ]]\n",
            "\n",
            "  [[102.643974    80.19531     18.04241   ]\n",
            "   [ 97.0067      77.6384      18.655134  ]\n",
            "   [ 79.50893     64.53571     11.835937  ]\n",
            "   ...\n",
            "   [ 27.420765    27.849293     3.8492932 ]\n",
            "   [ 25.10495     23.10495      0.75784254]\n",
            "   [ 28.567951    23.567951     2.0702324 ]]\n",
            "\n",
            "  ...\n",
            "\n",
            "  [[ 39.60826     38.717636     5.608259  ]\n",
            "   [ 44.714287    43.82366     10.162948  ]\n",
            "   [ 46.66183     45.319195    11.172991  ]\n",
            "   ...\n",
            "   [218.27788    217.27788    173.27788   ]\n",
            "   [215.87833    214.87833    170.87833   ]\n",
            "   [211.28564    210.28564    164.28564   ]]\n",
            "\n",
            "  [[ 38.572544    34.99442      5.5636163 ]\n",
            "   [ 43.59933     40.558037     8.857143  ]\n",
            "   [ 46.305805    43.88393      7.149554  ]\n",
            "   ...\n",
            "   [218.42853    217.42853    173.42853   ]\n",
            "   [215.88725    214.88725    170.88725   ]\n",
            "   [211.28564    210.28564    164.28564   ]]\n",
            "\n",
            "  [[ 38.30692     34.30692      7.739955  ]\n",
            "   [ 40.33036     37.25893      6.401786  ]\n",
            "   [ 42.38951     40.38951      2.2053576 ]\n",
            "   ...\n",
            "   [217.38503    216.38503    172.38503   ]\n",
            "   [214.99774    213.99774    169.99774   ]\n",
            "   [210.42627    209.42627    163.42627   ]]]\n",
            "\n",
            "\n",
            " [[[120.078766   120.95281    141.68335   ]\n",
            "   [ 78.63042     79.63042     98.36097   ]\n",
            "   [ 43.27838     42.139668    57.399235  ]\n",
            "   ...\n",
            "   [ 22.276829    22.491093    29.8483    ]\n",
            "   [ 22.68016     22.68016     32.68016   ]\n",
            "   [ 26.907358    26.907358    36.90736   ]]\n",
            "\n",
            "  [[169.32718    170.44325    199.44771   ]\n",
            "   [174.09949    175.98247    201.54082   ]\n",
            "   [155.71077    155.76881    180.11702   ]\n",
            "   ...\n",
            "   [ 25.843773    26.843773    31.843773  ]\n",
            "   [ 24.986595    24.986595    32.986595  ]\n",
            "   [ 28.843925    28.843925    36.843925  ]]\n",
            "\n",
            "  [[173.54433    177.03508    214.83897   ]\n",
            "   [178.87692    180.78316    217.86958   ]\n",
            "   [180.         181.7634     217.87053   ]\n",
            "   ...\n",
            "   [ 26.949305    27.949305    32.785736  ]\n",
            "   [ 25.928558    26.691952    32.40177   ]\n",
            "   [ 30.549282    30.549282    38.549282  ]]\n",
            "\n",
            "  ...\n",
            "\n",
            "  [[ 80.459694    71.459694    73.98643   ]\n",
            "   [ 83.2732      74.2732      76.799934  ]\n",
            "   [ 84.791725    74.02836     77.31846   ]\n",
            "   ...\n",
            "   [249.8717     252.22891    245.55605   ]\n",
            "   [239.31097    247.7074     251.82364   ]\n",
            "   [190.146      203.40121    227.2356    ]]\n",
            "\n",
            "  [[ 71.596504    62.5965      63.5965    ]\n",
            "   [ 77.026054    68.026054    69.026054  ]\n",
            "   [ 82.28473     72.28473     73.28473   ]\n",
            "   ...\n",
            "   [251.81148    254.16869    245.28471   ]\n",
            "   [230.20998    239.4243     246.95125   ]\n",
            "   [195.49887    209.89334    238.13144   ]]\n",
            "\n",
            "  [[ 69.86957     60.869568    61.869568  ]\n",
            "   [ 77.66805     68.66805     69.66805   ]\n",
            "   [ 86.508965    76.508965    77.508965  ]\n",
            "   ...\n",
            "   [252.66006    254.21426    245.50864   ]\n",
            "   [219.99791    229.1408     238.87627   ]\n",
            "   [188.01071    203.36789    234.02782   ]]]\n",
            "\n",
            "\n",
            " ...\n",
            "\n",
            "\n",
            " [[[ 68.69898     53.77041     37.413265  ]\n",
            "   [ 70.59694     54.59694     38.59694   ]\n",
            "   [ 71.71939     55.719387    40.719387  ]\n",
            "   ...\n",
            "   [205.50511    194.50511     89.224495  ]\n",
            "   [207.07144    196.14288     87.92856   ]\n",
            "   [209.12756    199.12756     86.95405   ]]\n",
            "\n",
            "  [[ 76.71429     57.785713    43.785713  ]\n",
            "   [ 77.64286     58.714287    44.714287  ]\n",
            "   [ 78.92857     60.          46.        ]\n",
            "   ...\n",
            "   [207.92857    195.9847      94.21424   ]\n",
            "   [207.         196.          90.85203   ]\n",
            "   [207.07143    196.09694     89.21422   ]]\n",
            "\n",
            "  [[ 86.5         62.57653     49.07653   ]\n",
            "   [ 87.44388     63.7449      49.67347   ]\n",
            "   [ 90.668365    64.45409     50.59694   ]\n",
            "   ...\n",
            "   [208.23473    197.          99.21429   ]\n",
            "   [207.         195.          95.28569   ]\n",
            "   [207.         195.28064     92.71422   ]]\n",
            "\n",
            "  ...\n",
            "\n",
            "  [[136.362      118.428246    78.27531   ]\n",
            "   [167.74475    153.57637    107.862175  ]\n",
            "   [188.6683     177.05095    124.285675  ]\n",
            "   ...\n",
            "   [230.21426    233.21426    186.21426   ]\n",
            "   [230.92856    233.35709    184.08669   ]\n",
            "   [229.         231.42853    181.42853   ]]\n",
            "\n",
            "  [[111.122345    88.88762     61.29074   ]\n",
            "   [142.92839    124.581436    89.1478    ]\n",
            "   [171.10194    156.93353    109.673355  ]\n",
            "   ...\n",
            "   [231.78574    234.21426    184.94386   ]\n",
            "   [230.85712    232.9949     182.58156   ]\n",
            "   [228.5969     231.5969     178.5969    ]]\n",
            "\n",
            "  [[ 96.45394     71.45394     50.168232  ]\n",
            "   [112.66802     90.45874     60.861908  ]\n",
            "   [145.15773    128.29034     85.351654  ]\n",
            "   ...\n",
            "   [230.42856    232.85709    182.85709   ]\n",
            "   [228.57138    231.57138    178.57138   ]\n",
            "   [226.28564    229.28564    176.28564   ]]]\n",
            "\n",
            "\n",
            " [[[200.84184    184.84184    195.84184   ]\n",
            "   [195.57143    179.57143    190.57143   ]\n",
            "   [186.14285    170.14285    181.14285   ]\n",
            "   ...\n",
            "   [ 52.928616    27.928616    22.928616  ]\n",
            "   [ 54.99999     29.999987    22.999987  ]\n",
            "   [ 52.714252    27.71425     20.71425   ]]\n",
            "\n",
            "  [[200.68877    184.68877    195.68877   ]\n",
            "   [194.2857     178.2857     189.2857    ]\n",
            "   [183.03061    167.03061    178.03061   ]\n",
            "   ...\n",
            "   [ 48.127552    23.55608     18.341816  ]\n",
            "   [ 48.137753    23.137754    16.137754  ]\n",
            "   [ 49.          24.          17.        ]]\n",
            "\n",
            "  [[202.5        186.5        197.2857    ]\n",
            "   [194.34184    178.34184    189.12755   ]\n",
            "   [180.14285    164.14285    174.92857   ]\n",
            "   ...\n",
            "   [ 47.336742    24.428572    18.474485  ]\n",
            "   [ 49.07144     24.500013    19.285728  ]\n",
            "   [ 51.571426    27.          21.785713  ]]\n",
            "\n",
            "  ...\n",
            "\n",
            "  [[207.41843    196.20416    199.77563   ]\n",
            "   [208.92857    197.92857    201.92857   ]\n",
            "   [208.61737    199.18884    202.4031    ]\n",
            "   ...\n",
            "   [ 12.168355    11.168355     7.596883  ]\n",
            "   [ 11.984693    10.984693     5.9846926 ]\n",
            "   [ 11.785736    11.785736     3.785736  ]]\n",
            "\n",
            "  [[206.40308    195.40308    199.40308   ]\n",
            "   [208.00003    197.00003    201.00003   ]\n",
            "   [212.72958    203.72958    206.72958   ]\n",
            "   ...\n",
            "   [ 11.857117    10.857117     7.2856445 ]\n",
            "   [ 11.790779    10.790779     5.790779  ]\n",
            "   [ 10.857117    10.857117     2.8571167 ]]\n",
            "\n",
            "  [[212.71443    201.71443    205.71443   ]\n",
            "   [214.09705    205.09705    208.09705   ]\n",
            "   [209.27547    200.27547    203.27547   ]\n",
            "   ...\n",
            "   [ 11.433708    10.433708     6.862236  ]\n",
            "   [ 10.714355     9.714355     4.7143555 ]\n",
            "   [ 10.714355    10.714355     2.7143555 ]]]\n",
            "\n",
            "\n",
            " [[[ 54.688774    46.561222    32.15816   ]\n",
            "   [ 49.44898     39.239796    23.836735  ]\n",
            "   [ 52.632652    39.005104    23.005102  ]\n",
            "   ...\n",
            "   [118.35713    108.57143     80.71425   ]\n",
            "   [118.500015   110.428604    74.78566   ]\n",
            "   [124.08672    116.08672     77.80102   ]]\n",
            "\n",
            "  [[ 42.826527    38.68367     28.806122  ]\n",
            "   [ 46.719387    39.714287    29.5       ]\n",
            "   [ 44.02551     36.311226    25.02551   ]\n",
            "   ...\n",
            "   [121.785706   115.72958     83.89795   ]\n",
            "   [120.13774    115.86226     81.14282   ]\n",
            "   [121.56633    116.806114    81.97449   ]]\n",
            "\n",
            "  [[ 35.040813    31.612246    26.964287  ]\n",
            "   [ 41.392857    36.392857    32.25      ]\n",
            "   [ 42.19388     35.622448    28.051022  ]\n",
            "   ...\n",
            "   [119.33674    116.4745      81.85717   ]\n",
            "   [118.12752    117.42857     86.071465  ]\n",
            "   [117.99491    116.571434    86.71939   ]]\n",
            "\n",
            "  ...\n",
            "\n",
            "  [[106.78567    101.280556    73.71938   ]\n",
            "   [107.41322    102.41322     73.19896   ]\n",
            "   [109.2347     104.5714      75.18879   ]\n",
            "   ...\n",
            "   [110.06637    103.4694      69.545944  ]\n",
            "   [105.68357     97.22954     61.397865  ]\n",
            "   [105.9285      97.71423     61.07144   ]]\n",
            "\n",
            "  [[109.16833    101.16833     79.50508   ]\n",
            "   [110.92856    102.99488     79.92858   ]\n",
            "   [112.66838    105.42854     79.699     ]\n",
            "   ...\n",
            "   [115.3877     106.26013     75.775475  ]\n",
            "   [109.35195    102.20403     74.275505  ]\n",
            "   [108.52548    102.193855    75.76533   ]]\n",
            "\n",
            "  [[103.484634    95.484634    76.025475  ]\n",
            "   [110.765274    99.765274    79.67345   ]\n",
            "   [114.71432    103.71432     81.86739   ]\n",
            "   ...\n",
            "   [111.862305   101.0766      71.87257   ]\n",
            "   [110.92859    103.44911     80.54615   ]\n",
            "   [105.199005    99.48471     80.07147   ]]]], shape=(32, 224, 224, 3), dtype=float32) tf.Tensor(\n",
            "[[0. 0. 0. 1. 0. 0. 0. 0. 0. 0.]\n",
            " [0. 0. 1. 0. 0. 0. 0. 0. 0. 0.]\n",
            " [0. 0. 1. 0. 0. 0. 0. 0. 0. 0.]\n",
            " [0. 0. 0. 0. 0. 0. 1. 0. 0. 0.]\n",
            " [0. 0. 0. 0. 0. 0. 1. 0. 0. 0.]\n",
            " [0. 0. 0. 1. 0. 0. 0. 0. 0. 0.]\n",
            " [0. 0. 1. 0. 0. 0. 0. 0. 0. 0.]\n",
            " [0. 0. 0. 1. 0. 0. 0. 0. 0. 0.]\n",
            " [0. 0. 0. 0. 1. 0. 0. 0. 0. 0.]\n",
            " [0. 0. 0. 0. 0. 1. 0. 0. 0. 0.]\n",
            " [0. 0. 0. 0. 0. 0. 0. 1. 0. 0.]\n",
            " [1. 0. 0. 0. 0. 0. 0. 0. 0. 0.]\n",
            " [0. 0. 0. 0. 0. 0. 0. 1. 0. 0.]\n",
            " [0. 0. 0. 0. 0. 0. 0. 1. 0. 0.]\n",
            " [0. 0. 0. 0. 0. 0. 0. 1. 0. 0.]\n",
            " [0. 0. 0. 0. 1. 0. 0. 0. 0. 0.]\n",
            " [0. 0. 0. 0. 0. 0. 0. 0. 0. 1.]\n",
            " [0. 1. 0. 0. 0. 0. 0. 0. 0. 0.]\n",
            " [0. 1. 0. 0. 0. 0. 0. 0. 0. 0.]\n",
            " [0. 0. 0. 0. 1. 0. 0. 0. 0. 0.]\n",
            " [0. 0. 0. 0. 1. 0. 0. 0. 0. 0.]\n",
            " [1. 0. 0. 0. 0. 0. 0. 0. 0. 0.]\n",
            " [0. 0. 0. 0. 0. 1. 0. 0. 0. 0.]\n",
            " [0. 0. 0. 0. 0. 1. 0. 0. 0. 0.]\n",
            " [0. 0. 1. 0. 0. 0. 0. 0. 0. 0.]\n",
            " [0. 0. 0. 0. 0. 1. 0. 0. 0. 0.]\n",
            " [0. 0. 0. 0. 0. 0. 0. 0. 0. 1.]\n",
            " [0. 0. 0. 0. 0. 0. 0. 1. 0. 0.]\n",
            " [0. 0. 0. 0. 0. 0. 0. 0. 1. 0.]\n",
            " [0. 0. 0. 0. 0. 0. 0. 0. 0. 1.]\n",
            " [0. 0. 0. 0. 0. 1. 0. 0. 0. 0.]\n",
            " [0. 0. 0. 1. 0. 0. 0. 0. 0. 0.]], shape=(32, 10), dtype=float32)\n"
          ]
        }
      ]
    },
    {
      "cell_type": "markdown",
      "metadata": {
        "id": "9WoZ3Z7_huHX"
      },
      "source": [
        "In this notebook, we will be doing a lot of experiments. These are mentioned below.\n",
        "\n",
        "<style type=\"text/css\">\n",
        ".tg  {border-collapse:collapse;border-spacing:0;}\n",
        ".tg td{border-color:black;border-style:solid;border-width:1px;font-family:Arial, sans-serif;font-size:14px;\n",
        "  overflow:hidden;padding:10px 5px;word-break:normal;}\n",
        ".tg th{border-color:black;border-style:solid;border-width:1px;font-family:Arial, sans-serif;font-size:14px;\n",
        "  font-weight:normal;overflow:hidden;padding:10px 5px;word-break:normal;}\n",
        ".tg .tg-qxxr{background-color:#FFF;border-color:inherit;font-size:16px;text-align:center;vertical-align:top}\n",
        ".tg .tg-bn4o{font-size:18px;font-weight:bold;text-align:center;vertical-align:top}\n",
        ".tg .tg-qv16{font-size:16px;font-weight:bold;text-align:center;vertical-align:top}\n",
        ".tg .tg-gmla{border-color:inherit;font-size:16px;text-align:center;vertical-align:top}\n",
        ".tg .tg-a41q{background-color:#FFF;border-color:inherit;font-size:18px;font-weight:bold;text-align:center;vertical-align:top}\n",
        ".tg .tg-2xbj{border-color:inherit;font-size:18px;font-weight:bold;text-align:center;vertical-align:top}\n",
        ".tg .tg-lvth{font-size:16px;text-align:center;vertical-align:top}\n",
        ".tg .tg-rwiu{background-color:#FFF;font-size:16px;text-align:center;vertical-align:top}\n",
        "</style>\n",
        "<table class=\"tg\">\n",
        "<thead>\n",
        "  <tr>\n",
        "    <th class=\"tg-a41q\">Experiment</th>\n",
        "    <th class=\"tg-a41q\">Data</th>\n",
        "    <th class=\"tg-2xbj\">Preprocessing</th>\n",
        "    <th class=\"tg-bn4o\">Model</th>\n",
        "  </tr>\n",
        "</thead>\n",
        "<tbody>\n",
        "  <tr>\n",
        "    <td class=\"tg-qxxr\">Model 0 (baseline)</td>\n",
        "    <td class=\"tg-qxxr\">10 classes of Food101 (<span style=\"font-weight:bold\">random 10%</span><br><span style=\"font-weight:normal\">training data only)</span></td>\n",
        "    <td class=\"tg-gmla\">None</td>\n",
        "    <td class=\"tg-lvth\"><span style=\"font-weight:bold\">Feature Extractor: </span>EfficientNetB0<br>(pre-trained on ImageNet, all layers<br>frozen) with no top</td>\n",
        "  </tr>\n",
        "  <tr>\n",
        "    <td class=\"tg-gmla\">Model 1</td>\n",
        "    <td class=\"tg-qxxr\">10 classes of Food101 (<span style=\"font-weight:bold\">random 1%</span><br><span style=\"font-weight:normal\">training data only)</span></td>\n",
        "    <td class=\"tg-gmla\">Random Flip, Rotation,<br>Zoom, Height, Width,<br>data augmentation</td>\n",
        "    <td class=\"tg-lvth\">Same as Model 0</td>\n",
        "  </tr>\n",
        "  <tr>\n",
        "    <td class=\"tg-qxxr\">Model 2</td>\n",
        "    <td class=\"tg-qxxr\">Same as Model 0</td>\n",
        "    <td class=\"tg-gmla\">Same as Model 1</td>\n",
        "    <td class=\"tg-lvth\">Same as Model 0</td>\n",
        "  </tr>\n",
        "  <tr>\n",
        "    <td class=\"tg-rwiu\">Model 3</td>\n",
        "    <td class=\"tg-lvth\">Same as Model 0</td>\n",
        "    <td class=\"tg-lvth\">Same as Model 1</td>\n",
        "    <td class=\"tg-qv16\">Fine Tuning: <span style=\"font-weight:normal\">Model 2 (EfficientNetB0</span><br><span style=\"font-weight:normal\">pre-trained on ImageNet) </span><span style=\"font-weight:bold\">with top</span><br><span style=\"font-weight:bold\">layer trained on custom data, top 10</span><br><span style=\"font-weight:bold\">layers unfrozen </span></td>\n",
        "  </tr>\n",
        "  <tr>\n",
        "    <td class=\"tg-rwiu\">Model 4</td>\n",
        "    <td class=\"tg-lvth\">10 classes of Food101 data (<span style=\"font-weight:bold\">100%</span><span style=\"font-weight:normal\"> training</span><br><span style=\"font-weight:normal\">data)</span></td>\n",
        "    <td class=\"tg-lvth\">Same as Model 1</td>\n",
        "    <td class=\"tg-lvth\">Same as Model 3</td>\n",
        "  </tr>\n",
        "</tbody>\n",
        "</table>"
      ]
    },
    {
      "cell_type": "code",
      "metadata": {
        "id": "KTle120DlDmA"
      },
      "source": [
        ""
      ],
      "execution_count": null,
      "outputs": []
    }
  ]
}