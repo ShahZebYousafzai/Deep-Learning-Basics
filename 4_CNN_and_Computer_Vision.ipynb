{
 "cells": [
  {
   "cell_type": "markdown",
   "metadata": {
    "colab_type": "text",
    "id": "view-in-github"
   },
   "source": [
    "<a href=\"https://colab.research.google.com/github/ShahZebYousafzai/Deep-Learning-Basics/blob/main/4_CNN_and_Computer_Vision.ipynb\" target=\"_parent\"><img src=\"https://colab.research.google.com/assets/colab-badge.svg\" alt=\"Open In Colab\"/></a>"
   ]
  },
  {
   "cell_type": "markdown",
   "metadata": {
    "id": "PNHSIcknrzVP"
   },
   "source": [
    "# Introduction to Convolutional Neural Networks and Computer Vision\n",
    "\n",
    "Computer vision is the practice of writing algorithms which can discover patterns in visual data. Such as the camera of a self-driving car recognizing the car in front.\n",
    "\n",
    "> **🔑 Note:** In deep learning, many different kinds of model architectures can be used for different problems. For example, you could use a [convolutional neural network](https://en.wikipedia.org/wiki/Convolutional_neural_network) for making predictions on image data and/or text data. However, in practice some architectures typically work better than others.\n"
   ]
  },
  {
   "cell_type": "markdown",
   "metadata": {
    "id": "s8c7NT42uMNc"
   },
   "source": [
    "## Get the data\n",
    "\n",
    "CNNs work very well with images. To understand this, we will need some visual  data. \n",
    "\n",
    "We will be using [Food-101 dataset](https://www.kaggle.com/dansbecker/food-101) and build a Food Vision System which will recognize the food. The Food-101 dataset consists of 101 categories of food. Each category consists of 1000 images which makes 101000 images in total.\n",
    "\n",
    "To begin, we're only going to use two of the categories, pizza 🍕 and steak 🥩 and build a binary classifier.\n",
    "\n",
    "First we'll download the pizza_steak subset from https://github.com/mrdbourke/tensorflow-deep-learning/blob/main/extras/image_data_modification.ipynb .zip file and unzip it.\n",
    "\n",
    "> **🔑 Note:** We start with a smaller dataset so we can experiment quickly and figure what works (or doesn't work) before scaling up"
   ]
  },
  {
   "cell_type": "code",
   "execution_count": null,
   "metadata": {
    "colab": {
     "base_uri": "https://localhost:8080/"
    },
    "id": "eIWEkGctvSi3",
    "outputId": "bbcaacbe-98c9-4060-c42a-11916591eb64"
   },
   "outputs": [],
   "source": [
    "import zipfile\n",
    "\n",
    "# Download zip file of pizza_steak images\n",
    "!wget https://storage.googleapis.com/ztm_tf_course/food_vision/pizza_steak.zip \n",
    "\n",
    "# Unzip the downloaded file\n",
    "zip_ref = zipfile.ZipFile(\"pizza_steak.zip\", \"r\")\n",
    "zip_ref.extractall()\n",
    "zip_ref.close()"
   ]
  },
  {
   "cell_type": "markdown",
   "metadata": {
    "id": "NxcLu-qrxZLU"
   },
   "source": [
    "## Inspect the data (become one with it)\n",
    "\n",
    "A very crucial step at the beginning of machine learning project is becoming with a data.\n",
    "\n",
    "And for computer vision project ... this usually means visualizing many samples of your data."
   ]
  },
  {
   "cell_type": "code",
   "execution_count": 1,
   "metadata": {
    "colab": {
     "base_uri": "https://localhost:8080/"
    },
    "id": "LHUNzt_sv2Ur",
    "outputId": "1ac11615-dd85-4f3f-9721-0268f5867ecb",
    "scrolled": true
   },
   "outputs": [
    {
     "name": "stdout",
     "output_type": "stream",
     "text": [
      "test  train\r\n"
     ]
    }
   ],
   "source": [
    "!ls pizza_steak"
   ]
  },
  {
   "cell_type": "code",
   "execution_count": 2,
   "metadata": {
    "colab": {
     "base_uri": "https://localhost:8080/"
    },
    "id": "PpMAH2E0yC1d",
    "outputId": "4b3e791f-3083-47c1-c2dc-41fa2fbd4155"
   },
   "outputs": [
    {
     "name": "stdout",
     "output_type": "stream",
     "text": [
      "pizza  steak\r\n"
     ]
    }
   ],
   "source": [
    "!ls pizza_steak/train/"
   ]
  },
  {
   "cell_type": "code",
   "execution_count": 3,
   "metadata": {
    "colab": {
     "base_uri": "https://localhost:8080/"
    },
    "id": "JcrfNKEyyFIL",
    "outputId": "c917711b-154f-4153-a228-606394d108a4"
   },
   "outputs": [
    {
     "name": "stdout",
     "output_type": "stream",
     "text": [
      "There are 2 directories and 1 images in pizza_steak.\n",
      "There are 2 directories and 1 images in pizza_steak/test.\n",
      "There are 0 directories and 250 images in pizza_steak/test/steak.\n",
      "There are 0 directories and 250 images in pizza_steak/test/pizza.\n",
      "There are 2 directories and 1 images in pizza_steak/train.\n",
      "There are 0 directories and 750 images in pizza_steak/train/steak.\n",
      "There are 0 directories and 750 images in pizza_steak/train/pizza.\n"
     ]
    }
   ],
   "source": [
    "import os\n",
    "\n",
    "# Walk through pizza_steak directory and list number of files\n",
    "for dirpath, dirnames, filenames in os.walk(\"pizza_steak\"):\n",
    "  print(f\"There are {len(dirnames)} directories and {len(filenames)} images in {dirpath}.\")"
   ]
  },
  {
   "cell_type": "markdown",
   "metadata": {
    "id": "b9Ex0VuLy8JH"
   },
   "source": [
    "pizza_steak\n",
    "  * test\n",
    "    * Pizza - 250 images\n",
    "    * Steak - 250 images\n",
    "  * train\n",
    "    * Pizza - 750 images\n",
    "    * Steak - 750 images\n",
    "    \n"
   ]
  },
  {
   "cell_type": "code",
   "execution_count": 4,
   "metadata": {
    "colab": {
     "base_uri": "https://localhost:8080/"
    },
    "id": "xqLOUBBxypTS",
    "outputId": "71284be0-c269-4823-deea-83d568759c16",
    "scrolled": true
   },
   "outputs": [
    {
     "name": "stdout",
     "output_type": "stream",
     "text": [
      "test  train\r\n"
     ]
    }
   ],
   "source": [
    "# The extra file in our pizza_steak directory is \".DS_Store\"\n",
    "!ls pizza_steak"
   ]
  },
  {
   "cell_type": "code",
   "execution_count": 5,
   "metadata": {
    "colab": {
     "base_uri": "https://localhost:8080/"
    },
    "id": "uZvX2Mf_4J28",
    "outputId": "5b884e08-bece-43cb-81d1-d2eff476aba0"
   },
   "outputs": [
    {
     "data": {
      "text/plain": [
       "750"
      ]
     },
     "execution_count": 5,
     "metadata": {},
     "output_type": "execute_result"
    }
   ],
   "source": [
    "# Another way to find out how many images are there in a folder\n",
    "num_steak_images_train = len(os.listdir(\"pizza_steak/train/steak\"))\n",
    "num_steak_images_train"
   ]
  },
  {
   "cell_type": "markdown",
   "metadata": {
    "id": "G33MTqSV9Y0_"
   },
   "source": [
    "To visualize our images, first let's get the class names programmatically"
   ]
  },
  {
   "cell_type": "code",
   "execution_count": 6,
   "metadata": {
    "colab": {
     "base_uri": "https://localhost:8080/"
    },
    "id": "0xSs3YdX9gEt",
    "outputId": "2e36d0cc-26af-4601-a713-6882b53411c7"
   },
   "outputs": [
    {
     "name": "stdout",
     "output_type": "stream",
     "text": [
      "['pizza' 'steak']\n"
     ]
    }
   ],
   "source": [
    "# Get classnames programmatically\n",
    "import pathlib\n",
    "import numpy as np\n",
    "data_dir = pathlib.Path(\"pizza_steak/train\")\n",
    "class_names = np.array(sorted([item.name for item in data_dir.glob(\"*\")])) # Create a list of class_names from subdirectories\n",
    "class_names = class_names[1:]\n",
    "print(class_names)"
   ]
  },
  {
   "cell_type": "code",
   "execution_count": 7,
   "metadata": {
    "id": "VkBTtaWl-FG9"
   },
   "outputs": [],
   "source": [
    "# Let's visualize our images\n",
    "import matplotlib.pyplot as plt\n",
    "import matplotlib.image as mpimg\n",
    "import random\n",
    "\n",
    "def view_random_image(target_dir, target_class):\n",
    "  # Setup the target directory (We'll view images from here)\n",
    "  target_folder = target_dir + \"/\" +target_class\n",
    "\n",
    "  # Get a random image path\n",
    "  random_image = random.sample(os.listdir(target_folder), 1)\n",
    "\n",
    "  # Read in the image and plot it using matplotlib\n",
    "  img = mpimg.imread(target_folder + \"/\" + random_image[0])\n",
    "  plt.imshow(img)\n",
    "  plt.title(target_class)\n",
    "  plt.axis(\"off\")\n",
    "\n",
    "  print(f\"Image shape: {img.shape}\") # Show the shape of the image\n",
    "\n",
    "  return img"
   ]
  },
  {
   "cell_type": "code",
   "execution_count": 8,
   "metadata": {
    "colab": {
     "base_uri": "https://localhost:8080/",
     "height": 281
    },
    "id": "zUi3z9H0_SGB",
    "outputId": "bda0007f-f602-49af-f20a-7273bb8af90d"
   },
   "outputs": [
    {
     "name": "stdout",
     "output_type": "stream",
     "text": [
      "Image shape: (384, 512, 3)\n"
     ]
    },
    {
     "data": {
      "image/png": "[encoded data removed]",
      "text/plain": [
       "<Figure size 432x288 with 1 Axes>"
      ]
     },
     "metadata": {
      "needs_background": "light"
     },
     "output_type": "display_data"
    }
   ],
   "source": [
    "# View a random image from training dataset\n",
    "img = view_random_image(target_dir=\"pizza_steak/train\", target_class=\"steak\")"
   ]
  },
  {
   "cell_type": "code",
   "execution_count": 9,
   "metadata": {
    "colab": {
     "base_uri": "https://localhost:8080/",
     "height": 281
    },
    "id": "7HqxudNz_nfj",
    "outputId": "ef60fc50-e1e6-42b6-94fb-94af8b72cab2"
   },
   "outputs": [
    {
     "name": "stdout",
     "output_type": "stream",
     "text": [
      "Image shape: (384, 512, 3)\n"
     ]
    },
    {
     "data": {
      "image/png": "[encoded data removed]",
      "text/plain": [
       "<Figure size 432x288 with 1 Axes>"
      ]
     },
     "metadata": {
      "needs_background": "light"
     },
     "output_type": "display_data"
    }
   ],
   "source": [
    "# View a random image from training dataset for pizza\n",
    "img = view_random_image(target_dir=\"pizza_steak/train\", target_class=\"pizza\")"
   ]
  },
  {
   "cell_type": "markdown",
   "metadata": {
    "id": "FLu87ZWT_8He"
   },
   "source": [
    "Our images are larger arrays and we can check that out."
   ]
  },
  {
   "cell_type": "code",
   "execution_count": 10,
   "metadata": {
    "colab": {
     "base_uri": "https://localhost:8080/"
    },
    "id": "oqdtXvmrAXb9",
    "outputId": "2f4b4aa6-65ef-4931-d2f2-55c7603081c6"
   },
   "outputs": [
    {
     "data": {
      "text/plain": [
       "array([[[ 13,  12,  26],\n",
       "        [ 11,  13,  26],\n",
       "        [ 14,  16,  29],\n",
       "        ...,\n",
       "        [122,  94,  80],\n",
       "        [145, 112,  93],\n",
       "        [153, 116,  97]],\n",
       "\n",
       "       [[ 12,  11,  25],\n",
       "        [ 11,  13,  26],\n",
       "        [ 13,  15,  28],\n",
       "        ...,\n",
       "        [128, 100,  86],\n",
       "        [145, 110,  91],\n",
       "        [150, 113,  94]],\n",
       "\n",
       "       [[ 10,  12,  25],\n",
       "        [ 11,  13,  26],\n",
       "        [ 13,  15,  28],\n",
       "        ...,\n",
       "        [134, 105,  89],\n",
       "        [144, 109,  89],\n",
       "        [151, 113,  92]],\n",
       "\n",
       "       ...,\n",
       "\n",
       "       [[  5,   5,   3],\n",
       "        [  4,   4,   2],\n",
       "        [  3,   3,   1],\n",
       "        ...,\n",
       "        [ 81, 111, 181],\n",
       "        [ 82, 112, 184],\n",
       "        [ 74, 104, 176]],\n",
       "\n",
       "       [[  3,   3,   1],\n",
       "        [  4,   4,   2],\n",
       "        [  4,   4,   2],\n",
       "        ...,\n",
       "        [ 96, 126, 196],\n",
       "        [106, 136, 206],\n",
       "        [ 97, 127, 197]],\n",
       "\n",
       "       [[  2,   2,   0],\n",
       "        [  4,   4,   2],\n",
       "        [  5,   5,   3],\n",
       "        ...,\n",
       "        [ 81, 111, 181],\n",
       "        [110, 140, 210],\n",
       "        [110, 140, 210]]], dtype=uint8)"
      ]
     },
     "execution_count": 10,
     "metadata": {},
     "output_type": "execute_result"
    }
   ],
   "source": [
    "img"
   ]
  },
  {
   "cell_type": "code",
   "execution_count": null,
   "metadata": {
    "colab": {
     "base_uri": "https://localhost:8080/"
    },
    "id": "LbJVDxEgAYoy",
    "outputId": "c2e4caf8-283c-448e-fd57-48ba97a48f46"
   },
   "outputs": [],
   "source": [
    "# The images we've imported and plotted are actually giant arrays/tensors of different pixel values\n",
    "import tensorflow as tf\n",
    "tf.constant(img)"
   ]
  },
  {
   "cell_type": "markdown",
   "metadata": {
    "id": "fOF7tTO0Albi"
   },
   "source": [
    "> **🔑 Note:** We are using our tensors for inputs to our neural network"
   ]
  },
  {
   "cell_type": "code",
   "execution_count": 11,
   "metadata": {
    "colab": {
     "base_uri": "https://localhost:8080/"
    },
    "id": "QPmNpuSbA4PK",
    "outputId": "6d4a827d-1a38-4f6f-b7df-3c46f8c948ca"
   },
   "outputs": [
    {
     "data": {
      "text/plain": [
       "(384, 512, 3)"
      ]
     },
     "execution_count": 11,
     "metadata": {},
     "output_type": "execute_result"
    }
   ],
   "source": [
    "# View the image shape\n",
    "img.shape # returns width, height and color channels"
   ]
  },
  {
   "cell_type": "markdown",
   "metadata": {
    "id": "K_HPFRwoBexr"
   },
   "source": [
    "In our case, the width and height vary but because we're dealing with colour images, the colour channels value is always 3. This is for different values of red, green and blue (RGB) pixels.\n",
    "\n",
    "> **🔑 Note:** Many machine learning models, including neural networks prefer the values they work with to be between 0 and 1. Knowing this, one of the most common preprocessing steps for working with images is to scale (also referred to as normalize) their pixel values by dividing the image arrays by 255."
   ]
  },
  {
   "cell_type": "code",
   "execution_count": 12,
   "metadata": {
    "colab": {
     "base_uri": "https://localhost:8080/"
    },
    "id": "op7jgWPlBsGT",
    "outputId": "94e370ec-bbfb-48bb-98ad-5909e6b7e034"
   },
   "outputs": [
    {
     "data": {
      "text/plain": [
       "array([[[0.05098039, 0.04705882, 0.10196078],\n",
       "        [0.04313725, 0.05098039, 0.10196078],\n",
       "        [0.05490196, 0.0627451 , 0.11372549],\n",
       "        ...,\n",
       "        [0.47843137, 0.36862745, 0.31372549],\n",
       "        [0.56862745, 0.43921569, 0.36470588],\n",
       "        [0.6       , 0.45490196, 0.38039216]],\n",
       "\n",
       "       [[0.04705882, 0.04313725, 0.09803922],\n",
       "        [0.04313725, 0.05098039, 0.10196078],\n",
       "        [0.05098039, 0.05882353, 0.10980392],\n",
       "        ...,\n",
       "        [0.50196078, 0.39215686, 0.3372549 ],\n",
       "        [0.56862745, 0.43137255, 0.35686275],\n",
       "        [0.58823529, 0.44313725, 0.36862745]],\n",
       "\n",
       "       [[0.03921569, 0.04705882, 0.09803922],\n",
       "        [0.04313725, 0.05098039, 0.10196078],\n",
       "        [0.05098039, 0.05882353, 0.10980392],\n",
       "        ...,\n",
       "        [0.5254902 , 0.41176471, 0.34901961],\n",
       "        [0.56470588, 0.42745098, 0.34901961],\n",
       "        [0.59215686, 0.44313725, 0.36078431]],\n",
       "\n",
       "       ...,\n",
       "\n",
       "       [[0.01960784, 0.01960784, 0.01176471],\n",
       "        [0.01568627, 0.01568627, 0.00784314],\n",
       "        [0.01176471, 0.01176471, 0.00392157],\n",
       "        ...,\n",
       "        [0.31764706, 0.43529412, 0.70980392],\n",
       "        [0.32156863, 0.43921569, 0.72156863],\n",
       "        [0.29019608, 0.40784314, 0.69019608]],\n",
       "\n",
       "       [[0.01176471, 0.01176471, 0.00392157],\n",
       "        [0.01568627, 0.01568627, 0.00784314],\n",
       "        [0.01568627, 0.01568627, 0.00784314],\n",
       "        ...,\n",
       "        [0.37647059, 0.49411765, 0.76862745],\n",
       "        [0.41568627, 0.53333333, 0.80784314],\n",
       "        [0.38039216, 0.49803922, 0.77254902]],\n",
       "\n",
       "       [[0.00784314, 0.00784314, 0.        ],\n",
       "        [0.01568627, 0.01568627, 0.00784314],\n",
       "        [0.01960784, 0.01960784, 0.01176471],\n",
       "        ...,\n",
       "        [0.31764706, 0.43529412, 0.70980392],\n",
       "        [0.43137255, 0.54901961, 0.82352941],\n",
       "        [0.43137255, 0.54901961, 0.82352941]]])"
      ]
     },
     "execution_count": 12,
     "metadata": {},
     "output_type": "execute_result"
    }
   ],
   "source": [
    "# Get all the pixel values between 0 & 1\n",
    "img/255."
   ]
  },
  {
   "cell_type": "markdown",
   "metadata": {
    "id": "pnV99XsAB8vq"
   },
   "source": [
    "## An end-to-end example\n",
    "\n",
    "Let's build a convolutional neural network to find pattens in our images,more specifically we need a way to:\n",
    "* Load our images\n",
    "* Preprocess our images\n",
    "* Build a CNN to find patterns in our images\n",
    "* Compile our CNN\n",
    "* Fit the CNN to our training data\n",
    "\n",
    "> **🔑 Note:** A baseline is a score or evaluation metric you want to try and beat. Usually you'll start with a simple model, create a baseline and try to beat it by increasing the complexity of the model. A really fun way to learn machine learning is to find some kind of modelling paper with a published result and try to beat it.\n",
    "\n",
    "> **📖 Resource:** The architecture we're using below is a scaled-down version of VGG-16, a convolutional neural network which came 2nd in the 2014 ImageNet classification competition."
   ]
  },
  {
   "cell_type": "code",
   "execution_count": null,
   "metadata": {
    "colab": {
     "base_uri": "https://localhost:8080/"
    },
    "id": "r_0MYWNwMw1z",
    "outputId": "a84ae137-3347-4e2e-a0fa-f7d8a2590ae8"
   },
   "outputs": [],
   "source": [
    "import tensorflow as tf\n",
    "from tensorflow.keras.preprocessing.image import ImageDataGenerator\n",
    "\n",
    "# set the seed\n",
    "tf.random.set_seed(42)\n",
    "\n",
    "# Prepare data (get all of the pixel values between 0 & 1 also called scaling/normalization)\n",
    "train_datagen = ImageDataGenerator(rescale=1./255)\n",
    "valid_datagen = ImageDataGenerator(rescale=1./255)\n",
    "\n",
    "# Set up path to our directory\n",
    "train_dir = \"./pizza_steak/train\"\n",
    "test_dir = \"./pizza_steak/test\"\n",
    "\n",
    "# Import data from directories and turn it into batches\n",
    "train_data = train_datagen.flow_from_directory(train_dir,\n",
    "                                               batch_size=32, # number of images to process at a time \n",
    "                                               target_size=(224, 224), # convert all images to be 224 x 224\n",
    "                                               class_mode=\"binary\", # type of problem we're working on\n",
    "                                               seed=42)\n",
    "\n",
    "valid_data = valid_datagen.flow_from_directory(test_dir,\n",
    "                                               batch_size=32,\n",
    "                                               target_size=(224, 224),\n",
    "                                               class_mode=\"binary\",\n",
    "                                               seed=42)\n",
    "\n",
    "# Create a CNN model (same as Tiny VGG - https://poloclub.github.io/cnn-explainer/)\n",
    "model_1 = tf.keras.models.Sequential([\n",
    "  tf.keras.layers.Conv2D(filters=10, \n",
    "                         kernel_size=3, # can also be (3, 3)\n",
    "                         activation=\"relu\", \n",
    "                         input_shape=(224, 224, 3)), # first layer specifies input shape (height, width, colour channels)\n",
    "  tf.keras.layers.Conv2D(10, 3, activation=\"relu\"),\n",
    "  tf.keras.layers.MaxPool2D(pool_size=2, # pool_size can also be (2, 2)\n",
    "                            padding=\"valid\"), # padding can also be 'same'\n",
    "  tf.keras.layers.Conv2D(10, 3, activation=\"relu\"),\n",
    "  tf.keras.layers.Conv2D(10, 3, activation=\"relu\"), # activation='relu' == tf.keras.layers.Activations(tf.nn.relu)\n",
    "  # tf.keras.layers.Activations(tf.nn.relu)   # If you use this then in the layer above remove activation=\"relu\"\n",
    "  tf.keras.layers.MaxPool2D(2),\n",
    "  tf.keras.layers.Flatten(),\n",
    "  tf.keras.layers.Dense(1, activation=\"sigmoid\") # binary activation output\n",
    "])\n",
    "\n",
    "# Compile the model\n",
    "model_1.compile(loss=\"binary_crossentropy\",\n",
    "              optimizer=tf.keras.optimizers.Adam(),\n",
    "              metrics=[\"accuracy\"])\n",
    "\n",
    "# Fit the model\n",
    "history_1 = model_1.fit(train_data,\n",
    "                        epochs=5,\n",
    "                        steps_per_epoch=len(train_data),\n",
    "                        validation_data=valid_data,\n",
    "                        validation_steps=len(valid_data))"
   ]
  },
  {
   "cell_type": "markdown",
   "metadata": {
    "id": "-PIzMhpYRnLN"
   },
   "source": [
    "> **🔑 Note:** If the cell above takes more than ~12 seconds per epoch to run, you might not be using a GPU accelerator. If you're using a Colab notebook, you can access a GPU accelerator by going to Runtime -> Change Runtime Type -> Hardware Accelerator and select \"GPU\". After doing so, you might have to rerun all of the above cells as changing the runtime type causes Colab to have to reset.\n",
    "\n",
    "After 5 epochs, on our two classes, we obtained 85% accuracy on train data and 88% on test data."
   ]
  },
  {
   "cell_type": "code",
   "execution_count": null,
   "metadata": {
    "colab": {
     "base_uri": "https://localhost:8080/"
    },
    "id": "1WbWH-BlUJsQ",
    "outputId": "04fd67d9-ce34-49ed-ea3c-7dbf2f1e0826"
   },
   "outputs": [],
   "source": [
    "model_1.summary()"
   ]
  },
  {
   "cell_type": "markdown",
   "metadata": {
    "id": "bgLlI7L_VAlA"
   },
   "source": [
    "> **⚒️ Practice:** Go through CNN explainer website and compare our neural network with theirs: https://poloclub.github.io/cnn-explainer/\n",
    "\n",
    "### Using the same model as before\n",
    "Now there are a few new things here we haven't discussed, namely:\n",
    "* The ImageDataGenerator class and the rescale parameter\n",
    "* The flow_from_directory() method\n",
    "* The batch_size parameter\n",
    "* The target_size parameter\n",
    "* Conv2D layers (and the parameters which come with them)\n",
    "* MaxPool2D layers (and their parameters).\n",
    "* The steps_per_epoch and validation_steps parameters in the fit() function\n",
    "\n",
    "But first let's replicate the model we've built in previous section to see if it works with our image data.\n",
    "\n",
    "The model we're building is from the [Tensorflow playground](https://playground.tensorflow.org/#activation=tanh&batchSize=10&dataset=circle&regDataset=reg-plane&learningRate=0.03&regularizationRate=0&noise=0&networkShape=4,4&seed=0.82711&showTestData=false&discretize=false&percTrainData=50&x=true&y=true&xTimesY=false&xSquared=false&ySquared=false&cosX=false&sinX=false&cosY=false&sinY=false&collectStats=false&problem=classification&initZero=false&hideText=false).\n",
    "\n",
    "We can use all of the same parameters in our previous model except for changing two things:\n",
    "\n",
    "* The data - we're now working with images instead of dots.\n",
    "* The input shape - we have to tell our neural network the shape of the images we're working with.\n",
    "A common practice is to reshape images all to one size. In our case, we'll resize the images to (224, 224, 3), meaning a height and width of 224 pixels and a depth of 3 for the red, green, blue colour channels."
   ]
  },
  {
   "cell_type": "code",
   "execution_count": null,
   "metadata": {
    "colab": {
     "base_uri": "https://localhost:8080/"
    },
    "id": "HyNEs0vtVjMS",
    "outputId": "3b3b35f5-8191-4fde-95ad-e8345de8aaed"
   },
   "outputs": [],
   "source": [
    "# set the seed\n",
    "tf.random.set_seed(42)\n",
    "\n",
    "model_2 = tf.keras.models.Sequential([\n",
    "                                      tf.keras.layers.Flatten(input_shape=(224, 224, 3)),\n",
    "                                      tf.keras.layers.Dense(4, activation=\"relu\"),\n",
    "                                      tf.keras.layers.Dense(4, activation=\"relu\"),\n",
    "                                      tf.keras.layers.Dense(1, activation=\"sigmoid\")\n",
    "])\n",
    "\n",
    "# Compile the model\n",
    "model_2.compile(loss=\"binary_crossentropy\",\n",
    "              optimizer=tf.keras.optimizers.Adam(),\n",
    "              metrics=[\"accuracy\"])\n",
    "\n",
    "# Fit the model\n",
    "history_2 = model_2.fit(train_data,\n",
    "                        epochs=5,\n",
    "                        steps_per_epoch=len(train_data),\n",
    "                        validation_data=valid_data,\n",
    "                        validation_steps=len(valid_data))"
   ]
  },
  {
   "cell_type": "markdown",
   "metadata": {
    "id": "6drAtGPpYmSn"
   },
   "source": [
    "Our model did run on the image data, but it performed poorly than the last model"
   ]
  },
  {
   "cell_type": "code",
   "execution_count": null,
   "metadata": {
    "colab": {
     "base_uri": "https://localhost:8080/"
    },
    "id": "x0_9_zLiZYGt",
    "outputId": "855b0d10-4544-4a7f-cf1b-dfe78f566c69"
   },
   "outputs": [],
   "source": [
    "model_2.summary()"
   ]
  },
  {
   "cell_type": "markdown",
   "metadata": {
    "id": "8WcL-18GZaVr"
   },
   "source": [
    "Why does our 2nd model has 20x more parameters then our 1st model? Despite that our model is performing poorly.\n",
    "\n",
    "> **🔑 Note:** You can think of trainable parameters as **patterns a model can learn from data**. Intuitiely, you might think more is better. And in some cases it is. But in this case, the difference here is in the two different styles of model we're using. Where a series of dense layers have a number of different learnable parameters connected to each other and hence a higher number of possible learnable patterns, **a convolutional neural network seeks to sort out and learn the most important patterns in an image**. So even though there are less learnable parameters in our convolutional neural network, these are often more helpful in decphering between different **features** in an image.\n",
    "\n",
    "Let's step up the notch in our model_2! Let's increase the layers and hidden units in our dense layers.\n",
    "\n",
    "> **🔑 Note:** Adding extra layers or increasing the number of neurons in each layer is often referred to as increasing the complexity of your model."
   ]
  },
  {
   "cell_type": "code",
   "execution_count": null,
   "metadata": {
    "colab": {
     "base_uri": "https://localhost:8080/"
    },
    "id": "asrDBA-8Zrzu",
    "outputId": "0490d97e-a03c-4fa8-c516-fdd730341dcf"
   },
   "outputs": [],
   "source": [
    "# set the seed\n",
    "tf.random.set_seed(42)\n",
    "\n",
    "model_3 = tf.keras.models.Sequential([\n",
    "                                      tf.keras.layers.Flatten(input_shape=(224, 224, 3)),\n",
    "                                      tf.keras.layers.Dense(100, activation=\"relu\"),\n",
    "                                      tf.keras.layers.Dense(100, activation=\"relu\"),\n",
    "                                      tf.keras.layers.Dense(100, activation=\"sigmoid\"),\n",
    "                                      tf.keras.layers.Dense(1, activation=\"sigmoid\")\n",
    "])\n",
    "\n",
    "# Compile the model\n",
    "model_3.compile(loss=\"binary_crossentropy\",\n",
    "              optimizer=tf.keras.optimizers.Adam(),\n",
    "              metrics=[\"accuracy\"])\n",
    "\n",
    "# Fit the model\n",
    "history_3 = model_3.fit(train_data,\n",
    "                        epochs=5,\n",
    "                        steps_per_epoch=len(train_data),\n",
    "                        validation_data=valid_data,\n",
    "                        validation_steps=len(valid_data))"
   ]
  },
  {
   "cell_type": "markdown",
   "metadata": {
    "id": "1E7nwEfYaZ9P"
   },
   "source": [
    "We have seen some improvement (72% accuracy on training data and 75% on our validation accuracy) in our model but not as good as our CNN."
   ]
  },
  {
   "cell_type": "code",
   "execution_count": null,
   "metadata": {
    "colab": {
     "base_uri": "https://localhost:8080/"
    },
    "id": "xnPelF2bbONO",
    "outputId": "9f78582d-5547-4cbd-a0fd-cd313acd69df"
   },
   "outputs": [],
   "source": [
    "model_3.summary()"
   ]
  },
  {
   "cell_type": "markdown",
   "metadata": {
    "id": "lXgxgvp5bOmJ"
   },
   "source": [
    "This shows how powerful CNNs are especially for `Computer Vision` and their ability to learn with less parameters. "
   ]
  },
  {
   "cell_type": "markdown",
   "metadata": {
    "id": "mc_4aLaVccWH"
   },
   "source": [
    "## Binary Classification: Let's break it down\n",
    "\n",
    "What we'll do is:\n",
    "1. Become one with the data (visualize, visualize, visualize)\n",
    "2. Preprocess the data (prepared it for our model, the main step here was scaling,normalization & turning our data into batches)\n",
    "3. Create a model (start with a baseline)\n",
    "4. Fit the model\n",
    "5. Evaluate the model\n",
    "6. Adjust different parameters and improve the model (try to beat our baseline)\n",
    "7. Repeat until satisfied (experiment, experiment, experiment)\n",
    "\n"
   ]
  },
  {
   "cell_type": "markdown",
   "metadata": {
    "id": "uxmHn5dyUakQ"
   },
   "source": [
    "### 1. Become with a Data"
   ]
  },
  {
   "cell_type": "code",
   "execution_count": null,
   "metadata": {
    "colab": {
     "base_uri": "https://localhost:8080/",
     "height": 385
    },
    "id": "I5RCS47BVTrx",
    "outputId": "caf84d9e-a4ef-41b0-a5a2-e3fb035968f5"
   },
   "outputs": [],
   "source": [
    "# Visualize data\n",
    "plt.figure(figsize=(12,12))\n",
    "plt.subplot(1, 2, 1)\n",
    "steak_img = view_random_image(\"pizza_steak/train/\", \"steak\")\n",
    "plt.subplot(1, 2, 2)\n",
    "pizza_img = view_random_image(\"pizza_steak/train/\", \"pizza\")"
   ]
  },
  {
   "cell_type": "code",
   "execution_count": null,
   "metadata": {
    "colab": {
     "base_uri": "https://localhost:8080/"
    },
    "id": "MD8sHudPRMkj",
    "outputId": "76349f07-5faf-42f8-ae27-e58143bf608c"
   },
   "outputs": [],
   "source": [
    "import zipfile\n",
    "\n",
    "# Download zip file of pizza_steak images\n",
    "!wget https://storage.googleapis.com/ztm_tf_course/food_vision/pizza_steak.zip\n",
    "\n",
    "# Unzip the downloaded file\n",
    "zip_ref = zipfile.ZipFile(\"pizza_steak.zip\", \"r\")\n",
    "zip_ref.extractall()\n",
    "zip_ref.close()"
   ]
  },
  {
   "cell_type": "markdown",
   "metadata": {
    "id": "frj8cL5vVUDN"
   },
   "source": [
    "### 2. Preprocess the data (prepare it for a model)"
   ]
  },
  {
   "cell_type": "code",
   "execution_count": null,
   "metadata": {
    "id": "3kw6L1GFWgL-"
   },
   "outputs": [],
   "source": [
    "# Define the directory dataset paths\n",
    "train_dir = \"pizza_steak/train/\"\n",
    "test_dir = \"pizza_steak/test/\""
   ]
  },
  {
   "cell_type": "markdown",
   "metadata": {
    "id": "fx2jXCbLZk1A"
   },
   "source": [
    "Our next step is to turn our data into batches.\n",
    "\n",
    "A **batch** is a small subset of dataset that a model looks at during training. Rather than look at all ~10,000 images at one time, a model might only look at 32 at a time.\n",
    "\n",
    "It does this for a couple of reasons:\n",
    "1. 10,000 images (or more) might not fit into the momery of your processor (GPU).\n",
    "2. Trying to learn patterns in 10,000 images in one hit could result in the model not being able to learn very well.\n",
    "\n",
    "🤔 Why 32?\n",
    "Beacause 32 is good for your health 😅 ..."
   ]
  },
  {
   "cell_type": "code",
   "execution_count": null,
   "metadata": {
    "id": "sqt8Xm4sZp8y"
   },
   "outputs": [],
   "source": [
    "# Create train and test data generators and rescale the data \n",
    "from tensorflow.keras.preprocessing.image import ImageDataGenerator\n",
    "train_datagen = ImageDataGenerator(rescale=1/255.)\n",
    "test_datagen = ImageDataGenerator(rescale=1/255.)"
   ]
  },
  {
   "cell_type": "markdown",
   "metadata": {
    "id": "RQIaACiMnTU-"
   },
   "source": [
    "\n",
    "The [ImageDataGenerator](https://www.tensorflow.org/api_docs/python/tf/keras/preprocessing/image/ImageDataGenerator) class helps us prepare our images into batches as well as perform transformations on them as they get loaded into the model."
   ]
  },
  {
   "cell_type": "code",
   "execution_count": null,
   "metadata": {
    "colab": {
     "base_uri": "https://localhost:8080/"
    },
    "id": "4QwWcL5TgUCb",
    "outputId": "9ff3a41f-78e8-4950-d89b-6609add95b06"
   },
   "outputs": [],
   "source": [
    "# Turn it into batches\n",
    "train_data = train_datagen.flow_from_directory(directory=train_dir,\n",
    "                                               target_size=(224, 224),\n",
    "                                               class_mode='binary',\n",
    "                                               batch_size=32)\n",
    "\n",
    "test_data = test_datagen.flow_from_directory(directory=test_dir,\n",
    "                                             target_size=(224, 224),\n",
    "                                             class_mode='binary',\n",
    "                                             batch_size=32)"
   ]
  },
  {
   "cell_type": "markdown",
   "metadata": {
    "id": "W-7w3mConnYA"
   },
   "source": [
    "Some things to here:\n",
    "\n",
    "* Due to how our directories are structured, the classes get inferred by the subdirectory names in `train_dir` and `test_dir`.\n",
    "* The `target_size` parameter defines the input size of our images in (height, width) format.\n",
    "* The `class_mode` value of `binary` defines our classification problem type. If we had more than two classes, we would use `categorical`.\n",
    "* The `batch_size` defines how many images will be in each batch, we've used 32 which is the same as the default."
   ]
  },
  {
   "cell_type": "code",
   "execution_count": null,
   "metadata": {
    "colab": {
     "base_uri": "https://localhost:8080/"
    },
    "id": "Ykk8iI3eh8_D",
    "outputId": "72ee0457-aafe-4d03-f6c5-2a83d11af5ca"
   },
   "outputs": [],
   "source": [
    "# Get a sample of a training data batch\n",
    "images, labels = train_data.next() # Get the \"next\" batch of images/labels in train_data\n",
    "len(images), len(labels)"
   ]
  },
  {
   "cell_type": "code",
   "execution_count": null,
   "metadata": {
    "colab": {
     "base_uri": "https://localhost:8080/"
    },
    "id": "G92da8gWicLJ",
    "outputId": "5181e6ef-3d01-4705-bb76-7cfcceb60570"
   },
   "outputs": [],
   "source": [
    "# How many batches are there?\n",
    "len(train_data)"
   ]
  },
  {
   "cell_type": "code",
   "execution_count": null,
   "metadata": {
    "colab": {
     "base_uri": "https://localhost:8080/"
    },
    "id": "4QFdUwmIimty",
    "outputId": "b061f336-6ebe-418f-83b6-3de417090bdd"
   },
   "outputs": [],
   "source": [
    "# Get the first two images\n",
    "images[:2], images[0].shape"
   ]
  },
  {
   "cell_type": "code",
   "execution_count": null,
   "metadata": {
    "colab": {
     "base_uri": "https://localhost:8080/"
    },
    "id": "i7vPFCDTi1Mh",
    "outputId": "e9b8e1eb-cdc2-4408-d5aa-d2bb494719b2"
   },
   "outputs": [],
   "source": [
    "images[7].shape"
   ]
  },
  {
   "cell_type": "code",
   "execution_count": null,
   "metadata": {
    "colab": {
     "base_uri": "https://localhost:8080/"
    },
    "id": "Ttm5OlAxjJDD",
    "outputId": "9ea2a8ec-9d0e-4689-b611-82de38197f44"
   },
   "outputs": [],
   "source": [
    "# View the first batch of labels\n",
    "labels"
   ]
  },
  {
   "cell_type": "markdown",
   "metadata": {
    "id": "fgf2Yx10jTDM"
   },
   "source": [
    "Now that we preprocessed our data, let's create a model"
   ]
  },
  {
   "cell_type": "markdown",
   "metadata": {
    "id": "eB6jMw-3jmaK"
   },
   "source": [
    "### 3. Create a CNN model (start with a baseline)\n",
    "\n",
    "A baseline is a relatively simple model or existing result that you setup when beginning a machine learning experiment and then as you keep experimenting, you try to beat the baseline.\n",
    "\n",
    "> 🔑 **Note:** In deep learning, there is almost an infinite amount of architectures you could create. So one of the best ways to get started is to start with something simple and see if it works on your data and then introduce complexity as required(e.g. look at which current model is working best in your field for your problem)."
   ]
  },
  {
   "cell_type": "code",
   "execution_count": null,
   "metadata": {
    "id": "yafsahkpkEYT"
   },
   "outputs": [],
   "source": [
    "# Make the creating of our model a little easier\n",
    "from tensorflow.keras.optimizers import Adam\n",
    "from tensorflow.keras.layers import Dense, Flatten, Conv2D, MaxPool2D, Activation\n",
    "from tensorflow.keras import Sequential"
   ]
  },
  {
   "cell_type": "code",
   "execution_count": null,
   "metadata": {
    "id": "K2WCfTJVkwvG"
   },
   "outputs": [],
   "source": [
    "\n",
    "# Create the model (this can be our baseline, a 3 layer Convolutional Neural Network)\n",
    "model_4 = Sequential([\n",
    "  Conv2D(filters=10, \n",
    "         kernel_size=3, \n",
    "         strides=1,\n",
    "         padding='valid',\n",
    "         activation='relu', \n",
    "         input_shape=(224, 224, 3)), # input layer (specify input shape)\n",
    "  Conv2D(10, 3, activation='relu'),\n",
    "  Conv2D(10, 3, activation='relu'),\n",
    "  Flatten(),\n",
    "  Dense(1, activation='sigmoid') # output layer (specify output shape)\n",
    "])"
   ]
  },
  {
   "cell_type": "markdown",
   "metadata": {
    "id": "0BBagxY0oCpn"
   },
   "source": [
    "The typical CNN structure we've built:\n",
    "\n",
    "Input -> Conv + ReLU layers (non-linearities) -> Pooling layer -> Fully connected (dense layer) as Output\n",
    "\n",
    "Let's discuss some of the components of the Conv2D layer:\n",
    "\n",
    "The \"2D\" means our inputs are two dimensional (height and width), even though they have 3 colour channels, the convolutions are run on each channel invididually.\n",
    "\n",
    "<style type=\"text/css\">\n",
    ".tg  {border-collapse:collapse;border-spacing:0;}\n",
    ".tg td{border-color:black;border-style:solid;border-width:1px;font-family:Arial, sans-serif;font-size:14px;\n",
    "  overflow:hidden;padding:10px 5px;word-break:normal;}\n",
    ".tg th{border-color:black;border-style:solid;border-width:1px;font-family:Arial, sans-serif;font-size:14px;\n",
    "  font-weight:normal;overflow:hidden;padding:10px 5px;word-break:normal;}\n",
    ".tg .tg-qxxr{background-color:#FFF;border-color:inherit;font-size:16px;text-align:center;vertical-align:top}\n",
    ".tg .tg-bn4o{font-size:18px;font-weight:bold;text-align:center;vertical-align:top}\n",
    ".tg .tg-gmla{border-color:inherit;font-size:16px;text-align:center;vertical-align:top}\n",
    ".tg .tg-a41q{background-color:#FFF;border-color:inherit;font-size:18px;font-weight:bold;text-align:center;vertical-align:top}\n",
    ".tg .tg-lvth{font-size:16px;text-align:center;vertical-align:top}\n",
    "</style>\n",
    "<table class=\"tg\">\n",
    "<thead>\n",
    "  <tr>\n",
    "    <th class=\"tg-a41q\">Hyperparameter Name</th>\n",
    "    <th class=\"tg-a41q\"><span style=\"font-weight:bold\">What does it do?</span></th>\n",
    "    <th class=\"tg-bn4o\">Typical Values</th>\n",
    "  </tr>\n",
    "</thead>\n",
    "<tbody>\n",
    "  <tr>\n",
    "    <td class=\"tg-qxxr\">Filters</td>\n",
    "    <td class=\"tg-qxxr\">Decides how many filters should pass over an input tensor (e.g. sliding windows over an<br>input tensor (e.g. sliding windows over an image).</td>\n",
    "    <td class=\"tg-lvth\">10, 32, 64, 128 (higher values lead to more<br>complex models)</td>\n",
    "  </tr>\n",
    "  <tr>\n",
    "    <td class=\"tg-gmla\">Kernel Size (also called filter size)</td>\n",
    "    <td class=\"tg-qxxr\">Determines the shape of the filters (sliding<br>windows) over the output.</td>\n",
    "    <td class=\"tg-lvth\">3, 5, 7 (lowers values learn smaller features,<br>higher values learn large features)</td>\n",
    "  </tr>\n",
    "  <tr>\n",
    "    <td class=\"tg-qxxr\">Padding</td>\n",
    "    <td class=\"tg-qxxr\">Pads the target tensor with zeroes (if \"same\")<br>to preserve input shape. Or leaves in the<br>target tensor as is (if \"valid\"), lowering<br>output shape.</td>\n",
    "    <td class=\"tg-lvth\">\"same\" or valid</td>\n",
    "  </tr>\n",
    "  <tr>\n",
    "    <td class=\"tg-qxxr\">Strides</td>\n",
    "    <td class=\"tg-qxxr\">The number of steps a filter takes across an<br>image at a time (e.g. if strides=1, a filter<br>moves across an image 1 pixel at a time).</td>\n",
    "    <td class=\"tg-lvth\">1 (default), 2</td>\n",
    "  </tr>\n",
    "</tbody>\n",
    "</table>\n",
    "\n",
    "> **📖 Resources:** For a great demonstration of these in action, be sure to spend some time going through the following:\n",
    "* [CNN Explainer Webpage](https://poloclub.github.io/cnn-explainer/) - a great visual overview of many of the concepts we're replicating here with code.\n",
    "* [A guide to convolutional arithmetic for deep learning](https://arxiv.org/pdf/1603.07285.pdf) - a phenomenal introduction to the math going on behind the scenes of a convolutional neural network.\n",
    "* For a great explanation of padding, see this [Stack Overflow](https://stackoverflow.com/questions/37674306/what-is-the-difference-between-same-and-valid-padding-in-tf-nn-max-pool-of-t/39371113#39371113) answer."
   ]
  },
  {
   "cell_type": "code",
   "execution_count": null,
   "metadata": {
    "id": "lay7BRX8lrBS"
   },
   "outputs": [],
   "source": [
    "# Compile the model\n",
    "model_4.compile(loss='binary_crossentropy',\n",
    "                optimizer=Adam(),\n",
    "                metrics=['accuracy'])"
   ]
  },
  {
   "cell_type": "code",
   "execution_count": null,
   "metadata": {
    "colab": {
     "base_uri": "https://localhost:8080/"
    },
    "id": "k9HRYgkyL9fB",
    "outputId": "92d90daf-ca3e-4c03-b553-ddd85bb588f9"
   },
   "outputs": [],
   "source": [
    "# Get a summary of our model\n",
    "model_4.summary()"
   ]
  },
  {
   "cell_type": "markdown",
   "metadata": {
    "id": "2WkWsrJKL459"
   },
   "source": [
    "### 4. Fit the model"
   ]
  },
  {
   "cell_type": "code",
   "execution_count": null,
   "metadata": {
    "colab": {
     "base_uri": "https://localhost:8080/"
    },
    "id": "pBxTGhIjL8qB",
    "outputId": "26f50cae-e9d5-4dc1-be37-578371e7c2c4"
   },
   "outputs": [],
   "source": [
    "# Check the lengths of training and test data generators\n",
    "len(train_data), len(test_data)"
   ]
  },
  {
   "cell_type": "code",
   "execution_count": null,
   "metadata": {
    "colab": {
     "base_uri": "https://localhost:8080/"
    },
    "id": "SpZHfABgMUBh",
    "outputId": "b0efbcd0-19a3-44b2-a9ab-0b5f5a5d00a9"
   },
   "outputs": [],
   "source": [
    "# Fit the model\n",
    "history_4 = model_4.fit(train_data,\n",
    "                      epochs=5,\n",
    "                      steps_per_epoch=len(train_data),\n",
    "                      validation_data=test_data,\n",
    "                      validation_steps=len(test_data))"
   ]
  },
  {
   "cell_type": "markdown",
   "metadata": {
    "id": "JV-fzZHmqCA8"
   },
   "source": [
    "### 5. Evaluating our model\n",
    "\n",
    "It looks like our baseline model is learning so let's evaluate it."
   ]
  },
  {
   "cell_type": "code",
   "execution_count": null,
   "metadata": {
    "colab": {
     "base_uri": "https://localhost:8080/"
    },
    "id": "rM-SGGWNM4pJ",
    "outputId": "132369ef-b80f-404f-ccbc-c403fd435627"
   },
   "outputs": [],
   "source": [
    "model_4.evaluate(test_data)"
   ]
  },
  {
   "cell_type": "code",
   "execution_count": null,
   "metadata": {
    "colab": {
     "base_uri": "https://localhost:8080/",
     "height": 445
    },
    "id": "F7I5u_RhqAsY",
    "outputId": "5b3b7cfd-42f3-48a3-f4df-024c6687ed0a"
   },
   "outputs": [],
   "source": [
    "# Plot the training curve\n",
    "import pandas as pd\n",
    "pd.DataFrame(history_4.history).plot(figsize=(10,7))"
   ]
  },
  {
   "cell_type": "code",
   "execution_count": null,
   "metadata": {
    "id": "ky2yOHwcSgyw"
   },
   "outputs": [],
   "source": [
    "# Plot the validation and training curves separately\n",
    "def plot_loss_curves(history):\n",
    "  \"\"\"\n",
    "  Returns separate loss curves for training and validation metrics\n",
    "  \"\"\"\n",
    "  loss = history.history[\"loss\"]\n",
    "  val_loss = history.history[\"val_loss\"]\n",
    "\n",
    "  accuracy = history.history[\"accuracy\"]\n",
    "  val_accuracy = history.history[\"val_accuracy\"]\n",
    "\n",
    "  epochs = range(len(history.history[\"loss\"])) # how many epochs have we run\n",
    "\n",
    "  # Plot loss\n",
    "  plt.plot(epochs, loss, label=\"training_loss\")\n",
    "  plt.plot(epochs, val_loss, label=\"val_loss\")\n",
    "  plt.title(\"loss\")\n",
    "  plt.xlabel(\"epochs\")\n",
    "  plt.legend()\n",
    "\n",
    "  # Plot accuracy\n",
    "  plt.figure()\n",
    "  plt.plot(epochs, accuracy, label=\"training_accuracy\")\n",
    "  plt.plot(epochs, val_accuracy, label=\"val_accuracy\")\n",
    "  plt.title(\"accuracy\")\n",
    "  plt.xlabel(\"epochs\")\n",
    "  plt.legend()"
   ]
  },
  {
   "cell_type": "markdown",
   "metadata": {
    "id": "sj326WvJyYiq"
   },
   "source": [
    "> 🔑 **Note:** When a model's validation loss starts to **increase**, it's likely that the model is **overfitting** the training dataset. This means, it's learning the patterns in the training dataset too *well* and thus the model's ability to generalize to unseen data will be diminished."
   ]
  },
  {
   "cell_type": "code",
   "execution_count": null,
   "metadata": {
    "colab": {
     "base_uri": "https://localhost:8080/",
     "height": 573
    },
    "id": "2kwy5o1px3op",
    "outputId": "30fdb717-3fc0-4453-892e-21d344392133"
   },
   "outputs": [],
   "source": [
    "# Check out loss and accuracy of model_4\n",
    "plot_loss_curves(history_4)"
   ]
  },
  {
   "cell_type": "markdown",
   "metadata": {
    "id": "-xag5CymyECL"
   },
   "source": [
    "We can look that our validation loss is increasing and training loss is decreasing, so it means our data is overfitting.\n",
    "\n",
    "> 🔑 **Note:** Ideally the two loss curves (training and validation) will be very similar to each other (training loss and validation loss decreases at similar rate), when there are large differences your model may be overfitting or underfitting."
   ]
  },
  {
   "cell_type": "markdown",
   "metadata": {
    "id": "tG1dcSxXzNll"
   },
   "source": [
    "### 6. Adjust the model parameter\n",
    "\n",
    "Fitting a machine learning model comes in 3 steps:\n",
    "0. Create a baseline\n",
    "1. Beat the baseline by overfitting a larger model\n",
    "2. Reduce overfitting\n",
    "\n",
    "Ways to induce overfitting:\n",
    "* Increase the number of conv layers\n",
    "* Increase the number of filters\n",
    "* Add another dense layer to the output of our flattened layer\n",
    "\n",
    "Reduce overfitting:\n",
    "* Add data augmentation\n",
    "* Add regularization layers (such as MaxPool2D)\n",
    "* Add more data..\n",
    "\n",
    "> 🔑 **Note:** Reducing overfitting is also known as **regularization**.\n",
    "\n",
    "Let's add `MaxPool2D` to our model and see if it will battle overfitting."
   ]
  },
  {
   "cell_type": "code",
   "execution_count": null,
   "metadata": {
    "id": "hOGz7LV51ZYX"
   },
   "outputs": [],
   "source": [
    "# Create the model (this will be our new baseline model)\n",
    "model_5 = Sequential([\n",
    "                      Conv2D(10, 3, activation=\"relu\", input_shape=(224, 224, 3)),\n",
    "                      MaxPool2D(pool_size=2),\n",
    "                      Conv2D(10, 3, activation=\"relu\"),\n",
    "                      MaxPool2D(),\n",
    "                      Conv2D(10, 3, activation=\"relu\"),\n",
    "                      MaxPool2D(),\n",
    "                      Flatten(),\n",
    "                      Dense(1, activation=\"sigmoid\")\n",
    "])"
   ]
  },
  {
   "cell_type": "code",
   "execution_count": null,
   "metadata": {
    "id": "EZoDqOqS2Yah"
   },
   "outputs": [],
   "source": [
    "model_5.compile(loss=\"binary_crossentropy\",\n",
    "                optimizer=Adam(),\n",
    "                metrics=[\"accuracy\"])"
   ]
  },
  {
   "cell_type": "code",
   "execution_count": null,
   "metadata": {
    "colab": {
     "base_uri": "https://localhost:8080/"
    },
    "id": "BvQq-GD13HDj",
    "outputId": "14774926-f93b-4125-d31f-c006d509c686"
   },
   "outputs": [],
   "source": [
    "# Fit the model\n",
    "history_5 = model_5.fit(train_data,\n",
    "                      epochs=5,\n",
    "                      steps_per_epoch=len(train_data),\n",
    "                      validation_data=test_data,\n",
    "                      validation_steps=len(test_data))"
   ]
  },
  {
   "cell_type": "code",
   "execution_count": null,
   "metadata": {
    "colab": {
     "base_uri": "https://localhost:8080/"
    },
    "id": "RPhM2xzQ3PsZ",
    "outputId": "dc1b1915-d7e8-4afa-d218-8b0806bda5d2"
   },
   "outputs": [],
   "source": [
    "model_5.summary()"
   ]
  },
  {
   "cell_type": "code",
   "execution_count": null,
   "metadata": {
    "colab": {
     "base_uri": "https://localhost:8080/",
     "height": 573
    },
    "id": "Qcm0iJDL3lIx",
    "outputId": "87691244-d7c7-40fd-c6d7-8572ed66c9bf"
   },
   "outputs": [],
   "source": [
    "# Plot loss curves\n",
    "plot_loss_curves(history_5)"
   ]
  },
  {
   "cell_type": "markdown",
   "metadata": {
    "id": "6xjgSQD636ta"
   },
   "source": [
    "It's better then the last time but it's still not the best. Let's try `data augmentation`.\n",
    "\n",
    "### Opening our bag of tricks and finding data augmentation"
   ]
  },
  {
   "cell_type": "code",
   "execution_count": null,
   "metadata": {
    "id": "Qk8W35AH6Hz6"
   },
   "outputs": [],
   "source": [
    "# Create ImageDataGenerator training instances\n",
    "train_datagen_augmented = ImageDataGenerator(rescale=1/255.,\n",
    "                                             rotation_range=0.2,  # how much do you want to rotate an image?\n",
    "                                             shear_range=0.2, # how much do you want to shear an image?\n",
    "                                             zoom_range=0.2,  # Zoom in randomly in your image\n",
    "                                             width_shift_range=0.2, # move your image on x-axis\n",
    "                                             height_shift_range=0.3,  # move your image on your y-axis\n",
    "                                             horizontal_flip=True) # do you want to flip an image?\n",
    "\n",
    "# Create ImageDataGenerator for training without data augmentation\n",
    "train_datagen = ImageDataGenerator(rescale=1/255.)\n",
    "\n",
    "# Create ImageDataGenerator for test without data augmentation\n",
    "test_datagen = ImageDataGenerator(rescale=1/255.)"
   ]
  },
  {
   "cell_type": "markdown",
   "metadata": {
    "id": "wAVwAHLq68qj"
   },
   "source": [
    "> 🤔 **Question:** What is [data augmentation](https://www.tensorflow.org/tutorials/images/data_augmentation)?\n",
    "\n",
    "Data Augmentation is the process of altering our training data, leading it to have more diversity and in turn allowing our models to learn more generalizable (hopefully) patterns. Altering might mean adjusting the rotation of an image, flipping it, cropping it or something similar.\n",
    "\n",
    "Let's write some code to visualize data augmentation..."
   ]
  },
  {
   "cell_type": "code",
   "execution_count": null,
   "metadata": {
    "colab": {
     "base_uri": "https://localhost:8080/"
    },
    "id": "nyZfiEGx7d0d",
    "outputId": "e3f6f65e-b580-47de-91e4-ab82f8c29f65"
   },
   "outputs": [],
   "source": [
    "# Import data and augment it from training directory\n",
    "print(\"Augmented training data\")\n",
    "train_data_augmented = train_datagen_augmented.flow_from_directory(train_dir,\n",
    "                                                                   target_size=(224,224),\n",
    "                                                                   batch_size=32,\n",
    "                                                                   class_mode=\"binary\",\n",
    "                                                                   shuffle=False) # for demonstration purpose\n",
    "\n",
    "# Create Non-augmented train data batches\n",
    "print(\"Non-Augmented training data\")\n",
    "train_data = train_datagen.flow_from_directory(train_dir,\n",
    "                                              target_size=(224,224),\n",
    "                                              batch_size=32,\n",
    "                                              class_mode=\"binary\",\n",
    "                                              shuffle=False)\n",
    "\n",
    "# Create Non-augmented test data batches\n",
    "print(\"Non-Augmented testing data\")\n",
    "test_data = test_datagen.flow_from_directory(test_dir,\n",
    "                                              target_size=(224,224),\n",
    "                                              batch_size=32,\n",
    "                                              class_mode=\"binary\",\n",
    "                                              shuffle=False)"
   ]
  },
  {
   "cell_type": "markdown",
   "metadata": {
    "id": "9IGgY6w69E4t"
   },
   "source": [
    "> 🔑 **Note:** Data augmentation is usually performed on the training data. Using `ImageDataGenerator` built-in data augmentation parameters our images are left as they are in directories but are modified as they're loaded into the model.\n",
    "\n",
    "Finally ... let's visualize some augmented data!!!"
   ]
  },
  {
   "cell_type": "code",
   "execution_count": null,
   "metadata": {
    "id": "aUVygZGr9AMS"
   },
   "outputs": [],
   "source": [
    "# Get sample data batches\n",
    "images, labels = train_data.next()\n",
    "aug_images, aug_labels = train_data_augmented.next()  # labels are not augmented, they are the same"
   ]
  },
  {
   "cell_type": "code",
   "execution_count": null,
   "metadata": {
    "colab": {
     "base_uri": "https://localhost:8080/",
     "height": 528
    },
    "id": "JAqCeAZq-GJy",
    "outputId": "245a934a-bd9d-4c61-9e49-cae45cc9ddc0"
   },
   "outputs": [],
   "source": [
    "# show original image and augmented image\n",
    "import random\n",
    "random_number = random.randint(0, 32) # our batch size is 32\n",
    "print(f\"Showing image number: {random_number}\")\n",
    "plt.imshow(images[random_number])\n",
    "plt.title(f\"Original Image\")\n",
    "plt.axis(False)\n",
    "plt.figure()\n",
    "plt.imshow(aug_images[random_number])\n",
    "plt.title(f\"Augmented Image\")\n",
    "plt.axis(False);"
   ]
  },
  {
   "cell_type": "markdown",
   "metadata": {
    "id": "kd9L0c9bBALh"
   },
   "source": [
    "Now we've seen what augmented training looks like, let's build a model and see how it learns on augmented data."
   ]
  },
  {
   "cell_type": "code",
   "execution_count": null,
   "metadata": {
    "colab": {
     "base_uri": "https://localhost:8080/"
    },
    "id": "6Feprost-oRt",
    "outputId": "c8ee73a3-ae0c-4432-fdea-1db32a46f3ee"
   },
   "outputs": [],
   "source": [
    "# Create a model (same as model_5)\n",
    "model_6 = Sequential([\n",
    "                      Conv2D(10, 3, activation=\"relu\", input_shape=(224, 224, 3)),\n",
    "                      MaxPool2D(pool_size=2),\n",
    "                      Conv2D(10, 3, activation=\"relu\"),\n",
    "                      MaxPool2D(),\n",
    "                      Conv2D(10, 3, activation=\"relu\"),\n",
    "                      MaxPool2D(),\n",
    "                      Flatten(),\n",
    "                      Dense(1, activation=\"sigmoid\")\n",
    "])\n",
    "\n",
    "# Compile the model\n",
    "model_6.compile(loss=\"binary_crossentropy\",\n",
    "                optimizer=Adam(),\n",
    "                metrics=[\"accuracy\"])\n",
    "\n",
    "# Fit the model\n",
    "history_6 = model_6.fit(train_data_augmented,\n",
    "                      epochs=5,\n",
    "                      steps_per_epoch=len(train_data_augmented),\n",
    "                      validation_data=test_data,\n",
    "                      validation_steps=len(test_data))"
   ]
  },
  {
   "cell_type": "markdown",
   "metadata": {
    "id": "8DaOwki_Dz_J"
   },
   "source": [
    "You may have also noticed each epoch taking longer when training with augmented data compared to when training with non-augmented data (~25s per epoch vs. ~10s per epoch).\n",
    "\n"
   ]
  },
  {
   "cell_type": "code",
   "execution_count": null,
   "metadata": {
    "colab": {
     "base_uri": "https://localhost:8080/",
     "height": 573
    },
    "id": "kJwAtVcUB4BL",
    "outputId": "ada3e5f0-5f75-4cc3-ba97-d9fff28c2ea9"
   },
   "outputs": [],
   "source": [
    "plot_loss_curves(history_6)"
   ]
  },
  {
   "cell_type": "markdown",
   "metadata": {
    "id": "k1HcIdPyEGoC"
   },
   "source": [
    "We are close but still not perfect.\n",
    "\n",
    "> 🤔 **Question:** Why didn't our model get very good results on the training set to begin with?\n",
    "\n",
    "It's because when we created train_data_augmented we turned off data shuffling using shuffle=False which means our model only sees a batch of a single kind of images at a time.\n",
    "\n",
    "So, let's go ahead and make shuffle to true to see what happens.\n"
   ]
  },
  {
   "cell_type": "code",
   "execution_count": null,
   "metadata": {
    "colab": {
     "base_uri": "https://localhost:8080/"
    },
    "id": "m53JUJ3fEdMw",
    "outputId": "a89585e6-c0e0-408c-a9c4-a8d8f3ba48b8"
   },
   "outputs": [],
   "source": [
    "# Import data and augment it from training directory with shuffle true\n",
    "print(\"Augmented training data\")\n",
    "train_data_augmented = train_datagen_augmented.flow_from_directory(train_dir,\n",
    "                                                                   target_size=(224,224),\n",
    "                                                                   batch_size=32,\n",
    "                                                                   class_mode=\"binary\",\n",
    "                                                                   shuffle=True)"
   ]
  },
  {
   "cell_type": "code",
   "execution_count": null,
   "metadata": {
    "colab": {
     "base_uri": "https://localhost:8080/"
    },
    "id": "gLuf9FU4FHHi",
    "outputId": "fd5c7838-296f-40ba-e79a-916ad6efffaf"
   },
   "outputs": [],
   "source": [
    "# Create a model (same as model_5)\n",
    "model_7 = Sequential([\n",
    "                      Conv2D(10, 3, activation=\"relu\", input_shape=(224, 224, 3)),\n",
    "                      MaxPool2D(pool_size=2),\n",
    "                      Conv2D(10, 3, activation=\"relu\"),\n",
    "                      MaxPool2D(),\n",
    "                      Conv2D(10, 3, activation=\"relu\"),\n",
    "                      MaxPool2D(),\n",
    "                      Flatten(),\n",
    "                      Dense(1, activation=\"sigmoid\")\n",
    "])\n",
    "\n",
    "# Compile the model\n",
    "model_7.compile(loss=\"binary_crossentropy\",\n",
    "                optimizer=Adam(),\n",
    "                metrics=[\"accuracy\"])\n",
    "\n",
    "# Fit the model\n",
    "history_7 = model_7.fit(train_data_augmented,\n",
    "                      epochs=5,\n",
    "                      steps_per_epoch=len(train_data_augmented),\n",
    "                      validation_data=test_data,\n",
    "                      validation_steps=len(test_data))"
   ]
  },
  {
   "cell_type": "code",
   "execution_count": null,
   "metadata": {
    "colab": {
     "base_uri": "https://localhost:8080/",
     "height": 573
    },
    "id": "w1ClqFzYFNh6",
    "outputId": "82467306-71c2-4f26-dd88-87b0c0395801"
   },
   "outputs": [],
   "source": [
    "plot_loss_curves(history_7)"
   ]
  },
  {
   "cell_type": "markdown",
   "metadata": {
    "id": "rKYUkZLgGODL"
   },
   "source": [
    "It's getting better and better as we have obtained a smooth loss curve and we've seen the importance of shuffling the dataset.\n",
    "\n",
    "> 🔑 **Note:** When shuffling training data, the model gets exposed to all different kinds of data during training, thus enabling it to learn features accros a wide array of images (in our case, pizza & steak at the same time instead of just pizza then steak)."
   ]
  },
  {
   "cell_type": "markdown",
   "metadata": {
    "id": "BiULwXtdF5mT"
   },
   "source": [
    "### 7. Repeat until Satisfied\n",
    "\n",
    "Since we've already beaten our baseline, there are a few things we could try to continue to improve our model:\n",
    "\n",
    "* Increase the number of model layers (e.g. add more `Conv2D` / `MaxPool2D` layers)\n",
    "* Increase the number of filters in each convolutional layer (e.g. from 10 to 32 or even 64)\n",
    "* Train for longer (more epochs)\n",
    "* Find ideal learning rate\n",
    "* Get more data (give the model more opportunities to learn\n",
    "* Use **transfer learning** to laverage what another model has learned and adjust it for our own case\n"
   ]
  },
  {
   "cell_type": "code",
   "execution_count": null,
   "metadata": {
    "colab": {
     "base_uri": "https://localhost:8080/"
    },
    "id": "jGKlTcA3Nx-1",
    "outputId": "d85c79d9-8d21-4076-b6f0-61c40cf226a5"
   },
   "outputs": [],
   "source": [
    "# Classes we're working with\n",
    "print(class_names)"
   ]
  },
  {
   "cell_type": "markdown",
   "metadata": {
    "id": "iXAWIpvgN5zr"
   },
   "source": [
    "Let's download some image that I have saved in github repository"
   ]
  },
  {
   "cell_type": "code",
   "execution_count": null,
   "metadata": {
    "colab": {
     "base_uri": "https://localhost:8080/",
     "height": 402
    },
    "id": "pXlIpqxrOFz7",
    "outputId": "65c88d6d-a74f-42d4-af69-2c3b33377acf"
   },
   "outputs": [],
   "source": [
    "# View our example image\n",
    "import matplotlib.image as mpimg\n",
    "!wget https://raw.githubusercontent.com/ShahZebYousafzai/Deep-Learning-Basics/main/Images/04-steak.jpg\n",
    "steak = mpimg.imread(\"04-steak.jpg\")\n",
    "plt.imshow(steak)\n",
    "plt.axis(False)"
   ]
  },
  {
   "cell_type": "code",
   "execution_count": null,
   "metadata": {
    "colab": {
     "base_uri": "https://localhost:8080/"
    },
    "id": "_EMJYin7OeAj",
    "outputId": "cf1e5369-b86f-4a8f-da0f-107a4efa6684"
   },
   "outputs": [],
   "source": [
    "# Check the shape of our image\n",
    "steak.shape"
   ]
  },
  {
   "cell_type": "code",
   "execution_count": null,
   "metadata": {
    "colab": {
     "base_uri": "https://localhost:8080/",
     "height": 664
    },
    "id": "QVO7mVeEScJr",
    "outputId": "1d86bc00-80e4-4bfb-fef5-42f3031030bc"
   },
   "outputs": [],
   "source": [
    "model_7.predict(steak)"
   ]
  },
  {
   "cell_type": "markdown",
   "metadata": {
    "id": "XXsH5DFgSw_U"
   },
   "source": [
    "The error is because our model is also expecting a batch size as well. So instead of 3 dimensions we need 4 dimensions."
   ]
  },
  {
   "cell_type": "code",
   "execution_count": null,
   "metadata": {
    "colab": {
     "base_uri": "https://localhost:8080/"
    },
    "id": "e_XfTFP3S8GK",
    "outputId": "dbd46ade-2fda-4843-c7c0-65efa1dc0e28"
   },
   "outputs": [],
   "source": [
    "tf.expand_dims(steak, axis=0)"
   ]
  },
  {
   "cell_type": "code",
   "execution_count": null,
   "metadata": {
    "colab": {
     "base_uri": "https://localhost:8080/",
     "height": 837
    },
    "id": "C96lq2xKSdMC",
    "outputId": "2d6a81c4-e213-4d41-fb2c-f2913ec151fe"
   },
   "outputs": [],
   "source": [
    "model_7.predict(tf.expand_dims(steak, axis=0))"
   ]
  },
  {
   "cell_type": "markdown",
   "metadata": {
    "id": "upG4zsAVTT9K"
   },
   "source": [
    "> **🔑 Note:** When you train a neural network and you want to make predictions with it on your own custom data, it's important that your custom data (or new data) is preprocessed into same format as the data your model was trained on."
   ]
  },
  {
   "cell_type": "code",
   "execution_count": null,
   "metadata": {
    "id": "19wWwjmtT5g2"
   },
   "outputs": [],
   "source": [
    "# Create a function to import an image and resize it to be able to be used with our model\n",
    "def load_and_prep_image(filename, img_shape=224):\n",
    "  \"\"\"\n",
    "  Reads an image from filename, turns it into a tensor and reshape it to (img_shape, img_shape, color_channels).\n",
    "  \"\"\"\n",
    "  # Read in the image\n",
    "  img = tf.io.read_file(filename)\n",
    "\n",
    "  # Decode the read file into a tensor\n",
    "  img = tf.image.decode_image(img)\n",
    "\n",
    "  # Resize the image\n",
    "  img = tf.image.resize(img, size=[img_shape, img_shape])\n",
    "\n",
    "  # Normalize/Rescale the image between 0 and 1\n",
    "  img= img/255.\n",
    "\n",
    "  return img"
   ]
  },
  {
   "cell_type": "code",
   "execution_count": null,
   "metadata": {},
   "outputs": [],
   "source": [
    "# Load in and preprocess our custom image\n",
    "steak = load_and_prep_image(\"04-steak.jpg\")\n",
    "steak"
   ]
  },
  {
   "cell_type": "code",
   "execution_count": null,
   "metadata": {},
   "outputs": [],
   "source": [
    "pred = model_7.predict(tf.expand_dims(steak, axis=0))\n",
    "pred"
   ]
  },
  {
   "cell_type": "markdown",
   "metadata": {},
   "source": [
    "The output that we've obtained above the **prediction probability**.\n",
    " \n",
    "> 🔑 **Note:** The 0.5 cutoff can be adjusted to your liking. For example, you could set the limit to be 0.8 and over for the positive class and 0.2 for the negative class. However, doing this will almost always change your model's performance metrics so be sure to make sure they change in the right direction.\n",
    "\n",
    " Looks like our custom image is being put through our model, however, it currently outputs a prediction probability, wouldn't it be nice to visualize the image as well as the model's prediction?"
   ]
  },
  {
   "cell_type": "code",
   "execution_count": null,
   "metadata": {},
   "outputs": [],
   "source": [
    "# Remind ourselves of our class names\n",
    "class_names"
   ]
  },
  {
   "cell_type": "code",
   "execution_count": null,
   "metadata": {},
   "outputs": [],
   "source": [
    "# We can index the predicted class by rounding the prediction probability and indexing it on class names\n",
    "pred_class = class_names[int(tf.round(pred))]\n",
    "pred_class"
   ]
  },
  {
   "cell_type": "code",
   "execution_count": null,
   "metadata": {},
   "outputs": [],
   "source": [
    "def pred_and_plot(model, filename, class_names=class_names):\n",
    "    \"\"\"\n",
    "    Imports an image located at filename, makes a prediction with model\n",
    "    and plots the image with the predicted class as title.\n",
    "    \"\"\"\n",
    "    # Import the target image and preprocess it\n",
    "    img = load_and_prep_image(filename)\n",
    "    \n",
    "    # Make prediction\n",
    "    pred = model.predict(tf.expand_dims(img, axis=0))\n",
    "    \n",
    "    # Get the predicted class\n",
    "    pred_class = class_names[int(tf.round(pred))]\n",
    "    \n",
    "    # Plot the image and predicted class\n",
    "    plt.imshow(img)\n",
    "    plt.title(f\"Prediction: {pred_class}\")\n",
    "    plt.axis(False);"
   ]
  },
  {
   "cell_type": "code",
   "execution_count": null,
   "metadata": {},
   "outputs": [],
   "source": [
    "# Test our model on custom image\n",
    "pred_and_plot(model_7, \"04-steak.jpg\")"
   ]
  },
  {
   "cell_type": "markdown",
   "metadata": {},
   "source": [
    "Our model works! Let's try it on another image ... this time pizza 🍕."
   ]
  },
  {
   "cell_type": "code",
   "execution_count": null,
   "metadata": {},
   "outputs": [],
   "source": [
    "!wget https://raw.githubusercontent.com/ShahZebYousafzai/Deep-Learning-Basics/main/Images/04-pizza.jpg\n",
    "pred_and_plot(model_7, \"04-pizza.jpg\")"
   ]
  },
  {
   "cell_type": "markdown",
   "metadata": {},
   "source": [
    "Wohooo!!! 😆"
   ]
  },
  {
   "cell_type": "markdown",
   "metadata": {},
   "source": [
    "# Multi-class Image Classification\n",
    "\n",
    "We've just been through a bunch of the following steps with a binary classification problem (pizza vs, steak), now we're going to step things up a notch with 10 classes of food (multi-class classification).\n",
    "\n",
    "How about we go through those steps again, except this time, we'll work with 10 different types of food.\n",
    "1. Become one with the data (visualize, visualize, visualize...)\n",
    "2. Preprocess the data (prepare it for a model)\n",
    "3. Create a model (start with a baseline)\n",
    "4. Fit the model\n",
    "5. Evaluate the model\n",
    "6. Adjust different parameters and improve model (try to beat your baseline)\n",
    "7. Repeat until satisfied\n"
   ]
  },
  {
   "cell_type": "markdown",
   "metadata": {},
   "source": [
    "## 1. Import and become one with data"
   ]
  },
  {
   "cell_type": "code",
   "execution_count": null,
   "metadata": {},
   "outputs": [],
   "source": [
    "import zipfile\n",
    "\n",
    "# Download zip file of 10_food_classes images\n",
    "# See how this data was created - https://github.com/mrdbourke/tensorflow-deep-learning/blob/main/extras/image_data_modification.ipynb\n",
    "!wget https://storage.googleapis.com/ztm_tf_course/food_vision/10_food_classes_all_data.zip \n",
    "\n",
    "# Unzip the downloaded file\n",
    "zip_ref = zipfile.ZipFile(\"10_food_classes_all_data.zip\", \"r\")\n",
    "zip_ref.extractall()\n",
    "zip_ref.close()"
   ]
  },
  {
   "cell_type": "code",
   "execution_count": null,
   "metadata": {},
   "outputs": [],
   "source": [
    "import os\n",
    "\n",
    "# Walk through 10 classes of food image data\n",
    "for dirpath, dirnames, filenames in os.walk(\"10_food_classes_all_data\"):\n",
    "    print(f\"There are {len(dirnames)} directories and {len(filenames)} images in '{dirpath}'\")"
   ]
  },
  {
   "cell_type": "code",
   "execution_count": null,
   "metadata": {},
   "outputs": [],
   "source": [
    "!ls -la 10_food_classes_all_data/"
   ]
  },
  {
   "cell_type": "code",
   "execution_count": null,
   "metadata": {},
   "outputs": [],
   "source": [
    "# Setup the train and test directories\n",
    "train_dir = \"10_food_classes_all_data/train\"\n",
    "test_dir = \"10_food_classes_all_data/test\""
   ]
  },
  {
   "cell_type": "code",
   "execution_count": null,
   "metadata": {},
   "outputs": [],
   "source": [
    "# Let's get the class names\n",
    "import pathlib\n",
    "import numpy as np\n",
    "data_dir = pathlib.Path(train_dir)\n",
    "class_names = np.array(sorted([item.name for item in data_dir.glob('*')]))\n",
    "print(class_names)"
   ]
  },
  {
   "cell_type": "code",
   "execution_count": null,
   "metadata": {},
   "outputs": [],
   "source": [
    "# Visualize, Visualize,Visualize\n",
    "import random\n",
    "img = view_random_image(target_dir=train_dir,\n",
    "                       target_class=random.choice(class_names))"
   ]
  },
  {
   "cell_type": "markdown",
   "metadata": {},
   "source": [
    "### 2. Preprocess the data (prepare it for model)"
   ]
  },
  {
   "cell_type": "code",
   "execution_count": null,
   "metadata": {},
   "outputs": [],
   "source": [
    "from tensorflow.keras.preprocessing.image import ImageDataGenerator\n",
    "\n",
    "# Rescale\n",
    "train_data_gen = ImageDataGenerator(rescale=1/255.)\n",
    "test_data_gen = ImageDataGenerator(rescale=1/255.)\n",
    "\n",
    "# Load data in from directories and turn it into batches\n",
    "train_data = train_data_gen.flow_from_directory(train_dir,\n",
    "                                               target_size=(224,244b),\n",
    "                                               batch_size=32,\n",
    "                                               class_mode=\"categorical\")\n",
    "\n",
    "test_data = test_data_gen.flow_from_directory(test_dir,\n",
    "                                               target_size=(224,244),\n",
    "                                               batch_size=32,\n",
    "                                               class_mode=\"categorical\")"
   ]
  },
  {
   "cell_type": "markdown",
   "metadata": {},
   "source": [
    "### 3. Create a model (start with a baseline model)\n",
    "\n",
    "We've been talking a lot about the [CNN explainer website](https://poloclub.github.io/cnn-explainer/)...\n",
    "how about we just take their model (also on 10 classes) and use it on our problem."
   ]
  },
  {
   "cell_type": "code",
   "execution_count": null,
   "metadata": {},
   "outputs": [],
   "source": [
    "import tensorflow as tf\n",
    "from tensorflow.keras.models import Sequential\n",
    "from tensorflow.keras.layers import Conv2D, MaxPooling2D, Flatten, Dense, Activation\n",
    "\n",
    "# Create our model (very similar to previous models but actually the same as CNN example)\n",
    "model_8 = Sequential([\n",
    "    Conv2D(10, 3, input_shape=(224, 224,3)),\n",
    "    Activation(activation=\"relu\"),\n",
    "    Conv2D(10, 3),\n",
    "    Activation(activation=\"relu\"),\n",
    "    MaxPool2D(),\n",
    "    Conv2D(10, 3),\n",
    "    Activation(activation=\"relu\"),\n",
    "    Conv2D(10, 3),\n",
    "    Activation(activation=\"relu\"),\n",
    "    MaxPool2D(),\n",
    "    Flatten(),\n",
    "    Dense(10, activation=\"softmax\")  # Changed to have 10 output neurons and use softmax activation\n",
    "])\n",
    "\n",
    "# Compile the model\n",
    "model_8.compile(loss=\"categorical_crossentropy\",\n",
    "               optimizer=tf.keras.optimizers.Adam(),\n",
    "               metrics=[\"accuracy\"])"
   ]
  },
  {
   "cell_type": "code",
   "execution_count": null,
   "metadata": {},
   "outputs": [],
   "source": [
    "model_8.summary()"
   ]
  },
  {
   "cell_type": "code",
   "execution_count": null,
   "metadata": {},
   "outputs": [],
   "source": [
    "# Fit the model\n",
    "history_8 = model_8.fit(train_data,\n",
    "                       epochs=5,\n",
    "                       steps_per_epoch=len(train_data),\n",
    "                       validation_data=test_data,\n",
    "                       validation_steps=len(test_data))"
   ]
  },
  {
   "cell_type": "code",
   "execution_count": null,
   "metadata": {},
   "outputs": [],
   "source": []
  }
 ],
 "metadata": {
  "accelerator": "GPU",
  "colab": {
   "authorship_tag": "ABX9TyNBD+HzsHwP471ImBeQQpm2",
   "collapsed_sections": [],
   "include_colab_link": true,
   "name": "4_CNN_and_Computer_Vision.ipynb",
   "provenance": []
  },
  "kernelspec": {
   "display_name": "tf_env",
   "language": "python",
   "name": "tf_env"
  },
  "language_info": {
   "codemirror_mode": {
    "name": "ipython",
    "version": 3
   },
   "file_extension": ".py",
   "mimetype": "text/x-python",
   "name": "python",
   "nbconvert_exporter": "python",
   "pygments_lexer": "ipython3",
   "version": "3.9.4"
  }
 },
 "nbformat": 4,
 "nbformat_minor": 1
}
