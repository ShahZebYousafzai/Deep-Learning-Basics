{
  "nbformat": 4,
  "nbformat_minor": 0,
  "metadata": {
    "colab": {
      "name": "2_Neural_Network_Regression.ipynb",
      "provenance": [],
      "collapsed_sections": [],
      "mount_file_id": "1kCpcg2ebw3_u58HteiZ0wC7ClrKc0iyc",
      "authorship_tag": "ABX9TyNnESZvrjiQKcZn3JD1kvEK",
      "include_colab_link": true
    },
    "kernelspec": {
      "name": "python3",
      "display_name": "Python 3"
    },
    "language_info": {
      "name": "python"
    }
  },
  "cells": [
    {
      "cell_type": "markdown",
      "metadata": {
        "id": "view-in-github",
        "colab_type": "text"
      },
      "source": [
        "<a href=\"https://colab.research.google.com/github/ShahZebYousafzai/Deep-Learning-Basics/blob/main/2_Neural_Network_Regression.ipynb\" target=\"_parent\"><img src=\"https://colab.research.google.com/assets/colab-badge.svg\" alt=\"Open In Colab\"/></a>"
      ]
    },
    {
      "cell_type": "markdown",
      "metadata": {
        "id": "1W1TcZAeLAB_"
      },
      "source": [
        "# Introduction to Regression with Neural Network\n",
        "\n",
        "There are many definitions for a regression problem but in our case, we are going to simplify it: predicting a neumerical based on some other combination of variables, even shorter ... predicting a number"
      ]
    },
    {
      "cell_type": "code",
      "metadata": {
        "colab": {
          "base_uri": "https://localhost:8080/"
        },
        "id": "HELDg2usGRdC",
        "outputId": "31615538-fa64-414e-a29a-b1b317c3d27f"
      },
      "source": [
        "# Import TensorFlow\n",
        "import tensorflow as tf\n",
        "print(tf.__version__)"
      ],
      "execution_count": null,
      "outputs": [
        {
          "output_type": "stream",
          "name": "stdout",
          "text": [
            "2.6.0\n"
          ]
        }
      ]
    },
    {
      "cell_type": "markdown",
      "metadata": {
        "id": "SuiOcqGrLpPe"
      },
      "source": [
        "## Creating a data to view and fit"
      ]
    },
    {
      "cell_type": "code",
      "metadata": {
        "colab": {
          "base_uri": "https://localhost:8080/",
          "height": 449
        },
        "id": "1gicmcnULiuZ",
        "outputId": "cb8feef1-f61c-4a64-ee3f-7679cdcfd8a9"
      },
      "source": [
        "import numpy as np\n",
        "import matplotlib.pyplot as plt\n",
        "\n",
        "# Create features\n",
        "X = np.array([-7.0, -4.0, -1.0, 2.0, 6.0, 8.0, 11.0, 14.0])\n",
        "\n",
        "# Create labels\n",
        "y = np.array([3.0, 6.0, 9.0, 12.0, 16.0, 18.0, 21.0, 24.0])\n",
        "\n",
        "# Visualize it\n",
        "plt.figure(figsize=(10,7))\n",
        "plt.scatter(X, y)"
      ],
      "execution_count": null,
      "outputs": [
        {
          "output_type": "execute_result",
          "data": {
            "text/plain": [
              "<matplotlib.collections.PathCollection at 0x7f58875f3a90>"
            ]
          },
          "metadata": {},
          "execution_count": 56
        },
        {
          "output_type": "display_data",
          "data": {
            "image/png": "[encoded data removed]",
            "text/plain": [
              "<Figure size 720x504 with 1 Axes>"
            ]
          },
          "metadata": {
            "needs_background": "light"
          }
        }
      ]
    },
    {
      "cell_type": "code",
      "metadata": {
        "colab": {
          "base_uri": "https://localhost:8080/"
        },
        "id": "efbU2gpeMQw_",
        "outputId": "4c348683-0794-4916-b2ca-e7962377eb52"
      },
      "source": [
        "y == X + 10"
      ],
      "execution_count": null,
      "outputs": [
        {
          "output_type": "execute_result",
          "data": {
            "text/plain": [
              "array([ True,  True,  True,  True,  True,  True,  True,  True])"
            ]
          },
          "metadata": {},
          "execution_count": 57
        }
      ]
    },
    {
      "cell_type": "markdown",
      "metadata": {
        "id": "osWNkWizMtOB"
      },
      "source": [
        "## Input and Output shapes"
      ]
    },
    {
      "cell_type": "code",
      "metadata": {
        "colab": {
          "base_uri": "https://localhost:8080/"
        },
        "id": "qXNX-0GOMdNT",
        "outputId": "6a3a4b78-5f20-466b-f49c-3620525a4ccf"
      },
      "source": [
        "# Create a demo tensor for our housing price prediction\n",
        "house_info = tf.constant([\"bedroom\", \"bathroom\", \"garage\"])\n",
        "house_price = tf.constant([939700])\n",
        "house_info, house_price"
      ],
      "execution_count": null,
      "outputs": [
        {
          "output_type": "execute_result",
          "data": {
            "text/plain": [
              "(<tf.Tensor: shape=(3,), dtype=string, numpy=array([b'bedroom', b'bathroom', b'garage'], dtype=object)>,\n",
              " <tf.Tensor: shape=(1,), dtype=int32, numpy=array([939700], dtype=int32)>)"
            ]
          },
          "metadata": {},
          "execution_count": 58
        }
      ]
    },
    {
      "cell_type": "code",
      "metadata": {
        "colab": {
          "base_uri": "https://localhost:8080/"
        },
        "id": "CTMqwj2ENggC",
        "outputId": "2b489753-1e36-4f42-f2b3-93695ed7593f"
      },
      "source": [
        "X[0], y[0] "
      ],
      "execution_count": null,
      "outputs": [
        {
          "output_type": "execute_result",
          "data": {
            "text/plain": [
              "(-7.0, 3.0)"
            ]
          },
          "metadata": {},
          "execution_count": 59
        }
      ]
    },
    {
      "cell_type": "code",
      "metadata": {
        "colab": {
          "base_uri": "https://localhost:8080/"
        },
        "id": "LvKIYGaQNnnu",
        "outputId": "c737c719-72cf-4761-eff8-1ed17b823775"
      },
      "source": [
        "X[1], y[1]"
      ],
      "execution_count": null,
      "outputs": [
        {
          "output_type": "execute_result",
          "data": {
            "text/plain": [
              "(-4.0, 6.0)"
            ]
          },
          "metadata": {},
          "execution_count": 60
        }
      ]
    },
    {
      "cell_type": "code",
      "metadata": {
        "colab": {
          "base_uri": "https://localhost:8080/"
        },
        "id": "WjDF5iXqM3n8",
        "outputId": "13962393-c29b-4d57-ca04-2fc95d6d631b"
      },
      "source": [
        "input_shape = X.shape\n",
        "output_shape = y.shape\n",
        "input_shape, output_shape"
      ],
      "execution_count": null,
      "outputs": [
        {
          "output_type": "execute_result",
          "data": {
            "text/plain": [
              "((8,), (8,))"
            ]
          },
          "metadata": {},
          "execution_count": 61
        }
      ]
    },
    {
      "cell_type": "code",
      "metadata": {
        "colab": {
          "base_uri": "https://localhost:8080/"
        },
        "id": "QAw5vxktNaVX",
        "outputId": "3923d578-488d-4d0e-d8da-f8e1f8525854"
      },
      "source": [
        "input_shape = X[0].shape\n",
        "output_shape = y[0].shape\n",
        "input_shape, output_shape"
      ],
      "execution_count": null,
      "outputs": [
        {
          "output_type": "execute_result",
          "data": {
            "text/plain": [
              "((), ())"
            ]
          },
          "metadata": {},
          "execution_count": 62
        }
      ]
    },
    {
      "cell_type": "code",
      "metadata": {
        "colab": {
          "base_uri": "https://localhost:8080/"
        },
        "id": "ZaT3SKI9N2_0",
        "outputId": "d0eb9e8e-d90d-408d-c954-d53e4554958d"
      },
      "source": [
        "X[0].ndim"
      ],
      "execution_count": null,
      "outputs": [
        {
          "output_type": "execute_result",
          "data": {
            "text/plain": [
              "0"
            ]
          },
          "metadata": {},
          "execution_count": 63
        }
      ]
    },
    {
      "cell_type": "code",
      "metadata": {
        "colab": {
          "base_uri": "https://localhost:8080/"
        },
        "id": "yMPwWWY7N7pV",
        "outputId": "f61c1804-ca3d-42ea-d14c-5d561051faee"
      },
      "source": [
        "X[0], y[0]"
      ],
      "execution_count": null,
      "outputs": [
        {
          "output_type": "execute_result",
          "data": {
            "text/plain": [
              "(-7.0, 3.0)"
            ]
          },
          "metadata": {},
          "execution_count": 64
        }
      ]
    },
    {
      "cell_type": "code",
      "metadata": {
        "colab": {
          "base_uri": "https://localhost:8080/"
        },
        "id": "YE1O92FNODsc",
        "outputId": "48127025-bc81-4266-c78e-7c770adab718"
      },
      "source": [
        "# Turn our numpy arrays into tensors\n",
        "X = tf.cast(tf.constant(X), dtype=tf.float32)\n",
        "y = tf.cast(tf.constant(y), dtype=tf.float32)\n",
        "X, y"
      ],
      "execution_count": null,
      "outputs": [
        {
          "output_type": "execute_result",
          "data": {
            "text/plain": [
              "(<tf.Tensor: shape=(8,), dtype=float32, numpy=array([-7., -4., -1.,  2.,  6.,  8., 11., 14.], dtype=float32)>,\n",
              " <tf.Tensor: shape=(8,), dtype=float32, numpy=array([ 3.,  6.,  9., 12., 16., 18., 21., 24.], dtype=float32)>)"
            ]
          },
          "metadata": {},
          "execution_count": 65
        }
      ]
    },
    {
      "cell_type": "code",
      "metadata": {
        "colab": {
          "base_uri": "https://localhost:8080/"
        },
        "id": "lHRtMdGhOQhs",
        "outputId": "8bc1e47d-d948-425b-a947-7b1c22fd770d"
      },
      "source": [
        "input_shape = X[0].shape\n",
        "output_shape = y[0].shape\n",
        "input_shape, output_shape"
      ],
      "execution_count": null,
      "outputs": [
        {
          "output_type": "execute_result",
          "data": {
            "text/plain": [
              "(TensorShape([]), TensorShape([]))"
            ]
          },
          "metadata": {},
          "execution_count": 66
        }
      ]
    },
    {
      "cell_type": "code",
      "metadata": {
        "colab": {
          "base_uri": "https://localhost:8080/",
          "height": 449
        },
        "id": "8vwCu0GyOTq0",
        "outputId": "38fbb6bc-7c3b-43bf-ada5-e67fd249558e"
      },
      "source": [
        "plt.figure(figsize=(10,7))\n",
        "plt.scatter(X, y)"
      ],
      "execution_count": null,
      "outputs": [
        {
          "output_type": "execute_result",
          "data": {
            "text/plain": [
              "<matplotlib.collections.PathCollection at 0x7f58874da510>"
            ]
          },
          "metadata": {},
          "execution_count": 67
        },
        {
          "output_type": "display_data",
          "data": {
            "image/png": "[encoded data removed]",
            "text/plain": [
              "<Figure size 720x504 with 1 Axes>"
            ]
          },
          "metadata": {
            "needs_background": "light"
          }
        }
      ]
    },
    {
      "cell_type": "markdown",
      "metadata": {
        "id": "HJ1H5YYzOeSA"
      },
      "source": [
        "## Steps in modelling with Tensorflow\n",
        "\n",
        "1. **Creating a model** - define the input and output layers, as well as the hidden layers of a deep learning model.\n",
        "2. **Compiling a model**- define the loss function (in others words, the function which tells our model how wrong it is) and the optimizer (tells our model how to improve the patterns its learning) and evaluation metrices (what we can use to interpret the performance of our model).\n",
        "3. **Fitting a model** - letting the try to find patterns between X & y (features and labels."
      ]
    },
    {
      "cell_type": "code",
      "metadata": {
        "colab": {
          "base_uri": "https://localhost:8080/"
        },
        "id": "O7xDRfOGOcdk",
        "outputId": "5a47a194-0d26-4207-931b-6e1649907c71"
      },
      "source": [
        "# Set random seed\n",
        "tf.random.set_seed(42)\n",
        "\n",
        "# 1. Create a model using the Sequential API\n",
        "model = tf.keras.Sequential([\n",
        "                             tf.keras.layers.Dense(1)                              \n",
        "                            ])\n",
        "\n",
        "# 2. Compile the model\n",
        "model.compile(loss=tf.keras.losses.mae, # Mean Absolute Error for mae\n",
        "              optimizer=tf.keras.optimizers.SGD(),  # Stochastic Gradient Descent for sgd\n",
        "              metrics=[\"mae\"])\n",
        "\n",
        "# 3. Fit the model\n",
        "model.fit(X, y, epochs=5)"
      ],
      "execution_count": null,
      "outputs": [
        {
          "output_type": "stream",
          "name": "stdout",
          "text": [
            "Epoch 1/5\n",
            "1/1 [==============================] - 0s 254ms/step - loss: 11.5585 - mae: 11.5585\n",
            "Epoch 2/5\n",
            "1/1 [==============================] - 0s 7ms/step - loss: 11.4171 - mae: 11.4171\n",
            "Epoch 3/5\n",
            "1/1 [==============================] - 0s 6ms/step - loss: 11.2757 - mae: 11.2757\n",
            "Epoch 4/5\n",
            "1/1 [==============================] - 0s 7ms/step - loss: 11.1343 - mae: 11.1343\n",
            "Epoch 5/5\n",
            "1/1 [==============================] - 0s 4ms/step - loss: 10.9929 - mae: 10.9929\n"
          ]
        },
        {
          "output_type": "execute_result",
          "data": {
            "text/plain": [
              "<keras.callbacks.History at 0x7f588749df50>"
            ]
          },
          "metadata": {},
          "execution_count": 68
        }
      ]
    },
    {
      "cell_type": "code",
      "metadata": {
        "colab": {
          "base_uri": "https://localhost:8080/"
        },
        "id": "BcswUWsNSJ81",
        "outputId": "1da07513-0ddb-4f7e-9fe6-5c5fea5b1d88"
      },
      "source": [
        "# Check out X and y\n",
        "X, y"
      ],
      "execution_count": null,
      "outputs": [
        {
          "output_type": "execute_result",
          "data": {
            "text/plain": [
              "(<tf.Tensor: shape=(8,), dtype=float32, numpy=array([-7., -4., -1.,  2.,  6.,  8., 11., 14.], dtype=float32)>,\n",
              " <tf.Tensor: shape=(8,), dtype=float32, numpy=array([ 3.,  6.,  9., 12., 16., 18., 21., 24.], dtype=float32)>)"
            ]
          },
          "metadata": {},
          "execution_count": 69
        }
      ]
    },
    {
      "cell_type": "code",
      "metadata": {
        "colab": {
          "base_uri": "https://localhost:8080/"
        },
        "id": "IPhWKNJ8aC6w",
        "outputId": "c149be12-2685-4fde-8122-93568062329c"
      },
      "source": [
        "# Try and make a prediction using our model\n",
        "y_pred = model.predict([17.0])\n",
        "y_pred"
      ],
      "execution_count": null,
      "outputs": [
        {
          "output_type": "stream",
          "name": "stdout",
          "text": [
            "WARNING:tensorflow:5 out of the last 5 calls to <function Model.make_predict_function.<locals>.predict_function at 0x7f588744cc20> triggered tf.function retracing. Tracing is expensive and the excessive number of tracings could be due to (1) creating @tf.function repeatedly in a loop, (2) passing tensors with different shapes, (3) passing Python objects instead of tensors. For (1), please define your @tf.function outside of the loop. For (2), @tf.function has experimental_relax_shapes=True option that relaxes argument shapes that can avoid unnecessary retracing. For (3), please refer to https://www.tensorflow.org/guide/function#controlling_retracing and https://www.tensorflow.org/api_docs/python/tf/function for  more details.\n"
          ]
        },
        {
          "output_type": "execute_result",
          "data": {
            "text/plain": [
              "array([[12.8222685]], dtype=float32)"
            ]
          },
          "metadata": {},
          "execution_count": 70
        }
      ]
    },
    {
      "cell_type": "code",
      "metadata": {
        "colab": {
          "base_uri": "https://localhost:8080/"
        },
        "id": "0m-l9j4QaOFI",
        "outputId": "db9e71a8-f8ec-4fc5-b447-1dbe46456fb9"
      },
      "source": [
        "y_pred + 10"
      ],
      "execution_count": null,
      "outputs": [
        {
          "output_type": "execute_result",
          "data": {
            "text/plain": [
              "array([[22.82227]], dtype=float32)"
            ]
          },
          "metadata": {},
          "execution_count": 71
        }
      ]
    },
    {
      "cell_type": "markdown",
      "metadata": {
        "id": "JWi4yMDNahI3"
      },
      "source": [
        "## Improving our model\n",
        "\n",
        "We can improve our model, by altering the steps we took to create a model.\n",
        "\n",
        "1. **Creating a model** - here we might add more layers, increase the number of layers, increase the number of hidden units (all called neurons) withing each of the hidden layers, change the activation function of each layer.\n",
        "2. **Compiling a model** - here we might change the optimization function or perhaps the **learning rate** of the optimization function.\n",
        "3. **Fitting the model** - here we might fit our model for more **epochs** (leaving it for training a little longer) or on more data (give model more examples to learn from)."
      ]
    },
    {
      "cell_type": "markdown",
      "metadata": {
        "id": "gHHO_Vhlhc8b"
      },
      "source": [
        "### Let's rebuild our model"
      ]
    },
    {
      "cell_type": "markdown",
      "metadata": {
        "id": "KpMekpMdiAEb"
      },
      "source": [
        "#### Increasing the epochs"
      ]
    },
    {
      "cell_type": "code",
      "metadata": {
        "colab": {
          "base_uri": "https://localhost:8080/"
        },
        "id": "pMlhfIsNad5y",
        "outputId": "4e390b02-3c50-4c57-a061-1fa3ff486396"
      },
      "source": [
        "# Set random seed\n",
        "tf.random.set_seed(42)\n",
        "\n",
        "# 1. Create a model using the Sequential API\n",
        "model = tf.keras.Sequential([\n",
        "                             tf.keras.layers.Dense(1)                              \n",
        "                            ])\n",
        "\n",
        "# 2. Compile the model\n",
        "model.compile(loss=tf.keras.losses.mae, # Mean Absolute Error for mae\n",
        "              optimizer=tf.keras.optimizers.SGD(),  # Stochastic Gradient Descent for sgd\n",
        "              metrics=[\"mae\"])\n",
        "\n",
        "# 3. Fit the model (this time increase the epochs)\n",
        "model.fit(X, y, epochs=100)"
      ],
      "execution_count": null,
      "outputs": [
        {
          "output_type": "stream",
          "name": "stdout",
          "text": [
            "Epoch 1/100\n",
            "1/1 [==============================] - 0s 268ms/step - loss: 11.5585 - mae: 11.5585\n",
            "Epoch 2/100\n",
            "1/1 [==============================] - 0s 7ms/step - loss: 11.4171 - mae: 11.4171\n",
            "Epoch 3/100\n",
            "1/1 [==============================] - 0s 6ms/step - loss: 11.2757 - mae: 11.2757\n",
            "Epoch 4/100\n",
            "1/1 [==============================] - 0s 6ms/step - loss: 11.1343 - mae: 11.1343\n",
            "Epoch 5/100\n",
            "1/1 [==============================] - 0s 6ms/step - loss: 10.9929 - mae: 10.9929\n",
            "Epoch 6/100\n",
            "1/1 [==============================] - 0s 8ms/step - loss: 10.8515 - mae: 10.8515\n",
            "Epoch 7/100\n",
            "1/1 [==============================] - 0s 5ms/step - loss: 10.7101 - mae: 10.7101\n",
            "Epoch 8/100\n",
            "1/1 [==============================] - 0s 7ms/step - loss: 10.5687 - mae: 10.5687\n",
            "Epoch 9/100\n",
            "1/1 [==============================] - 0s 6ms/step - loss: 10.4273 - mae: 10.4273\n",
            "Epoch 10/100\n",
            "1/1 [==============================] - 0s 5ms/step - loss: 10.2859 - mae: 10.2859\n",
            "Epoch 11/100\n",
            "1/1 [==============================] - 0s 8ms/step - loss: 10.1445 - mae: 10.1445\n",
            "Epoch 12/100\n",
            "1/1 [==============================] - 0s 5ms/step - loss: 10.0031 - mae: 10.0031\n",
            "Epoch 13/100\n",
            "1/1 [==============================] - 0s 5ms/step - loss: 9.8617 - mae: 9.8617\n",
            "Epoch 14/100\n",
            "1/1 [==============================] - 0s 5ms/step - loss: 9.7203 - mae: 9.7203\n",
            "Epoch 15/100\n",
            "1/1 [==============================] - 0s 6ms/step - loss: 9.5788 - mae: 9.5788\n",
            "Epoch 16/100\n",
            "1/1 [==============================] - 0s 6ms/step - loss: 9.4374 - mae: 9.4374\n",
            "Epoch 17/100\n",
            "1/1 [==============================] - 0s 6ms/step - loss: 9.2960 - mae: 9.2960\n",
            "Epoch 18/100\n",
            "1/1 [==============================] - 0s 6ms/step - loss: 9.1546 - mae: 9.1546\n",
            "Epoch 19/100\n",
            "1/1 [==============================] - 0s 5ms/step - loss: 9.0132 - mae: 9.0132\n",
            "Epoch 20/100\n",
            "1/1 [==============================] - 0s 7ms/step - loss: 8.8718 - mae: 8.8718\n",
            "Epoch 21/100\n",
            "1/1 [==============================] - 0s 8ms/step - loss: 8.7304 - mae: 8.7304\n",
            "Epoch 22/100\n",
            "1/1 [==============================] - 0s 7ms/step - loss: 8.5890 - mae: 8.5890\n",
            "Epoch 23/100\n",
            "1/1 [==============================] - 0s 5ms/step - loss: 8.4476 - mae: 8.4476\n",
            "Epoch 24/100\n",
            "1/1 [==============================] - 0s 6ms/step - loss: 8.3062 - mae: 8.3062\n",
            "Epoch 25/100\n",
            "1/1 [==============================] - 0s 6ms/step - loss: 8.1648 - mae: 8.1648\n",
            "Epoch 26/100\n",
            "1/1 [==============================] - 0s 6ms/step - loss: 8.0234 - mae: 8.0234\n",
            "Epoch 27/100\n",
            "1/1 [==============================] - 0s 9ms/step - loss: 7.8820 - mae: 7.8820\n",
            "Epoch 28/100\n",
            "1/1 [==============================] - 0s 6ms/step - loss: 7.7406 - mae: 7.7406\n",
            "Epoch 29/100\n",
            "1/1 [==============================] - 0s 8ms/step - loss: 7.5992 - mae: 7.5992\n",
            "Epoch 30/100\n",
            "1/1 [==============================] - 0s 6ms/step - loss: 7.4578 - mae: 7.4578\n",
            "Epoch 31/100\n",
            "1/1 [==============================] - 0s 5ms/step - loss: 7.3163 - mae: 7.3163\n",
            "Epoch 32/100\n",
            "1/1 [==============================] - 0s 7ms/step - loss: 7.1808 - mae: 7.1808\n",
            "Epoch 33/100\n",
            "1/1 [==============================] - 0s 7ms/step - loss: 7.1750 - mae: 7.1750\n",
            "Epoch 34/100\n",
            "1/1 [==============================] - 0s 8ms/step - loss: 7.1692 - mae: 7.1692\n",
            "Epoch 35/100\n",
            "1/1 [==============================] - 0s 6ms/step - loss: 7.1634 - mae: 7.1634\n",
            "Epoch 36/100\n",
            "1/1 [==============================] - 0s 8ms/step - loss: 7.1576 - mae: 7.1576\n",
            "Epoch 37/100\n",
            "1/1 [==============================] - 0s 6ms/step - loss: 7.1519 - mae: 7.1519\n",
            "Epoch 38/100\n",
            "1/1 [==============================] - 0s 7ms/step - loss: 7.1461 - mae: 7.1461\n",
            "Epoch 39/100\n",
            "1/1 [==============================] - 0s 6ms/step - loss: 7.1403 - mae: 7.1403\n",
            "Epoch 40/100\n",
            "1/1 [==============================] - 0s 6ms/step - loss: 7.1345 - mae: 7.1345\n",
            "Epoch 41/100\n",
            "1/1 [==============================] - 0s 6ms/step - loss: 7.1287 - mae: 7.1287\n",
            "Epoch 42/100\n",
            "1/1 [==============================] - 0s 5ms/step - loss: 7.1230 - mae: 7.1230\n",
            "Epoch 43/100\n",
            "1/1 [==============================] - 0s 5ms/step - loss: 7.1172 - mae: 7.1172\n",
            "Epoch 44/100\n",
            "1/1 [==============================] - 0s 7ms/step - loss: 7.1114 - mae: 7.1114\n",
            "Epoch 45/100\n",
            "1/1 [==============================] - 0s 6ms/step - loss: 7.1056 - mae: 7.1056\n",
            "Epoch 46/100\n",
            "1/1 [==============================] - 0s 6ms/step - loss: 7.0998 - mae: 7.0998\n",
            "Epoch 47/100\n",
            "1/1 [==============================] - 0s 6ms/step - loss: 7.0941 - mae: 7.0941\n",
            "Epoch 48/100\n",
            "1/1 [==============================] - 0s 5ms/step - loss: 7.0883 - mae: 7.0883\n",
            "Epoch 49/100\n",
            "1/1 [==============================] - 0s 7ms/step - loss: 7.0825 - mae: 7.0825\n",
            "Epoch 50/100\n",
            "1/1 [==============================] - 0s 4ms/step - loss: 7.0767 - mae: 7.0767\n",
            "Epoch 51/100\n",
            "1/1 [==============================] - 0s 6ms/step - loss: 7.0709 - mae: 7.0709\n",
            "Epoch 52/100\n",
            "1/1 [==============================] - 0s 7ms/step - loss: 7.0651 - mae: 7.0651\n",
            "Epoch 53/100\n",
            "1/1 [==============================] - 0s 5ms/step - loss: 7.0594 - mae: 7.0594\n",
            "Epoch 54/100\n",
            "1/1 [==============================] - 0s 7ms/step - loss: 7.0536 - mae: 7.0536\n",
            "Epoch 55/100\n",
            "1/1 [==============================] - 0s 4ms/step - loss: 7.0478 - mae: 7.0478\n",
            "Epoch 56/100\n",
            "1/1 [==============================] - 0s 14ms/step - loss: 7.0420 - mae: 7.0420\n",
            "Epoch 57/100\n",
            "1/1 [==============================] - 0s 16ms/step - loss: 7.0362 - mae: 7.0362\n",
            "Epoch 58/100\n",
            "1/1 [==============================] - 0s 5ms/step - loss: 7.0305 - mae: 7.0305\n",
            "Epoch 59/100\n",
            "1/1 [==============================] - 0s 6ms/step - loss: 7.0247 - mae: 7.0247\n",
            "Epoch 60/100\n",
            "1/1 [==============================] - 0s 6ms/step - loss: 7.0189 - mae: 7.0189\n",
            "Epoch 61/100\n",
            "1/1 [==============================] - 0s 8ms/step - loss: 7.0131 - mae: 7.0131\n",
            "Epoch 62/100\n",
            "1/1 [==============================] - 0s 6ms/step - loss: 7.0073 - mae: 7.0073\n",
            "Epoch 63/100\n",
            "1/1 [==============================] - 0s 6ms/step - loss: 7.0016 - mae: 7.0016\n",
            "Epoch 64/100\n",
            "1/1 [==============================] - 0s 6ms/step - loss: 6.9958 - mae: 6.9958\n",
            "Epoch 65/100\n",
            "1/1 [==============================] - 0s 7ms/step - loss: 6.9900 - mae: 6.9900\n",
            "Epoch 66/100\n",
            "1/1 [==============================] - 0s 8ms/step - loss: 6.9842 - mae: 6.9842\n",
            "Epoch 67/100\n",
            "1/1 [==============================] - 0s 7ms/step - loss: 6.9784 - mae: 6.9784\n",
            "Epoch 68/100\n",
            "1/1 [==============================] - 0s 7ms/step - loss: 6.9726 - mae: 6.9726\n",
            "Epoch 69/100\n",
            "1/1 [==============================] - 0s 7ms/step - loss: 6.9669 - mae: 6.9669\n",
            "Epoch 70/100\n",
            "1/1 [==============================] - 0s 6ms/step - loss: 6.9611 - mae: 6.9611\n",
            "Epoch 71/100\n",
            "1/1 [==============================] - 0s 13ms/step - loss: 6.9553 - mae: 6.9553\n",
            "Epoch 72/100\n",
            "1/1 [==============================] - 0s 15ms/step - loss: 6.9495 - mae: 6.9495\n",
            "Epoch 73/100\n",
            "1/1 [==============================] - 0s 6ms/step - loss: 6.9437 - mae: 6.9437\n",
            "Epoch 74/100\n",
            "1/1 [==============================] - 0s 8ms/step - loss: 6.9380 - mae: 6.9380\n",
            "Epoch 75/100\n",
            "1/1 [==============================] - 0s 7ms/step - loss: 6.9322 - mae: 6.9322\n",
            "Epoch 76/100\n",
            "1/1 [==============================] - 0s 7ms/step - loss: 6.9264 - mae: 6.9264\n",
            "Epoch 77/100\n",
            "1/1 [==============================] - 0s 7ms/step - loss: 6.9206 - mae: 6.9206\n",
            "Epoch 78/100\n",
            "1/1 [==============================] - 0s 7ms/step - loss: 6.9148 - mae: 6.9148\n",
            "Epoch 79/100\n",
            "1/1 [==============================] - 0s 7ms/step - loss: 6.9091 - mae: 6.9091\n",
            "Epoch 80/100\n",
            "1/1 [==============================] - 0s 5ms/step - loss: 6.9033 - mae: 6.9033\n",
            "Epoch 81/100\n",
            "1/1 [==============================] - 0s 8ms/step - loss: 6.8975 - mae: 6.8975\n",
            "Epoch 82/100\n",
            "1/1 [==============================] - 0s 7ms/step - loss: 6.8917 - mae: 6.8917\n",
            "Epoch 83/100\n",
            "1/1 [==============================] - 0s 9ms/step - loss: 6.8859 - mae: 6.8859\n",
            "Epoch 84/100\n",
            "1/1 [==============================] - 0s 7ms/step - loss: 6.8801 - mae: 6.8801\n",
            "Epoch 85/100\n",
            "1/1 [==============================] - 0s 7ms/step - loss: 6.8744 - mae: 6.8744\n",
            "Epoch 86/100\n",
            "1/1 [==============================] - 0s 6ms/step - loss: 6.8686 - mae: 6.8686\n",
            "Epoch 87/100\n",
            "1/1 [==============================] - 0s 5ms/step - loss: 6.8628 - mae: 6.8628\n",
            "Epoch 88/100\n",
            "1/1 [==============================] - 0s 9ms/step - loss: 6.8570 - mae: 6.8570\n",
            "Epoch 89/100\n",
            "1/1 [==============================] - 0s 8ms/step - loss: 6.8512 - mae: 6.8512\n",
            "Epoch 90/100\n",
            "1/1 [==============================] - 0s 6ms/step - loss: 6.8455 - mae: 6.8455\n",
            "Epoch 91/100\n",
            "1/1 [==============================] - 0s 8ms/step - loss: 6.8397 - mae: 6.8397\n",
            "Epoch 92/100\n",
            "1/1 [==============================] - 0s 13ms/step - loss: 6.8339 - mae: 6.8339\n",
            "Epoch 93/100\n",
            "1/1 [==============================] - 0s 14ms/step - loss: 6.8281 - mae: 6.8281\n",
            "Epoch 94/100\n",
            "1/1 [==============================] - 0s 9ms/step - loss: 6.8223 - mae: 6.8223\n",
            "Epoch 95/100\n",
            "1/1 [==============================] - 0s 5ms/step - loss: 6.8166 - mae: 6.8166\n",
            "Epoch 96/100\n",
            "1/1 [==============================] - 0s 19ms/step - loss: 6.8108 - mae: 6.8108\n",
            "Epoch 97/100\n",
            "1/1 [==============================] - 0s 4ms/step - loss: 6.8050 - mae: 6.8050\n",
            "Epoch 98/100\n",
            "1/1 [==============================] - 0s 4ms/step - loss: 6.7992 - mae: 6.7992\n",
            "Epoch 99/100\n",
            "1/1 [==============================] - 0s 3ms/step - loss: 6.7934 - mae: 6.7934\n",
            "Epoch 100/100\n",
            "1/1 [==============================] - 0s 4ms/step - loss: 6.7876 - mae: 6.7876\n"
          ]
        },
        {
          "output_type": "execute_result",
          "data": {
            "text/plain": [
              "<keras.callbacks.History at 0x7f58873ea0d0>"
            ]
          },
          "metadata": {},
          "execution_count": 72
        }
      ]
    },
    {
      "cell_type": "code",
      "metadata": {
        "colab": {
          "base_uri": "https://localhost:8080/"
        },
        "id": "kXBBHYUfhqjq",
        "outputId": "75649c54-bd3f-47dd-f40a-1444ae287de4"
      },
      "source": [
        "# Check out X and y\n",
        "X, y"
      ],
      "execution_count": null,
      "outputs": [
        {
          "output_type": "execute_result",
          "data": {
            "text/plain": [
              "(<tf.Tensor: shape=(8,), dtype=float32, numpy=array([-7., -4., -1.,  2.,  6.,  8., 11., 14.], dtype=float32)>,\n",
              " <tf.Tensor: shape=(8,), dtype=float32, numpy=array([ 3.,  6.,  9., 12., 16., 18., 21., 24.], dtype=float32)>)"
            ]
          },
          "metadata": {},
          "execution_count": 73
        }
      ]
    },
    {
      "cell_type": "code",
      "metadata": {
        "colab": {
          "base_uri": "https://localhost:8080/"
        },
        "id": "gd4uIUK8hxZ_",
        "outputId": "56d54cc1-6341-47bc-bd2b-059a0d544a1b"
      },
      "source": [
        "# Check if our model imroved\n",
        "y_pred = model.predict([17.0])\n",
        "y_pred"
      ],
      "execution_count": null,
      "outputs": [
        {
          "output_type": "stream",
          "name": "stdout",
          "text": [
            "WARNING:tensorflow:6 out of the last 6 calls to <function Model.make_predict_function.<locals>.predict_function at 0x7f58dead95f0> triggered tf.function retracing. Tracing is expensive and the excessive number of tracings could be due to (1) creating @tf.function repeatedly in a loop, (2) passing tensors with different shapes, (3) passing Python objects instead of tensors. For (1), please define your @tf.function outside of the loop. For (2), @tf.function has experimental_relax_shapes=True option that relaxes argument shapes that can avoid unnecessary retracing. For (3), please refer to https://www.tensorflow.org/guide/function#controlling_retracing and https://www.tensorflow.org/api_docs/python/tf/function for  more details.\n"
          ]
        },
        {
          "output_type": "execute_result",
          "data": {
            "text/plain": [
              "array([[31.088549]], dtype=float32)"
            ]
          },
          "metadata": {},
          "execution_count": 74
        }
      ]
    },
    {
      "cell_type": "markdown",
      "metadata": {
        "id": "UKJpHm2biG6s"
      },
      "source": [
        "#### Add 2 more hidden layers with 100 hidden units"
      ]
    },
    {
      "cell_type": "code",
      "metadata": {
        "colab": {
          "base_uri": "https://localhost:8080/"
        },
        "id": "OjIwF418h044",
        "outputId": "cd9ea678-d0da-418d-b048-e729355e0ecb"
      },
      "source": [
        "# Set random seed\n",
        "tf.random.set_seed(42)\n",
        "\n",
        "# 1. Create a model using the Sequential API\n",
        "model = tf.keras.Sequential([\n",
        "                             tf.keras.layers.Dense(1),\n",
        "                             tf.keras.layers.Dense(1),\n",
        "                             tf.keras.layers.Dense(1)                              \n",
        "                            ])\n",
        "\n",
        "# 2. Compile the model\n",
        "model.compile(loss=tf.keras.losses.mae, # Mean Absolute Error for mae\n",
        "              optimizer=tf.keras.optimizers.SGD(),  # Stochastic Gradient Descent for sgd\n",
        "              metrics=[\"mae\"])\n",
        "\n",
        "# 3. Fit the model (this time increase the epochs)\n",
        "model.fit(X, y, epochs=100)"
      ],
      "execution_count": null,
      "outputs": [
        {
          "output_type": "stream",
          "name": "stdout",
          "text": [
            "Epoch 1/100\n",
            "1/1 [==============================] - 0s 307ms/step - loss: 12.5004 - mae: 12.5004\n",
            "Epoch 2/100\n",
            "1/1 [==============================] - 0s 12ms/step - loss: 12.3912 - mae: 12.3912\n",
            "Epoch 3/100\n",
            "1/1 [==============================] - 0s 9ms/step - loss: 12.2718 - mae: 12.2718\n",
            "Epoch 4/100\n",
            "1/1 [==============================] - 0s 11ms/step - loss: 12.1408 - mae: 12.1408\n",
            "Epoch 5/100\n",
            "1/1 [==============================] - 0s 11ms/step - loss: 11.9965 - mae: 11.9965\n",
            "Epoch 6/100\n",
            "1/1 [==============================] - 0s 4ms/step - loss: 11.8372 - mae: 11.8372\n",
            "Epoch 7/100\n",
            "1/1 [==============================] - 0s 10ms/step - loss: 11.6604 - mae: 11.6604\n",
            "Epoch 8/100\n",
            "1/1 [==============================] - 0s 10ms/step - loss: 11.4636 - mae: 11.4636\n",
            "Epoch 9/100\n",
            "1/1 [==============================] - 0s 6ms/step - loss: 11.2436 - mae: 11.2436\n",
            "Epoch 10/100\n",
            "1/1 [==============================] - 0s 12ms/step - loss: 10.9966 - mae: 10.9966\n",
            "Epoch 11/100\n",
            "1/1 [==============================] - 0s 9ms/step - loss: 10.7181 - mae: 10.7181\n",
            "Epoch 12/100\n",
            "1/1 [==============================] - 0s 9ms/step - loss: 10.4027 - mae: 10.4027\n",
            "Epoch 13/100\n",
            "1/1 [==============================] - 0s 8ms/step - loss: 10.0438 - mae: 10.0438\n",
            "Epoch 14/100\n",
            "1/1 [==============================] - 0s 12ms/step - loss: 9.6331 - mae: 9.6331\n",
            "Epoch 15/100\n",
            "1/1 [==============================] - 0s 6ms/step - loss: 9.1610 - mae: 9.1610\n",
            "Epoch 16/100\n",
            "1/1 [==============================] - 0s 7ms/step - loss: 8.6148 - mae: 8.6148\n",
            "Epoch 17/100\n",
            "1/1 [==============================] - 0s 10ms/step - loss: 7.9795 - mae: 7.9795\n",
            "Epoch 18/100\n",
            "1/1 [==============================] - 0s 8ms/step - loss: 7.2355 - mae: 7.2355\n",
            "Epoch 19/100\n",
            "1/1 [==============================] - 0s 10ms/step - loss: 6.8929 - mae: 6.8929\n",
            "Epoch 20/100\n",
            "1/1 [==============================] - 0s 5ms/step - loss: 6.8596 - mae: 6.8596\n",
            "Epoch 21/100\n",
            "1/1 [==============================] - 0s 6ms/step - loss: 6.8496 - mae: 6.8496\n",
            "Epoch 22/100\n",
            "1/1 [==============================] - 0s 5ms/step - loss: 6.8455 - mae: 6.8455\n",
            "Epoch 23/100\n",
            "1/1 [==============================] - 0s 5ms/step - loss: 6.8134 - mae: 6.8134\n",
            "Epoch 24/100\n",
            "1/1 [==============================] - 0s 7ms/step - loss: 6.7808 - mae: 6.7808\n",
            "Epoch 25/100\n",
            "1/1 [==============================] - 0s 5ms/step - loss: 6.7475 - mae: 6.7475\n",
            "Epoch 26/100\n",
            "1/1 [==============================] - 0s 5ms/step - loss: 6.7137 - mae: 6.7137\n",
            "Epoch 27/100\n",
            "1/1 [==============================] - 0s 6ms/step - loss: 6.6793 - mae: 6.6793\n",
            "Epoch 28/100\n",
            "1/1 [==============================] - 0s 6ms/step - loss: 6.6442 - mae: 6.6442\n",
            "Epoch 29/100\n",
            "1/1 [==============================] - 0s 5ms/step - loss: 6.6085 - mae: 6.6085\n",
            "Epoch 30/100\n",
            "1/1 [==============================] - 0s 11ms/step - loss: 6.5763 - mae: 6.5763\n",
            "Epoch 31/100\n",
            "1/1 [==============================] - 0s 5ms/step - loss: 6.5987 - mae: 6.5987\n",
            "Epoch 32/100\n",
            "1/1 [==============================] - 0s 7ms/step - loss: 6.5638 - mae: 6.5638\n",
            "Epoch 33/100\n",
            "1/1 [==============================] - 0s 5ms/step - loss: 6.5281 - mae: 6.5281\n",
            "Epoch 34/100\n",
            "1/1 [==============================] - 0s 4ms/step - loss: 6.4917 - mae: 6.4917\n",
            "Epoch 35/100\n",
            "1/1 [==============================] - 0s 9ms/step - loss: 6.4546 - mae: 6.4546\n",
            "Epoch 36/100\n",
            "1/1 [==============================] - 0s 12ms/step - loss: 6.4166 - mae: 6.4166\n",
            "Epoch 37/100\n",
            "1/1 [==============================] - 0s 5ms/step - loss: 6.3777 - mae: 6.3777\n",
            "Epoch 38/100\n",
            "1/1 [==============================] - 0s 5ms/step - loss: 6.3446 - mae: 6.3446\n",
            "Epoch 39/100\n",
            "1/1 [==============================] - 0s 4ms/step - loss: 6.3702 - mae: 6.3702\n",
            "Epoch 40/100\n",
            "1/1 [==============================] - 0s 5ms/step - loss: 6.3318 - mae: 6.3318\n",
            "Epoch 41/100\n",
            "1/1 [==============================] - 0s 12ms/step - loss: 6.2926 - mae: 6.2926\n",
            "Epoch 42/100\n",
            "1/1 [==============================] - 0s 4ms/step - loss: 6.2524 - mae: 6.2524\n",
            "Epoch 43/100\n",
            "1/1 [==============================] - 0s 5ms/step - loss: 6.2112 - mae: 6.2112\n",
            "Epoch 44/100\n",
            "1/1 [==============================] - 0s 5ms/step - loss: 6.1690 - mae: 6.1690\n",
            "Epoch 45/100\n",
            "1/1 [==============================] - 0s 5ms/step - loss: 6.1283 - mae: 6.1283\n",
            "Epoch 46/100\n",
            "1/1 [==============================] - 0s 6ms/step - loss: 6.1620 - mae: 6.1620\n",
            "Epoch 47/100\n",
            "1/1 [==============================] - 0s 6ms/step - loss: 6.1199 - mae: 6.1199\n",
            "Epoch 48/100\n",
            "1/1 [==============================] - 0s 5ms/step - loss: 6.0768 - mae: 6.0768\n",
            "Epoch 49/100\n",
            "1/1 [==============================] - 0s 5ms/step - loss: 6.0326 - mae: 6.0326\n",
            "Epoch 50/100\n",
            "1/1 [==============================] - 0s 5ms/step - loss: 5.9872 - mae: 5.9872\n",
            "Epoch 51/100\n",
            "1/1 [==============================] - 0s 8ms/step - loss: 5.9406 - mae: 5.9406\n",
            "Epoch 52/100\n",
            "1/1 [==============================] - 0s 4ms/step - loss: 5.9480 - mae: 5.9480\n",
            "Epoch 53/100\n",
            "1/1 [==============================] - 0s 4ms/step - loss: 5.9328 - mae: 5.9328\n",
            "Epoch 54/100\n",
            "1/1 [==============================] - 0s 6ms/step - loss: 5.8860 - mae: 5.8860\n",
            "Epoch 55/100\n",
            "1/1 [==============================] - 0s 5ms/step - loss: 5.8379 - mae: 5.8379\n",
            "Epoch 56/100\n",
            "1/1 [==============================] - 0s 6ms/step - loss: 5.7884 - mae: 5.7884\n",
            "Epoch 57/100\n",
            "1/1 [==============================] - 0s 5ms/step - loss: 5.7375 - mae: 5.7375\n",
            "Epoch 58/100\n",
            "1/1 [==============================] - 0s 6ms/step - loss: 5.7529 - mae: 5.7529\n",
            "Epoch 59/100\n",
            "1/1 [==============================] - 0s 6ms/step - loss: 5.7277 - mae: 5.7277\n",
            "Epoch 60/100\n",
            "1/1 [==============================] - 0s 6ms/step - loss: 5.6762 - mae: 5.6762\n",
            "Epoch 61/100\n",
            "1/1 [==============================] - 0s 6ms/step - loss: 5.6232 - mae: 5.6232\n",
            "Epoch 62/100\n",
            "1/1 [==============================] - 0s 5ms/step - loss: 5.5686 - mae: 5.5686\n",
            "Epoch 63/100\n",
            "1/1 [==============================] - 0s 6ms/step - loss: 5.5323 - mae: 5.5323\n",
            "Epoch 64/100\n",
            "1/1 [==============================] - 0s 4ms/step - loss: 5.5558 - mae: 5.5558\n",
            "Epoch 65/100\n",
            "1/1 [==============================] - 0s 5ms/step - loss: 5.5002 - mae: 5.5002\n",
            "Epoch 66/100\n",
            "1/1 [==============================] - 0s 6ms/step - loss: 5.4429 - mae: 5.4429\n",
            "Epoch 67/100\n",
            "1/1 [==============================] - 0s 6ms/step - loss: 5.3838 - mae: 5.3838\n",
            "Epoch 68/100\n",
            "1/1 [==============================] - 0s 6ms/step - loss: 5.3246 - mae: 5.3246\n",
            "Epoch 69/100\n",
            "1/1 [==============================] - 0s 11ms/step - loss: 5.3931 - mae: 5.3931\n",
            "Epoch 70/100\n",
            "1/1 [==============================] - 0s 8ms/step - loss: 5.5017 - mae: 5.5017\n",
            "Epoch 71/100\n",
            "1/1 [==============================] - 0s 5ms/step - loss: 5.2292 - mae: 5.2292\n",
            "Epoch 72/100\n",
            "1/1 [==============================] - 0s 5ms/step - loss: 5.1641 - mae: 5.1641\n",
            "Epoch 73/100\n",
            "1/1 [==============================] - 0s 4ms/step - loss: 5.1945 - mae: 5.1945\n",
            "Epoch 74/100\n",
            "1/1 [==============================] - 0s 4ms/step - loss: 5.1427 - mae: 5.1427\n",
            "Epoch 75/100\n",
            "1/1 [==============================] - 0s 5ms/step - loss: 5.0757 - mae: 5.0757\n",
            "Epoch 76/100\n",
            "1/1 [==============================] - 0s 6ms/step - loss: 5.0065 - mae: 5.0065\n",
            "Epoch 77/100\n",
            "1/1 [==============================] - 0s 4ms/step - loss: 4.9477 - mae: 4.9477\n",
            "Epoch 78/100\n",
            "1/1 [==============================] - 0s 4ms/step - loss: 5.0265 - mae: 5.0265\n",
            "Epoch 79/100\n",
            "1/1 [==============================] - 0s 5ms/step - loss: 5.1274 - mae: 5.1274\n",
            "Epoch 80/100\n",
            "1/1 [==============================] - 0s 4ms/step - loss: 4.8180 - mae: 4.8180\n",
            "Epoch 81/100\n",
            "1/1 [==============================] - 0s 5ms/step - loss: 4.7730 - mae: 4.7730\n",
            "Epoch 82/100\n",
            "1/1 [==============================] - 0s 5ms/step - loss: 4.8294 - mae: 4.8294\n",
            "Epoch 83/100\n",
            "1/1 [==============================] - 0s 5ms/step - loss: 4.9539 - mae: 4.9539\n",
            "Epoch 84/100\n",
            "1/1 [==============================] - 0s 3ms/step - loss: 4.6108 - mae: 4.6108\n",
            "Epoch 85/100\n",
            "1/1 [==============================] - 0s 5ms/step - loss: 4.5932 - mae: 4.5932\n",
            "Epoch 86/100\n",
            "1/1 [==============================] - 0s 4ms/step - loss: 4.5999 - mae: 4.5999\n",
            "Epoch 87/100\n",
            "1/1 [==============================] - 0s 5ms/step - loss: 4.7757 - mae: 4.7757\n",
            "Epoch 88/100\n",
            "1/1 [==============================] - 0s 5ms/step - loss: 4.3816 - mae: 4.3816\n",
            "Epoch 89/100\n",
            "1/1 [==============================] - 0s 4ms/step - loss: 4.4040 - mae: 4.4040\n",
            "Epoch 90/100\n",
            "1/1 [==============================] - 0s 6ms/step - loss: 4.3366 - mae: 4.3366\n",
            "Epoch 91/100\n",
            "1/1 [==============================] - 0s 7ms/step - loss: 4.5883 - mae: 4.5883\n",
            "Epoch 92/100\n",
            "1/1 [==============================] - 0s 4ms/step - loss: 4.1608 - mae: 4.1608\n",
            "Epoch 93/100\n",
            "1/1 [==============================] - 0s 5ms/step - loss: 4.2860 - mae: 4.2860\n",
            "Epoch 94/100\n",
            "1/1 [==============================] - 0s 5ms/step - loss: 4.3401 - mae: 4.3401\n",
            "Epoch 95/100\n",
            "1/1 [==============================] - 0s 8ms/step - loss: 3.9495 - mae: 3.9495\n",
            "Epoch 96/100\n",
            "1/1 [==============================] - 0s 6ms/step - loss: 3.9459 - mae: 3.9459\n",
            "Epoch 97/100\n",
            "1/1 [==============================] - 0s 8ms/step - loss: 3.9610 - mae: 3.9610\n",
            "Epoch 98/100\n",
            "1/1 [==============================] - 0s 7ms/step - loss: 4.1778 - mae: 4.1778\n",
            "Epoch 99/100\n",
            "1/1 [==============================] - 0s 5ms/step - loss: 3.9734 - mae: 3.9734\n",
            "Epoch 100/100\n",
            "1/1 [==============================] - 0s 14ms/step - loss: 3.9213 - mae: 3.9213\n"
          ]
        },
        {
          "output_type": "execute_result",
          "data": {
            "text/plain": [
              "<keras.callbacks.History at 0x7f58dea36ad0>"
            ]
          },
          "metadata": {},
          "execution_count": 75
        }
      ]
    },
    {
      "cell_type": "code",
      "metadata": {
        "colab": {
          "base_uri": "https://localhost:8080/"
        },
        "id": "jGNh_KJCilXC",
        "outputId": "f2453821-b98c-470d-fc21-fc5ecb198d5a"
      },
      "source": [
        "# Check if our model imroved\n",
        "y_pred = model.predict([17.0])\n",
        "y_pred"
      ],
      "execution_count": null,
      "outputs": [
        {
          "output_type": "execute_result",
          "data": {
            "text/plain": [
              "array([[29.246553]], dtype=float32)"
            ]
          },
          "metadata": {},
          "execution_count": 76
        }
      ]
    },
    {
      "cell_type": "markdown",
      "metadata": {
        "id": "mI8q_29hiuRe"
      },
      "source": [
        "#### Changing the optimizer SGD to Adam"
      ]
    },
    {
      "cell_type": "code",
      "metadata": {
        "colab": {
          "base_uri": "https://localhost:8080/"
        },
        "id": "jfcQ1N7ziqNY",
        "outputId": "769dd919-5c71-48e4-ef3b-5289d1b572e0"
      },
      "source": [
        "# Set random seed\n",
        "tf.random.set_seed(42)\n",
        "\n",
        "# 1. Create a model using the Sequential API\n",
        "model = tf.keras.Sequential([\n",
        "                             tf.keras.layers.Dense(50),\n",
        "                             tf.keras.layers.Dense(1)                            \n",
        "                            ])\n",
        "\n",
        "# 2. Compile the model\n",
        "model.compile(loss=tf.keras.losses.mae, # Mean Absolute Error for mae\n",
        "              optimizer=tf.keras.optimizers.Adam(lr=0.1),  # Stochastic Gradient Descent for sgd\n",
        "              metrics=[\"mae\"])\n",
        "\n",
        "# 3. Fit the model (this time increase the epochs)\n",
        "model.fit(X, y, epochs=200)"
      ],
      "execution_count": null,
      "outputs": [
        {
          "output_type": "stream",
          "name": "stderr",
          "text": [
            "/usr/local/lib/python3.7/dist-packages/keras/optimizer_v2/optimizer_v2.py:356: UserWarning: The `lr` argument is deprecated, use `learning_rate` instead.\n",
            "  \"The `lr` argument is deprecated, use `learning_rate` instead.\")\n"
          ]
        },
        {
          "output_type": "stream",
          "name": "stdout",
          "text": [
            "Epoch 1/200\n",
            "1/1 [==============================] - 0s 375ms/step - loss: 13.2957 - mae: 13.2957\n",
            "Epoch 2/200\n",
            "1/1 [==============================] - 0s 6ms/step - loss: 6.6569 - mae: 6.6569\n",
            "Epoch 3/200\n",
            "1/1 [==============================] - 0s 7ms/step - loss: 13.4015 - mae: 13.4015\n",
            "Epoch 4/200\n",
            "1/1 [==============================] - 0s 6ms/step - loss: 7.7621 - mae: 7.7621\n",
            "Epoch 5/200\n",
            "1/1 [==============================] - 0s 6ms/step - loss: 7.1542 - mae: 7.1542\n",
            "Epoch 6/200\n",
            "1/1 [==============================] - 0s 12ms/step - loss: 8.4987 - mae: 8.4987\n",
            "Epoch 7/200\n",
            "1/1 [==============================] - 0s 6ms/step - loss: 8.0912 - mae: 8.0912\n",
            "Epoch 8/200\n",
            "1/1 [==============================] - 0s 8ms/step - loss: 6.5421 - mae: 6.5421\n",
            "Epoch 9/200\n",
            "1/1 [==============================] - 0s 4ms/step - loss: 4.0528 - mae: 4.0528\n",
            "Epoch 10/200\n",
            "1/1 [==============================] - 0s 6ms/step - loss: 2.9951 - mae: 2.9951\n",
            "Epoch 11/200\n",
            "1/1 [==============================] - 0s 14ms/step - loss: 3.3004 - mae: 3.3004\n",
            "Epoch 12/200\n",
            "1/1 [==============================] - 0s 27ms/step - loss: 1.1985 - mae: 1.1985\n",
            "Epoch 13/200\n",
            "1/1 [==============================] - 0s 8ms/step - loss: 2.9975 - mae: 2.9975\n",
            "Epoch 14/200\n",
            "1/1 [==============================] - 0s 10ms/step - loss: 4.3198 - mae: 4.3198\n",
            "Epoch 15/200\n",
            "1/1 [==============================] - 0s 6ms/step - loss: 3.5724 - mae: 3.5724\n",
            "Epoch 16/200\n",
            "1/1 [==============================] - 0s 7ms/step - loss: 1.6490 - mae: 1.6490\n",
            "Epoch 17/200\n",
            "1/1 [==============================] - 0s 6ms/step - loss: 2.6210 - mae: 2.6210\n",
            "Epoch 18/200\n",
            "1/1 [==============================] - 0s 6ms/step - loss: 2.9139 - mae: 2.9139\n",
            "Epoch 19/200\n",
            "1/1 [==============================] - 0s 7ms/step - loss: 1.9285 - mae: 1.9285\n",
            "Epoch 20/200\n",
            "1/1 [==============================] - 0s 5ms/step - loss: 2.0840 - mae: 2.0840\n",
            "Epoch 21/200\n",
            "1/1 [==============================] - 0s 7ms/step - loss: 3.0706 - mae: 3.0706\n",
            "Epoch 22/200\n",
            "1/1 [==============================] - 0s 5ms/step - loss: 2.6696 - mae: 2.6696\n",
            "Epoch 23/200\n",
            "1/1 [==============================] - 0s 5ms/step - loss: 1.0805 - mae: 1.0805\n",
            "Epoch 24/200\n",
            "1/1 [==============================] - 0s 5ms/step - loss: 2.3190 - mae: 2.3190\n",
            "Epoch 25/200\n",
            "1/1 [==============================] - 0s 6ms/step - loss: 3.0872 - mae: 3.0872\n",
            "Epoch 26/200\n",
            "1/1 [==============================] - 0s 6ms/step - loss: 2.5801 - mae: 2.5801\n",
            "Epoch 27/200\n",
            "1/1 [==============================] - 0s 9ms/step - loss: 1.1593 - mae: 1.1593\n",
            "Epoch 28/200\n",
            "1/1 [==============================] - 0s 5ms/step - loss: 1.9658 - mae: 1.9658\n",
            "Epoch 29/200\n",
            "1/1 [==============================] - 0s 6ms/step - loss: 3.0468 - mae: 3.0468\n",
            "Epoch 30/200\n",
            "1/1 [==============================] - 0s 4ms/step - loss: 3.1426 - mae: 3.1426\n",
            "Epoch 31/200\n",
            "1/1 [==============================] - 0s 6ms/step - loss: 2.4163 - mae: 2.4163\n",
            "Epoch 32/200\n",
            "1/1 [==============================] - 0s 5ms/step - loss: 0.9936 - mae: 0.9936\n",
            "Epoch 33/200\n",
            "1/1 [==============================] - 0s 5ms/step - loss: 1.2878 - mae: 1.2878\n",
            "Epoch 34/200\n",
            "1/1 [==============================] - 0s 7ms/step - loss: 2.3059 - mae: 2.3059\n",
            "Epoch 35/200\n",
            "1/1 [==============================] - 0s 5ms/step - loss: 2.1093 - mae: 2.1093\n",
            "Epoch 36/200\n",
            "1/1 [==============================] - 0s 5ms/step - loss: 0.9188 - mae: 0.9188\n",
            "Epoch 37/200\n",
            "1/1 [==============================] - 0s 5ms/step - loss: 1.0906 - mae: 1.0906\n",
            "Epoch 38/200\n",
            "1/1 [==============================] - 0s 5ms/step - loss: 1.9547 - mae: 1.9547\n",
            "Epoch 39/200\n",
            "1/1 [==============================] - 0s 6ms/step - loss: 1.9349 - mae: 1.9349\n",
            "Epoch 40/200\n",
            "1/1 [==============================] - 0s 5ms/step - loss: 1.1968 - mae: 1.1968\n",
            "Epoch 41/200\n",
            "1/1 [==============================] - 0s 5ms/step - loss: 0.4647 - mae: 0.4647\n",
            "Epoch 42/200\n",
            "1/1 [==============================] - 0s 5ms/step - loss: 0.9927 - mae: 0.9927\n",
            "Epoch 43/200\n",
            "1/1 [==============================] - 0s 6ms/step - loss: 0.6003 - mae: 0.6003\n",
            "Epoch 44/200\n",
            "1/1 [==============================] - 0s 6ms/step - loss: 0.6144 - mae: 0.6144\n",
            "Epoch 45/200\n",
            "1/1 [==============================] - 0s 5ms/step - loss: 0.8681 - mae: 0.8681\n",
            "Epoch 46/200\n",
            "1/1 [==============================] - 0s 5ms/step - loss: 0.3261 - mae: 0.3261\n",
            "Epoch 47/200\n",
            "1/1 [==============================] - 0s 5ms/step - loss: 1.0174 - mae: 1.0174\n",
            "Epoch 48/200\n",
            "1/1 [==============================] - 0s 6ms/step - loss: 1.3229 - mae: 1.3229\n",
            "Epoch 49/200\n",
            "1/1 [==============================] - 0s 6ms/step - loss: 0.7100 - mae: 0.7100\n",
            "Epoch 50/200\n",
            "1/1 [==============================] - 0s 14ms/step - loss: 0.6757 - mae: 0.6757\n",
            "Epoch 51/200\n",
            "1/1 [==============================] - 0s 6ms/step - loss: 1.0834 - mae: 1.0834\n",
            "Epoch 52/200\n",
            "1/1 [==============================] - 0s 9ms/step - loss: 0.7620 - mae: 0.7620\n",
            "Epoch 53/200\n",
            "1/1 [==============================] - 0s 5ms/step - loss: 0.3936 - mae: 0.3936\n",
            "Epoch 54/200\n",
            "1/1 [==============================] - 0s 5ms/step - loss: 0.5448 - mae: 0.5448\n",
            "Epoch 55/200\n",
            "1/1 [==============================] - 0s 5ms/step - loss: 0.1032 - mae: 0.1032\n",
            "Epoch 56/200\n",
            "1/1 [==============================] - 0s 5ms/step - loss: 0.1518 - mae: 0.1518\n",
            "Epoch 57/200\n",
            "1/1 [==============================] - 0s 5ms/step - loss: 0.4599 - mae: 0.4599\n",
            "Epoch 58/200\n",
            "1/1 [==============================] - 0s 6ms/step - loss: 0.2660 - mae: 0.2660\n",
            "Epoch 59/200\n",
            "1/1 [==============================] - 0s 5ms/step - loss: 0.6612 - mae: 0.6612\n",
            "Epoch 60/200\n",
            "1/1 [==============================] - 0s 5ms/step - loss: 0.7146 - mae: 0.7146\n",
            "Epoch 61/200\n",
            "1/1 [==============================] - 0s 4ms/step - loss: 0.0182 - mae: 0.0182\n",
            "Epoch 62/200\n",
            "1/1 [==============================] - 0s 12ms/step - loss: 0.1398 - mae: 0.1398\n",
            "Epoch 63/200\n",
            "1/1 [==============================] - 0s 4ms/step - loss: 0.5211 - mae: 0.5211\n",
            "Epoch 64/200\n",
            "1/1 [==============================] - 0s 6ms/step - loss: 0.3636 - mae: 0.3636\n",
            "Epoch 65/200\n",
            "1/1 [==============================] - 0s 4ms/step - loss: 0.5177 - mae: 0.5177\n",
            "Epoch 66/200\n",
            "1/1 [==============================] - 0s 4ms/step - loss: 0.5588 - mae: 0.5588\n",
            "Epoch 67/200\n",
            "1/1 [==============================] - 0s 4ms/step - loss: 0.2030 - mae: 0.2030\n",
            "Epoch 68/200\n",
            "1/1 [==============================] - 0s 4ms/step - loss: 0.1126 - mae: 0.1126\n",
            "Epoch 69/200\n",
            "1/1 [==============================] - 0s 5ms/step - loss: 0.6543 - mae: 0.6543\n",
            "Epoch 70/200\n",
            "1/1 [==============================] - 0s 4ms/step - loss: 0.5759 - mae: 0.5759\n",
            "Epoch 71/200\n",
            "1/1 [==============================] - 0s 12ms/step - loss: 0.2341 - mae: 0.2341\n",
            "Epoch 72/200\n",
            "1/1 [==============================] - 0s 5ms/step - loss: 0.2453 - mae: 0.2453\n",
            "Epoch 73/200\n",
            "1/1 [==============================] - 0s 8ms/step - loss: 0.4621 - mae: 0.4621\n",
            "Epoch 74/200\n",
            "1/1 [==============================] - 0s 5ms/step - loss: 0.3778 - mae: 0.3778\n",
            "Epoch 75/200\n",
            "1/1 [==============================] - 0s 4ms/step - loss: 0.4022 - mae: 0.4022\n",
            "Epoch 76/200\n",
            "1/1 [==============================] - 0s 4ms/step - loss: 0.4283 - mae: 0.4283\n",
            "Epoch 77/200\n",
            "1/1 [==============================] - 0s 13ms/step - loss: 0.2889 - mae: 0.2889\n",
            "Epoch 78/200\n",
            "1/1 [==============================] - 0s 7ms/step - loss: 0.1982 - mae: 0.1982\n",
            "Epoch 79/200\n",
            "1/1 [==============================] - 0s 5ms/step - loss: 0.5990 - mae: 0.5990\n",
            "Epoch 80/200\n",
            "1/1 [==============================] - 0s 4ms/step - loss: 0.6275 - mae: 0.6275\n",
            "Epoch 81/200\n",
            "1/1 [==============================] - 0s 5ms/step - loss: 0.0391 - mae: 0.0391\n",
            "Epoch 82/200\n",
            "1/1 [==============================] - 0s 4ms/step - loss: 0.2770 - mae: 0.2770\n",
            "Epoch 83/200\n",
            "1/1 [==============================] - 0s 4ms/step - loss: 0.3340 - mae: 0.3340\n",
            "Epoch 84/200\n",
            "1/1 [==============================] - 0s 7ms/step - loss: 0.2662 - mae: 0.2662\n",
            "Epoch 85/200\n",
            "1/1 [==============================] - 0s 11ms/step - loss: 0.2373 - mae: 0.2373\n",
            "Epoch 86/200\n",
            "1/1 [==============================] - 0s 15ms/step - loss: 0.2036 - mae: 0.2036\n",
            "Epoch 87/200\n",
            "1/1 [==============================] - 0s 17ms/step - loss: 0.3419 - mae: 0.3419\n",
            "Epoch 88/200\n",
            "1/1 [==============================] - 0s 17ms/step - loss: 0.2359 - mae: 0.2359\n",
            "Epoch 89/200\n",
            "1/1 [==============================] - 0s 12ms/step - loss: 0.2451 - mae: 0.2451\n",
            "Epoch 90/200\n",
            "1/1 [==============================] - 0s 15ms/step - loss: 0.4394 - mae: 0.4394\n",
            "Epoch 91/200\n",
            "1/1 [==============================] - 0s 24ms/step - loss: 0.3713 - mae: 0.3713\n",
            "Epoch 92/200\n",
            "1/1 [==============================] - 0s 19ms/step - loss: 0.4890 - mae: 0.4890\n",
            "Epoch 93/200\n",
            "1/1 [==============================] - 0s 14ms/step - loss: 0.4514 - mae: 0.4514\n",
            "Epoch 94/200\n",
            "1/1 [==============================] - 0s 10ms/step - loss: 0.3596 - mae: 0.3596\n",
            "Epoch 95/200\n",
            "1/1 [==============================] - 0s 8ms/step - loss: 0.2987 - mae: 0.2987\n",
            "Epoch 96/200\n",
            "1/1 [==============================] - 0s 9ms/step - loss: 0.3599 - mae: 0.3599\n",
            "Epoch 97/200\n",
            "1/1 [==============================] - 0s 7ms/step - loss: 0.2020 - mae: 0.2020\n",
            "Epoch 98/200\n",
            "1/1 [==============================] - 0s 10ms/step - loss: 0.5740 - mae: 0.5740\n",
            "Epoch 99/200\n",
            "1/1 [==============================] - 0s 17ms/step - loss: 0.5900 - mae: 0.5900\n",
            "Epoch 100/200\n",
            "1/1 [==============================] - 0s 6ms/step - loss: 0.1721 - mae: 0.1721\n",
            "Epoch 101/200\n",
            "1/1 [==============================] - 0s 5ms/step - loss: 0.1936 - mae: 0.1936\n",
            "Epoch 102/200\n",
            "1/1 [==============================] - 0s 4ms/step - loss: 0.4364 - mae: 0.4364\n",
            "Epoch 103/200\n",
            "1/1 [==============================] - 0s 5ms/step - loss: 0.2278 - mae: 0.2278\n",
            "Epoch 104/200\n",
            "1/1 [==============================] - 0s 5ms/step - loss: 0.6936 - mae: 0.6936\n",
            "Epoch 105/200\n",
            "1/1 [==============================] - 0s 7ms/step - loss: 0.7730 - mae: 0.7730\n",
            "Epoch 106/200\n",
            "1/1 [==============================] - 0s 4ms/step - loss: 0.1383 - mae: 0.1383\n",
            "Epoch 107/200\n",
            "1/1 [==============================] - 0s 7ms/step - loss: 1.0465 - mae: 1.0465\n",
            "Epoch 108/200\n",
            "1/1 [==============================] - 0s 7ms/step - loss: 1.4115 - mae: 1.4115\n",
            "Epoch 109/200\n",
            "1/1 [==============================] - 0s 4ms/step - loss: 1.1102 - mae: 1.1102\n",
            "Epoch 110/200\n",
            "1/1 [==============================] - 0s 6ms/step - loss: 0.2540 - mae: 0.2540\n",
            "Epoch 111/200\n",
            "1/1 [==============================] - 0s 4ms/step - loss: 1.1476 - mae: 1.1476\n",
            "Epoch 112/200\n",
            "1/1 [==============================] - 0s 5ms/step - loss: 1.4671 - mae: 1.4671\n",
            "Epoch 113/200\n",
            "1/1 [==============================] - 0s 5ms/step - loss: 1.0674 - mae: 1.0674\n",
            "Epoch 114/200\n",
            "1/1 [==============================] - 0s 4ms/step - loss: 0.7084 - mae: 0.7084\n",
            "Epoch 115/200\n",
            "1/1 [==============================] - 0s 5ms/step - loss: 0.8983 - mae: 0.8983\n",
            "Epoch 116/200\n",
            "1/1 [==============================] - 0s 15ms/step - loss: 0.3003 - mae: 0.3003\n",
            "Epoch 117/200\n",
            "1/1 [==============================] - 0s 8ms/step - loss: 1.0368 - mae: 1.0368\n",
            "Epoch 118/200\n",
            "1/1 [==============================] - 0s 6ms/step - loss: 1.4217 - mae: 1.4217\n",
            "Epoch 119/200\n",
            "1/1 [==============================] - 0s 9ms/step - loss: 0.9300 - mae: 0.9300\n",
            "Epoch 120/200\n",
            "1/1 [==============================] - 0s 14ms/step - loss: 0.8716 - mae: 0.8716\n",
            "Epoch 121/200\n",
            "1/1 [==============================] - 0s 9ms/step - loss: 1.1337 - mae: 1.1337\n",
            "Epoch 122/200\n",
            "1/1 [==============================] - 0s 6ms/step - loss: 0.7953 - mae: 0.7953\n",
            "Epoch 123/200\n",
            "1/1 [==============================] - 0s 5ms/step - loss: 0.2743 - mae: 0.2743\n",
            "Epoch 124/200\n",
            "1/1 [==============================] - 0s 4ms/step - loss: 0.6019 - mae: 0.6019\n",
            "Epoch 125/200\n",
            "1/1 [==============================] - 0s 8ms/step - loss: 0.3115 - mae: 0.3115\n",
            "Epoch 126/200\n",
            "1/1 [==============================] - 0s 12ms/step - loss: 0.7086 - mae: 0.7086\n",
            "Epoch 127/200\n",
            "1/1 [==============================] - 0s 14ms/step - loss: 0.7997 - mae: 0.7997\n",
            "Epoch 128/200\n",
            "1/1 [==============================] - 0s 6ms/step - loss: 0.4331 - mae: 0.4331\n",
            "Epoch 129/200\n",
            "1/1 [==============================] - 0s 10ms/step - loss: 1.0952 - mae: 1.0952\n",
            "Epoch 130/200\n",
            "1/1 [==============================] - 0s 7ms/step - loss: 1.2501 - mae: 1.2501\n",
            "Epoch 131/200\n",
            "1/1 [==============================] - 0s 5ms/step - loss: 0.6375 - mae: 0.6375\n",
            "Epoch 132/200\n",
            "1/1 [==============================] - 0s 9ms/step - loss: 0.6181 - mae: 0.6181\n",
            "Epoch 133/200\n",
            "1/1 [==============================] - 0s 10ms/step - loss: 1.0346 - mae: 1.0346\n",
            "Epoch 134/200\n",
            "1/1 [==============================] - 0s 10ms/step - loss: 0.7642 - mae: 0.7642\n",
            "Epoch 135/200\n",
            "1/1 [==============================] - 0s 8ms/step - loss: 0.2064 - mae: 0.2064\n",
            "Epoch 136/200\n",
            "1/1 [==============================] - 0s 5ms/step - loss: 0.4251 - mae: 0.4251\n",
            "Epoch 137/200\n",
            "1/1 [==============================] - 0s 4ms/step - loss: 0.3795 - mae: 0.3795\n",
            "Epoch 138/200\n",
            "1/1 [==============================] - 0s 4ms/step - loss: 0.3133 - mae: 0.3133\n",
            "Epoch 139/200\n",
            "1/1 [==============================] - 0s 4ms/step - loss: 0.3425 - mae: 0.3425\n",
            "Epoch 140/200\n",
            "1/1 [==============================] - 0s 5ms/step - loss: 0.2263 - mae: 0.2263\n",
            "Epoch 141/200\n",
            "1/1 [==============================] - 0s 5ms/step - loss: 0.6935 - mae: 0.6935\n",
            "Epoch 142/200\n",
            "1/1 [==============================] - 0s 5ms/step - loss: 0.6740 - mae: 0.6740\n",
            "Epoch 143/200\n",
            "1/1 [==============================] - 0s 4ms/step - loss: 0.0564 - mae: 0.0564\n",
            "Epoch 144/200\n",
            "1/1 [==============================] - 0s 5ms/step - loss: 1.1805 - mae: 1.1805\n",
            "Epoch 145/200\n",
            "1/1 [==============================] - 0s 4ms/step - loss: 1.5667 - mae: 1.5667\n",
            "Epoch 146/200\n",
            "1/1 [==============================] - 0s 7ms/step - loss: 1.1612 - mae: 1.1612\n",
            "Epoch 147/200\n",
            "1/1 [==============================] - 0s 4ms/step - loss: 0.1822 - mae: 0.1822\n",
            "Epoch 148/200\n",
            "1/1 [==============================] - 0s 4ms/step - loss: 1.3721 - mae: 1.3721\n",
            "Epoch 149/200\n",
            "1/1 [==============================] - 0s 6ms/step - loss: 2.0400 - mae: 2.0400\n",
            "Epoch 150/200\n",
            "1/1 [==============================] - 0s 4ms/step - loss: 2.0778 - mae: 2.0778\n",
            "Epoch 151/200\n",
            "1/1 [==============================] - 0s 4ms/step - loss: 1.6312 - mae: 1.6312\n",
            "Epoch 152/200\n",
            "1/1 [==============================] - 0s 5ms/step - loss: 0.7116 - mae: 0.7116\n",
            "Epoch 153/200\n",
            "1/1 [==============================] - 0s 8ms/step - loss: 1.1753 - mae: 1.1753\n",
            "Epoch 154/200\n",
            "1/1 [==============================] - 0s 4ms/step - loss: 1.8552 - mae: 1.8552\n",
            "Epoch 155/200\n",
            "1/1 [==============================] - 0s 5ms/step - loss: 1.7106 - mae: 1.7106\n",
            "Epoch 156/200\n",
            "1/1 [==============================] - 0s 4ms/step - loss: 1.0278 - mae: 1.0278\n",
            "Epoch 157/200\n",
            "1/1 [==============================] - 0s 5ms/step - loss: 0.8688 - mae: 0.8688\n",
            "Epoch 158/200\n",
            "1/1 [==============================] - 0s 5ms/step - loss: 1.3897 - mae: 1.3897\n",
            "Epoch 159/200\n",
            "1/1 [==============================] - 0s 4ms/step - loss: 1.2397 - mae: 1.2397\n",
            "Epoch 160/200\n",
            "1/1 [==============================] - 0s 5ms/step - loss: 0.5088 - mae: 0.5088\n",
            "Epoch 161/200\n",
            "1/1 [==============================] - 0s 6ms/step - loss: 0.8891 - mae: 0.8891\n",
            "Epoch 162/200\n",
            "1/1 [==============================] - 0s 7ms/step - loss: 1.4156 - mae: 1.4156\n",
            "Epoch 163/200\n",
            "1/1 [==============================] - 0s 10ms/step - loss: 1.1356 - mae: 1.1356\n",
            "Epoch 164/200\n",
            "1/1 [==============================] - 0s 6ms/step - loss: 0.3292 - mae: 0.3292\n",
            "Epoch 165/200\n",
            "1/1 [==============================] - 0s 5ms/step - loss: 0.9282 - mae: 0.9282\n",
            "Epoch 166/200\n",
            "1/1 [==============================] - 0s 5ms/step - loss: 1.0703 - mae: 1.0703\n",
            "Epoch 167/200\n",
            "1/1 [==============================] - 0s 4ms/step - loss: 0.5359 - mae: 0.5359\n",
            "Epoch 168/200\n",
            "1/1 [==============================] - 0s 11ms/step - loss: 0.7795 - mae: 0.7795\n",
            "Epoch 169/200\n",
            "1/1 [==============================] - 0s 4ms/step - loss: 1.1276 - mae: 1.1276\n",
            "Epoch 170/200\n",
            "1/1 [==============================] - 0s 4ms/step - loss: 0.6281 - mae: 0.6281\n",
            "Epoch 171/200\n",
            "1/1 [==============================] - 0s 9ms/step - loss: 0.5615 - mae: 0.5615\n",
            "Epoch 172/200\n",
            "1/1 [==============================] - 0s 4ms/step - loss: 0.8857 - mae: 0.8857\n",
            "Epoch 173/200\n",
            "1/1 [==============================] - 0s 9ms/step - loss: 0.5480 - mae: 0.5480\n",
            "Epoch 174/200\n",
            "1/1 [==============================] - 0s 5ms/step - loss: 0.4836 - mae: 0.4836\n",
            "Epoch 175/200\n",
            "1/1 [==============================] - 0s 12ms/step - loss: 0.6605 - mae: 0.6605\n",
            "Epoch 176/200\n",
            "1/1 [==============================] - 0s 5ms/step - loss: 0.0940 - mae: 0.0940\n",
            "Epoch 177/200\n",
            "1/1 [==============================] - 0s 4ms/step - loss: 1.0212 - mae: 1.0212\n",
            "Epoch 178/200\n",
            "1/1 [==============================] - 0s 4ms/step - loss: 1.3655 - mae: 1.3655\n",
            "Epoch 179/200\n",
            "1/1 [==============================] - 0s 7ms/step - loss: 1.0712 - mae: 1.0712\n",
            "Epoch 180/200\n",
            "1/1 [==============================] - 0s 4ms/step - loss: 0.1860 - mae: 0.1860\n",
            "Epoch 181/200\n",
            "1/1 [==============================] - 0s 5ms/step - loss: 1.3129 - mae: 1.3129\n",
            "Epoch 182/200\n",
            "1/1 [==============================] - 0s 4ms/step - loss: 1.8902 - mae: 1.8902\n",
            "Epoch 183/200\n",
            "1/1 [==============================] - 0s 7ms/step - loss: 1.5694 - mae: 1.5694\n",
            "Epoch 184/200\n",
            "1/1 [==============================] - 0s 5ms/step - loss: 0.5391 - mae: 0.5391\n",
            "Epoch 185/200\n",
            "1/1 [==============================] - 0s 5ms/step - loss: 1.0068 - mae: 1.0068\n",
            "Epoch 186/200\n",
            "1/1 [==============================] - 0s 4ms/step - loss: 1.5378 - mae: 1.5378\n",
            "Epoch 187/200\n",
            "1/1 [==============================] - 0s 4ms/step - loss: 1.3723 - mae: 1.3723\n",
            "Epoch 188/200\n",
            "1/1 [==============================] - 0s 12ms/step - loss: 0.6202 - mae: 0.6202\n",
            "Epoch 189/200\n",
            "1/1 [==============================] - 0s 7ms/step - loss: 1.8256 - mae: 1.8256\n",
            "Epoch 190/200\n",
            "1/1 [==============================] - 0s 9ms/step - loss: 2.0566 - mae: 2.0566\n",
            "Epoch 191/200\n",
            "1/1 [==============================] - 0s 4ms/step - loss: 1.0690 - mae: 1.0690\n",
            "Epoch 192/200\n",
            "1/1 [==============================] - 0s 4ms/step - loss: 0.7399 - mae: 0.7399\n",
            "Epoch 193/200\n",
            "1/1 [==============================] - 0s 4ms/step - loss: 1.3257 - mae: 1.3257\n",
            "Epoch 194/200\n",
            "1/1 [==============================] - 0s 4ms/step - loss: 1.0297 - mae: 1.0297\n",
            "Epoch 195/200\n",
            "1/1 [==============================] - 0s 6ms/step - loss: 0.4260 - mae: 0.4260\n",
            "Epoch 196/200\n",
            "1/1 [==============================] - 0s 9ms/step - loss: 0.4666 - mae: 0.4666\n",
            "Epoch 197/200\n",
            "1/1 [==============================] - 0s 5ms/step - loss: 0.2848 - mae: 0.2848\n",
            "Epoch 198/200\n",
            "1/1 [==============================] - 0s 6ms/step - loss: 0.3732 - mae: 0.3732\n",
            "Epoch 199/200\n",
            "1/1 [==============================] - 0s 4ms/step - loss: 0.3174 - mae: 0.3174\n",
            "Epoch 200/200\n",
            "1/1 [==============================] - 0s 4ms/step - loss: 0.2461 - mae: 0.2461\n"
          ]
        },
        {
          "output_type": "execute_result",
          "data": {
            "text/plain": [
              "<keras.callbacks.History at 0x7f58de934910>"
            ]
          },
          "metadata": {},
          "execution_count": 77
        }
      ]
    },
    {
      "cell_type": "code",
      "metadata": {
        "colab": {
          "base_uri": "https://localhost:8080/"
        },
        "id": "wrZu94Dhq2PP",
        "outputId": "2b2dbbb7-90da-4c5b-9ec3-9b39cc52065f"
      },
      "source": [
        "# Check if our model imroved\n",
        "y_pred = model.predict([17.0])\n",
        "y_pred"
      ],
      "execution_count": null,
      "outputs": [
        {
          "output_type": "execute_result",
          "data": {
            "text/plain": [
              "array([[27.52472]], dtype=float32)"
            ]
          },
          "metadata": {},
          "execution_count": 78
        }
      ]
    },
    {
      "cell_type": "markdown",
      "metadata": {
        "id": "dwU8ad5axqeM"
      },
      "source": [
        "## Evaluating a model\n",
        "\n",
        "In practice, a typical workflow you'll go through when building neural network is\n",
        "\n",
        "```\n",
        "Build a model -> fit it -> evaluate it -> tweak a mode - > fit it -> evaluate it -> tweak a mode -> evaluate it ...\n",
        "```\n",
        "\n",
        "> 🛠️ In above model the things we tweaked are called `hyperparameter`"
      ]
    },
    {
      "cell_type": "markdown",
      "metadata": {
        "id": "y2Y_rtqxyWCx"
      },
      "source": [
        "When it comes to evaluation ... there are 3 words you should memorize:\n",
        "\n",
        "> \"Visualize, visualize, visualize\"\n",
        "\n",
        "It's a good idea to visualize:\n",
        "* THe data - what data are we working with? What does it look like?\n",
        "* The model itsel - what our model looks like?\n",
        "* The training of a model - how does a model perform while it learns?\n",
        "* The predictions of the model - how do the predictions of a model line up against the ground truth (the original labels)?"
      ]
    },
    {
      "cell_type": "code",
      "metadata": {
        "colab": {
          "base_uri": "https://localhost:8080/"
        },
        "id": "LsCMDAZZq4w1",
        "outputId": "75a82a2a-cb7f-4992-a415-fe4408cd805e"
      },
      "source": [
        "# Make a bigger dataset\n",
        "X = tf.range(-100, 100, 4)\n",
        "X"
      ],
      "execution_count": null,
      "outputs": [
        {
          "output_type": "execute_result",
          "data": {
            "text/plain": [
              "<tf.Tensor: shape=(50,), dtype=int32, numpy=\n",
              "array([-100,  -96,  -92,  -88,  -84,  -80,  -76,  -72,  -68,  -64,  -60,\n",
              "        -56,  -52,  -48,  -44,  -40,  -36,  -32,  -28,  -24,  -20,  -16,\n",
              "        -12,   -8,   -4,    0,    4,    8,   12,   16,   20,   24,   28,\n",
              "         32,   36,   40,   44,   48,   52,   56,   60,   64,   68,   72,\n",
              "         76,   80,   84,   88,   92,   96], dtype=int32)>"
            ]
          },
          "metadata": {},
          "execution_count": 79
        }
      ]
    },
    {
      "cell_type": "code",
      "metadata": {
        "colab": {
          "base_uri": "https://localhost:8080/"
        },
        "id": "kAOM9h6mzRUc",
        "outputId": "efceb207-ce26-4f3a-bc42-5fa1d53b4e00"
      },
      "source": [
        "# Make labels for the dateset\n",
        "y = X +10\n",
        "y"
      ],
      "execution_count": null,
      "outputs": [
        {
          "output_type": "execute_result",
          "data": {
            "text/plain": [
              "<tf.Tensor: shape=(50,), dtype=int32, numpy=\n",
              "array([-90, -86, -82, -78, -74, -70, -66, -62, -58, -54, -50, -46, -42,\n",
              "       -38, -34, -30, -26, -22, -18, -14, -10,  -6,  -2,   2,   6,  10,\n",
              "        14,  18,  22,  26,  30,  34,  38,  42,  46,  50,  54,  58,  62,\n",
              "        66,  70,  74,  78,  82,  86,  90,  94,  98, 102, 106], dtype=int32)>"
            ]
          },
          "metadata": {},
          "execution_count": 80
        }
      ]
    },
    {
      "cell_type": "code",
      "metadata": {
        "colab": {
          "base_uri": "https://localhost:8080/",
          "height": 445
        },
        "id": "daH3vSvrzZZd",
        "outputId": "f40e52a6-4616-4c68-ba23-27976e4d30b4"
      },
      "source": [
        "# Visualize the data\n",
        "import matplotlib.pyplot as plt\n",
        "\n",
        "plt.figure(figsize=(10,7))\n",
        "plt.scatter(X, y)"
      ],
      "execution_count": null,
      "outputs": [
        {
          "output_type": "execute_result",
          "data": {
            "text/plain": [
              "<matplotlib.collections.PathCollection at 0x7f58de853a10>"
            ]
          },
          "metadata": {},
          "execution_count": 81
        },
        {
          "output_type": "display_data",
          "data": {
            "image/png": "[encoded data removed]",
            "text/plain": [
              "<Figure size 720x504 with 1 Axes>"
            ]
          },
          "metadata": {
            "needs_background": "light"
          }
        }
      ]
    },
    {
      "cell_type": "markdown",
      "metadata": {
        "id": "Utxn227NzsAG"
      },
      "source": [
        "### The 3 sets ...\n",
        "\n",
        "* **Training set** - the model learns from this data which is tpically 70-80% of the total data you have available.\n",
        "* **Validation set** - the model gets tuned on this data, which is typically 10-15% of the data available.\n",
        "* **Test set** - the model gets evaluated on this data to test what it has learned, this set is typically 10-15% of the total data available."
      ]
    },
    {
      "cell_type": "code",
      "metadata": {
        "colab": {
          "base_uri": "https://localhost:8080/"
        },
        "id": "eN7Q_QgKzl2c",
        "outputId": "1a408619-ed38-4ee2-f19a-8fd9e09c220f"
      },
      "source": [
        "# Check the length of how many samples we have\n",
        "len(X)"
      ],
      "execution_count": null,
      "outputs": [
        {
          "output_type": "execute_result",
          "data": {
            "text/plain": [
              "50"
            ]
          },
          "metadata": {},
          "execution_count": 82
        }
      ]
    },
    {
      "cell_type": "code",
      "metadata": {
        "colab": {
          "base_uri": "https://localhost:8080/"
        },
        "id": "8YGDdatl1ECz",
        "outputId": "c972e828-0374-4556-b9fb-dc70f10c4d81"
      },
      "source": [
        "# Split the data into train and test sets\n",
        "X_train = X[:40]  # first 40 are training samples (80% of the data)\n",
        "y_train = y[:40]\n",
        "\n",
        "X_test = X[40:]   # first 10 are testing samples (10% of the data)\n",
        "y_test = y[40:]\n",
        "\n",
        "len(X_train), len(X_test), len(y_train), len(y_test)"
      ],
      "execution_count": null,
      "outputs": [
        {
          "output_type": "execute_result",
          "data": {
            "text/plain": [
              "(40, 10, 40, 10)"
            ]
          },
          "metadata": {},
          "execution_count": 105
        }
      ]
    },
    {
      "cell_type": "markdown",
      "metadata": {
        "id": "GaZzUlym14if"
      },
      "source": [
        "### Visualizing the data\n",
        "\n",
        "Now we've got out data in the training and test set ... let's visualize it again!"
      ]
    },
    {
      "cell_type": "code",
      "metadata": {
        "colab": {
          "base_uri": "https://localhost:8080/",
          "height": 428
        },
        "id": "YrPc0jRL13gt",
        "outputId": "d025d478-87fd-4896-9528-c64dbf7a3c97"
      },
      "source": [
        "plt.figure(figsize=(10,7))\n",
        "\n",
        "# Plot training data in blue\n",
        "plt.scatter(X_train, y_train, c=\"b\", label=\"Training data\") # our model will learn on this\n",
        "# Plot test data in green\n",
        "plt.scatter(X_test, y_test, c=\"g\", label=\"Testing data\")    # want our model to be able to predict this (given X, what's y?)\n",
        "# Show a legend\n",
        "plt.legend();"
      ],
      "execution_count": null,
      "outputs": [
        {
          "output_type": "display_data",
          "data": {
            "image/png": "[encoded data removed]",
            "text/plain": [
              "<Figure size 720x504 with 1 Axes>"
            ]
          },
          "metadata": {
            "needs_background": "light"
          }
        }
      ]
    },
    {
      "cell_type": "code",
      "metadata": {
        "id": "xqvc-lJU2aYx"
      },
      "source": [
        "# Let's have a look how to build a neural network for our data\n",
        "\n",
        "# 1. create a model\n",
        "model = tf.keras.Sequential([\n",
        "                             tf.keras.layers.Dense(1)\n",
        "])\n",
        "\n",
        "# 2. Compile the model\n",
        "model.compile(loss=tf.keras.losses.mae,\n",
        "              optimizer=tf.keras.optimizers.SGD(),\n",
        "              metrics=[\"mae\"])\n",
        "\n",
        "# 3. Fit the model\n",
        "# model.fit(X_train, y_train, epochs=100)"
      ],
      "execution_count": null,
      "outputs": []
    },
    {
      "cell_type": "markdown",
      "metadata": {
        "id": "AgrYhy1fYjIG"
      },
      "source": [
        "### Visualizing the model"
      ]
    },
    {
      "cell_type": "code",
      "metadata": {
        "colab": {
          "base_uri": "https://localhost:8080/",
          "height": 305
        },
        "id": "epkb8NvJYiin",
        "outputId": "3c79b128-e3a6-4412-9d26-d397d5f2acf5"
      },
      "source": [
        "model.summary()"
      ],
      "execution_count": null,
      "outputs": [
        {
          "output_type": "error",
          "ename": "ValueError",
          "evalue": "ignored",
          "traceback": [
            "\u001b[0;31m---------------------------------------------------------------------------\u001b[0m",
            "\u001b[0;31mValueError\u001b[0m                                Traceback (most recent call last)",
            "\u001b[0;32m<ipython-input-86-5f15418b3570>\u001b[0m in \u001b[0;36m<module>\u001b[0;34m()\u001b[0m\n\u001b[0;32m----> 1\u001b[0;31m \u001b[0mmodel\u001b[0m\u001b[0;34m.\u001b[0m\u001b[0msummary\u001b[0m\u001b[0;34m(\u001b[0m\u001b[0;34m)\u001b[0m\u001b[0;34m\u001b[0m\u001b[0;34m\u001b[0m\u001b[0m\n\u001b[0m",
            "\u001b[0;32m/usr/local/lib/python3.7/dist-packages/keras/engine/training.py\u001b[0m in \u001b[0;36msummary\u001b[0;34m(self, line_length, positions, print_fn)\u001b[0m\n\u001b[1;32m   2519\u001b[0m     \"\"\"\n\u001b[1;32m   2520\u001b[0m     \u001b[0;32mif\u001b[0m \u001b[0;32mnot\u001b[0m \u001b[0mself\u001b[0m\u001b[0;34m.\u001b[0m\u001b[0mbuilt\u001b[0m\u001b[0;34m:\u001b[0m\u001b[0;34m\u001b[0m\u001b[0;34m\u001b[0m\u001b[0m\n\u001b[0;32m-> 2521\u001b[0;31m       raise ValueError('This model has not yet been built. '\n\u001b[0m\u001b[1;32m   2522\u001b[0m                        \u001b[0;34m'Build the model first by calling `build()` or calling '\u001b[0m\u001b[0;34m\u001b[0m\u001b[0;34m\u001b[0m\u001b[0m\n\u001b[1;32m   2523\u001b[0m                        \u001b[0;34m'`fit()` with some data, or specify '\u001b[0m\u001b[0;34m\u001b[0m\u001b[0;34m\u001b[0m\u001b[0m\n",
            "\u001b[0;31mValueError\u001b[0m: This model has not yet been built. Build the model first by calling `build()` or calling `fit()` with some data, or specify an `input_shape` argument in the first layer(s) for automatic build."
          ]
        }
      ]
    },
    {
      "cell_type": "markdown",
      "metadata": {
        "id": "CxWujrZeZkyG"
      },
      "source": [
        "⚠️ The above error is because we have not fit the model but if we define the input shape to our layer we can get the models information"
      ]
    },
    {
      "cell_type": "code",
      "metadata": {
        "id": "yoyKAPYqYnc-"
      },
      "source": [
        "# Let's create a model which builds automatically by defining the input_shape argument\n",
        "tf.random.set_seed(42)\n",
        "\n",
        "# Create the model\n",
        "model = tf.keras.Sequential([\n",
        "                             tf.keras.layers.Dense(10, input_shape=[1])\n",
        "])\n",
        "\n",
        "# Compile the model\n",
        "model.compile(loss=tf.keras.losses.mae,\n",
        "              optimizer=tf.keras.optimizers.SGD(),\n",
        "              metrics=[\"mae\"])"
      ],
      "execution_count": null,
      "outputs": []
    },
    {
      "cell_type": "code",
      "metadata": {
        "colab": {
          "base_uri": "https://localhost:8080/"
        },
        "id": "ngXpu9aBZcUR",
        "outputId": "3f061643-140d-46a5-94ea-33d5d87e1039"
      },
      "source": [
        "model.summary()"
      ],
      "execution_count": null,
      "outputs": [
        {
          "output_type": "stream",
          "name": "stdout",
          "text": [
            "Model: \"sequential_5\"\n",
            "_________________________________________________________________\n",
            "Layer (type)                 Output Shape              Param #   \n",
            "=================================================================\n",
            "dense_8 (Dense)              (None, 10)                20        \n",
            "=================================================================\n",
            "Total params: 20\n",
            "Trainable params: 20\n",
            "Non-trainable params: 0\n",
            "_________________________________________________________________\n"
          ]
        }
      ]
    },
    {
      "cell_type": "markdown",
      "metadata": {
        "id": "XCv5w0cNZ5Rz"
      },
      "source": [
        "* Total params - total number of parameters in the model.\n",
        "* Trainable parameters - these are the parameters (patterns) the model can update as it trains.\n",
        "* Non-trainable params - these parameters aren't updated during training (this is typically when you bring in already learned patterns or parameters from other models during **transfer learning**)\n",
        "\n",
        "> 📖 **Resource:** For a more in-depth overview of the trainable parameters within layers, check out [MIT's introduction to deep learning video](http://introtodeeplearning.com/). \n",
        "\n",
        "> 🛠️ **Exercise:** Try laying around with the number of hidden units in the dense layer, see how that effects the number of parameters (total and trainable) by calling `model.summary()`.\n",
        "\n"
      ]
    },
    {
      "cell_type": "code",
      "metadata": {
        "colab": {
          "base_uri": "https://localhost:8080/"
        },
        "id": "jZoAu8uDZeHm",
        "outputId": "7e49ca48-14c3-4a4e-e410-8d5d584e1f89"
      },
      "source": [
        "# Let's fit our model to training data\n",
        "model.fit(X_train, y_train, epochs=100, verbose=0) # with verbose we can see how our model trains"
      ],
      "execution_count": null,
      "outputs": [
        {
          "output_type": "execute_result",
          "data": {
            "text/plain": [
              "<keras.callbacks.History at 0x7f6b2b6cfad0>"
            ]
          },
          "metadata": {},
          "execution_count": 36
        }
      ]
    },
    {
      "cell_type": "code",
      "metadata": {
        "colab": {
          "base_uri": "https://localhost:8080/"
        },
        "id": "k9pRtChrcXdA",
        "outputId": "50255492-2f70-48c9-8439-b15c4316aef7"
      },
      "source": [
        "# Get a summary of our model\n",
        "model.summary()"
      ],
      "execution_count": null,
      "outputs": [
        {
          "output_type": "stream",
          "name": "stdout",
          "text": [
            "Model: \"sequential_5\"\n",
            "_________________________________________________________________\n",
            "Layer (type)                 Output Shape              Param #   \n",
            "=================================================================\n",
            "dense_8 (Dense)              (None, 10)                20        \n",
            "=================================================================\n",
            "Total params: 20\n",
            "Trainable params: 20\n",
            "Non-trainable params: 0\n",
            "_________________________________________________________________\n"
          ]
        }
      ]
    },
    {
      "cell_type": "code",
      "metadata": {
        "colab": {
          "base_uri": "https://localhost:8080/",
          "height": 201
        },
        "id": "UIe0gLKHcvMe",
        "outputId": "a7c08ea2-3257-4c23-c758-7afe9b7e8b53"
      },
      "source": [
        "from tensorflow.keras.utils import plot_model\n",
        "\n",
        "plot_model(model=model, show_shapes=True)"
      ],
      "execution_count": null,
      "outputs": [
        {
          "output_type": "execute_result",
          "data": {
            "image/png": "[encoded data removed]",
            "text/plain": [
              "<IPython.core.display.Image object>"
            ]
          },
          "metadata": {},
          "execution_count": 38
        }
      ]
    },
    {
      "cell_type": "code",
      "metadata": {
        "id": "Jk5NUm25dZfu"
      },
      "source": [
        "# Let's create a model which builds automatically by defining the input_shape argument\n",
        "tf.random.set_seed(42)\n",
        "\n",
        "# Create the model\n",
        "model = tf.keras.Sequential([\n",
        "                             tf.keras.layers.Dense(1, input_shape=[1]),\n",
        "                             tf.keras.layers.Dense(1)\n",
        "])\n",
        "\n",
        "# Compile the model\n",
        "model.compile(loss=tf.keras.losses.mae,\n",
        "              optimizer=tf.keras.optimizers.SGD(),\n",
        "              metrics=[\"mae\"])"
      ],
      "execution_count": null,
      "outputs": []
    },
    {
      "cell_type": "code",
      "metadata": {
        "colab": {
          "base_uri": "https://localhost:8080/"
        },
        "id": "jVbsVJtMnTF8",
        "outputId": "932cc486-000f-4f10-d30d-cb6fcdde4c2f"
      },
      "source": [
        "model.summary()"
      ],
      "execution_count": null,
      "outputs": [
        {
          "output_type": "stream",
          "name": "stdout",
          "text": [
            "Model: \"sequential_7\"\n",
            "_________________________________________________________________\n",
            "Layer (type)                 Output Shape              Param #   \n",
            "=================================================================\n",
            "dense_11 (Dense)             (None, 1)                 2         \n",
            "_________________________________________________________________\n",
            "dense_12 (Dense)             (None, 1)                 2         \n",
            "=================================================================\n",
            "Total params: 4\n",
            "Trainable params: 4\n",
            "Non-trainable params: 0\n",
            "_________________________________________________________________\n"
          ]
        }
      ]
    },
    {
      "cell_type": "code",
      "metadata": {
        "colab": {
          "base_uri": "https://localhost:8080/",
          "height": 312
        },
        "id": "tZKJKHnfnXbM",
        "outputId": "a30a9366-b66e-426e-91d8-394a17477d53"
      },
      "source": [
        "from tensorflow.keras.utils import plot_model\n",
        "\n",
        "plot_model(model=model, show_shapes=True)"
      ],
      "execution_count": null,
      "outputs": [
        {
          "output_type": "execute_result",
          "data": {
            "image/png": "[encoded data removed]",
            "text/plain": [
              "<IPython.core.display.Image object>"
            ]
          },
          "metadata": {},
          "execution_count": 44
        }
      ]
    },
    {
      "cell_type": "markdown",
      "metadata": {
        "id": "DLwrnqfQnyjE"
      },
      "source": [
        "### Visualizing our model's prediction\n",
        "\n",
        "To visualize predictions, it's a good idea to plot them against the ground truth labels.\n",
        "\n",
        "Ofeten we'll see this in the form of `y_test` or `y_true` versus `y_pred` (ground truth versus your model)"
      ]
    },
    {
      "cell_type": "code",
      "metadata": {
        "colab": {
          "base_uri": "https://localhost:8080/"
        },
        "id": "qmIc5Z_onZ5c",
        "outputId": "4e5dd0e8-d90d-4d37-c982-fe1580f70ba0"
      },
      "source": [
        "# Make some predictions\n",
        "y_pred = model.predict(X_test)\n",
        "y_pred"
      ],
      "execution_count": null,
      "outputs": [
        {
          "output_type": "stream",
          "name": "stdout",
          "text": [
            "WARNING:tensorflow:5 out of the last 5 calls to <function Model.make_predict_function.<locals>.predict_function at 0x7f6b2c2459e0> triggered tf.function retracing. Tracing is expensive and the excessive number of tracings could be due to (1) creating @tf.function repeatedly in a loop, (2) passing tensors with different shapes, (3) passing Python objects instead of tensors. For (1), please define your @tf.function outside of the loop. For (2), @tf.function has experimental_relax_shapes=True option that relaxes argument shapes that can avoid unnecessary retracing. For (3), please refer to https://www.tensorflow.org/guide/function#controlling_retracing and https://www.tensorflow.org/api_docs/python/tf/function for  more details.\n"
          ]
        },
        {
          "output_type": "execute_result",
          "data": {
            "text/plain": [
              "array([[22.26224 ],\n",
              "       [23.746387],\n",
              "       [25.230537],\n",
              "       [26.714685],\n",
              "       [28.198835],\n",
              "       [29.682983],\n",
              "       [31.167135],\n",
              "       [32.651283],\n",
              "       [34.135433],\n",
              "       [35.619583]], dtype=float32)"
            ]
          },
          "metadata": {},
          "execution_count": 45
        }
      ]
    },
    {
      "cell_type": "code",
      "metadata": {
        "colab": {
          "base_uri": "https://localhost:8080/"
        },
        "id": "sqTlFHhcosJb",
        "outputId": "18893b76-bf3a-444a-a66d-0f7aa9e56180"
      },
      "source": [
        "y_test"
      ],
      "execution_count": null,
      "outputs": [
        {
          "output_type": "execute_result",
          "data": {
            "text/plain": [
              "<tf.Tensor: shape=(10,), dtype=int32, numpy=array([ 70,  74,  78,  82,  86,  90,  94,  98, 102, 106], dtype=int32)>"
            ]
          },
          "metadata": {},
          "execution_count": 46
        }
      ]
    },
    {
      "cell_type": "markdown",
      "metadata": {
        "id": "riV2fvJPq8oG"
      },
      "source": [
        "> 🔑 **Note:** If you feel like you're going to reuse some kind of functionality in the future, it's a good idea to turn it into a function"
      ]
    },
    {
      "cell_type": "code",
      "metadata": {
        "id": "YNKsNSkPpObU"
      },
      "source": [
        "# Let's create a plotting function\n",
        "def plot_predictions(train_data=X_train,\n",
        "                     train_labels=y_train,\n",
        "                     test_data=X_test,\n",
        "                     test_labels=y_test,\n",
        "                     predictions=y_pred):\n",
        "  \"\"\"\n",
        "  Plot training data, test data and compare predictions to ground truth labels\n",
        "  \"\"\"\n",
        "  plt.figure(figsize=(10,7))\n",
        "  # Plot training data in blue\n",
        "  plt.scatter(train_data, train_labels, c=\"b\", label=\"Training data\")\n",
        "  # Plot the testing data in green\n",
        "  plt.scatter(test_data, test_labels, c=\"g\", label=\"Testing data\")\n",
        "  # Plot model's predictions in red\n",
        "  plt.scatter(test_data, predictions, c=\"r\", label=\"Predictions\")\n",
        "  # Show the legend\n",
        "  plt.legend();"
      ],
      "execution_count": null,
      "outputs": []
    },
    {
      "cell_type": "code",
      "metadata": {
        "colab": {
          "base_uri": "https://localhost:8080/",
          "height": 428
        },
        "id": "CYkQ_4EBrZeG",
        "outputId": "4c067c44-4eaa-49be-95ad-1630ab6b0a93"
      },
      "source": [
        "plot_predictions()"
      ],
      "execution_count": null,
      "outputs": [
        {
          "output_type": "display_data",
          "data": {
            "image/png": "[encoded data removed]",
            "text/plain": [
              "<Figure size 720x504 with 1 Axes>"
            ]
          },
          "metadata": {
            "needs_background": "light"
          }
        }
      ]
    },
    {
      "cell_type": "markdown",
      "metadata": {
        "id": "NGp-l1cFugTi"
      },
      "source": [
        "### Evaluating our mode's predictions with regression evaluation metrices\n",
        "\n",
        "Depending on the problem you're working on, there will be different evaluation metrics to evaluate your model's performance.\n",
        "\n",
        "Since we're working on a regression, two of the main metrics:\n",
        "* MAE - mean absolute error \"on avarage, how wrong is each of my model's predictions\".\n",
        "* MSE - mean square error, \"square the average errors\"\n"
      ]
    },
    {
      "cell_type": "code",
      "metadata": {
        "colab": {
          "base_uri": "https://localhost:8080/"
        },
        "id": "m4KR530vsO0k",
        "outputId": "01fac8ed-5c86-43ce-de8f-6128f348c208"
      },
      "source": [
        "# Evaluate the model on the test \n",
        "model.evaluate(X_test, y_test)"
      ],
      "execution_count": null,
      "outputs": [
        {
          "output_type": "stream",
          "name": "stdout",
          "text": [
            "1/1 [==============================] - 0s 198ms/step - loss: 59.0591 - mae: 59.0591\n"
          ]
        },
        {
          "output_type": "execute_result",
          "data": {
            "text/plain": [
              "[59.05908966064453, 59.05908966064453]"
            ]
          },
          "metadata": {},
          "execution_count": 49
        }
      ]
    },
    {
      "cell_type": "code",
      "metadata": {
        "colab": {
          "base_uri": "https://localhost:8080/"
        },
        "id": "0bynXMKpxzYD",
        "outputId": "e9efd40c-bef9-4049-91a4-0dd3b3f2c168"
      },
      "source": [
        "# calculate the mean absolute error\n",
        "mae = tf.metrics.mean_absolute_error(y_true=y_test,\n",
        "                                     y_pred=tf.constant(y_pred))\n",
        "mae"
      ],
      "execution_count": null,
      "outputs": [
        {
          "output_type": "execute_result",
          "data": {
            "text/plain": [
              "<tf.Tensor: shape=(10,), dtype=float32, numpy=\n",
              "array([65.73776 , 64.25362 , 62.769463, 61.285316, 59.80116 , 58.317017,\n",
              "       56.832863, 55.348717, 53.864563, 52.38042 ], dtype=float32)>"
            ]
          },
          "metadata": {},
          "execution_count": 59
        }
      ]
    },
    {
      "cell_type": "code",
      "metadata": {
        "colab": {
          "base_uri": "https://localhost:8080/"
        },
        "id": "l5sAM_ffxcfe",
        "outputId": "5ff4b09b-6fbc-48dc-b76b-5f2c58c9a519"
      },
      "source": [
        "y_pred"
      ],
      "execution_count": null,
      "outputs": [
        {
          "output_type": "execute_result",
          "data": {
            "text/plain": [
              "array([[22.26224 ],\n",
              "       [23.746387],\n",
              "       [25.230537],\n",
              "       [26.714685],\n",
              "       [28.198835],\n",
              "       [29.682983],\n",
              "       [31.167135],\n",
              "       [32.651283],\n",
              "       [34.135433],\n",
              "       [35.619583]], dtype=float32)"
            ]
          },
          "metadata": {},
          "execution_count": 60
        }
      ]
    },
    {
      "cell_type": "code",
      "metadata": {
        "colab": {
          "base_uri": "https://localhost:8080/"
        },
        "id": "kJBMfqT1xwkb",
        "outputId": "7d3833c6-9279-462f-e06e-fd3630c740ed"
      },
      "source": [
        "y_test"
      ],
      "execution_count": null,
      "outputs": [
        {
          "output_type": "execute_result",
          "data": {
            "text/plain": [
              "<tf.Tensor: shape=(10,), dtype=int32, numpy=array([ 70,  74,  78,  82,  86,  90,  94,  98, 102, 106], dtype=int32)>"
            ]
          },
          "metadata": {},
          "execution_count": 61
        }
      ]
    },
    {
      "cell_type": "code",
      "metadata": {
        "colab": {
          "base_uri": "https://localhost:8080/"
        },
        "id": "6o8srCd717VD",
        "outputId": "fc805430-b923-48a6-8e9e-bcbc00ed8ed5"
      },
      "source": [
        "y_pred.shape, y_test.shape"
      ],
      "execution_count": null,
      "outputs": [
        {
          "output_type": "execute_result",
          "data": {
            "text/plain": [
              "((10, 1), TensorShape([10]))"
            ]
          },
          "metadata": {},
          "execution_count": 62
        }
      ]
    },
    {
      "cell_type": "markdown",
      "metadata": {
        "id": "gWe5nY662Auu"
      },
      "source": [
        "🔑**Note:** If you're comparing two tensors, it's important to make sure they're the right shape(s) (you won't always have to manipulate the shapes, but always be on the look out, many errors are the result of mismatched tensors, especially mismatched input and output shapes)."
      ]
    },
    {
      "cell_type": "code",
      "metadata": {
        "colab": {
          "base_uri": "https://localhost:8080/"
        },
        "id": "m74070lMxxYj",
        "outputId": "a916219b-0822-42cf-88dc-f497553b5c3b"
      },
      "source": [
        "tf.squeeze(y_pred)"
      ],
      "execution_count": null,
      "outputs": [
        {
          "output_type": "execute_result",
          "data": {
            "text/plain": [
              "<tf.Tensor: shape=(10,), dtype=float32, numpy=\n",
              "array([22.26224 , 23.746387, 25.230537, 26.714685, 28.198835, 29.682983,\n",
              "       31.167135, 32.651283, 34.135433, 35.619583], dtype=float32)>"
            ]
          },
          "metadata": {},
          "execution_count": 63
        }
      ]
    },
    {
      "cell_type": "code",
      "metadata": {
        "colab": {
          "base_uri": "https://localhost:8080/"
        },
        "id": "OnIwyBB4y6aC",
        "outputId": "e1443305-3612-47ef-ec06-594876d2b2a6"
      },
      "source": [
        "# calculate the mean absolute error\n",
        "mae = tf.metrics.mean_absolute_error(y_true=y_test,\n",
        "                                     y_pred=tf.squeeze(y_pred))\n",
        "mae"
      ],
      "execution_count": null,
      "outputs": [
        {
          "output_type": "execute_result",
          "data": {
            "text/plain": [
              "<tf.Tensor: shape=(), dtype=float32, numpy=59.05909>"
            ]
          },
          "metadata": {},
          "execution_count": 64
        }
      ]
    },
    {
      "cell_type": "code",
      "metadata": {
        "colab": {
          "base_uri": "https://localhost:8080/"
        },
        "id": "Z2fvxOg6y-5z",
        "outputId": "a84a7fc4-33f0-404e-9062-81c23fef7319"
      },
      "source": [
        "mse = tf.keras.metrics.mean_squared_error(y_true=y_test,\n",
        "                                          y_pred=tf.squeeze(y_pred))\n",
        "mse"
      ],
      "execution_count": null,
      "outputs": [
        {
          "output_type": "execute_result",
          "data": {
            "text/plain": [
              "<tf.Tensor: shape=(), dtype=float32, numpy=3540.1946>"
            ]
          },
          "metadata": {},
          "execution_count": 65
        }
      ]
    },
    {
      "cell_type": "code",
      "metadata": {
        "id": "m7HIoqSvzpHc"
      },
      "source": [
        "# Make some functions to reuse MAE and MSE\n",
        "def mae(y_test, y_pred):\n",
        "  return tf.metrics.mean_absolute_error(y_true=y_test,\n",
        "                                     y_pred=tf.squeeze(y_pred))\n",
        "  \n",
        "def mse(y_test, y_pred):\n",
        "  return tf.metrics.mean_squared_error(y_true=y_test,\n",
        "                                     y_pred=tf.squeeze(y_pred))"
      ],
      "execution_count": null,
      "outputs": []
    },
    {
      "cell_type": "code",
      "metadata": {
        "colab": {
          "base_uri": "https://localhost:8080/"
        },
        "id": "m73sH2MQ0QsK",
        "outputId": "68ab6208-027e-4006-bc3e-1c5cb6cfa777"
      },
      "source": [
        "mae(y_test,y_pred)"
      ],
      "execution_count": null,
      "outputs": [
        {
          "output_type": "execute_result",
          "data": {
            "text/plain": [
              "<tf.Tensor: shape=(), dtype=float32, numpy=59.05909>"
            ]
          },
          "metadata": {},
          "execution_count": 67
        }
      ]
    },
    {
      "cell_type": "code",
      "metadata": {
        "colab": {
          "base_uri": "https://localhost:8080/"
        },
        "id": "f4CYY2cv0iOy",
        "outputId": "50e5d7e6-7350-459f-b03a-c1c2959046a8"
      },
      "source": [
        "mse(y_test,y_pred)"
      ],
      "execution_count": null,
      "outputs": [
        {
          "output_type": "execute_result",
          "data": {
            "text/plain": [
              "<tf.Tensor: shape=(), dtype=float32, numpy=3540.1946>"
            ]
          },
          "metadata": {},
          "execution_count": 68
        }
      ]
    },
    {
      "cell_type": "markdown",
      "metadata": {
        "id": "1GCeli311J_w"
      },
      "source": [
        "### Running experiments to improve a model\n",
        "\n",
        "After seeing the evaluation metrics and the predictions your model makes, it's likely you'll want to improve it.\n",
        "\n",
        "Again, there are many different ways you can do this, but 3 of the main ones are:\n",
        "1. **Get more data** - get more examples for your model to train on (more opportunities to learn patterns).\n",
        "2. **Make your model larger (use a more complex model)** - this might come in the form of more layers or more hidden units in each layer.\n",
        "3. **Train for longer**- give your model more of a chance to find the patterns in the data.\n",
        "\n",
        "Since we created our dataset, we could easily make more data but this isn't always the case when you're working with real-world datasets.\n",
        "\n",
        "So let's take a look at how we can improve our model using 2 and 3.\n",
        "\n",
        "To do so, we'll build 3 models and compare their results:\n",
        "\n",
        "1. `model_1` - same as original model, 1 layer, trained for 100 epochs.\n",
        "2. `model_2` - 2 layers, trained for 100 epochs.\n",
        "3. `model_3` - 2 layers, trained for 500 epochs.\n",
        "\n"
      ]
    },
    {
      "cell_type": "markdown",
      "metadata": {
        "id": "CFThMDVA3XkD"
      },
      "source": [
        "#### **Build `model_1`**"
      ]
    },
    {
      "cell_type": "code",
      "metadata": {
        "colab": {
          "base_uri": "https://localhost:8080/"
        },
        "id": "g0BwxG8Y0rNu",
        "outputId": "e4ef267c-dc81-4dcc-aac1-ae55a3f9c67b"
      },
      "source": [
        "# Let's create a model which builds automatically by defining the input_shape argument\n",
        "tf.random.set_seed(42)\n",
        "\n",
        "# Create the model\n",
        "model_1 = tf.keras.Sequential([\n",
        "                             tf.keras.layers.Dense(1)\n",
        "])\n",
        "\n",
        "# Compile the model\n",
        "model_1.compile(loss=tf.keras.losses.mae,\n",
        "              optimizer=tf.keras.optimizers.SGD(),\n",
        "              metrics=[\"mae\"])\n",
        "\n",
        "# Fit the model\n",
        "model_1.fit(X_train, y_train, epochs=100)"
      ],
      "execution_count": null,
      "outputs": [
        {
          "output_type": "stream",
          "name": "stdout",
          "text": [
            "Epoch 1/100\n",
            "2/2 [==============================] - 0s 6ms/step - loss: 15.9024 - mae: 15.9024\n",
            "Epoch 2/100\n",
            "2/2 [==============================] - 0s 6ms/step - loss: 11.2837 - mae: 11.2837\n",
            "Epoch 3/100\n",
            "2/2 [==============================] - 0s 4ms/step - loss: 11.1074 - mae: 11.1074\n",
            "Epoch 4/100\n",
            "2/2 [==============================] - 0s 4ms/step - loss: 9.2991 - mae: 9.2991\n",
            "Epoch 5/100\n",
            "2/2 [==============================] - 0s 5ms/step - loss: 10.1677 - mae: 10.1677\n",
            "Epoch 6/100\n",
            "2/2 [==============================] - 0s 5ms/step - loss: 9.4303 - mae: 9.4303\n",
            "Epoch 7/100\n",
            "2/2 [==============================] - 0s 6ms/step - loss: 8.5704 - mae: 8.5704\n",
            "Epoch 8/100\n",
            "2/2 [==============================] - 0s 7ms/step - loss: 9.0442 - mae: 9.0442\n",
            "Epoch 9/100\n",
            "2/2 [==============================] - 0s 3ms/step - loss: 18.7517 - mae: 18.7517\n",
            "Epoch 10/100\n",
            "2/2 [==============================] - 0s 4ms/step - loss: 10.1142 - mae: 10.1142\n",
            "Epoch 11/100\n",
            "2/2 [==============================] - 0s 8ms/step - loss: 8.3980 - mae: 8.3980\n",
            "Epoch 12/100\n",
            "2/2 [==============================] - 0s 6ms/step - loss: 10.6639 - mae: 10.6639\n",
            "Epoch 13/100\n",
            "2/2 [==============================] - 0s 6ms/step - loss: 9.7977 - mae: 9.7977\n",
            "Epoch 14/100\n",
            "2/2 [==============================] - 0s 6ms/step - loss: 16.0103 - mae: 16.0103\n",
            "Epoch 15/100\n",
            "2/2 [==============================] - 0s 4ms/step - loss: 11.4068 - mae: 11.4068\n",
            "Epoch 16/100\n",
            "2/2 [==============================] - 0s 7ms/step - loss: 8.5393 - mae: 8.5393\n",
            "Epoch 17/100\n",
            "2/2 [==============================] - 0s 10ms/step - loss: 13.6348 - mae: 13.6348\n",
            "Epoch 18/100\n",
            "2/2 [==============================] - 0s 9ms/step - loss: 11.4629 - mae: 11.4629\n",
            "Epoch 19/100\n",
            "2/2 [==============================] - 0s 7ms/step - loss: 17.9148 - mae: 17.9148\n",
            "Epoch 20/100\n",
            "2/2 [==============================] - 0s 4ms/step - loss: 15.0494 - mae: 15.0494\n",
            "Epoch 21/100\n",
            "2/2 [==============================] - 0s 4ms/step - loss: 11.0216 - mae: 11.0216\n",
            "Epoch 22/100\n",
            "2/2 [==============================] - 0s 5ms/step - loss: 8.1558 - mae: 8.1558\n",
            "Epoch 23/100\n",
            "2/2 [==============================] - 0s 4ms/step - loss: 9.5138 - mae: 9.5138\n",
            "Epoch 24/100\n",
            "2/2 [==============================] - 0s 3ms/step - loss: 7.6617 - mae: 7.6617\n",
            "Epoch 25/100\n",
            "2/2 [==============================] - 0s 4ms/step - loss: 13.1859 - mae: 13.1859\n",
            "Epoch 26/100\n",
            "2/2 [==============================] - 0s 4ms/step - loss: 16.4211 - mae: 16.4211\n",
            "Epoch 27/100\n",
            "2/2 [==============================] - 0s 4ms/step - loss: 13.1660 - mae: 13.1660\n",
            "Epoch 28/100\n",
            "2/2 [==============================] - 0s 3ms/step - loss: 14.2559 - mae: 14.2559\n",
            "Epoch 29/100\n",
            "2/2 [==============================] - 0s 7ms/step - loss: 10.0670 - mae: 10.0670\n",
            "Epoch 30/100\n",
            "2/2 [==============================] - 0s 9ms/step - loss: 16.3409 - mae: 16.3409\n",
            "Epoch 31/100\n",
            "2/2 [==============================] - 0s 6ms/step - loss: 23.6444 - mae: 23.6444\n",
            "Epoch 32/100\n",
            "2/2 [==============================] - 0s 11ms/step - loss: 7.6215 - mae: 7.6215\n",
            "Epoch 33/100\n",
            "2/2 [==============================] - 0s 8ms/step - loss: 9.3221 - mae: 9.3221\n",
            "Epoch 34/100\n",
            "2/2 [==============================] - 0s 8ms/step - loss: 13.7313 - mae: 13.7313\n",
            "Epoch 35/100\n",
            "2/2 [==============================] - 0s 4ms/step - loss: 11.1276 - mae: 11.1276\n",
            "Epoch 36/100\n",
            "2/2 [==============================] - 0s 4ms/step - loss: 13.3222 - mae: 13.3222\n",
            "Epoch 37/100\n",
            "2/2 [==============================] - 0s 4ms/step - loss: 9.4763 - mae: 9.4763\n",
            "Epoch 38/100\n",
            "2/2 [==============================] - 0s 4ms/step - loss: 10.1381 - mae: 10.1381\n",
            "Epoch 39/100\n",
            "2/2 [==============================] - 0s 5ms/step - loss: 10.1793 - mae: 10.1793\n",
            "Epoch 40/100\n",
            "2/2 [==============================] - 0s 3ms/step - loss: 10.9137 - mae: 10.9137\n",
            "Epoch 41/100\n",
            "2/2 [==============================] - 0s 4ms/step - loss: 7.9063 - mae: 7.9063\n",
            "Epoch 42/100\n",
            "2/2 [==============================] - 0s 7ms/step - loss: 10.0914 - mae: 10.0914\n",
            "Epoch 43/100\n",
            "2/2 [==============================] - 0s 6ms/step - loss: 8.7006 - mae: 8.7006\n",
            "Epoch 44/100\n",
            "2/2 [==============================] - 0s 6ms/step - loss: 12.2047 - mae: 12.2047\n",
            "Epoch 45/100\n",
            "2/2 [==============================] - 0s 4ms/step - loss: 13.7970 - mae: 13.7970\n",
            "Epoch 46/100\n",
            "2/2 [==============================] - 0s 4ms/step - loss: 8.4687 - mae: 8.4687\n",
            "Epoch 47/100\n",
            "2/2 [==============================] - 0s 7ms/step - loss: 9.1330 - mae: 9.1330\n",
            "Epoch 48/100\n",
            "2/2 [==============================] - 0s 4ms/step - loss: 10.6190 - mae: 10.6190\n",
            "Epoch 49/100\n",
            "2/2 [==============================] - 0s 4ms/step - loss: 7.7503 - mae: 7.7503\n",
            "Epoch 50/100\n",
            "2/2 [==============================] - 0s 6ms/step - loss: 9.5407 - mae: 9.5407\n",
            "Epoch 51/100\n",
            "2/2 [==============================] - 0s 4ms/step - loss: 9.1584 - mae: 9.1584\n",
            "Epoch 52/100\n",
            "2/2 [==============================] - 0s 3ms/step - loss: 16.3630 - mae: 16.3630\n",
            "Epoch 53/100\n",
            "2/2 [==============================] - 0s 6ms/step - loss: 14.1299 - mae: 14.1299\n",
            "Epoch 54/100\n",
            "2/2 [==============================] - 0s 5ms/step - loss: 21.1247 - mae: 21.1247\n",
            "Epoch 55/100\n",
            "2/2 [==============================] - 0s 4ms/step - loss: 16.3961 - mae: 16.3961\n",
            "Epoch 56/100\n",
            "2/2 [==============================] - 0s 4ms/step - loss: 9.9806 - mae: 9.9806\n",
            "Epoch 57/100\n",
            "2/2 [==============================] - 0s 4ms/step - loss: 9.9606 - mae: 9.9606\n",
            "Epoch 58/100\n",
            "2/2 [==============================] - 0s 4ms/step - loss: 9.2209 - mae: 9.2209\n",
            "Epoch 59/100\n",
            "2/2 [==============================] - 0s 6ms/step - loss: 8.4239 - mae: 8.4239\n",
            "Epoch 60/100\n",
            "2/2 [==============================] - 0s 4ms/step - loss: 9.4869 - mae: 9.4869\n",
            "Epoch 61/100\n",
            "2/2 [==============================] - 0s 5ms/step - loss: 11.4355 - mae: 11.4355\n",
            "Epoch 62/100\n",
            "2/2 [==============================] - 0s 5ms/step - loss: 11.6887 - mae: 11.6887\n",
            "Epoch 63/100\n",
            "2/2 [==============================] - 0s 4ms/step - loss: 7.0838 - mae: 7.0838\n",
            "Epoch 64/100\n",
            "2/2 [==============================] - 0s 4ms/step - loss: 16.9675 - mae: 16.9675\n",
            "Epoch 65/100\n",
            "2/2 [==============================] - 0s 5ms/step - loss: 12.4599 - mae: 12.4599\n",
            "Epoch 66/100\n",
            "2/2 [==============================] - 0s 5ms/step - loss: 13.0184 - mae: 13.0184\n",
            "Epoch 67/100\n",
            "2/2 [==============================] - 0s 4ms/step - loss: 8.0600 - mae: 8.0600\n",
            "Epoch 68/100\n",
            "2/2 [==============================] - 0s 6ms/step - loss: 10.1888 - mae: 10.1888\n",
            "Epoch 69/100\n",
            "2/2 [==============================] - 0s 6ms/step - loss: 12.3633 - mae: 12.3633\n",
            "Epoch 70/100\n",
            "2/2 [==============================] - 0s 7ms/step - loss: 9.0516 - mae: 9.0516\n",
            "Epoch 71/100\n",
            "2/2 [==============================] - 0s 6ms/step - loss: 10.0378 - mae: 10.0378\n",
            "Epoch 72/100\n",
            "2/2 [==============================] - 0s 8ms/step - loss: 10.0516 - mae: 10.0516\n",
            "Epoch 73/100\n",
            "2/2 [==============================] - 0s 4ms/step - loss: 12.6151 - mae: 12.6151\n",
            "Epoch 74/100\n",
            "2/2 [==============================] - 0s 6ms/step - loss: 10.3819 - mae: 10.3819\n",
            "Epoch 75/100\n",
            "2/2 [==============================] - 0s 6ms/step - loss: 9.7229 - mae: 9.7229\n",
            "Epoch 76/100\n",
            "2/2 [==============================] - 0s 6ms/step - loss: 11.2252 - mae: 11.2252\n",
            "Epoch 77/100\n",
            "2/2 [==============================] - 0s 6ms/step - loss: 8.3642 - mae: 8.3642\n",
            "Epoch 78/100\n",
            "2/2 [==============================] - 0s 7ms/step - loss: 9.1274 - mae: 9.1274\n",
            "Epoch 79/100\n",
            "2/2 [==============================] - 0s 5ms/step - loss: 19.5039 - mae: 19.5039\n",
            "Epoch 80/100\n",
            "2/2 [==============================] - 0s 5ms/step - loss: 14.8945 - mae: 14.8945\n",
            "Epoch 81/100\n",
            "2/2 [==============================] - 0s 4ms/step - loss: 9.0034 - mae: 9.0034\n",
            "Epoch 82/100\n",
            "2/2 [==============================] - 0s 3ms/step - loss: 13.0206 - mae: 13.0206\n",
            "Epoch 83/100\n",
            "2/2 [==============================] - 0s 4ms/step - loss: 7.9299 - mae: 7.9299\n",
            "Epoch 84/100\n",
            "2/2 [==============================] - 0s 4ms/step - loss: 7.6872 - mae: 7.6872\n",
            "Epoch 85/100\n",
            "2/2 [==============================] - 0s 5ms/step - loss: 10.0328 - mae: 10.0328\n",
            "Epoch 86/100\n",
            "2/2 [==============================] - 0s 4ms/step - loss: 9.2433 - mae: 9.2433\n",
            "Epoch 87/100\n",
            "2/2 [==============================] - 0s 5ms/step - loss: 12.0209 - mae: 12.0209\n",
            "Epoch 88/100\n",
            "2/2 [==============================] - 0s 5ms/step - loss: 10.6389 - mae: 10.6389\n",
            "Epoch 89/100\n",
            "2/2 [==============================] - 0s 11ms/step - loss: 7.2667 - mae: 7.2667\n",
            "Epoch 90/100\n",
            "2/2 [==============================] - 0s 5ms/step - loss: 12.7786 - mae: 12.7786\n",
            "Epoch 91/100\n",
            "2/2 [==============================] - 0s 5ms/step - loss: 7.3481 - mae: 7.3481\n",
            "Epoch 92/100\n",
            "2/2 [==============================] - 0s 5ms/step - loss: 7.7175 - mae: 7.7175\n",
            "Epoch 93/100\n",
            "2/2 [==============================] - 0s 4ms/step - loss: 7.1263 - mae: 7.1263\n",
            "Epoch 94/100\n",
            "2/2 [==============================] - 0s 6ms/step - loss: 12.6190 - mae: 12.6190\n",
            "Epoch 95/100\n",
            "2/2 [==============================] - 0s 5ms/step - loss: 10.0912 - mae: 10.0912\n",
            "Epoch 96/100\n",
            "2/2 [==============================] - 0s 5ms/step - loss: 9.3558 - mae: 9.3558\n",
            "Epoch 97/100\n",
            "2/2 [==============================] - 0s 5ms/step - loss: 12.6834 - mae: 12.6834\n",
            "Epoch 98/100\n",
            "2/2 [==============================] - 0s 17ms/step - loss: 8.6762 - mae: 8.6762\n",
            "Epoch 99/100\n",
            "2/2 [==============================] - 0s 10ms/step - loss: 9.4693 - mae: 9.4693\n",
            "Epoch 100/100\n",
            "2/2 [==============================] - 0s 7ms/step - loss: 8.7067 - mae: 8.7067\n"
          ]
        },
        {
          "output_type": "execute_result",
          "data": {
            "text/plain": [
              "<keras.callbacks.History at 0x7f6b2bd643d0>"
            ]
          },
          "metadata": {},
          "execution_count": 69
        }
      ]
    },
    {
      "cell_type": "code",
      "metadata": {
        "colab": {
          "base_uri": "https://localhost:8080/",
          "height": 428
        },
        "id": "sZboGe8I2WO1",
        "outputId": "966f5fdf-cf9b-4558-d227-452aea0512e5"
      },
      "source": [
        "# Make and plot predictions for model_1\n",
        "y_preds_1 = model_1.predict(X_test)\n",
        "plot_predictions(predictions=y_preds_1)"
      ],
      "execution_count": null,
      "outputs": [
        {
          "output_type": "display_data",
          "data": {
            "image/png": "[encoded data removed]",
            "text/plain": [
              "<Figure size 720x504 with 1 Axes>"
            ]
          },
          "metadata": {
            "needs_background": "light"
          }
        }
      ]
    },
    {
      "cell_type": "code",
      "metadata": {
        "colab": {
          "base_uri": "https://localhost:8080/"
        },
        "id": "tbN_WuYc25Gb",
        "outputId": "efde432a-1730-4866-afe0-3f4bb443affc"
      },
      "source": [
        "# Calculate model_1 metrics\n",
        "mae_1 = mae(y_test, y_preds_1)\n",
        "mse_1 = mse(y_test, y_preds_1)\n",
        "mae_1, mse_1"
      ],
      "execution_count": null,
      "outputs": [
        {
          "output_type": "execute_result",
          "data": {
            "text/plain": [
              "(<tf.Tensor: shape=(), dtype=float32, numpy=18.745327>,\n",
              " <tf.Tensor: shape=(), dtype=float32, numpy=353.57336>)"
            ]
          },
          "metadata": {},
          "execution_count": 72
        }
      ]
    },
    {
      "cell_type": "markdown",
      "metadata": {
        "id": "XFVtFoop3UT-"
      },
      "source": [
        "#### Build `model_2`**"
      ]
    },
    {
      "cell_type": "code",
      "metadata": {
        "colab": {
          "base_uri": "https://localhost:8080/"
        },
        "id": "cPNPNiwF2-Sx",
        "outputId": "6c1ccdab-1bce-4254-f860-853d0d63a806"
      },
      "source": [
        "# Let's create a model which builds automatically by defining the input_shape argument\n",
        "tf.random.set_seed(42)\n",
        "\n",
        "# Create the model\n",
        "model_2 = tf.keras.Sequential([\n",
        "                             tf.keras.layers.Dense(10),\n",
        "                             tf.keras.layers.Dense(1)\n",
        "])\n",
        "\n",
        "# Compile the model\n",
        "model_2.compile(loss=tf.keras.losses.mae,\n",
        "              optimizer=tf.keras.optimizers.SGD(),\n",
        "              metrics=[\"mae\"])\n",
        "\n",
        "# Fit the model\n",
        "model_2.fit(X_train, y_train, epochs=100)"
      ],
      "execution_count": null,
      "outputs": [
        {
          "output_type": "stream",
          "name": "stdout",
          "text": [
            "Epoch 1/100\n",
            "2/2 [==============================] - 0s 7ms/step - loss: 27.4058 - mae: 27.4058\n",
            "Epoch 2/100\n",
            "2/2 [==============================] - 0s 8ms/step - loss: 24.6339 - mae: 24.6339\n",
            "Epoch 3/100\n",
            "2/2 [==============================] - 0s 4ms/step - loss: 29.8935 - mae: 29.8935\n",
            "Epoch 4/100\n",
            "2/2 [==============================] - 0s 4ms/step - loss: 27.4055 - mae: 27.4055\n",
            "Epoch 5/100\n",
            "2/2 [==============================] - 0s 5ms/step - loss: 14.9463 - mae: 14.9463\n",
            "Epoch 6/100\n",
            "2/2 [==============================] - 0s 6ms/step - loss: 11.8819 - mae: 11.8819\n",
            "Epoch 7/100\n",
            "2/2 [==============================] - 0s 5ms/step - loss: 11.1988 - mae: 11.1988\n",
            "Epoch 8/100\n",
            "2/2 [==============================] - 0s 8ms/step - loss: 11.0910 - mae: 11.0910\n",
            "Epoch 9/100\n",
            "2/2 [==============================] - 0s 4ms/step - loss: 40.4763 - mae: 40.4763\n",
            "Epoch 10/100\n",
            "2/2 [==============================] - 0s 3ms/step - loss: 27.8688 - mae: 27.8688\n",
            "Epoch 11/100\n",
            "2/2 [==============================] - 0s 3ms/step - loss: 10.2473 - mae: 10.2473\n",
            "Epoch 12/100\n",
            "2/2 [==============================] - 0s 4ms/step - loss: 25.2803 - mae: 25.2803\n",
            "Epoch 13/100\n",
            "2/2 [==============================] - 0s 3ms/step - loss: 16.9897 - mae: 16.9897\n",
            "Epoch 14/100\n",
            "2/2 [==============================] - 0s 6ms/step - loss: 25.9217 - mae: 25.9217\n",
            "Epoch 15/100\n",
            "2/2 [==============================] - 0s 7ms/step - loss: 17.9948 - mae: 17.9948\n",
            "Epoch 16/100\n",
            "2/2 [==============================] - 0s 10ms/step - loss: 7.3510 - mae: 7.3510\n",
            "Epoch 17/100\n",
            "2/2 [==============================] - 0s 9ms/step - loss: 10.8636 - mae: 10.8636\n",
            "Epoch 18/100\n",
            "2/2 [==============================] - 0s 3ms/step - loss: 19.5304 - mae: 19.5304\n",
            "Epoch 19/100\n",
            "2/2 [==============================] - 0s 12ms/step - loss: 10.3469 - mae: 10.3469\n",
            "Epoch 20/100\n",
            "2/2 [==============================] - 0s 7ms/step - loss: 17.6985 - mae: 17.6985\n",
            "Epoch 21/100\n",
            "2/2 [==============================] - 0s 9ms/step - loss: 15.8984 - mae: 15.8984\n",
            "Epoch 22/100\n",
            "2/2 [==============================] - 0s 10ms/step - loss: 14.1991 - mae: 14.1991\n",
            "Epoch 23/100\n",
            "2/2 [==============================] - 0s 5ms/step - loss: 8.7720 - mae: 8.7720\n",
            "Epoch 24/100\n",
            "2/2 [==============================] - 0s 4ms/step - loss: 11.0570 - mae: 11.0570\n",
            "Epoch 25/100\n",
            "2/2 [==============================] - 0s 4ms/step - loss: 12.6838 - mae: 12.6838\n",
            "Epoch 26/100\n",
            "2/2 [==============================] - 0s 4ms/step - loss: 26.1877 - mae: 26.1877\n",
            "Epoch 27/100\n",
            "2/2 [==============================] - 0s 4ms/step - loss: 11.7432 - mae: 11.7432\n",
            "Epoch 28/100\n",
            "2/2 [==============================] - 0s 4ms/step - loss: 22.8730 - mae: 22.8730\n",
            "Epoch 29/100\n",
            "2/2 [==============================] - 0s 6ms/step - loss: 9.2459 - mae: 9.2459\n",
            "Epoch 30/100\n",
            "2/2 [==============================] - 0s 19ms/step - loss: 29.2641 - mae: 29.2641\n",
            "Epoch 31/100\n",
            "2/2 [==============================] - 0s 4ms/step - loss: 53.0225 - mae: 53.0225\n",
            "Epoch 32/100\n",
            "2/2 [==============================] - 0s 4ms/step - loss: 11.9951 - mae: 11.9951\n",
            "Epoch 33/100\n",
            "2/2 [==============================] - 0s 7ms/step - loss: 15.6357 - mae: 15.6357\n",
            "Epoch 34/100\n",
            "2/2 [==============================] - 0s 4ms/step - loss: 12.6925 - mae: 12.6925\n",
            "Epoch 35/100\n",
            "2/2 [==============================] - 0s 6ms/step - loss: 9.2398 - mae: 9.2398\n",
            "Epoch 36/100\n",
            "2/2 [==============================] - 0s 5ms/step - loss: 16.6497 - mae: 16.6497\n",
            "Epoch 37/100\n",
            "2/2 [==============================] - 0s 6ms/step - loss: 11.0382 - mae: 11.0382\n",
            "Epoch 38/100\n",
            "2/2 [==============================] - 0s 4ms/step - loss: 18.1634 - mae: 18.1634\n",
            "Epoch 39/100\n",
            "2/2 [==============================] - 0s 5ms/step - loss: 19.1013 - mae: 19.1013\n",
            "Epoch 40/100\n",
            "2/2 [==============================] - 0s 22ms/step - loss: 20.4324 - mae: 20.4324\n",
            "Epoch 41/100\n",
            "2/2 [==============================] - 0s 4ms/step - loss: 14.9102 - mae: 14.9102\n",
            "Epoch 42/100\n",
            "2/2 [==============================] - 0s 10ms/step - loss: 12.2809 - mae: 12.2809\n",
            "Epoch 43/100\n",
            "2/2 [==============================] - 0s 9ms/step - loss: 10.7333 - mae: 10.7333\n",
            "Epoch 44/100\n",
            "2/2 [==============================] - 0s 8ms/step - loss: 23.0260 - mae: 23.0260\n",
            "Epoch 45/100\n",
            "2/2 [==============================] - 0s 9ms/step - loss: 10.3897 - mae: 10.3897\n",
            "Epoch 46/100\n",
            "2/2 [==============================] - 0s 10ms/step - loss: 11.7904 - mae: 11.7904\n",
            "Epoch 47/100\n",
            "2/2 [==============================] - 0s 7ms/step - loss: 9.6438 - mae: 9.6438\n",
            "Epoch 48/100\n",
            "2/2 [==============================] - 0s 7ms/step - loss: 17.2335 - mae: 17.2335\n",
            "Epoch 49/100\n",
            "2/2 [==============================] - 0s 6ms/step - loss: 9.5729 - mae: 9.5729\n",
            "Epoch 50/100\n",
            "2/2 [==============================] - 0s 8ms/step - loss: 13.8185 - mae: 13.8185\n",
            "Epoch 51/100\n",
            "2/2 [==============================] - 0s 7ms/step - loss: 11.5958 - mae: 11.5958\n",
            "Epoch 52/100\n",
            "2/2 [==============================] - 0s 4ms/step - loss: 30.5538 - mae: 30.5538\n",
            "Epoch 53/100\n",
            "2/2 [==============================] - 0s 4ms/step - loss: 14.3541 - mae: 14.3541\n",
            "Epoch 54/100\n",
            "2/2 [==============================] - 0s 7ms/step - loss: 23.9713 - mae: 23.9713\n",
            "Epoch 55/100\n",
            "2/2 [==============================] - 0s 15ms/step - loss: 23.1938 - mae: 23.1938\n",
            "Epoch 56/100\n",
            "2/2 [==============================] - 0s 16ms/step - loss: 10.8837 - mae: 10.8837\n",
            "Epoch 57/100\n",
            "2/2 [==============================] - 0s 13ms/step - loss: 12.7445 - mae: 12.7445\n",
            "Epoch 58/100\n",
            "2/2 [==============================] - 0s 7ms/step - loss: 9.5995 - mae: 9.5995\n",
            "Epoch 59/100\n",
            "2/2 [==============================] - 0s 4ms/step - loss: 12.5172 - mae: 12.5172\n",
            "Epoch 60/100\n",
            "2/2 [==============================] - 0s 11ms/step - loss: 12.3200 - mae: 12.3200\n",
            "Epoch 61/100\n",
            "2/2 [==============================] - 0s 7ms/step - loss: 17.4604 - mae: 17.4604\n",
            "Epoch 62/100\n",
            "2/2 [==============================] - 0s 7ms/step - loss: 10.6052 - mae: 10.6052\n",
            "Epoch 63/100\n",
            "2/2 [==============================] - 0s 8ms/step - loss: 10.4893 - mae: 10.4893\n",
            "Epoch 64/100\n",
            "2/2 [==============================] - 0s 10ms/step - loss: 24.8450 - mae: 24.8450\n",
            "Epoch 65/100\n",
            "2/2 [==============================] - 0s 7ms/step - loss: 10.6761 - mae: 10.6761\n",
            "Epoch 66/100\n",
            "2/2 [==============================] - 0s 11ms/step - loss: 21.7809 - mae: 21.7809\n",
            "Epoch 67/100\n",
            "2/2 [==============================] - 0s 8ms/step - loss: 10.7136 - mae: 10.7136\n",
            "Epoch 68/100\n",
            "2/2 [==============================] - 0s 7ms/step - loss: 10.6397 - mae: 10.6397\n",
            "Epoch 69/100\n",
            "2/2 [==============================] - 0s 9ms/step - loss: 22.6914 - mae: 22.6914\n",
            "Epoch 70/100\n",
            "2/2 [==============================] - 0s 5ms/step - loss: 9.3316 - mae: 9.3316\n",
            "Epoch 71/100\n",
            "2/2 [==============================] - 0s 6ms/step - loss: 15.4355 - mae: 15.4355\n",
            "Epoch 72/100\n",
            "2/2 [==============================] - 0s 7ms/step - loss: 6.7437 - mae: 6.7437\n",
            "Epoch 73/100\n",
            "2/2 [==============================] - 0s 5ms/step - loss: 11.6891 - mae: 11.6891\n",
            "Epoch 74/100\n",
            "2/2 [==============================] - 0s 5ms/step - loss: 24.0400 - mae: 24.0400\n",
            "Epoch 75/100\n",
            "2/2 [==============================] - 0s 8ms/step - loss: 9.5896 - mae: 9.5896\n",
            "Epoch 76/100\n",
            "2/2 [==============================] - 0s 9ms/step - loss: 12.4371 - mae: 12.4371\n",
            "Epoch 77/100\n",
            "2/2 [==============================] - 0s 5ms/step - loss: 16.6489 - mae: 16.6489\n",
            "Epoch 78/100\n",
            "2/2 [==============================] - 0s 5ms/step - loss: 9.0614 - mae: 9.0614\n",
            "Epoch 79/100\n",
            "2/2 [==============================] - 0s 6ms/step - loss: 23.9675 - mae: 23.9675\n",
            "Epoch 80/100\n",
            "2/2 [==============================] - 0s 6ms/step - loss: 26.7463 - mae: 26.7463\n",
            "Epoch 81/100\n",
            "2/2 [==============================] - 0s 6ms/step - loss: 11.6714 - mae: 11.6714\n",
            "Epoch 82/100\n",
            "2/2 [==============================] - 0s 4ms/step - loss: 12.0228 - mae: 12.0228\n",
            "Epoch 83/100\n",
            "2/2 [==============================] - 0s 7ms/step - loss: 17.4218 - mae: 17.4218\n",
            "Epoch 84/100\n",
            "2/2 [==============================] - 0s 4ms/step - loss: 7.2629 - mae: 7.2629\n",
            "Epoch 85/100\n",
            "2/2 [==============================] - 0s 5ms/step - loss: 14.9650 - mae: 14.9650\n",
            "Epoch 86/100\n",
            "2/2 [==============================] - 0s 5ms/step - loss: 15.2862 - mae: 15.2862\n",
            "Epoch 87/100\n",
            "2/2 [==============================] - 0s 4ms/step - loss: 19.1086 - mae: 19.1086\n",
            "Epoch 88/100\n",
            "2/2 [==============================] - 0s 12ms/step - loss: 29.8229 - mae: 29.8229\n",
            "Epoch 89/100\n",
            "2/2 [==============================] - 0s 6ms/step - loss: 10.1742 - mae: 10.1742\n",
            "Epoch 90/100\n",
            "2/2 [==============================] - 0s 4ms/step - loss: 21.5240 - mae: 21.5240\n",
            "Epoch 91/100\n",
            "2/2 [==============================] - 0s 4ms/step - loss: 10.5716 - mae: 10.5716\n",
            "Epoch 92/100\n",
            "2/2 [==============================] - 0s 4ms/step - loss: 18.3977 - mae: 18.3977\n",
            "Epoch 93/100\n",
            "2/2 [==============================] - 0s 5ms/step - loss: 7.4138 - mae: 7.4138\n",
            "Epoch 94/100\n",
            "2/2 [==============================] - 0s 4ms/step - loss: 17.7380 - mae: 17.7380\n",
            "Epoch 95/100\n",
            "2/2 [==============================] - 0s 5ms/step - loss: 11.1144 - mae: 11.1144\n",
            "Epoch 96/100\n",
            "2/2 [==============================] - 0s 10ms/step - loss: 19.4346 - mae: 19.4346\n",
            "Epoch 97/100\n",
            "2/2 [==============================] - 0s 4ms/step - loss: 12.1593 - mae: 12.1593\n",
            "Epoch 98/100\n",
            "2/2 [==============================] - 0s 5ms/step - loss: 11.5653 - mae: 11.5653\n",
            "Epoch 99/100\n",
            "2/2 [==============================] - 0s 4ms/step - loss: 13.8827 - mae: 13.8827\n",
            "Epoch 100/100\n",
            "2/2 [==============================] - 0s 4ms/step - loss: 20.2277 - mae: 20.2277\n"
          ]
        },
        {
          "output_type": "execute_result",
          "data": {
            "text/plain": [
              "<keras.callbacks.History at 0x7f6b83159050>"
            ]
          },
          "metadata": {},
          "execution_count": 73
        }
      ]
    },
    {
      "cell_type": "code",
      "metadata": {
        "colab": {
          "base_uri": "https://localhost:8080/",
          "height": 428
        },
        "id": "5xOQt5Zw3p56",
        "outputId": "e99aecd6-09d7-4ac0-9d07-4df228017cd1"
      },
      "source": [
        "# Make and plot predictions for model_1\n",
        "y_preds_2 = model_2.predict(X_test)\n",
        "plot_predictions(predictions=y_preds_2)"
      ],
      "execution_count": null,
      "outputs": [
        {
          "output_type": "display_data",
          "data": {
            "image/png": "[encoded data removed]",
            "text/plain": [
              "<Figure size 720x504 with 1 Axes>"
            ]
          },
          "metadata": {
            "needs_background": "light"
          }
        }
      ]
    },
    {
      "cell_type": "code",
      "metadata": {
        "colab": {
          "base_uri": "https://localhost:8080/"
        },
        "id": "ws8L2UrI3v15",
        "outputId": "30e4907d-f4ac-4bc7-d4eb-a1563cbdcf47"
      },
      "source": [
        "# Calculate model_2 metrics\n",
        "mae_2 = mae(y_test, y_preds_2)\n",
        "mse_2 = mse(y_test, y_preds_2)\n",
        "mae_2, mse_2"
      ],
      "execution_count": null,
      "outputs": [
        {
          "output_type": "execute_result",
          "data": {
            "text/plain": [
              "(<tf.Tensor: shape=(), dtype=float32, numpy=3.1969407>,\n",
              " <tf.Tensor: shape=(), dtype=float32, numpy=13.070143>)"
            ]
          },
          "metadata": {},
          "execution_count": 75
        }
      ]
    },
    {
      "cell_type": "markdown",
      "metadata": {
        "id": "mA2mwdvg4NOG"
      },
      "source": [
        "#### **Build `model_3`**"
      ]
    },
    {
      "cell_type": "code",
      "metadata": {
        "colab": {
          "base_uri": "https://localhost:8080/"
        },
        "id": "OyRHDhz83zNC",
        "outputId": "e2fc6ad7-c7bb-4254-8a49-55ac955c9335"
      },
      "source": [
        "# Let's create a model which builds automatically by defining the input_shape argument\n",
        "tf.random.set_seed(42)\n",
        "\n",
        "# Create the model\n",
        "model_3 = tf.keras.Sequential([\n",
        "                             tf.keras.layers.Dense(10),\n",
        "                             tf.keras.layers.Dense(1)\n",
        "])\n",
        "\n",
        "# Compile the model\n",
        "model_3.compile(loss=tf.keras.losses.mae,\n",
        "              optimizer=tf.keras.optimizers.SGD(),\n",
        "              metrics=[\"mae\"])\n",
        "\n",
        "# Fit the model\n",
        "model_3.fit(X_train, y_train, epochs=500)"
      ],
      "execution_count": null,
      "outputs": [
        {
          "output_type": "stream",
          "name": "stdout",
          "text": [
            "Epoch 1/500\n",
            "2/2 [==============================] - 0s 6ms/step - loss: 27.4058 - mae: 27.4058\n",
            "Epoch 2/500\n",
            "2/2 [==============================] - 0s 6ms/step - loss: 24.6339 - mae: 24.6339\n",
            "Epoch 3/500\n",
            "2/2 [==============================] - 0s 4ms/step - loss: 29.8935 - mae: 29.8935\n",
            "Epoch 4/500\n",
            "2/2 [==============================] - 0s 7ms/step - loss: 27.4055 - mae: 27.4055\n",
            "Epoch 5/500\n",
            "2/2 [==============================] - 0s 7ms/step - loss: 14.9463 - mae: 14.9463\n",
            "Epoch 6/500\n",
            "2/2 [==============================] - 0s 6ms/step - loss: 11.8819 - mae: 11.8819\n",
            "Epoch 7/500\n",
            "2/2 [==============================] - 0s 7ms/step - loss: 11.1988 - mae: 11.1988\n",
            "Epoch 8/500\n",
            "2/2 [==============================] - 0s 8ms/step - loss: 11.0910 - mae: 11.0910\n",
            "Epoch 9/500\n",
            "2/2 [==============================] - 0s 4ms/step - loss: 40.4763 - mae: 40.4763\n",
            "Epoch 10/500\n",
            "2/2 [==============================] - 0s 5ms/step - loss: 27.8688 - mae: 27.8688\n",
            "Epoch 11/500\n",
            "2/2 [==============================] - 0s 5ms/step - loss: 10.2473 - mae: 10.2473\n",
            "Epoch 12/500\n",
            "2/2 [==============================] - 0s 7ms/step - loss: 25.2803 - mae: 25.2803\n",
            "Epoch 13/500\n",
            "2/2 [==============================] - 0s 5ms/step - loss: 16.9897 - mae: 16.9897\n",
            "Epoch 14/500\n",
            "2/2 [==============================] - 0s 5ms/step - loss: 25.9217 - mae: 25.9217\n",
            "Epoch 15/500\n",
            "2/2 [==============================] - 0s 7ms/step - loss: 17.9948 - mae: 17.9948\n",
            "Epoch 16/500\n",
            "2/2 [==============================] - 0s 6ms/step - loss: 7.3510 - mae: 7.3510\n",
            "Epoch 17/500\n",
            "2/2 [==============================] - 0s 6ms/step - loss: 10.8636 - mae: 10.8636\n",
            "Epoch 18/500\n",
            "2/2 [==============================] - 0s 8ms/step - loss: 19.5304 - mae: 19.5304\n",
            "Epoch 19/500\n",
            "2/2 [==============================] - 0s 9ms/step - loss: 10.3469 - mae: 10.3469\n",
            "Epoch 20/500\n",
            "2/2 [==============================] - 0s 9ms/step - loss: 17.6985 - mae: 17.6985\n",
            "Epoch 21/500\n",
            "2/2 [==============================] - 0s 6ms/step - loss: 15.8984 - mae: 15.8984\n",
            "Epoch 22/500\n",
            "2/2 [==============================] - 0s 4ms/step - loss: 14.1991 - mae: 14.1991\n",
            "Epoch 23/500\n",
            "2/2 [==============================] - 0s 6ms/step - loss: 8.7720 - mae: 8.7720\n",
            "Epoch 24/500\n",
            "2/2 [==============================] - 0s 10ms/step - loss: 11.0570 - mae: 11.0570\n",
            "Epoch 25/500\n",
            "2/2 [==============================] - 0s 9ms/step - loss: 12.6838 - mae: 12.6838\n",
            "Epoch 26/500\n",
            "2/2 [==============================] - 0s 3ms/step - loss: 26.1877 - mae: 26.1877\n",
            "Epoch 27/500\n",
            "2/2 [==============================] - 0s 5ms/step - loss: 11.7432 - mae: 11.7432\n",
            "Epoch 28/500\n",
            "2/2 [==============================] - 0s 6ms/step - loss: 22.8730 - mae: 22.8730\n",
            "Epoch 29/500\n",
            "2/2 [==============================] - 0s 6ms/step - loss: 9.2459 - mae: 9.2459\n",
            "Epoch 30/500\n",
            "2/2 [==============================] - 0s 7ms/step - loss: 29.2641 - mae: 29.2641\n",
            "Epoch 31/500\n",
            "2/2 [==============================] - 0s 6ms/step - loss: 53.0225 - mae: 53.0225\n",
            "Epoch 32/500\n",
            "2/2 [==============================] - 0s 7ms/step - loss: 11.9951 - mae: 11.9951\n",
            "Epoch 33/500\n",
            "2/2 [==============================] - 0s 8ms/step - loss: 15.6357 - mae: 15.6357\n",
            "Epoch 34/500\n",
            "2/2 [==============================] - 0s 8ms/step - loss: 12.6925 - mae: 12.6925\n",
            "Epoch 35/500\n",
            "2/2 [==============================] - 0s 4ms/step - loss: 9.2398 - mae: 9.2398\n",
            "Epoch 36/500\n",
            "2/2 [==============================] - 0s 4ms/step - loss: 16.6497 - mae: 16.6497\n",
            "Epoch 37/500\n",
            "2/2 [==============================] - 0s 6ms/step - loss: 11.0382 - mae: 11.0382\n",
            "Epoch 38/500\n",
            "2/2 [==============================] - 0s 14ms/step - loss: 18.1634 - mae: 18.1634\n",
            "Epoch 39/500\n",
            "2/2 [==============================] - 0s 4ms/step - loss: 19.1013 - mae: 19.1013\n",
            "Epoch 40/500\n",
            "2/2 [==============================] - 0s 4ms/step - loss: 20.4324 - mae: 20.4324\n",
            "Epoch 41/500\n",
            "2/2 [==============================] - 0s 4ms/step - loss: 14.9102 - mae: 14.9102\n",
            "Epoch 42/500\n",
            "2/2 [==============================] - 0s 4ms/step - loss: 12.2809 - mae: 12.2809\n",
            "Epoch 43/500\n",
            "2/2 [==============================] - 0s 4ms/step - loss: 10.7333 - mae: 10.7333\n",
            "Epoch 44/500\n",
            "2/2 [==============================] - 0s 4ms/step - loss: 23.0260 - mae: 23.0260\n",
            "Epoch 45/500\n",
            "2/2 [==============================] - 0s 4ms/step - loss: 10.3897 - mae: 10.3897\n",
            "Epoch 46/500\n",
            "2/2 [==============================] - 0s 4ms/step - loss: 11.7904 - mae: 11.7904\n",
            "Epoch 47/500\n",
            "2/2 [==============================] - 0s 4ms/step - loss: 9.6438 - mae: 9.6438\n",
            "Epoch 48/500\n",
            "2/2 [==============================] - 0s 4ms/step - loss: 17.2335 - mae: 17.2335\n",
            "Epoch 49/500\n",
            "2/2 [==============================] - 0s 4ms/step - loss: 9.5729 - mae: 9.5729\n",
            "Epoch 50/500\n",
            "2/2 [==============================] - 0s 7ms/step - loss: 13.8185 - mae: 13.8185\n",
            "Epoch 51/500\n",
            "2/2 [==============================] - 0s 4ms/step - loss: 11.5958 - mae: 11.5958\n",
            "Epoch 52/500\n",
            "2/2 [==============================] - 0s 4ms/step - loss: 30.5538 - mae: 30.5538\n",
            "Epoch 53/500\n",
            "2/2 [==============================] - 0s 4ms/step - loss: 14.3541 - mae: 14.3541\n",
            "Epoch 54/500\n",
            "2/2 [==============================] - 0s 4ms/step - loss: 23.9713 - mae: 23.9713\n",
            "Epoch 55/500\n",
            "2/2 [==============================] - 0s 4ms/step - loss: 23.1938 - mae: 23.1938\n",
            "Epoch 56/500\n",
            "2/2 [==============================] - 0s 15ms/step - loss: 10.8837 - mae: 10.8837\n",
            "Epoch 57/500\n",
            "2/2 [==============================] - 0s 6ms/step - loss: 12.7445 - mae: 12.7445\n",
            "Epoch 58/500\n",
            "2/2 [==============================] - 0s 4ms/step - loss: 9.5995 - mae: 9.5995\n",
            "Epoch 59/500\n",
            "2/2 [==============================] - 0s 4ms/step - loss: 12.5172 - mae: 12.5172\n",
            "Epoch 60/500\n",
            "2/2 [==============================] - 0s 4ms/step - loss: 12.3200 - mae: 12.3200\n",
            "Epoch 61/500\n",
            "2/2 [==============================] - 0s 4ms/step - loss: 17.4604 - mae: 17.4604\n",
            "Epoch 62/500\n",
            "2/2 [==============================] - 0s 4ms/step - loss: 10.6052 - mae: 10.6052\n",
            "Epoch 63/500\n",
            "2/2 [==============================] - 0s 4ms/step - loss: 10.4893 - mae: 10.4893\n",
            "Epoch 64/500\n",
            "2/2 [==============================] - 0s 5ms/step - loss: 24.8450 - mae: 24.8450\n",
            "Epoch 65/500\n",
            "2/2 [==============================] - 0s 4ms/step - loss: 10.6761 - mae: 10.6761\n",
            "Epoch 66/500\n",
            "2/2 [==============================] - 0s 3ms/step - loss: 21.7809 - mae: 21.7809\n",
            "Epoch 67/500\n",
            "2/2 [==============================] - 0s 10ms/step - loss: 10.7136 - mae: 10.7136\n",
            "Epoch 68/500\n",
            "2/2 [==============================] - 0s 6ms/step - loss: 10.6397 - mae: 10.6397\n",
            "Epoch 69/500\n",
            "2/2 [==============================] - 0s 7ms/step - loss: 22.6914 - mae: 22.6914\n",
            "Epoch 70/500\n",
            "2/2 [==============================] - 0s 14ms/step - loss: 9.3316 - mae: 9.3316\n",
            "Epoch 71/500\n",
            "2/2 [==============================] - 0s 4ms/step - loss: 15.4355 - mae: 15.4355\n",
            "Epoch 72/500\n",
            "2/2 [==============================] - 0s 4ms/step - loss: 6.7437 - mae: 6.7437\n",
            "Epoch 73/500\n",
            "2/2 [==============================] - 0s 8ms/step - loss: 11.6891 - mae: 11.6891\n",
            "Epoch 74/500\n",
            "2/2 [==============================] - 0s 4ms/step - loss: 24.0400 - mae: 24.0400\n",
            "Epoch 75/500\n",
            "2/2 [==============================] - 0s 5ms/step - loss: 9.5896 - mae: 9.5896\n",
            "Epoch 76/500\n",
            "2/2 [==============================] - 0s 6ms/step - loss: 12.4371 - mae: 12.4371\n",
            "Epoch 77/500\n",
            "2/2 [==============================] - 0s 5ms/step - loss: 16.6489 - mae: 16.6489\n",
            "Epoch 78/500\n",
            "2/2 [==============================] - 0s 5ms/step - loss: 9.0614 - mae: 9.0614\n",
            "Epoch 79/500\n",
            "2/2 [==============================] - 0s 4ms/step - loss: 23.9675 - mae: 23.9675\n",
            "Epoch 80/500\n",
            "2/2 [==============================] - 0s 6ms/step - loss: 26.7463 - mae: 26.7463\n",
            "Epoch 81/500\n",
            "2/2 [==============================] - 0s 6ms/step - loss: 11.6714 - mae: 11.6714\n",
            "Epoch 82/500\n",
            "2/2 [==============================] - 0s 10ms/step - loss: 12.0228 - mae: 12.0228\n",
            "Epoch 83/500\n",
            "2/2 [==============================] - 0s 5ms/step - loss: 17.4218 - mae: 17.4218\n",
            "Epoch 84/500\n",
            "2/2 [==============================] - 0s 5ms/step - loss: 7.2629 - mae: 7.2629\n",
            "Epoch 85/500\n",
            "2/2 [==============================] - 0s 5ms/step - loss: 14.9650 - mae: 14.9650\n",
            "Epoch 86/500\n",
            "2/2 [==============================] - 0s 4ms/step - loss: 15.2862 - mae: 15.2862\n",
            "Epoch 87/500\n",
            "2/2 [==============================] - 0s 6ms/step - loss: 19.1086 - mae: 19.1086\n",
            "Epoch 88/500\n",
            "2/2 [==============================] - 0s 6ms/step - loss: 29.8229 - mae: 29.8229\n",
            "Epoch 89/500\n",
            "2/2 [==============================] - 0s 4ms/step - loss: 10.1742 - mae: 10.1742\n",
            "Epoch 90/500\n",
            "2/2 [==============================] - 0s 6ms/step - loss: 21.5240 - mae: 21.5240\n",
            "Epoch 91/500\n",
            "2/2 [==============================] - 0s 6ms/step - loss: 10.5716 - mae: 10.5716\n",
            "Epoch 92/500\n",
            "2/2 [==============================] - 0s 6ms/step - loss: 18.3977 - mae: 18.3977\n",
            "Epoch 93/500\n",
            "2/2 [==============================] - 0s 5ms/step - loss: 7.4138 - mae: 7.4138\n",
            "Epoch 94/500\n",
            "2/2 [==============================] - 0s 7ms/step - loss: 17.7380 - mae: 17.7380\n",
            "Epoch 95/500\n",
            "2/2 [==============================] - 0s 12ms/step - loss: 11.1144 - mae: 11.1144\n",
            "Epoch 96/500\n",
            "2/2 [==============================] - 0s 7ms/step - loss: 19.4346 - mae: 19.4346\n",
            "Epoch 97/500\n",
            "2/2 [==============================] - 0s 5ms/step - loss: 12.1593 - mae: 12.1593\n",
            "Epoch 98/500\n",
            "2/2 [==============================] - 0s 6ms/step - loss: 11.5653 - mae: 11.5653\n",
            "Epoch 99/500\n",
            "2/2 [==============================] - 0s 4ms/step - loss: 13.8827 - mae: 13.8827\n",
            "Epoch 100/500\n",
            "2/2 [==============================] - 0s 7ms/step - loss: 20.2277 - mae: 20.2277\n",
            "Epoch 101/500\n",
            "2/2 [==============================] - 0s 6ms/step - loss: 11.4479 - mae: 11.4479\n",
            "Epoch 102/500\n",
            "2/2 [==============================] - 0s 5ms/step - loss: 17.4842 - mae: 17.4842\n",
            "Epoch 103/500\n",
            "2/2 [==============================] - 0s 5ms/step - loss: 7.0217 - mae: 7.0217\n",
            "Epoch 104/500\n",
            "2/2 [==============================] - 0s 6ms/step - loss: 23.5789 - mae: 23.5789\n",
            "Epoch 105/500\n",
            "2/2 [==============================] - 0s 5ms/step - loss: 16.8932 - mae: 16.8932\n",
            "Epoch 106/500\n",
            "2/2 [==============================] - 0s 4ms/step - loss: 9.2954 - mae: 9.2954\n",
            "Epoch 107/500\n",
            "2/2 [==============================] - 0s 5ms/step - loss: 25.3749 - mae: 25.3749\n",
            "Epoch 108/500\n",
            "2/2 [==============================] - 0s 5ms/step - loss: 13.4621 - mae: 13.4621\n",
            "Epoch 109/500\n",
            "2/2 [==============================] - 0s 6ms/step - loss: 9.5238 - mae: 9.5238\n",
            "Epoch 110/500\n",
            "2/2 [==============================] - 0s 5ms/step - loss: 9.6722 - mae: 9.6722\n",
            "Epoch 111/500\n",
            "2/2 [==============================] - 0s 7ms/step - loss: 14.5987 - mae: 14.5987\n",
            "Epoch 112/500\n",
            "2/2 [==============================] - 0s 7ms/step - loss: 9.5670 - mae: 9.5670\n",
            "Epoch 113/500\n",
            "2/2 [==============================] - 0s 3ms/step - loss: 17.8092 - mae: 17.8092\n",
            "Epoch 114/500\n",
            "2/2 [==============================] - 0s 4ms/step - loss: 17.1782 - mae: 17.1782\n",
            "Epoch 115/500\n",
            "2/2 [==============================] - 0s 4ms/step - loss: 11.1182 - mae: 11.1182\n",
            "Epoch 116/500\n",
            "2/2 [==============================] - 0s 6ms/step - loss: 23.3071 - mae: 23.3071\n",
            "Epoch 117/500\n",
            "2/2 [==============================] - 0s 4ms/step - loss: 9.6144 - mae: 9.6144\n",
            "Epoch 118/500\n",
            "2/2 [==============================] - 0s 7ms/step - loss: 10.6899 - mae: 10.6899\n",
            "Epoch 119/500\n",
            "2/2 [==============================] - 0s 4ms/step - loss: 8.0355 - mae: 8.0355\n",
            "Epoch 120/500\n",
            "2/2 [==============================] - 0s 7ms/step - loss: 29.6859 - mae: 29.6859\n",
            "Epoch 121/500\n",
            "2/2 [==============================] - 0s 4ms/step - loss: 8.0714 - mae: 8.0714\n",
            "Epoch 122/500\n",
            "2/2 [==============================] - 0s 10ms/step - loss: 28.3086 - mae: 28.3086\n",
            "Epoch 123/500\n",
            "2/2 [==============================] - 0s 6ms/step - loss: 32.9014 - mae: 32.9014\n",
            "Epoch 124/500\n",
            "2/2 [==============================] - 0s 7ms/step - loss: 19.6291 - mae: 19.6291\n",
            "Epoch 125/500\n",
            "2/2 [==============================] - 0s 8ms/step - loss: 7.0095 - mae: 7.0095\n",
            "Epoch 126/500\n",
            "2/2 [==============================] - 0s 14ms/step - loss: 21.8056 - mae: 21.8056\n",
            "Epoch 127/500\n",
            "2/2 [==============================] - 0s 16ms/step - loss: 7.9812 - mae: 7.9812\n",
            "Epoch 128/500\n",
            "2/2 [==============================] - 0s 12ms/step - loss: 21.0585 - mae: 21.0585\n",
            "Epoch 129/500\n",
            "2/2 [==============================] - 0s 11ms/step - loss: 9.0107 - mae: 9.0107\n",
            "Epoch 130/500\n",
            "2/2 [==============================] - 0s 8ms/step - loss: 24.0502 - mae: 24.0502\n",
            "Epoch 131/500\n",
            "2/2 [==============================] - 0s 8ms/step - loss: 9.7537 - mae: 9.7537\n",
            "Epoch 132/500\n",
            "2/2 [==============================] - 0s 7ms/step - loss: 18.3052 - mae: 18.3052\n",
            "Epoch 133/500\n",
            "2/2 [==============================] - 0s 5ms/step - loss: 7.5833 - mae: 7.5833\n",
            "Epoch 134/500\n",
            "2/2 [==============================] - 0s 5ms/step - loss: 18.5755 - mae: 18.5755\n",
            "Epoch 135/500\n",
            "2/2 [==============================] - 0s 6ms/step - loss: 10.5360 - mae: 10.5360\n",
            "Epoch 136/500\n",
            "2/2 [==============================] - 0s 6ms/step - loss: 18.2694 - mae: 18.2694\n",
            "Epoch 137/500\n",
            "2/2 [==============================] - 0s 7ms/step - loss: 23.1658 - mae: 23.1658\n",
            "Epoch 138/500\n",
            "2/2 [==============================] - 0s 5ms/step - loss: 9.1362 - mae: 9.1362\n",
            "Epoch 139/500\n",
            "2/2 [==============================] - 0s 5ms/step - loss: 8.9181 - mae: 8.9181\n",
            "Epoch 140/500\n",
            "2/2 [==============================] - 0s 4ms/step - loss: 16.4732 - mae: 16.4732\n",
            "Epoch 141/500\n",
            "2/2 [==============================] - 0s 6ms/step - loss: 8.4208 - mae: 8.4208\n",
            "Epoch 142/500\n",
            "2/2 [==============================] - 0s 6ms/step - loss: 36.9540 - mae: 36.9540\n",
            "Epoch 143/500\n",
            "2/2 [==============================] - 0s 9ms/step - loss: 25.5820 - mae: 25.5820\n",
            "Epoch 144/500\n",
            "2/2 [==============================] - 0s 5ms/step - loss: 9.5392 - mae: 9.5392\n",
            "Epoch 145/500\n",
            "2/2 [==============================] - 0s 8ms/step - loss: 26.6058 - mae: 26.6058\n",
            "Epoch 146/500\n",
            "2/2 [==============================] - 0s 4ms/step - loss: 8.7248 - mae: 8.7248\n",
            "Epoch 147/500\n",
            "2/2 [==============================] - 0s 6ms/step - loss: 15.6172 - mae: 15.6172\n",
            "Epoch 148/500\n",
            "2/2 [==============================] - 0s 7ms/step - loss: 18.3065 - mae: 18.3065\n",
            "Epoch 149/500\n",
            "2/2 [==============================] - 0s 5ms/step - loss: 8.1994 - mae: 8.1994\n",
            "Epoch 150/500\n",
            "2/2 [==============================] - 0s 6ms/step - loss: 7.4964 - mae: 7.4964\n",
            "Epoch 151/500\n",
            "2/2 [==============================] - 0s 5ms/step - loss: 18.3374 - mae: 18.3374\n",
            "Epoch 152/500\n",
            "2/2 [==============================] - 0s 4ms/step - loss: 10.2895 - mae: 10.2895\n",
            "Epoch 153/500\n",
            "2/2 [==============================] - 0s 5ms/step - loss: 29.6425 - mae: 29.6425\n",
            "Epoch 154/500\n",
            "2/2 [==============================] - 0s 12ms/step - loss: 10.5556 - mae: 10.5556\n",
            "Epoch 155/500\n",
            "2/2 [==============================] - 0s 4ms/step - loss: 15.4537 - mae: 15.4537\n",
            "Epoch 156/500\n",
            "2/2 [==============================] - 0s 7ms/step - loss: 17.0174 - mae: 17.0174\n",
            "Epoch 157/500\n",
            "2/2 [==============================] - 0s 8ms/step - loss: 32.8218 - mae: 32.8218\n",
            "Epoch 158/500\n",
            "2/2 [==============================] - 0s 5ms/step - loss: 10.7038 - mae: 10.7038\n",
            "Epoch 159/500\n",
            "2/2 [==============================] - 0s 4ms/step - loss: 8.9054 - mae: 8.9054\n",
            "Epoch 160/500\n",
            "2/2 [==============================] - 0s 8ms/step - loss: 22.1321 - mae: 22.1321\n",
            "Epoch 161/500\n",
            "2/2 [==============================] - 0s 16ms/step - loss: 11.7113 - mae: 11.7113\n",
            "Epoch 162/500\n",
            "2/2 [==============================] - 0s 4ms/step - loss: 21.5734 - mae: 21.5734\n",
            "Epoch 163/500\n",
            "2/2 [==============================] - 0s 9ms/step - loss: 19.2485 - mae: 19.2485\n",
            "Epoch 164/500\n",
            "2/2 [==============================] - 0s 13ms/step - loss: 11.0156 - mae: 11.0156\n",
            "Epoch 165/500\n",
            "2/2 [==============================] - 0s 8ms/step - loss: 9.6187 - mae: 9.6187\n",
            "Epoch 166/500\n",
            "2/2 [==============================] - 0s 16ms/step - loss: 21.5908 - mae: 21.5908\n",
            "Epoch 167/500\n",
            "2/2 [==============================] - 0s 8ms/step - loss: 26.2851 - mae: 26.2851\n",
            "Epoch 168/500\n",
            "2/2 [==============================] - 0s 7ms/step - loss: 9.8525 - mae: 9.8525\n",
            "Epoch 169/500\n",
            "2/2 [==============================] - 0s 7ms/step - loss: 22.5630 - mae: 22.5630\n",
            "Epoch 170/500\n",
            "2/2 [==============================] - 0s 11ms/step - loss: 10.1499 - mae: 10.1499\n",
            "Epoch 171/500\n",
            "2/2 [==============================] - 0s 8ms/step - loss: 18.0464 - mae: 18.0464\n",
            "Epoch 172/500\n",
            "2/2 [==============================] - 0s 4ms/step - loss: 28.8377 - mae: 28.8377\n",
            "Epoch 173/500\n",
            "2/2 [==============================] - 0s 5ms/step - loss: 16.5279 - mae: 16.5279\n",
            "Epoch 174/500\n",
            "2/2 [==============================] - 0s 5ms/step - loss: 11.2115 - mae: 11.2115\n",
            "Epoch 175/500\n",
            "2/2 [==============================] - 0s 5ms/step - loss: 27.5839 - mae: 27.5839\n",
            "Epoch 176/500\n",
            "2/2 [==============================] - 0s 5ms/step - loss: 8.2680 - mae: 8.2680\n",
            "Epoch 177/500\n",
            "2/2 [==============================] - 0s 6ms/step - loss: 9.2580 - mae: 9.2580\n",
            "Epoch 178/500\n",
            "2/2 [==============================] - 0s 5ms/step - loss: 18.1440 - mae: 18.1440\n",
            "Epoch 179/500\n",
            "2/2 [==============================] - 0s 4ms/step - loss: 10.5995 - mae: 10.5995\n",
            "Epoch 180/500\n",
            "2/2 [==============================] - 0s 5ms/step - loss: 7.8992 - mae: 7.8992\n",
            "Epoch 181/500\n",
            "2/2 [==============================] - 0s 6ms/step - loss: 17.4015 - mae: 17.4015\n",
            "Epoch 182/500\n",
            "2/2 [==============================] - 0s 18ms/step - loss: 11.0089 - mae: 11.0089\n",
            "Epoch 183/500\n",
            "2/2 [==============================] - 0s 8ms/step - loss: 11.7027 - mae: 11.7027\n",
            "Epoch 184/500\n",
            "2/2 [==============================] - 0s 12ms/step - loss: 30.4062 - mae: 30.4062\n",
            "Epoch 185/500\n",
            "2/2 [==============================] - 0s 5ms/step - loss: 7.5557 - mae: 7.5557\n",
            "Epoch 186/500\n",
            "2/2 [==============================] - 0s 9ms/step - loss: 15.9905 - mae: 15.9905\n",
            "Epoch 187/500\n",
            "2/2 [==============================] - 0s 8ms/step - loss: 8.5579 - mae: 8.5579\n",
            "Epoch 188/500\n",
            "2/2 [==============================] - 0s 5ms/step - loss: 28.7339 - mae: 28.7339\n",
            "Epoch 189/500\n",
            "2/2 [==============================] - 0s 5ms/step - loss: 13.1689 - mae: 13.1689\n",
            "Epoch 190/500\n",
            "2/2 [==============================] - 0s 6ms/step - loss: 18.3101 - mae: 18.3101\n",
            "Epoch 191/500\n",
            "2/2 [==============================] - 0s 6ms/step - loss: 13.7376 - mae: 13.7376\n",
            "Epoch 192/500\n",
            "2/2 [==============================] - 0s 4ms/step - loss: 13.7104 - mae: 13.7104\n",
            "Epoch 193/500\n",
            "2/2 [==============================] - 0s 5ms/step - loss: 28.5842 - mae: 28.5842\n",
            "Epoch 194/500\n",
            "2/2 [==============================] - 0s 14ms/step - loss: 7.0707 - mae: 7.0707\n",
            "Epoch 195/500\n",
            "2/2 [==============================] - 0s 6ms/step - loss: 7.0550 - mae: 7.0550\n",
            "Epoch 196/500\n",
            "2/2 [==============================] - 0s 4ms/step - loss: 22.0067 - mae: 22.0067\n",
            "Epoch 197/500\n",
            "2/2 [==============================] - 0s 4ms/step - loss: 20.8443 - mae: 20.8443\n",
            "Epoch 198/500\n",
            "2/2 [==============================] - 0s 7ms/step - loss: 12.4713 - mae: 12.4713\n",
            "Epoch 199/500\n",
            "2/2 [==============================] - 0s 6ms/step - loss: 17.9099 - mae: 17.9099\n",
            "Epoch 200/500\n",
            "2/2 [==============================] - 0s 5ms/step - loss: 13.7494 - mae: 13.7494\n",
            "Epoch 201/500\n",
            "2/2 [==============================] - 0s 5ms/step - loss: 5.4687 - mae: 5.4687\n",
            "Epoch 202/500\n",
            "2/2 [==============================] - 0s 6ms/step - loss: 13.7006 - mae: 13.7006\n",
            "Epoch 203/500\n",
            "2/2 [==============================] - 0s 6ms/step - loss: 9.4142 - mae: 9.4142\n",
            "Epoch 204/500\n",
            "2/2 [==============================] - 0s 4ms/step - loss: 20.9796 - mae: 20.9796\n",
            "Epoch 205/500\n",
            "2/2 [==============================] - 0s 6ms/step - loss: 9.5470 - mae: 9.5470\n",
            "Epoch 206/500\n",
            "2/2 [==============================] - 0s 4ms/step - loss: 11.7256 - mae: 11.7256\n",
            "Epoch 207/500\n",
            "2/2 [==============================] - 0s 10ms/step - loss: 14.3772 - mae: 14.3772\n",
            "Epoch 208/500\n",
            "2/2 [==============================] - 0s 6ms/step - loss: 14.8579 - mae: 14.8579\n",
            "Epoch 209/500\n",
            "2/2 [==============================] - 0s 5ms/step - loss: 14.9706 - mae: 14.9706\n",
            "Epoch 210/500\n",
            "2/2 [==============================] - 0s 8ms/step - loss: 17.8998 - mae: 17.8998\n",
            "Epoch 211/500\n",
            "2/2 [==============================] - 0s 5ms/step - loss: 9.8327 - mae: 9.8327\n",
            "Epoch 212/500\n",
            "2/2 [==============================] - 0s 6ms/step - loss: 18.3352 - mae: 18.3352\n",
            "Epoch 213/500\n",
            "2/2 [==============================] - 0s 7ms/step - loss: 15.0383 - mae: 15.0383\n",
            "Epoch 214/500\n",
            "2/2 [==============================] - 0s 5ms/step - loss: 14.5874 - mae: 14.5874\n",
            "Epoch 215/500\n",
            "2/2 [==============================] - 0s 6ms/step - loss: 23.3015 - mae: 23.3015\n",
            "Epoch 216/500\n",
            "2/2 [==============================] - 0s 5ms/step - loss: 13.3613 - mae: 13.3613\n",
            "Epoch 217/500\n",
            "2/2 [==============================] - 0s 6ms/step - loss: 9.8517 - mae: 9.8517\n",
            "Epoch 218/500\n",
            "2/2 [==============================] - 0s 4ms/step - loss: 12.5451 - mae: 12.5451\n",
            "Epoch 219/500\n",
            "2/2 [==============================] - 0s 7ms/step - loss: 4.9472 - mae: 4.9472\n",
            "Epoch 220/500\n",
            "2/2 [==============================] - 0s 6ms/step - loss: 7.1130 - mae: 7.1130\n",
            "Epoch 221/500\n",
            "2/2 [==============================] - 0s 4ms/step - loss: 35.4567 - mae: 35.4567\n",
            "Epoch 222/500\n",
            "2/2 [==============================] - 0s 7ms/step - loss: 34.8634 - mae: 34.8634\n",
            "Epoch 223/500\n",
            "2/2 [==============================] - 0s 4ms/step - loss: 7.9846 - mae: 7.9846\n",
            "Epoch 224/500\n",
            "2/2 [==============================] - 0s 10ms/step - loss: 14.7004 - mae: 14.7004\n",
            "Epoch 225/500\n",
            "2/2 [==============================] - 0s 7ms/step - loss: 16.7196 - mae: 16.7196\n",
            "Epoch 226/500\n",
            "2/2 [==============================] - 0s 6ms/step - loss: 15.9329 - mae: 15.9329\n",
            "Epoch 227/500\n",
            "2/2 [==============================] - 0s 6ms/step - loss: 16.1644 - mae: 16.1644\n",
            "Epoch 228/500\n",
            "2/2 [==============================] - 0s 6ms/step - loss: 13.9324 - mae: 13.9324\n",
            "Epoch 229/500\n",
            "2/2 [==============================] - 0s 13ms/step - loss: 18.0504 - mae: 18.0504\n",
            "Epoch 230/500\n",
            "2/2 [==============================] - 0s 12ms/step - loss: 15.6120 - mae: 15.6120\n",
            "Epoch 231/500\n",
            "2/2 [==============================] - 0s 10ms/step - loss: 21.2041 - mae: 21.2041\n",
            "Epoch 232/500\n",
            "2/2 [==============================] - 0s 11ms/step - loss: 25.2732 - mae: 25.2732\n",
            "Epoch 233/500\n",
            "2/2 [==============================] - 0s 9ms/step - loss: 16.3176 - mae: 16.3176\n",
            "Epoch 234/500\n",
            "2/2 [==============================] - 0s 7ms/step - loss: 7.2729 - mae: 7.2729\n",
            "Epoch 235/500\n",
            "2/2 [==============================] - 0s 8ms/step - loss: 16.9688 - mae: 16.9688\n",
            "Epoch 236/500\n",
            "2/2 [==============================] - 0s 5ms/step - loss: 7.1225 - mae: 7.1225\n",
            "Epoch 237/500\n",
            "2/2 [==============================] - 0s 6ms/step - loss: 9.2058 - mae: 9.2058\n",
            "Epoch 238/500\n",
            "2/2 [==============================] - 0s 15ms/step - loss: 8.0961 - mae: 8.0961\n",
            "Epoch 239/500\n",
            "2/2 [==============================] - 0s 5ms/step - loss: 17.0538 - mae: 17.0538\n",
            "Epoch 240/500\n",
            "2/2 [==============================] - 0s 5ms/step - loss: 8.8627 - mae: 8.8627\n",
            "Epoch 241/500\n",
            "2/2 [==============================] - 0s 15ms/step - loss: 13.1711 - mae: 13.1711\n",
            "Epoch 242/500\n",
            "2/2 [==============================] - 0s 9ms/step - loss: 8.7886 - mae: 8.7886\n",
            "Epoch 243/500\n",
            "2/2 [==============================] - 0s 5ms/step - loss: 18.8161 - mae: 18.8161\n",
            "Epoch 244/500\n",
            "2/2 [==============================] - 0s 7ms/step - loss: 14.0531 - mae: 14.0531\n",
            "Epoch 245/500\n",
            "2/2 [==============================] - 0s 5ms/step - loss: 14.6831 - mae: 14.6831\n",
            "Epoch 246/500\n",
            "2/2 [==============================] - 0s 5ms/step - loss: 15.8045 - mae: 15.8045\n",
            "Epoch 247/500\n",
            "2/2 [==============================] - 0s 6ms/step - loss: 17.6810 - mae: 17.6810\n",
            "Epoch 248/500\n",
            "2/2 [==============================] - 0s 4ms/step - loss: 13.2367 - mae: 13.2367\n",
            "Epoch 249/500\n",
            "2/2 [==============================] - 0s 5ms/step - loss: 14.5070 - mae: 14.5070\n",
            "Epoch 250/500\n",
            "2/2 [==============================] - 0s 5ms/step - loss: 23.2322 - mae: 23.2322\n",
            "Epoch 251/500\n",
            "2/2 [==============================] - 0s 10ms/step - loss: 9.3009 - mae: 9.3009\n",
            "Epoch 252/500\n",
            "2/2 [==============================] - 0s 5ms/step - loss: 36.6569 - mae: 36.6569\n",
            "Epoch 253/500\n",
            "2/2 [==============================] - 0s 5ms/step - loss: 21.8205 - mae: 21.8205\n",
            "Epoch 254/500\n",
            "2/2 [==============================] - 0s 5ms/step - loss: 7.2792 - mae: 7.2792\n",
            "Epoch 255/500\n",
            "2/2 [==============================] - 0s 11ms/step - loss: 24.7127 - mae: 24.7127\n",
            "Epoch 256/500\n",
            "2/2 [==============================] - 0s 4ms/step - loss: 12.4220 - mae: 12.4220\n",
            "Epoch 257/500\n",
            "2/2 [==============================] - 0s 5ms/step - loss: 10.5823 - mae: 10.5823\n",
            "Epoch 258/500\n",
            "2/2 [==============================] - 0s 5ms/step - loss: 14.4883 - mae: 14.4883\n",
            "Epoch 259/500\n",
            "2/2 [==============================] - 0s 15ms/step - loss: 8.6132 - mae: 8.6132\n",
            "Epoch 260/500\n",
            "2/2 [==============================] - 0s 5ms/step - loss: 43.0580 - mae: 43.0580\n",
            "Epoch 261/500\n",
            "2/2 [==============================] - 0s 5ms/step - loss: 18.4611 - mae: 18.4611\n",
            "Epoch 262/500\n",
            "2/2 [==============================] - 0s 12ms/step - loss: 6.8820 - mae: 6.8820\n",
            "Epoch 263/500\n",
            "2/2 [==============================] - 0s 4ms/step - loss: 13.7211 - mae: 13.7211\n",
            "Epoch 264/500\n",
            "2/2 [==============================] - 0s 8ms/step - loss: 21.0154 - mae: 21.0154\n",
            "Epoch 265/500\n",
            "2/2 [==============================] - 0s 4ms/step - loss: 19.3731 - mae: 19.3731\n",
            "Epoch 266/500\n",
            "2/2 [==============================] - 0s 4ms/step - loss: 11.4735 - mae: 11.4735\n",
            "Epoch 267/500\n",
            "2/2 [==============================] - 0s 6ms/step - loss: 7.5302 - mae: 7.5302\n",
            "Epoch 268/500\n",
            "2/2 [==============================] - 0s 5ms/step - loss: 21.6453 - mae: 21.6453\n",
            "Epoch 269/500\n",
            "2/2 [==============================] - 0s 7ms/step - loss: 33.1785 - mae: 33.1785\n",
            "Epoch 270/500\n",
            "2/2 [==============================] - 0s 5ms/step - loss: 10.0833 - mae: 10.0833\n",
            "Epoch 271/500\n",
            "2/2 [==============================] - 0s 8ms/step - loss: 12.1012 - mae: 12.1012\n",
            "Epoch 272/500\n",
            "2/2 [==============================] - 0s 9ms/step - loss: 26.1372 - mae: 26.1372\n",
            "Epoch 273/500\n",
            "2/2 [==============================] - 0s 8ms/step - loss: 12.1751 - mae: 12.1751\n",
            "Epoch 274/500\n",
            "2/2 [==============================] - 0s 6ms/step - loss: 13.3272 - mae: 13.3272\n",
            "Epoch 275/500\n",
            "2/2 [==============================] - 0s 8ms/step - loss: 29.3775 - mae: 29.3775\n",
            "Epoch 276/500\n",
            "2/2 [==============================] - 0s 5ms/step - loss: 7.3329 - mae: 7.3329\n",
            "Epoch 277/500\n",
            "2/2 [==============================] - 0s 6ms/step - loss: 31.1362 - mae: 31.1362\n",
            "Epoch 278/500\n",
            "2/2 [==============================] - 0s 5ms/step - loss: 12.3015 - mae: 12.3015\n",
            "Epoch 279/500\n",
            "2/2 [==============================] - 0s 7ms/step - loss: 16.4103 - mae: 16.4103\n",
            "Epoch 280/500\n",
            "2/2 [==============================] - 0s 19ms/step - loss: 21.9118 - mae: 21.9118\n",
            "Epoch 281/500\n",
            "2/2 [==============================] - 0s 16ms/step - loss: 22.1501 - mae: 22.1501\n",
            "Epoch 282/500\n",
            "2/2 [==============================] - 0s 7ms/step - loss: 7.7429 - mae: 7.7429\n",
            "Epoch 283/500\n",
            "2/2 [==============================] - 0s 4ms/step - loss: 8.1429 - mae: 8.1429\n",
            "Epoch 284/500\n",
            "2/2 [==============================] - 0s 10ms/step - loss: 24.9435 - mae: 24.9435\n",
            "Epoch 285/500\n",
            "2/2 [==============================] - 0s 6ms/step - loss: 13.6958 - mae: 13.6958\n",
            "Epoch 286/500\n",
            "2/2 [==============================] - 0s 5ms/step - loss: 6.8926 - mae: 6.8926\n",
            "Epoch 287/500\n",
            "2/2 [==============================] - 0s 6ms/step - loss: 24.5352 - mae: 24.5352\n",
            "Epoch 288/500\n",
            "2/2 [==============================] - 0s 14ms/step - loss: 20.1721 - mae: 20.1721\n",
            "Epoch 289/500\n",
            "2/2 [==============================] - 0s 11ms/step - loss: 11.9658 - mae: 11.9658\n",
            "Epoch 290/500\n",
            "2/2 [==============================] - 0s 5ms/step - loss: 16.5391 - mae: 16.5391\n",
            "Epoch 291/500\n",
            "2/2 [==============================] - 0s 6ms/step - loss: 16.8017 - mae: 16.8017\n",
            "Epoch 292/500\n",
            "2/2 [==============================] - 0s 10ms/step - loss: 9.4642 - mae: 9.4642\n",
            "Epoch 293/500\n",
            "2/2 [==============================] - 0s 7ms/step - loss: 15.2711 - mae: 15.2711\n",
            "Epoch 294/500\n",
            "2/2 [==============================] - 0s 6ms/step - loss: 22.7179 - mae: 22.7179\n",
            "Epoch 295/500\n",
            "2/2 [==============================] - 0s 5ms/step - loss: 17.9234 - mae: 17.9234\n",
            "Epoch 296/500\n",
            "2/2 [==============================] - 0s 5ms/step - loss: 6.1743 - mae: 6.1743\n",
            "Epoch 297/500\n",
            "2/2 [==============================] - 0s 9ms/step - loss: 10.9440 - mae: 10.9440\n",
            "Epoch 298/500\n",
            "2/2 [==============================] - 0s 5ms/step - loss: 23.1530 - mae: 23.1530\n",
            "Epoch 299/500\n",
            "2/2 [==============================] - 0s 5ms/step - loss: 17.7331 - mae: 17.7331\n",
            "Epoch 300/500\n",
            "2/2 [==============================] - 0s 5ms/step - loss: 6.9824 - mae: 6.9824\n",
            "Epoch 301/500\n",
            "2/2 [==============================] - 0s 5ms/step - loss: 25.1857 - mae: 25.1857\n",
            "Epoch 302/500\n",
            "2/2 [==============================] - 0s 8ms/step - loss: 8.9025 - mae: 8.9025\n",
            "Epoch 303/500\n",
            "2/2 [==============================] - 0s 8ms/step - loss: 17.7668 - mae: 17.7668\n",
            "Epoch 304/500\n",
            "2/2 [==============================] - 0s 10ms/step - loss: 11.0002 - mae: 11.0002\n",
            "Epoch 305/500\n",
            "2/2 [==============================] - 0s 9ms/step - loss: 12.9191 - mae: 12.9191\n",
            "Epoch 306/500\n",
            "2/2 [==============================] - 0s 5ms/step - loss: 8.4033 - mae: 8.4033\n",
            "Epoch 307/500\n",
            "2/2 [==============================] - 0s 7ms/step - loss: 13.6094 - mae: 13.6094\n",
            "Epoch 308/500\n",
            "2/2 [==============================] - 0s 10ms/step - loss: 7.4404 - mae: 7.4404\n",
            "Epoch 309/500\n",
            "2/2 [==============================] - 0s 8ms/step - loss: 9.4642 - mae: 9.4642\n",
            "Epoch 310/500\n",
            "2/2 [==============================] - 0s 6ms/step - loss: 10.7099 - mae: 10.7099\n",
            "Epoch 311/500\n",
            "2/2 [==============================] - 0s 8ms/step - loss: 13.2814 - mae: 13.2814\n",
            "Epoch 312/500\n",
            "2/2 [==============================] - 0s 4ms/step - loss: 29.9763 - mae: 29.9763\n",
            "Epoch 313/500\n",
            "2/2 [==============================] - 0s 6ms/step - loss: 7.6304 - mae: 7.6304\n",
            "Epoch 314/500\n",
            "2/2 [==============================] - 0s 6ms/step - loss: 9.9106 - mae: 9.9106\n",
            "Epoch 315/500\n",
            "2/2 [==============================] - 0s 8ms/step - loss: 23.7669 - mae: 23.7669\n",
            "Epoch 316/500\n",
            "2/2 [==============================] - 0s 4ms/step - loss: 16.3937 - mae: 16.3937\n",
            "Epoch 317/500\n",
            "2/2 [==============================] - 0s 7ms/step - loss: 21.0758 - mae: 21.0758\n",
            "Epoch 318/500\n",
            "2/2 [==============================] - 0s 6ms/step - loss: 7.9367 - mae: 7.9367\n",
            "Epoch 319/500\n",
            "2/2 [==============================] - 0s 6ms/step - loss: 17.9731 - mae: 17.9731\n",
            "Epoch 320/500\n",
            "2/2 [==============================] - 0s 6ms/step - loss: 10.2375 - mae: 10.2375\n",
            "Epoch 321/500\n",
            "2/2 [==============================] - 0s 5ms/step - loss: 8.3338 - mae: 8.3338\n",
            "Epoch 322/500\n",
            "2/2 [==============================] - 0s 5ms/step - loss: 5.0621 - mae: 5.0621\n",
            "Epoch 323/500\n",
            "2/2 [==============================] - 0s 4ms/step - loss: 23.5109 - mae: 23.5109\n",
            "Epoch 324/500\n",
            "2/2 [==============================] - 0s 5ms/step - loss: 6.8309 - mae: 6.8309\n",
            "Epoch 325/500\n",
            "2/2 [==============================] - 0s 3ms/step - loss: 16.3863 - mae: 16.3863\n",
            "Epoch 326/500\n",
            "2/2 [==============================] - 0s 6ms/step - loss: 7.5019 - mae: 7.5019\n",
            "Epoch 327/500\n",
            "2/2 [==============================] - 0s 6ms/step - loss: 20.0573 - mae: 20.0573\n",
            "Epoch 328/500\n",
            "2/2 [==============================] - 0s 4ms/step - loss: 13.7661 - mae: 13.7661\n",
            "Epoch 329/500\n",
            "2/2 [==============================] - 0s 4ms/step - loss: 16.8282 - mae: 16.8282\n",
            "Epoch 330/500\n",
            "2/2 [==============================] - 0s 5ms/step - loss: 7.0514 - mae: 7.0514\n",
            "Epoch 331/500\n",
            "2/2 [==============================] - 0s 7ms/step - loss: 21.4846 - mae: 21.4846\n",
            "Epoch 332/500\n",
            "2/2 [==============================] - 0s 9ms/step - loss: 12.2880 - mae: 12.2880\n",
            "Epoch 333/500\n",
            "2/2 [==============================] - 0s 5ms/step - loss: 11.8117 - mae: 11.8117\n",
            "Epoch 334/500\n",
            "2/2 [==============================] - 0s 5ms/step - loss: 8.3600 - mae: 8.3600\n",
            "Epoch 335/500\n",
            "2/2 [==============================] - 0s 10ms/step - loss: 12.4833 - mae: 12.4833\n",
            "Epoch 336/500\n",
            "2/2 [==============================] - 0s 5ms/step - loss: 32.2171 - mae: 32.2171\n",
            "Epoch 337/500\n",
            "2/2 [==============================] - 0s 12ms/step - loss: 10.4477 - mae: 10.4477\n",
            "Epoch 338/500\n",
            "2/2 [==============================] - 0s 4ms/step - loss: 19.6832 - mae: 19.6832\n",
            "Epoch 339/500\n",
            "2/2 [==============================] - 0s 6ms/step - loss: 35.0762 - mae: 35.0762\n",
            "Epoch 340/500\n",
            "2/2 [==============================] - 0s 11ms/step - loss: 10.4192 - mae: 10.4192\n",
            "Epoch 341/500\n",
            "2/2 [==============================] - 0s 4ms/step - loss: 9.7625 - mae: 9.7625\n",
            "Epoch 342/500\n",
            "2/2 [==============================] - 0s 8ms/step - loss: 11.9500 - mae: 11.9500\n",
            "Epoch 343/500\n",
            "2/2 [==============================] - 0s 4ms/step - loss: 9.3943 - mae: 9.3943\n",
            "Epoch 344/500\n",
            "2/2 [==============================] - 0s 5ms/step - loss: 5.6071 - mae: 5.6071\n",
            "Epoch 345/500\n",
            "2/2 [==============================] - 0s 7ms/step - loss: 37.4876 - mae: 37.4876\n",
            "Epoch 346/500\n",
            "2/2 [==============================] - 0s 7ms/step - loss: 16.8830 - mae: 16.8830\n",
            "Epoch 347/500\n",
            "2/2 [==============================] - 0s 4ms/step - loss: 12.8748 - mae: 12.8748\n",
            "Epoch 348/500\n",
            "2/2 [==============================] - 0s 9ms/step - loss: 8.1960 - mae: 8.1960\n",
            "Epoch 349/500\n",
            "2/2 [==============================] - 0s 4ms/step - loss: 13.5568 - mae: 13.5568\n",
            "Epoch 350/500\n",
            "2/2 [==============================] - 0s 11ms/step - loss: 15.4354 - mae: 15.4354\n",
            "Epoch 351/500\n",
            "2/2 [==============================] - 0s 3ms/step - loss: 32.9626 - mae: 32.9626\n",
            "Epoch 352/500\n",
            "2/2 [==============================] - 0s 7ms/step - loss: 14.2040 - mae: 14.2040\n",
            "Epoch 353/500\n",
            "2/2 [==============================] - 0s 4ms/step - loss: 15.9196 - mae: 15.9196\n",
            "Epoch 354/500\n",
            "2/2 [==============================] - 0s 7ms/step - loss: 19.0878 - mae: 19.0878\n",
            "Epoch 355/500\n",
            "2/2 [==============================] - 0s 6ms/step - loss: 34.1178 - mae: 34.1178\n",
            "Epoch 356/500\n",
            "2/2 [==============================] - 0s 4ms/step - loss: 7.6798 - mae: 7.6798\n",
            "Epoch 357/500\n",
            "2/2 [==============================] - 0s 4ms/step - loss: 25.2287 - mae: 25.2287\n",
            "Epoch 358/500\n",
            "2/2 [==============================] - 0s 5ms/step - loss: 22.6759 - mae: 22.6759\n",
            "Epoch 359/500\n",
            "2/2 [==============================] - 0s 7ms/step - loss: 8.8765 - mae: 8.8765\n",
            "Epoch 360/500\n",
            "2/2 [==============================] - 0s 14ms/step - loss: 21.4709 - mae: 21.4709\n",
            "Epoch 361/500\n",
            "2/2 [==============================] - 0s 9ms/step - loss: 20.6073 - mae: 20.6073\n",
            "Epoch 362/500\n",
            "2/2 [==============================] - 0s 11ms/step - loss: 7.0611 - mae: 7.0611\n",
            "Epoch 363/500\n",
            "2/2 [==============================] - 0s 10ms/step - loss: 25.8117 - mae: 25.8117\n",
            "Epoch 364/500\n",
            "2/2 [==============================] - 0s 10ms/step - loss: 32.2247 - mae: 32.2247\n",
            "Epoch 365/500\n",
            "2/2 [==============================] - 0s 5ms/step - loss: 10.0204 - mae: 10.0204\n",
            "Epoch 366/500\n",
            "2/2 [==============================] - 0s 9ms/step - loss: 9.6722 - mae: 9.6722\n",
            "Epoch 367/500\n",
            "2/2 [==============================] - 0s 12ms/step - loss: 30.4171 - mae: 30.4171\n",
            "Epoch 368/500\n",
            "2/2 [==============================] - 0s 9ms/step - loss: 10.5020 - mae: 10.5020\n",
            "Epoch 369/500\n",
            "2/2 [==============================] - 0s 10ms/step - loss: 14.9909 - mae: 14.9909\n",
            "Epoch 370/500\n",
            "2/2 [==============================] - 0s 5ms/step - loss: 14.6580 - mae: 14.6580\n",
            "Epoch 371/500\n",
            "2/2 [==============================] - 0s 3ms/step - loss: 23.3672 - mae: 23.3672\n",
            "Epoch 372/500\n",
            "2/2 [==============================] - 0s 7ms/step - loss: 13.1025 - mae: 13.1025\n",
            "Epoch 373/500\n",
            "2/2 [==============================] - 0s 9ms/step - loss: 9.2586 - mae: 9.2586\n",
            "Epoch 374/500\n",
            "2/2 [==============================] - 0s 4ms/step - loss: 9.6648 - mae: 9.6648\n",
            "Epoch 375/500\n",
            "2/2 [==============================] - 0s 5ms/step - loss: 13.0041 - mae: 13.0041\n",
            "Epoch 376/500\n",
            "2/2 [==============================] - 0s 4ms/step - loss: 14.8863 - mae: 14.8863\n",
            "Epoch 377/500\n",
            "2/2 [==============================] - 0s 5ms/step - loss: 14.7932 - mae: 14.7932\n",
            "Epoch 378/500\n",
            "2/2 [==============================] - 0s 8ms/step - loss: 16.2751 - mae: 16.2751\n",
            "Epoch 379/500\n",
            "2/2 [==============================] - 0s 7ms/step - loss: 20.8307 - mae: 20.8307\n",
            "Epoch 380/500\n",
            "2/2 [==============================] - 0s 7ms/step - loss: 33.5317 - mae: 33.5317\n",
            "Epoch 381/500\n",
            "2/2 [==============================] - 0s 7ms/step - loss: 8.2166 - mae: 8.2166\n",
            "Epoch 382/500\n",
            "2/2 [==============================] - 0s 11ms/step - loss: 13.0960 - mae: 13.0960\n",
            "Epoch 383/500\n",
            "2/2 [==============================] - 0s 9ms/step - loss: 8.3999 - mae: 8.3999\n",
            "Epoch 384/500\n",
            "2/2 [==============================] - 0s 5ms/step - loss: 7.1283 - mae: 7.1283\n",
            "Epoch 385/500\n",
            "2/2 [==============================] - 0s 4ms/step - loss: 10.9390 - mae: 10.9390\n",
            "Epoch 386/500\n",
            "2/2 [==============================] - 0s 5ms/step - loss: 19.7654 - mae: 19.7654\n",
            "Epoch 387/500\n",
            "2/2 [==============================] - 0s 6ms/step - loss: 24.8625 - mae: 24.8625\n",
            "Epoch 388/500\n",
            "2/2 [==============================] - 0s 9ms/step - loss: 8.7422 - mae: 8.7422\n",
            "Epoch 389/500\n",
            "2/2 [==============================] - 0s 6ms/step - loss: 5.9488 - mae: 5.9488\n",
            "Epoch 390/500\n",
            "2/2 [==============================] - 0s 5ms/step - loss: 24.4400 - mae: 24.4400\n",
            "Epoch 391/500\n",
            "2/2 [==============================] - 0s 6ms/step - loss: 5.9771 - mae: 5.9771\n",
            "Epoch 392/500\n",
            "2/2 [==============================] - 0s 4ms/step - loss: 16.3250 - mae: 16.3250\n",
            "Epoch 393/500\n",
            "2/2 [==============================] - 0s 6ms/step - loss: 6.0917 - mae: 6.0917\n",
            "Epoch 394/500\n",
            "2/2 [==============================] - 0s 4ms/step - loss: 11.0963 - mae: 11.0963\n",
            "Epoch 395/500\n",
            "2/2 [==============================] - 0s 10ms/step - loss: 14.9601 - mae: 14.9601\n",
            "Epoch 396/500\n",
            "2/2 [==============================] - 0s 14ms/step - loss: 7.6462 - mae: 7.6462\n",
            "Epoch 397/500\n",
            "2/2 [==============================] - 0s 7ms/step - loss: 8.7654 - mae: 8.7654\n",
            "Epoch 398/500\n",
            "2/2 [==============================] - 0s 4ms/step - loss: 14.5991 - mae: 14.5991\n",
            "Epoch 399/500\n",
            "2/2 [==============================] - 0s 4ms/step - loss: 11.3166 - mae: 11.3166\n",
            "Epoch 400/500\n",
            "2/2 [==============================] - 0s 8ms/step - loss: 21.9080 - mae: 21.9080\n",
            "Epoch 401/500\n",
            "2/2 [==============================] - 0s 5ms/step - loss: 14.8653 - mae: 14.8653\n",
            "Epoch 402/500\n",
            "2/2 [==============================] - 0s 8ms/step - loss: 8.4970 - mae: 8.4970\n",
            "Epoch 403/500\n",
            "2/2 [==============================] - 0s 6ms/step - loss: 10.3957 - mae: 10.3957\n",
            "Epoch 404/500\n",
            "2/2 [==============================] - 0s 4ms/step - loss: 10.2556 - mae: 10.2556\n",
            "Epoch 405/500\n",
            "2/2 [==============================] - 0s 5ms/step - loss: 6.3392 - mae: 6.3392\n",
            "Epoch 406/500\n",
            "2/2 [==============================] - 0s 12ms/step - loss: 17.4602 - mae: 17.4602\n",
            "Epoch 407/500\n",
            "2/2 [==============================] - 0s 5ms/step - loss: 11.4627 - mae: 11.4627\n",
            "Epoch 408/500\n",
            "2/2 [==============================] - 0s 4ms/step - loss: 20.7294 - mae: 20.7294\n",
            "Epoch 409/500\n",
            "2/2 [==============================] - 0s 5ms/step - loss: 31.3338 - mae: 31.3338\n",
            "Epoch 410/500\n",
            "2/2 [==============================] - 0s 4ms/step - loss: 9.2542 - mae: 9.2542\n",
            "Epoch 411/500\n",
            "2/2 [==============================] - 0s 4ms/step - loss: 14.8621 - mae: 14.8621\n",
            "Epoch 412/500\n",
            "2/2 [==============================] - 0s 12ms/step - loss: 21.7182 - mae: 21.7182\n",
            "Epoch 413/500\n",
            "2/2 [==============================] - 0s 5ms/step - loss: 12.6615 - mae: 12.6615\n",
            "Epoch 414/500\n",
            "2/2 [==============================] - 0s 3ms/step - loss: 6.0687 - mae: 6.0687\n",
            "Epoch 415/500\n",
            "2/2 [==============================] - 0s 6ms/step - loss: 13.2201 - mae: 13.2201\n",
            "Epoch 416/500\n",
            "2/2 [==============================] - 0s 5ms/step - loss: 27.4244 - mae: 27.4244\n",
            "Epoch 417/500\n",
            "2/2 [==============================] - 0s 10ms/step - loss: 10.6407 - mae: 10.6407\n",
            "Epoch 418/500\n",
            "2/2 [==============================] - 0s 5ms/step - loss: 12.8230 - mae: 12.8230\n",
            "Epoch 419/500\n",
            "2/2 [==============================] - 0s 4ms/step - loss: 15.8836 - mae: 15.8836\n",
            "Epoch 420/500\n",
            "2/2 [==============================] - 0s 4ms/step - loss: 24.7510 - mae: 24.7510\n",
            "Epoch 421/500\n",
            "2/2 [==============================] - 0s 11ms/step - loss: 17.3753 - mae: 17.3753\n",
            "Epoch 422/500\n",
            "2/2 [==============================] - 0s 4ms/step - loss: 7.8241 - mae: 7.8241\n",
            "Epoch 423/500\n",
            "2/2 [==============================] - 0s 5ms/step - loss: 25.3789 - mae: 25.3789\n",
            "Epoch 424/500\n",
            "2/2 [==============================] - 0s 4ms/step - loss: 15.1031 - mae: 15.1031\n",
            "Epoch 425/500\n",
            "2/2 [==============================] - 0s 4ms/step - loss: 7.1643 - mae: 7.1643\n",
            "Epoch 426/500\n",
            "2/2 [==============================] - 0s 11ms/step - loss: 20.3318 - mae: 20.3318\n",
            "Epoch 427/500\n",
            "2/2 [==============================] - 0s 4ms/step - loss: 6.3283 - mae: 6.3283\n",
            "Epoch 428/500\n",
            "2/2 [==============================] - 0s 6ms/step - loss: 12.9961 - mae: 12.9961\n",
            "Epoch 429/500\n",
            "2/2 [==============================] - 0s 4ms/step - loss: 10.7869 - mae: 10.7869\n",
            "Epoch 430/500\n",
            "2/2 [==============================] - 0s 4ms/step - loss: 11.4007 - mae: 11.4007\n",
            "Epoch 431/500\n",
            "2/2 [==============================] - 0s 15ms/step - loss: 10.6152 - mae: 10.6152\n",
            "Epoch 432/500\n",
            "2/2 [==============================] - 0s 7ms/step - loss: 11.4582 - mae: 11.4582\n",
            "Epoch 433/500\n",
            "2/2 [==============================] - 0s 5ms/step - loss: 11.3851 - mae: 11.3851\n",
            "Epoch 434/500\n",
            "2/2 [==============================] - 0s 7ms/step - loss: 30.3986 - mae: 30.3986\n",
            "Epoch 435/500\n",
            "2/2 [==============================] - 0s 4ms/step - loss: 10.5052 - mae: 10.5052\n",
            "Epoch 436/500\n",
            "2/2 [==============================] - 0s 4ms/step - loss: 28.8810 - mae: 28.8810\n",
            "Epoch 437/500\n",
            "2/2 [==============================] - 0s 8ms/step - loss: 8.5916 - mae: 8.5916\n",
            "Epoch 438/500\n",
            "2/2 [==============================] - 0s 5ms/step - loss: 12.7378 - mae: 12.7378\n",
            "Epoch 439/500\n",
            "2/2 [==============================] - 0s 5ms/step - loss: 33.6754 - mae: 33.6754\n",
            "Epoch 440/500\n",
            "2/2 [==============================] - 0s 5ms/step - loss: 15.0963 - mae: 15.0963\n",
            "Epoch 441/500\n",
            "2/2 [==============================] - 0s 6ms/step - loss: 17.4813 - mae: 17.4813\n",
            "Epoch 442/500\n",
            "2/2 [==============================] - 0s 4ms/step - loss: 22.3049 - mae: 22.3049\n",
            "Epoch 443/500\n",
            "2/2 [==============================] - 0s 8ms/step - loss: 23.5841 - mae: 23.5841\n",
            "Epoch 444/500\n",
            "2/2 [==============================] - 0s 4ms/step - loss: 11.0008 - mae: 11.0008\n",
            "Epoch 445/500\n",
            "2/2 [==============================] - 0s 5ms/step - loss: 14.9175 - mae: 14.9175\n",
            "Epoch 446/500\n",
            "2/2 [==============================] - 0s 4ms/step - loss: 17.9979 - mae: 17.9979\n",
            "Epoch 447/500\n",
            "2/2 [==============================] - 0s 5ms/step - loss: 5.4482 - mae: 5.4482\n",
            "Epoch 448/500\n",
            "2/2 [==============================] - 0s 10ms/step - loss: 10.0527 - mae: 10.0527\n",
            "Epoch 449/500\n",
            "2/2 [==============================] - 0s 16ms/step - loss: 14.0052 - mae: 14.0052\n",
            "Epoch 450/500\n",
            "2/2 [==============================] - 0s 4ms/step - loss: 16.7782 - mae: 16.7782\n",
            "Epoch 451/500\n",
            "2/2 [==============================] - 0s 5ms/step - loss: 14.2937 - mae: 14.2937\n",
            "Epoch 452/500\n",
            "2/2 [==============================] - 0s 8ms/step - loss: 30.6193 - mae: 30.6193\n",
            "Epoch 453/500\n",
            "2/2 [==============================] - 0s 3ms/step - loss: 7.6541 - mae: 7.6541\n",
            "Epoch 454/500\n",
            "2/2 [==============================] - 0s 4ms/step - loss: 28.1428 - mae: 28.1428\n",
            "Epoch 455/500\n",
            "2/2 [==============================] - 0s 11ms/step - loss: 8.0017 - mae: 8.0017\n",
            "Epoch 456/500\n",
            "2/2 [==============================] - 0s 7ms/step - loss: 10.3933 - mae: 10.3933\n",
            "Epoch 457/500\n",
            "2/2 [==============================] - 0s 4ms/step - loss: 15.0242 - mae: 15.0242\n",
            "Epoch 458/500\n",
            "2/2 [==============================] - 0s 4ms/step - loss: 16.5653 - mae: 16.5653\n",
            "Epoch 459/500\n",
            "2/2 [==============================] - 0s 9ms/step - loss: 26.8566 - mae: 26.8566\n",
            "Epoch 460/500\n",
            "2/2 [==============================] - 0s 5ms/step - loss: 12.4852 - mae: 12.4852\n",
            "Epoch 461/500\n",
            "2/2 [==============================] - 0s 5ms/step - loss: 12.4784 - mae: 12.4784\n",
            "Epoch 462/500\n",
            "2/2 [==============================] - 0s 15ms/step - loss: 13.3186 - mae: 13.3186\n",
            "Epoch 463/500\n",
            "2/2 [==============================] - 0s 8ms/step - loss: 29.5524 - mae: 29.5524\n",
            "Epoch 464/500\n",
            "2/2 [==============================] - 0s 16ms/step - loss: 3.4664 - mae: 3.4664\n",
            "Epoch 465/500\n",
            "2/2 [==============================] - 0s 11ms/step - loss: 15.2136 - mae: 15.2136\n",
            "Epoch 466/500\n",
            "2/2 [==============================] - 0s 5ms/step - loss: 20.8327 - mae: 20.8327\n",
            "Epoch 467/500\n",
            "2/2 [==============================] - 0s 7ms/step - loss: 30.5108 - mae: 30.5108\n",
            "Epoch 468/500\n",
            "2/2 [==============================] - 0s 5ms/step - loss: 11.0597 - mae: 11.0597\n",
            "Epoch 469/500\n",
            "2/2 [==============================] - 0s 7ms/step - loss: 12.8372 - mae: 12.8372\n",
            "Epoch 470/500\n",
            "2/2 [==============================] - 0s 7ms/step - loss: 3.2398 - mae: 3.2398\n",
            "Epoch 471/500\n",
            "2/2 [==============================] - 0s 9ms/step - loss: 16.6964 - mae: 16.6964\n",
            "Epoch 472/500\n",
            "2/2 [==============================] - 0s 10ms/step - loss: 13.3883 - mae: 13.3883\n",
            "Epoch 473/500\n",
            "2/2 [==============================] - 0s 5ms/step - loss: 15.2771 - mae: 15.2771\n",
            "Epoch 474/500\n",
            "2/2 [==============================] - 0s 8ms/step - loss: 11.7448 - mae: 11.7448\n",
            "Epoch 475/500\n",
            "2/2 [==============================] - 0s 5ms/step - loss: 16.4113 - mae: 16.4113\n",
            "Epoch 476/500\n",
            "2/2 [==============================] - 0s 8ms/step - loss: 13.8785 - mae: 13.8785\n",
            "Epoch 477/500\n",
            "2/2 [==============================] - 0s 7ms/step - loss: 30.6702 - mae: 30.6702\n",
            "Epoch 478/500\n",
            "2/2 [==============================] - 0s 10ms/step - loss: 8.5880 - mae: 8.5880\n",
            "Epoch 479/500\n",
            "2/2 [==============================] - 0s 6ms/step - loss: 10.7384 - mae: 10.7384\n",
            "Epoch 480/500\n",
            "2/2 [==============================] - 0s 7ms/step - loss: 17.9051 - mae: 17.9051\n",
            "Epoch 481/500\n",
            "2/2 [==============================] - 0s 5ms/step - loss: 15.8095 - mae: 15.8095\n",
            "Epoch 482/500\n",
            "2/2 [==============================] - 0s 7ms/step - loss: 21.3054 - mae: 21.3054\n",
            "Epoch 483/500\n",
            "2/2 [==============================] - 0s 6ms/step - loss: 25.3845 - mae: 25.3845\n",
            "Epoch 484/500\n",
            "2/2 [==============================] - 0s 6ms/step - loss: 23.9815 - mae: 23.9815\n",
            "Epoch 485/500\n",
            "2/2 [==============================] - 0s 7ms/step - loss: 5.7734 - mae: 5.7734\n",
            "Epoch 486/500\n",
            "2/2 [==============================] - 0s 3ms/step - loss: 20.0010 - mae: 20.0010\n",
            "Epoch 487/500\n",
            "2/2 [==============================] - 0s 6ms/step - loss: 14.0419 - mae: 14.0419\n",
            "Epoch 488/500\n",
            "2/2 [==============================] - 0s 6ms/step - loss: 30.6088 - mae: 30.6088\n",
            "Epoch 489/500\n",
            "2/2 [==============================] - 0s 8ms/step - loss: 11.9409 - mae: 11.9409\n",
            "Epoch 490/500\n",
            "2/2 [==============================] - 0s 7ms/step - loss: 12.7352 - mae: 12.7352\n",
            "Epoch 491/500\n",
            "2/2 [==============================] - 0s 6ms/step - loss: 23.6139 - mae: 23.6139\n",
            "Epoch 492/500\n",
            "2/2 [==============================] - 0s 5ms/step - loss: 20.5365 - mae: 20.5365\n",
            "Epoch 493/500\n",
            "2/2 [==============================] - 0s 4ms/step - loss: 4.9942 - mae: 4.9942\n",
            "Epoch 494/500\n",
            "2/2 [==============================] - 0s 3ms/step - loss: 12.7986 - mae: 12.7986\n",
            "Epoch 495/500\n",
            "2/2 [==============================] - 0s 9ms/step - loss: 13.3772 - mae: 13.3772\n",
            "Epoch 496/500\n",
            "2/2 [==============================] - 0s 15ms/step - loss: 12.6727 - mae: 12.6727\n",
            "Epoch 497/500\n",
            "2/2 [==============================] - 0s 7ms/step - loss: 17.6192 - mae: 17.6192\n",
            "Epoch 498/500\n",
            "2/2 [==============================] - 0s 8ms/step - loss: 23.5629 - mae: 23.5629\n",
            "Epoch 499/500\n",
            "2/2 [==============================] - 0s 13ms/step - loss: 9.3755 - mae: 9.3755\n",
            "Epoch 500/500\n",
            "2/2 [==============================] - 0s 5ms/step - loss: 14.6316 - mae: 14.6316\n"
          ]
        },
        {
          "output_type": "execute_result",
          "data": {
            "text/plain": [
              "<keras.callbacks.History at 0x7f6b82f526d0>"
            ]
          },
          "metadata": {},
          "execution_count": 76
        }
      ]
    },
    {
      "cell_type": "code",
      "metadata": {
        "colab": {
          "base_uri": "https://localhost:8080/",
          "height": 428
        },
        "id": "1TiBRuxQ4YlJ",
        "outputId": "08d6dc85-10ad-4500-ad5a-cce48f14753b"
      },
      "source": [
        "# Make and plot predictions for model_1\n",
        "y_preds_3 = model_3.predict(X_test)\n",
        "plot_predictions(predictions=y_preds_3)"
      ],
      "execution_count": null,
      "outputs": [
        {
          "output_type": "display_data",
          "data": {
            "image/png": "[encoded data removed]",
            "text/plain": [
              "<Figure size 720x504 with 1 Axes>"
            ]
          },
          "metadata": {
            "needs_background": "light"
          }
        }
      ]
    },
    {
      "cell_type": "code",
      "metadata": {
        "colab": {
          "base_uri": "https://localhost:8080/"
        },
        "id": "5wcC_88V4yd7",
        "outputId": "36168b10-64b0-4186-c594-4ac4d06cae56"
      },
      "source": [
        "# Calculate model_2 metrics\n",
        "mae_3 = mae(y_test, y_preds_3)\n",
        "mse_3= mse(y_test, y_preds_3)\n",
        "mae_3, mse_3"
      ],
      "execution_count": null,
      "outputs": [
        {
          "output_type": "execute_result",
          "data": {
            "text/plain": [
              "(<tf.Tensor: shape=(), dtype=float32, numpy=68.713615>,\n",
              " <tf.Tensor: shape=(), dtype=float32, numpy=4808.0273>)"
            ]
          },
          "metadata": {},
          "execution_count": 78
        }
      ]
    },
    {
      "cell_type": "markdown",
      "metadata": {
        "id": "wdFCNqNZ5Oz5"
      },
      "source": [
        "🔑 **Note:** You want to start with small experiments (small models) and make sure they work and then increase their scale when necessary \n",
        "\n",
        "> \"Experiments,Experiments,Experiments!!!!\""
      ]
    },
    {
      "cell_type": "markdown",
      "metadata": {
        "id": "9vQhWM-g5L1_"
      },
      "source": [
        "### Comparing results\n",
        "\n",
        "We've run a few experiments, let's compare the results."
      ]
    },
    {
      "cell_type": "code",
      "metadata": {
        "colab": {
          "base_uri": "https://localhost:8080/",
          "height": 143
        },
        "id": "BI8Scsxu5Huq",
        "outputId": "01f9e31d-8682-4adb-cfe0-ab85dc71c976"
      },
      "source": [
        "# Let's compare our model's results using a pandas DataFrame\n",
        "import pandas as pd\n",
        "\n",
        "model_results = [[\"model_1\", mae_1.numpy(), mse_1.numpy()],\n",
        "                 [\"model_2\", mae_2.numpy(), mse_2.numpy()],\n",
        "                 [\"model_3\", mae_3.numpy(), mse_3.numpy()]]\n",
        "\n",
        "all_results = pd.DataFrame(model_results, columns=[\"model\", \"mae\", \"mse\"])\n",
        "all_results"
      ],
      "execution_count": null,
      "outputs": [
        {
          "output_type": "execute_result",
          "data": {
            "text/html": [
              "<div>\n",
              "<style scoped>\n",
              "    .dataframe tbody tr th:only-of-type {\n",
              "        vertical-align: middle;\n",
              "    }\n",
              "\n",
              "    .dataframe tbody tr th {\n",
              "        vertical-align: top;\n",
              "    }\n",
              "\n",
              "    .dataframe thead th {\n",
              "        text-align: right;\n",
              "    }\n",
              "</style>\n",
              "<table border=\"1\" class=\"dataframe\">\n",
              "  <thead>\n",
              "    <tr style=\"text-align: right;\">\n",
              "      <th></th>\n",
              "      <th>model</th>\n",
              "      <th>mae</th>\n",
              "      <th>mse</th>\n",
              "    </tr>\n",
              "  </thead>\n",
              "  <tbody>\n",
              "    <tr>\n",
              "      <th>0</th>\n",
              "      <td>model_1</td>\n",
              "      <td>18.745327</td>\n",
              "      <td>353.573364</td>\n",
              "    </tr>\n",
              "    <tr>\n",
              "      <th>1</th>\n",
              "      <td>model_2</td>\n",
              "      <td>3.196941</td>\n",
              "      <td>13.070143</td>\n",
              "    </tr>\n",
              "    <tr>\n",
              "      <th>2</th>\n",
              "      <td>model_3</td>\n",
              "      <td>68.713615</td>\n",
              "      <td>4808.027344</td>\n",
              "    </tr>\n",
              "  </tbody>\n",
              "</table>\n",
              "</div>"
            ],
            "text/plain": [
              "     model        mae          mse\n",
              "0  model_1  18.745327   353.573364\n",
              "1  model_2   3.196941    13.070143\n",
              "2  model_3  68.713615  4808.027344"
            ]
          },
          "metadata": {},
          "execution_count": 79
        }
      ]
    },
    {
      "cell_type": "markdown",
      "metadata": {
        "id": "1Wo6D27T6iI6"
      },
      "source": [
        "\n",
        "From our experiments, it looks like model_2 performed the best."
      ]
    },
    {
      "cell_type": "code",
      "metadata": {
        "colab": {
          "base_uri": "https://localhost:8080/"
        },
        "id": "7Z0anBFn6R4j",
        "outputId": "387c9fd0-aa31-4de3-d10d-01c4040394a6"
      },
      "source": [
        "model_2.summary()"
      ],
      "execution_count": null,
      "outputs": [
        {
          "output_type": "stream",
          "name": "stdout",
          "text": [
            "Model: \"sequential_9\"\n",
            "_________________________________________________________________\n",
            "Layer (type)                 Output Shape              Param #   \n",
            "=================================================================\n",
            "dense_14 (Dense)             (None, 10)                20        \n",
            "_________________________________________________________________\n",
            "dense_15 (Dense)             (None, 1)                 11        \n",
            "=================================================================\n",
            "Total params: 31\n",
            "Trainable params: 31\n",
            "Non-trainable params: 0\n",
            "_________________________________________________________________\n"
          ]
        }
      ]
    },
    {
      "cell_type": "markdown",
      "metadata": {
        "id": "lgcDRbbL6lOO"
      },
      "source": [
        "> 🔑 **Note:** One of your main goals should be to minimize the time between your experiments. The more experiments you do, the more things you'll figure out which don't work and in turn, get closer to figuring out what does work. Remember the machine learning practitioner's motto: \"experiment, experiment, experiment\"."
      ]
    },
    {
      "cell_type": "markdown",
      "metadata": {
        "id": "x6bB-2j-7EQh"
      },
      "source": [
        "## Tracking your experiments\n",
        "\n",
        "One really good habit to get into is tracking your modelling experiments to see which perform better than others.\n",
        "\n",
        "And when doing so, it can be tedious if you're running lots of experiments\n",
        "\n",
        "Luckily, there are tools to help us\n",
        "\n",
        "📖 **Resource:** As you build more models, you'll want to look into using:\n",
        "* **[TensorBoard](https://tensorboard.dev/)** - a component of the TensorFlow library to help track modelling experiments (we'll see this later).\n",
        "* **[Weights & Biases](https://wandb.ai/site)** - a tool for tracking all kinds of machine learning experiments (the good news for Weights & Biases is it plugs into TensorBoard)."
      ]
    },
    {
      "cell_type": "markdown",
      "metadata": {
        "id": "3NjfnYmv76qZ"
      },
      "source": [
        "## Saving our models\n",
        "\n",
        "Saving our model allows us to use themoutside of Google Colab (or wherever they were trained) such as in a web application or a mobile app.\n",
        "\n",
        "There are two main formats we can save our model's too:\n",
        "1. The SavedModel format\n",
        "2. THe HDF5 format"
      ]
    },
    {
      "cell_type": "code",
      "metadata": {
        "id": "SpwE2TMA6WWp",
        "colab": {
          "base_uri": "https://localhost:8080/"
        },
        "outputId": "a41095e7-5cdf-410b-9384-1b8cbedc6d0d"
      },
      "source": [
        "# Save model using the SavedModel format\n",
        "model_2.save(\"best_model_SaveModel_format\")"
      ],
      "execution_count": null,
      "outputs": [
        {
          "output_type": "stream",
          "name": "stdout",
          "text": [
            "INFO:tensorflow:Assets written to: best_model_SaveModel_format/assets\n"
          ]
        }
      ]
    },
    {
      "cell_type": "markdown",
      "metadata": {
        "id": "-iHjMJFXVP-H"
      },
      "source": [
        "If you are staying in pure TensorFlow code, you are probably better off using the SaveFormat Method."
      ]
    },
    {
      "cell_type": "code",
      "metadata": {
        "id": "iI4gtJSrT00r"
      },
      "source": [
        "# Save model using the HDF5 format\n",
        "model_2.save(\"best_model_SaveModel_format.h5\")"
      ],
      "execution_count": null,
      "outputs": []
    },
    {
      "cell_type": "markdown",
      "metadata": {
        "id": "BmkHh74vVc_K"
      },
      "source": [
        "If you are going out from TensorFlow code, you are probably better off using the HDF5 Method."
      ]
    },
    {
      "cell_type": "markdown",
      "metadata": {
        "id": "FFo96iGiVwz-"
      },
      "source": [
        "### Loading a saved Model\n"
      ]
    },
    {
      "cell_type": "code",
      "metadata": {
        "colab": {
          "base_uri": "https://localhost:8080/"
        },
        "id": "mjLXSStDVkV_",
        "outputId": "68cba648-e310-44f3-9312-4c0ee5d63a3d"
      },
      "source": [
        "# Load in the SavedModel format model\n",
        "loaded_SavedModel_format = tf.keras.models.load_model(\"best_model_SaveModel_format\")\n",
        "loaded_SavedModel_format.summary()"
      ],
      "execution_count": null,
      "outputs": [
        {
          "output_type": "stream",
          "name": "stdout",
          "text": [
            "Model: \"sequential_9\"\n",
            "_________________________________________________________________\n",
            "Layer (type)                 Output Shape              Param #   \n",
            "=================================================================\n",
            "dense_14 (Dense)             (None, 10)                20        \n",
            "_________________________________________________________________\n",
            "dense_15 (Dense)             (None, 1)                 11        \n",
            "=================================================================\n",
            "Total params: 31\n",
            "Trainable params: 31\n",
            "Non-trainable params: 0\n",
            "_________________________________________________________________\n"
          ]
        }
      ]
    },
    {
      "cell_type": "code",
      "metadata": {
        "colab": {
          "base_uri": "https://localhost:8080/"
        },
        "id": "BN3kv0BTWVEv",
        "outputId": "5f646685-5057-4e02-f885-b2dadfccb426"
      },
      "source": [
        "model_2.summary()"
      ],
      "execution_count": null,
      "outputs": [
        {
          "output_type": "stream",
          "name": "stdout",
          "text": [
            "Model: \"sequential_9\"\n",
            "_________________________________________________________________\n",
            "Layer (type)                 Output Shape              Param #   \n",
            "=================================================================\n",
            "dense_14 (Dense)             (None, 10)                20        \n",
            "_________________________________________________________________\n",
            "dense_15 (Dense)             (None, 1)                 11        \n",
            "=================================================================\n",
            "Total params: 31\n",
            "Trainable params: 31\n",
            "Non-trainable params: 0\n",
            "_________________________________________________________________\n"
          ]
        }
      ]
    },
    {
      "cell_type": "code",
      "metadata": {
        "colab": {
          "base_uri": "https://localhost:8080/"
        },
        "id": "WuPmG5B9Wk6N",
        "outputId": "128cd1c2-c064-4be6-a379-c4a0334e80c2"
      },
      "source": [
        "# Compare model_2 with the SavedModel version (should return True)\n",
        "model_2_preds =model_2.predict(X_test)\n",
        "loaded_SavedModel_format_preds = loaded_SavedModel_format.predict(X_test)\n",
        "model_2_preds == loaded_SavedModel_format_preds"
      ],
      "execution_count": null,
      "outputs": [
        {
          "output_type": "execute_result",
          "data": {
            "text/plain": [
              "array([[ True],\n",
              "       [ True],\n",
              "       [ True],\n",
              "       [ True],\n",
              "       [ True],\n",
              "       [ True],\n",
              "       [ True],\n",
              "       [ True],\n",
              "       [ True],\n",
              "       [ True]])"
            ]
          },
          "metadata": {},
          "execution_count": 89
        }
      ]
    },
    {
      "cell_type": "code",
      "metadata": {
        "colab": {
          "base_uri": "https://localhost:8080/"
        },
        "id": "R9y4tluPW7u-",
        "outputId": "49169e2c-d24e-4f22-b083-8200777fa862"
      },
      "source": [
        "mae(y_test, model_2_preds) == mae(y_test, loaded_SavedModel_format_preds)"
      ],
      "execution_count": null,
      "outputs": [
        {
          "output_type": "execute_result",
          "data": {
            "text/plain": [
              "<tf.Tensor: shape=(), dtype=bool, numpy=True>"
            ]
          },
          "metadata": {},
          "execution_count": 94
        }
      ]
    },
    {
      "cell_type": "code",
      "metadata": {
        "id": "wYkgQfrOXfLn"
      },
      "source": [
        "# Load in a model using the .h6 format\n",
        "loaded_h5_model = tf.keras.models.load_model(\"best_model_SaveModel_format.h5\")"
      ],
      "execution_count": null,
      "outputs": []
    },
    {
      "cell_type": "code",
      "metadata": {
        "colab": {
          "base_uri": "https://localhost:8080/"
        },
        "id": "YG-SxESpYYgi",
        "outputId": "5338b2e6-3f8a-4cef-e41b-ef2f2caf38ae"
      },
      "source": [
        "model_2.summary()"
      ],
      "execution_count": null,
      "outputs": [
        {
          "output_type": "stream",
          "name": "stdout",
          "text": [
            "Model: \"sequential_9\"\n",
            "_________________________________________________________________\n",
            "Layer (type)                 Output Shape              Param #   \n",
            "=================================================================\n",
            "dense_14 (Dense)             (None, 10)                20        \n",
            "_________________________________________________________________\n",
            "dense_15 (Dense)             (None, 1)                 11        \n",
            "=================================================================\n",
            "Total params: 31\n",
            "Trainable params: 31\n",
            "Non-trainable params: 0\n",
            "_________________________________________________________________\n"
          ]
        }
      ]
    },
    {
      "cell_type": "code",
      "metadata": {
        "colab": {
          "base_uri": "https://localhost:8080/"
        },
        "id": "mjVRs-6aYavW",
        "outputId": "5809ac98-9097-48cd-89a2-688bc6cf5ffe"
      },
      "source": [
        "# Compare model_2 with the .h5 version (should return True)\n",
        "model_2_preds =model_2.predict(X_test)\n",
        "loaded_h5_format_preds = loaded_h5_model.predict(X_test)\n",
        "model_2_preds == loaded_h5_format_preds"
      ],
      "execution_count": null,
      "outputs": [
        {
          "output_type": "execute_result",
          "data": {
            "text/plain": [
              "array([[ True],\n",
              "       [ True],\n",
              "       [ True],\n",
              "       [ True],\n",
              "       [ True],\n",
              "       [ True],\n",
              "       [ True],\n",
              "       [ True],\n",
              "       [ True],\n",
              "       [ True]])"
            ]
          },
          "metadata": {},
          "execution_count": 98
        }
      ]
    },
    {
      "cell_type": "markdown",
      "metadata": {
        "id": "WO59nlyyY7Cu"
      },
      "source": [
        "## Downloading a model or any other file from Google Colab\n",
        "\n",
        "If you want to download your files from Google Colab:\n",
        "\n",
        "1. You can go to \"files\" tab and right click on the file you're after and click 'download'.\n",
        "2. Use Code (see the cell below).\n",
        "3. Save it to Google Drive by connecting to Gogle Drive and copying it there (See 2nd code cell below)."
      ]
    },
    {
      "cell_type": "code",
      "metadata": {
        "colab": {
          "base_uri": "https://localhost:8080/",
          "height": 17
        },
        "id": "9Zx40CTZYoGX",
        "outputId": "002ef42e-1384-4425-aceb-3bd9ed175cc7"
      },
      "source": [
        "# Download a file from Google Colab\n",
        "from google.colab import files\n",
        "files.download(\"/content/best_model_SaveModel_format.h5\")"
      ],
      "execution_count": null,
      "outputs": [
        {
          "output_type": "display_data",
          "data": {
            "application/javascript": [
              "\n",
              "    async function download(id, filename, size) {\n",
              "      if (!google.colab.kernel.accessAllowed) {\n",
              "        return;\n",
              "      }\n",
              "      const div = document.createElement('div');\n",
              "      const label = document.createElement('label');\n",
              "      label.textContent = `Downloading \"${filename}\": `;\n",
              "      div.appendChild(label);\n",
              "      const progress = document.createElement('progress');\n",
              "      progress.max = size;\n",
              "      div.appendChild(progress);\n",
              "      document.body.appendChild(div);\n",
              "\n",
              "      const buffers = [];\n",
              "      let downloaded = 0;\n",
              "\n",
              "      const channel = await google.colab.kernel.comms.open(id);\n",
              "      // Send a message to notify the kernel that we're ready.\n",
              "      channel.send({})\n",
              "\n",
              "      for await (const message of channel.messages) {\n",
              "        // Send a message to notify the kernel that we're ready.\n",
              "        channel.send({})\n",
              "        if (message.buffers) {\n",
              "          for (const buffer of message.buffers) {\n",
              "            buffers.push(buffer);\n",
              "            downloaded += buffer.byteLength;\n",
              "            progress.value = downloaded;\n",
              "          }\n",
              "        }\n",
              "      }\n",
              "      const blob = new Blob(buffers, {type: 'application/binary'});\n",
              "      const a = document.createElement('a');\n",
              "      a.href = window.URL.createObjectURL(blob);\n",
              "      a.download = filename;\n",
              "      div.appendChild(a);\n",
              "      a.click();\n",
              "      div.remove();\n",
              "    }\n",
              "  "
            ],
            "text/plain": [
              "<IPython.core.display.Javascript object>"
            ]
          },
          "metadata": {}
        },
        {
          "output_type": "display_data",
          "data": {
            "application/javascript": [
              "download(\"download_2550ff54-7a7b-4fc4-92e6-c54dd88aca2e\", \"best_model_SaveModel_format.h5\", 17040)"
            ],
            "text/plain": [
              "<IPython.core.display.Javascript object>"
            ]
          },
          "metadata": {}
        }
      ]
    },
    {
      "cell_type": "code",
      "metadata": {
        "id": "EFGF2QURZ21X"
      },
      "source": [
        "# Save a file from Google Colab to Google Drive (Requires mounting Google Drive)\n",
        "!cp /content/best_model_SaveModel_format.h5 /content/drive/MyDrive"
      ],
      "execution_count": null,
      "outputs": []
    },
    {
      "cell_type": "code",
      "metadata": {
        "colab": {
          "base_uri": "https://localhost:8080/"
        },
        "id": "IZ3iJIQiaiwx",
        "outputId": "03b5693c-e029-4661-c612-1e889b15bb33"
      },
      "source": [
        "!ls /content/drive/MyDrive"
      ],
      "execution_count": null,
      "outputs": [
        {
          "output_type": "stream",
          "name": "stdout",
          "text": [
            " best_model_SaveModel_format.h5  'Google Earth'\n",
            "'Colab Notebooks'\t\t 'Thesis Improved (71321).docx'\n"
          ]
        }
      ]
    },
    {
      "cell_type": "markdown",
      "metadata": {
        "id": "B8ftkbzXa4Us"
      },
      "source": [
        "## A Larger Example\n",
        "\n",
        "Let's step it up a notch and build a model for a more feature rich datase.\n",
        "\n",
        "More specifically we're going to try predict the cost of medical insurance for individuals based on a number of different parameters such as, age, sex, bmi, children, smoking_status and residential_region.\n",
        "\n",
        "The link to the dataset is in [Kaggle's Medical Cost Personal Datasets](https://www.kaggle.com/mirichoi0218/insurance) and the raw dataset of the insurance is hosted on [Github](https://raw.githubusercontent.com/stedy/Machine-Learning-with-R-datasets/master/insurance.csv)\n",
        "\n",
        "> 🔑 **Note:** When learning machine learning paradigms, you'll often go through a series of foundational techniques and then practice them by working with open-source datasets and examples. Just as we're doing now, learn foundations, put them to work with different problems. Every time you work on something new, it's a good idea to search for something like \"problem X example with Python/TensorFlow\" where you substitute X for your problem.\n"
      ]
    },
    {
      "cell_type": "code",
      "metadata": {
        "id": "Uo7xutElalBe"
      },
      "source": [
        "# Import required libraries\n",
        "import tensorflow as tf\n",
        "import pandas as pd\n",
        "import matplotlib.pyplot as plt"
      ],
      "execution_count": null,
      "outputs": []
    },
    {
      "cell_type": "code",
      "metadata": {
        "colab": {
          "base_uri": "https://localhost:8080/",
          "height": 424
        },
        "id": "DImC_xiUb_eR",
        "outputId": "08b4aa77-59f7-4546-d55f-e157c29c2727"
      },
      "source": [
        "# Read in the insurance dataset and check the dataset\n",
        "insurance = pd.read_csv(\"https://raw.githubusercontent.com/stedy/Machine-Learning-with-R-datasets/master/insurance.csv\")\n",
        "insurance"
      ],
      "execution_count": null,
      "outputs": [
        {
          "output_type": "execute_result",
          "data": {
            "text/html": [
              "<div>\n",
              "<style scoped>\n",
              "    .dataframe tbody tr th:only-of-type {\n",
              "        vertical-align: middle;\n",
              "    }\n",
              "\n",
              "    .dataframe tbody tr th {\n",
              "        vertical-align: top;\n",
              "    }\n",
              "\n",
              "    .dataframe thead th {\n",
              "        text-align: right;\n",
              "    }\n",
              "</style>\n",
              "<table border=\"1\" class=\"dataframe\">\n",
              "  <thead>\n",
              "    <tr style=\"text-align: right;\">\n",
              "      <th></th>\n",
              "      <th>age</th>\n",
              "      <th>sex</th>\n",
              "      <th>bmi</th>\n",
              "      <th>children</th>\n",
              "      <th>smoker</th>\n",
              "      <th>region</th>\n",
              "      <th>charges</th>\n",
              "    </tr>\n",
              "  </thead>\n",
              "  <tbody>\n",
              "    <tr>\n",
              "      <th>0</th>\n",
              "      <td>19</td>\n",
              "      <td>female</td>\n",
              "      <td>27.900</td>\n",
              "      <td>0</td>\n",
              "      <td>yes</td>\n",
              "      <td>southwest</td>\n",
              "      <td>16884.92400</td>\n",
              "    </tr>\n",
              "    <tr>\n",
              "      <th>1</th>\n",
              "      <td>18</td>\n",
              "      <td>male</td>\n",
              "      <td>33.770</td>\n",
              "      <td>1</td>\n",
              "      <td>no</td>\n",
              "      <td>southeast</td>\n",
              "      <td>1725.55230</td>\n",
              "    </tr>\n",
              "    <tr>\n",
              "      <th>2</th>\n",
              "      <td>28</td>\n",
              "      <td>male</td>\n",
              "      <td>33.000</td>\n",
              "      <td>3</td>\n",
              "      <td>no</td>\n",
              "      <td>southeast</td>\n",
              "      <td>4449.46200</td>\n",
              "    </tr>\n",
              "    <tr>\n",
              "      <th>3</th>\n",
              "      <td>33</td>\n",
              "      <td>male</td>\n",
              "      <td>22.705</td>\n",
              "      <td>0</td>\n",
              "      <td>no</td>\n",
              "      <td>northwest</td>\n",
              "      <td>21984.47061</td>\n",
              "    </tr>\n",
              "    <tr>\n",
              "      <th>4</th>\n",
              "      <td>32</td>\n",
              "      <td>male</td>\n",
              "      <td>28.880</td>\n",
              "      <td>0</td>\n",
              "      <td>no</td>\n",
              "      <td>northwest</td>\n",
              "      <td>3866.85520</td>\n",
              "    </tr>\n",
              "    <tr>\n",
              "      <th>...</th>\n",
              "      <td>...</td>\n",
              "      <td>...</td>\n",
              "      <td>...</td>\n",
              "      <td>...</td>\n",
              "      <td>...</td>\n",
              "      <td>...</td>\n",
              "      <td>...</td>\n",
              "    </tr>\n",
              "    <tr>\n",
              "      <th>1333</th>\n",
              "      <td>50</td>\n",
              "      <td>male</td>\n",
              "      <td>30.970</td>\n",
              "      <td>3</td>\n",
              "      <td>no</td>\n",
              "      <td>northwest</td>\n",
              "      <td>10600.54830</td>\n",
              "    </tr>\n",
              "    <tr>\n",
              "      <th>1334</th>\n",
              "      <td>18</td>\n",
              "      <td>female</td>\n",
              "      <td>31.920</td>\n",
              "      <td>0</td>\n",
              "      <td>no</td>\n",
              "      <td>northeast</td>\n",
              "      <td>2205.98080</td>\n",
              "    </tr>\n",
              "    <tr>\n",
              "      <th>1335</th>\n",
              "      <td>18</td>\n",
              "      <td>female</td>\n",
              "      <td>36.850</td>\n",
              "      <td>0</td>\n",
              "      <td>no</td>\n",
              "      <td>southeast</td>\n",
              "      <td>1629.83350</td>\n",
              "    </tr>\n",
              "    <tr>\n",
              "      <th>1336</th>\n",
              "      <td>21</td>\n",
              "      <td>female</td>\n",
              "      <td>25.800</td>\n",
              "      <td>0</td>\n",
              "      <td>no</td>\n",
              "      <td>southwest</td>\n",
              "      <td>2007.94500</td>\n",
              "    </tr>\n",
              "    <tr>\n",
              "      <th>1337</th>\n",
              "      <td>61</td>\n",
              "      <td>female</td>\n",
              "      <td>29.070</td>\n",
              "      <td>0</td>\n",
              "      <td>yes</td>\n",
              "      <td>northwest</td>\n",
              "      <td>29141.36030</td>\n",
              "    </tr>\n",
              "  </tbody>\n",
              "</table>\n",
              "<p>1338 rows × 7 columns</p>\n",
              "</div>"
            ],
            "text/plain": [
              "      age     sex     bmi  children smoker     region      charges\n",
              "0      19  female  27.900         0    yes  southwest  16884.92400\n",
              "1      18    male  33.770         1     no  southeast   1725.55230\n",
              "2      28    male  33.000         3     no  southeast   4449.46200\n",
              "3      33    male  22.705         0     no  northwest  21984.47061\n",
              "4      32    male  28.880         0     no  northwest   3866.85520\n",
              "...   ...     ...     ...       ...    ...        ...          ...\n",
              "1333   50    male  30.970         3     no  northwest  10600.54830\n",
              "1334   18  female  31.920         0     no  northeast   2205.98080\n",
              "1335   18  female  36.850         0     no  southeast   1629.83350\n",
              "1336   21  female  25.800         0     no  southwest   2007.94500\n",
              "1337   61  female  29.070         0    yes  northwest  29141.36030\n",
              "\n",
              "[1338 rows x 7 columns]"
            ]
          },
          "metadata": {},
          "execution_count": 105
        }
      ]
    },
    {
      "cell_type": "markdown",
      "metadata": {
        "id": "0Xc7ezvwc2Fl"
      },
      "source": [
        "We can see from the above that some of our data are objects and some are numerical values. In ML, we first have to convert our objects to numerical values meaning we have to do `one-hot encoding`."
      ]
    },
    {
      "cell_type": "code",
      "metadata": {
        "colab": {
          "base_uri": "https://localhost:8080/",
          "height": 424
        },
        "id": "C5eE60NMcrZ3",
        "outputId": "3cf6028e-392f-4c1e-d4c2-7b85a65a7c93"
      },
      "source": [
        "# Let's try one-hot encode our DataFrame so it's all numbers\n",
        "insurance_one_hot = pd.get_dummies(insurance)\n",
        "insurance_one_hot"
      ],
      "execution_count": null,
      "outputs": [
        {
          "output_type": "execute_result",
          "data": {
            "text/html": [
              "<div>\n",
              "<style scoped>\n",
              "    .dataframe tbody tr th:only-of-type {\n",
              "        vertical-align: middle;\n",
              "    }\n",
              "\n",
              "    .dataframe tbody tr th {\n",
              "        vertical-align: top;\n",
              "    }\n",
              "\n",
              "    .dataframe thead th {\n",
              "        text-align: right;\n",
              "    }\n",
              "</style>\n",
              "<table border=\"1\" class=\"dataframe\">\n",
              "  <thead>\n",
              "    <tr style=\"text-align: right;\">\n",
              "      <th></th>\n",
              "      <th>age</th>\n",
              "      <th>bmi</th>\n",
              "      <th>children</th>\n",
              "      <th>charges</th>\n",
              "      <th>sex_female</th>\n",
              "      <th>sex_male</th>\n",
              "      <th>smoker_no</th>\n",
              "      <th>smoker_yes</th>\n",
              "      <th>region_northeast</th>\n",
              "      <th>region_northwest</th>\n",
              "      <th>region_southeast</th>\n",
              "      <th>region_southwest</th>\n",
              "    </tr>\n",
              "  </thead>\n",
              "  <tbody>\n",
              "    <tr>\n",
              "      <th>0</th>\n",
              "      <td>19</td>\n",
              "      <td>27.900</td>\n",
              "      <td>0</td>\n",
              "      <td>16884.92400</td>\n",
              "      <td>1</td>\n",
              "      <td>0</td>\n",
              "      <td>0</td>\n",
              "      <td>1</td>\n",
              "      <td>0</td>\n",
              "      <td>0</td>\n",
              "      <td>0</td>\n",
              "      <td>1</td>\n",
              "    </tr>\n",
              "    <tr>\n",
              "      <th>1</th>\n",
              "      <td>18</td>\n",
              "      <td>33.770</td>\n",
              "      <td>1</td>\n",
              "      <td>1725.55230</td>\n",
              "      <td>0</td>\n",
              "      <td>1</td>\n",
              "      <td>1</td>\n",
              "      <td>0</td>\n",
              "      <td>0</td>\n",
              "      <td>0</td>\n",
              "      <td>1</td>\n",
              "      <td>0</td>\n",
              "    </tr>\n",
              "    <tr>\n",
              "      <th>2</th>\n",
              "      <td>28</td>\n",
              "      <td>33.000</td>\n",
              "      <td>3</td>\n",
              "      <td>4449.46200</td>\n",
              "      <td>0</td>\n",
              "      <td>1</td>\n",
              "      <td>1</td>\n",
              "      <td>0</td>\n",
              "      <td>0</td>\n",
              "      <td>0</td>\n",
              "      <td>1</td>\n",
              "      <td>0</td>\n",
              "    </tr>\n",
              "    <tr>\n",
              "      <th>3</th>\n",
              "      <td>33</td>\n",
              "      <td>22.705</td>\n",
              "      <td>0</td>\n",
              "      <td>21984.47061</td>\n",
              "      <td>0</td>\n",
              "      <td>1</td>\n",
              "      <td>1</td>\n",
              "      <td>0</td>\n",
              "      <td>0</td>\n",
              "      <td>1</td>\n",
              "      <td>0</td>\n",
              "      <td>0</td>\n",
              "    </tr>\n",
              "    <tr>\n",
              "      <th>4</th>\n",
              "      <td>32</td>\n",
              "      <td>28.880</td>\n",
              "      <td>0</td>\n",
              "      <td>3866.85520</td>\n",
              "      <td>0</td>\n",
              "      <td>1</td>\n",
              "      <td>1</td>\n",
              "      <td>0</td>\n",
              "      <td>0</td>\n",
              "      <td>1</td>\n",
              "      <td>0</td>\n",
              "      <td>0</td>\n",
              "    </tr>\n",
              "    <tr>\n",
              "      <th>...</th>\n",
              "      <td>...</td>\n",
              "      <td>...</td>\n",
              "      <td>...</td>\n",
              "      <td>...</td>\n",
              "      <td>...</td>\n",
              "      <td>...</td>\n",
              "      <td>...</td>\n",
              "      <td>...</td>\n",
              "      <td>...</td>\n",
              "      <td>...</td>\n",
              "      <td>...</td>\n",
              "      <td>...</td>\n",
              "    </tr>\n",
              "    <tr>\n",
              "      <th>1333</th>\n",
              "      <td>50</td>\n",
              "      <td>30.970</td>\n",
              "      <td>3</td>\n",
              "      <td>10600.54830</td>\n",
              "      <td>0</td>\n",
              "      <td>1</td>\n",
              "      <td>1</td>\n",
              "      <td>0</td>\n",
              "      <td>0</td>\n",
              "      <td>1</td>\n",
              "      <td>0</td>\n",
              "      <td>0</td>\n",
              "    </tr>\n",
              "    <tr>\n",
              "      <th>1334</th>\n",
              "      <td>18</td>\n",
              "      <td>31.920</td>\n",
              "      <td>0</td>\n",
              "      <td>2205.98080</td>\n",
              "      <td>1</td>\n",
              "      <td>0</td>\n",
              "      <td>1</td>\n",
              "      <td>0</td>\n",
              "      <td>1</td>\n",
              "      <td>0</td>\n",
              "      <td>0</td>\n",
              "      <td>0</td>\n",
              "    </tr>\n",
              "    <tr>\n",
              "      <th>1335</th>\n",
              "      <td>18</td>\n",
              "      <td>36.850</td>\n",
              "      <td>0</td>\n",
              "      <td>1629.83350</td>\n",
              "      <td>1</td>\n",
              "      <td>0</td>\n",
              "      <td>1</td>\n",
              "      <td>0</td>\n",
              "      <td>0</td>\n",
              "      <td>0</td>\n",
              "      <td>1</td>\n",
              "      <td>0</td>\n",
              "    </tr>\n",
              "    <tr>\n",
              "      <th>1336</th>\n",
              "      <td>21</td>\n",
              "      <td>25.800</td>\n",
              "      <td>0</td>\n",
              "      <td>2007.94500</td>\n",
              "      <td>1</td>\n",
              "      <td>0</td>\n",
              "      <td>1</td>\n",
              "      <td>0</td>\n",
              "      <td>0</td>\n",
              "      <td>0</td>\n",
              "      <td>0</td>\n",
              "      <td>1</td>\n",
              "    </tr>\n",
              "    <tr>\n",
              "      <th>1337</th>\n",
              "      <td>61</td>\n",
              "      <td>29.070</td>\n",
              "      <td>0</td>\n",
              "      <td>29141.36030</td>\n",
              "      <td>1</td>\n",
              "      <td>0</td>\n",
              "      <td>0</td>\n",
              "      <td>1</td>\n",
              "      <td>0</td>\n",
              "      <td>1</td>\n",
              "      <td>0</td>\n",
              "      <td>0</td>\n",
              "    </tr>\n",
              "  </tbody>\n",
              "</table>\n",
              "<p>1338 rows × 12 columns</p>\n",
              "</div>"
            ],
            "text/plain": [
              "      age     bmi  ...  region_southeast  region_southwest\n",
              "0      19  27.900  ...                 0                 1\n",
              "1      18  33.770  ...                 1                 0\n",
              "2      28  33.000  ...                 1                 0\n",
              "3      33  22.705  ...                 0                 0\n",
              "4      32  28.880  ...                 0                 0\n",
              "...   ...     ...  ...               ...               ...\n",
              "1333   50  30.970  ...                 0                 0\n",
              "1334   18  31.920  ...                 0                 0\n",
              "1335   18  36.850  ...                 1                 0\n",
              "1336   21  25.800  ...                 0                 1\n",
              "1337   61  29.070  ...                 0                 0\n",
              "\n",
              "[1338 rows x 12 columns]"
            ]
          },
          "metadata": {},
          "execution_count": 110
        }
      ]
    },
    {
      "cell_type": "code",
      "metadata": {
        "colab": {
          "base_uri": "https://localhost:8080/",
          "height": 206
        },
        "id": "XuDSSAZ4eRgf",
        "outputId": "823da100-2e2d-445d-ab6f-bd181997b90a"
      },
      "source": [
        "# Create X & y values (features and labels)\n",
        "X = insurance_one_hot.drop(\"charges\", axis=1)\n",
        "y = insurance_one_hot[\"charges\"]\n",
        "\n",
        "# View X\n",
        "X.head()"
      ],
      "execution_count": null,
      "outputs": [
        {
          "output_type": "execute_result",
          "data": {
            "text/html": [
              "<div>\n",
              "<style scoped>\n",
              "    .dataframe tbody tr th:only-of-type {\n",
              "        vertical-align: middle;\n",
              "    }\n",
              "\n",
              "    .dataframe tbody tr th {\n",
              "        vertical-align: top;\n",
              "    }\n",
              "\n",
              "    .dataframe thead th {\n",
              "        text-align: right;\n",
              "    }\n",
              "</style>\n",
              "<table border=\"1\" class=\"dataframe\">\n",
              "  <thead>\n",
              "    <tr style=\"text-align: right;\">\n",
              "      <th></th>\n",
              "      <th>age</th>\n",
              "      <th>bmi</th>\n",
              "      <th>children</th>\n",
              "      <th>sex_female</th>\n",
              "      <th>sex_male</th>\n",
              "      <th>smoker_no</th>\n",
              "      <th>smoker_yes</th>\n",
              "      <th>region_northeast</th>\n",
              "      <th>region_northwest</th>\n",
              "      <th>region_southeast</th>\n",
              "      <th>region_southwest</th>\n",
              "    </tr>\n",
              "  </thead>\n",
              "  <tbody>\n",
              "    <tr>\n",
              "      <th>0</th>\n",
              "      <td>19</td>\n",
              "      <td>27.900</td>\n",
              "      <td>0</td>\n",
              "      <td>1</td>\n",
              "      <td>0</td>\n",
              "      <td>0</td>\n",
              "      <td>1</td>\n",
              "      <td>0</td>\n",
              "      <td>0</td>\n",
              "      <td>0</td>\n",
              "      <td>1</td>\n",
              "    </tr>\n",
              "    <tr>\n",
              "      <th>1</th>\n",
              "      <td>18</td>\n",
              "      <td>33.770</td>\n",
              "      <td>1</td>\n",
              "      <td>0</td>\n",
              "      <td>1</td>\n",
              "      <td>1</td>\n",
              "      <td>0</td>\n",
              "      <td>0</td>\n",
              "      <td>0</td>\n",
              "      <td>1</td>\n",
              "      <td>0</td>\n",
              "    </tr>\n",
              "    <tr>\n",
              "      <th>2</th>\n",
              "      <td>28</td>\n",
              "      <td>33.000</td>\n",
              "      <td>3</td>\n",
              "      <td>0</td>\n",
              "      <td>1</td>\n",
              "      <td>1</td>\n",
              "      <td>0</td>\n",
              "      <td>0</td>\n",
              "      <td>0</td>\n",
              "      <td>1</td>\n",
              "      <td>0</td>\n",
              "    </tr>\n",
              "    <tr>\n",
              "      <th>3</th>\n",
              "      <td>33</td>\n",
              "      <td>22.705</td>\n",
              "      <td>0</td>\n",
              "      <td>0</td>\n",
              "      <td>1</td>\n",
              "      <td>1</td>\n",
              "      <td>0</td>\n",
              "      <td>0</td>\n",
              "      <td>1</td>\n",
              "      <td>0</td>\n",
              "      <td>0</td>\n",
              "    </tr>\n",
              "    <tr>\n",
              "      <th>4</th>\n",
              "      <td>32</td>\n",
              "      <td>28.880</td>\n",
              "      <td>0</td>\n",
              "      <td>0</td>\n",
              "      <td>1</td>\n",
              "      <td>1</td>\n",
              "      <td>0</td>\n",
              "      <td>0</td>\n",
              "      <td>1</td>\n",
              "      <td>0</td>\n",
              "      <td>0</td>\n",
              "    </tr>\n",
              "  </tbody>\n",
              "</table>\n",
              "</div>"
            ],
            "text/plain": [
              "   age     bmi  children  ...  region_northwest  region_southeast  region_southwest\n",
              "0   19  27.900         0  ...                 0                 0                 1\n",
              "1   18  33.770         1  ...                 0                 1                 0\n",
              "2   28  33.000         3  ...                 0                 1                 0\n",
              "3   33  22.705         0  ...                 1                 0                 0\n",
              "4   32  28.880         0  ...                 1                 0                 0\n",
              "\n",
              "[5 rows x 11 columns]"
            ]
          },
          "metadata": {},
          "execution_count": 112
        }
      ]
    },
    {
      "cell_type": "code",
      "metadata": {
        "colab": {
          "base_uri": "https://localhost:8080/"
        },
        "id": "bXWIgqZWfe1s",
        "outputId": "8c4a4675-26a3-477a-ac46-a6244a84ded6"
      },
      "source": [
        "# View y\n",
        "y.head()"
      ],
      "execution_count": null,
      "outputs": [
        {
          "output_type": "execute_result",
          "data": {
            "text/plain": [
              "0    16884.92400\n",
              "1     1725.55230\n",
              "2     4449.46200\n",
              "3    21984.47061\n",
              "4     3866.85520\n",
              "Name: charges, dtype: float64"
            ]
          },
          "metadata": {},
          "execution_count": 113
        }
      ]
    },
    {
      "cell_type": "code",
      "metadata": {
        "colab": {
          "base_uri": "https://localhost:8080/"
        },
        "id": "qmoU6bcgf67e",
        "outputId": "3788ac41-dd05-4b0b-8045-b7bed98cef0c"
      },
      "source": [
        "# Create training and test sets\n",
        "from sklearn.model_selection import train_test_split\n",
        "X_train, X_test, y_train, y_test = train_test_split(X, y, test_size=0.2, random_state=42)\n",
        "len(X), len(X_train), len(X_test)"
      ],
      "execution_count": null,
      "outputs": [
        {
          "output_type": "execute_result",
          "data": {
            "text/plain": [
              "(1338, 1070, 268)"
            ]
          },
          "metadata": {},
          "execution_count": 115
        }
      ]
    },
    {
      "cell_type": "code",
      "metadata": {
        "colab": {
          "base_uri": "https://localhost:8080/"
        },
        "id": "0HsEGIeaff8X",
        "outputId": "1eadb62b-52af-4760-eaf3-b1e8b8c4aaf3"
      },
      "source": [
        "# Build a neuaral network\n",
        "tf.random.set_seed(42)\n",
        "\n",
        "# 1.Create a model\n",
        "insurance_model = tf.keras.Sequential([\n",
        "                                       tf.keras.layers.Dense(10),\n",
        "                                       tf.keras.layers.Dense(1)\n",
        "])\n",
        "\n",
        "# 2. Compile the model\n",
        "insurance_model.compile(loss=tf.keras.losses.mae,\n",
        "                        optimizer=tf.keras.optimizers.SGD(),\n",
        "                        metrics=[\"mae\"])\n",
        "\n",
        "# 3. Fit the model\n",
        "insurance_model.fit(X_train, y_train, epochs=100)"
      ],
      "execution_count": null,
      "outputs": [
        {
          "output_type": "stream",
          "name": "stdout",
          "text": [
            "Epoch 1/100\n",
            "34/34 [==============================] - 0s 1ms/step - loss: 8637.1006 - mae: 8637.1006\n",
            "Epoch 2/100\n",
            "34/34 [==============================] - 0s 1ms/step - loss: 7886.7759 - mae: 7886.7759\n",
            "Epoch 3/100\n",
            "34/34 [==============================] - 0s 1ms/step - loss: 7558.1470 - mae: 7558.1470\n",
            "Epoch 4/100\n",
            "34/34 [==============================] - 0s 1ms/step - loss: 7792.0220 - mae: 7792.0220\n",
            "Epoch 5/100\n",
            "34/34 [==============================] - 0s 1ms/step - loss: 7748.3887 - mae: 7748.3887\n",
            "Epoch 6/100\n",
            "34/34 [==============================] - 0s 1ms/step - loss: 7595.3940 - mae: 7595.3940\n",
            "Epoch 7/100\n",
            "34/34 [==============================] - 0s 1ms/step - loss: 7589.9844 - mae: 7589.9844\n",
            "Epoch 8/100\n",
            "34/34 [==============================] - 0s 1ms/step - loss: 7698.5576 - mae: 7698.5576\n",
            "Epoch 9/100\n",
            "34/34 [==============================] - 0s 1ms/step - loss: 7496.7778 - mae: 7496.7778\n",
            "Epoch 10/100\n",
            "34/34 [==============================] - 0s 1ms/step - loss: 7493.1743 - mae: 7493.1743\n",
            "Epoch 11/100\n",
            "34/34 [==============================] - 0s 1ms/step - loss: 7769.7295 - mae: 7769.7295\n",
            "Epoch 12/100\n",
            "34/34 [==============================] - 0s 1ms/step - loss: 7706.9028 - mae: 7706.9028\n",
            "Epoch 13/100\n",
            "34/34 [==============================] - 0s 1ms/step - loss: 7687.7231 - mae: 7687.7231\n",
            "Epoch 14/100\n",
            "34/34 [==============================] - 0s 1ms/step - loss: 7689.9004 - mae: 7689.9004\n",
            "Epoch 15/100\n",
            "34/34 [==============================] - 0s 1ms/step - loss: 7393.5327 - mae: 7393.5327\n",
            "Epoch 16/100\n",
            "34/34 [==============================] - 0s 1ms/step - loss: 7780.6987 - mae: 7780.6987\n",
            "Epoch 17/100\n",
            "34/34 [==============================] - 0s 1ms/step - loss: 7578.5098 - mae: 7578.5098\n",
            "Epoch 18/100\n",
            "34/34 [==============================] - 0s 1ms/step - loss: 7750.8354 - mae: 7750.8354\n",
            "Epoch 19/100\n",
            "34/34 [==============================] - 0s 1ms/step - loss: 7739.2144 - mae: 7739.2144\n",
            "Epoch 20/100\n",
            "34/34 [==============================] - 0s 1ms/step - loss: 7875.0654 - mae: 7875.0654\n",
            "Epoch 21/100\n",
            "34/34 [==============================] - 0s 1ms/step - loss: 7466.6768 - mae: 7466.6768\n",
            "Epoch 22/100\n",
            "34/34 [==============================] - 0s 1ms/step - loss: 7941.2329 - mae: 7941.2329\n",
            "Epoch 23/100\n",
            "34/34 [==============================] - 0s 1ms/step - loss: 7640.2725 - mae: 7640.2725\n",
            "Epoch 24/100\n",
            "34/34 [==============================] - 0s 1ms/step - loss: 7539.2671 - mae: 7539.2671\n",
            "Epoch 25/100\n",
            "34/34 [==============================] - 0s 1ms/step - loss: 7619.9653 - mae: 7619.9653\n",
            "Epoch 26/100\n",
            "34/34 [==============================] - 0s 1ms/step - loss: 7644.1719 - mae: 7644.1719\n",
            "Epoch 27/100\n",
            "34/34 [==============================] - 0s 1ms/step - loss: 7709.0371 - mae: 7709.0371\n",
            "Epoch 28/100\n",
            "34/34 [==============================] - 0s 1ms/step - loss: 7366.8662 - mae: 7366.8662\n",
            "Epoch 29/100\n",
            "34/34 [==============================] - 0s 1ms/step - loss: 7444.3154 - mae: 7444.3154\n",
            "Epoch 30/100\n",
            "34/34 [==============================] - 0s 1ms/step - loss: 7616.4077 - mae: 7616.4077\n",
            "Epoch 31/100\n",
            "34/34 [==============================] - 0s 1ms/step - loss: 7686.3853 - mae: 7686.3853\n",
            "Epoch 32/100\n",
            "34/34 [==============================] - 0s 1ms/step - loss: 7548.0977 - mae: 7548.0977\n",
            "Epoch 33/100\n",
            "34/34 [==============================] - 0s 1ms/step - loss: 7501.5532 - mae: 7501.5532\n",
            "Epoch 34/100\n",
            "34/34 [==============================] - 0s 1ms/step - loss: 7363.4160 - mae: 7363.4160\n",
            "Epoch 35/100\n",
            "34/34 [==============================] - 0s 1ms/step - loss: 7295.4478 - mae: 7295.4478\n",
            "Epoch 36/100\n",
            "34/34 [==============================] - 0s 1ms/step - loss: 7569.8813 - mae: 7569.8813\n",
            "Epoch 37/100\n",
            "34/34 [==============================] - 0s 1ms/step - loss: 7548.1997 - mae: 7548.1997\n",
            "Epoch 38/100\n",
            "34/34 [==============================] - 0s 2ms/step - loss: 7424.3975 - mae: 7424.3975\n",
            "Epoch 39/100\n",
            "34/34 [==============================] - 0s 1ms/step - loss: 7529.7734 - mae: 7529.7734\n",
            "Epoch 40/100\n",
            "34/34 [==============================] - 0s 1ms/step - loss: 7467.3232 - mae: 7467.3232\n",
            "Epoch 41/100\n",
            "34/34 [==============================] - 0s 1ms/step - loss: 7635.9292 - mae: 7635.9292\n",
            "Epoch 42/100\n",
            "34/34 [==============================] - 0s 1ms/step - loss: 7536.8398 - mae: 7536.8398\n",
            "Epoch 43/100\n",
            "34/34 [==============================] - 0s 1ms/step - loss: 7616.5859 - mae: 7616.5859\n",
            "Epoch 44/100\n",
            "34/34 [==============================] - 0s 1ms/step - loss: 7439.4941 - mae: 7439.4941\n",
            "Epoch 45/100\n",
            "34/34 [==============================] - 0s 2ms/step - loss: 7538.0151 - mae: 7538.0151\n",
            "Epoch 46/100\n",
            "34/34 [==============================] - 0s 1ms/step - loss: 7415.1470 - mae: 7415.1470\n",
            "Epoch 47/100\n",
            "34/34 [==============================] - 0s 1ms/step - loss: 7420.6938 - mae: 7420.6938\n",
            "Epoch 48/100\n",
            "34/34 [==============================] - 0s 1ms/step - loss: 7509.9839 - mae: 7509.9839\n",
            "Epoch 49/100\n",
            "34/34 [==============================] - 0s 1ms/step - loss: 7541.1133 - mae: 7541.1133\n",
            "Epoch 50/100\n",
            "34/34 [==============================] - 0s 1ms/step - loss: 7467.8643 - mae: 7467.8643\n",
            "Epoch 51/100\n",
            "34/34 [==============================] - 0s 1ms/step - loss: 7389.3560 - mae: 7389.3560\n",
            "Epoch 52/100\n",
            "34/34 [==============================] - 0s 1ms/step - loss: 7499.7749 - mae: 7499.7749\n",
            "Epoch 53/100\n",
            "34/34 [==============================] - 0s 1ms/step - loss: 7523.9282 - mae: 7523.9282\n",
            "Epoch 54/100\n",
            "34/34 [==============================] - 0s 1ms/step - loss: 7243.3115 - mae: 7243.3115\n",
            "Epoch 55/100\n",
            "34/34 [==============================] - 0s 1ms/step - loss: 7429.5864 - mae: 7429.5864\n",
            "Epoch 56/100\n",
            "34/34 [==============================] - 0s 1ms/step - loss: 7313.3999 - mae: 7313.3999\n",
            "Epoch 57/100\n",
            "34/34 [==============================] - 0s 1ms/step - loss: 7526.3877 - mae: 7526.3877\n",
            "Epoch 58/100\n",
            "34/34 [==============================] - 0s 1ms/step - loss: 7542.2666 - mae: 7542.2666\n",
            "Epoch 59/100\n",
            "34/34 [==============================] - 0s 1ms/step - loss: 7576.9277 - mae: 7576.9277\n",
            "Epoch 60/100\n",
            "34/34 [==============================] - 0s 1ms/step - loss: 7546.4048 - mae: 7546.4048\n",
            "Epoch 61/100\n",
            "34/34 [==============================] - 0s 1ms/step - loss: 7351.2261 - mae: 7351.2261\n",
            "Epoch 62/100\n",
            "34/34 [==============================] - 0s 1ms/step - loss: 7302.1436 - mae: 7302.1436\n",
            "Epoch 63/100\n",
            "34/34 [==============================] - 0s 1ms/step - loss: 7393.0879 - mae: 7393.0879\n",
            "Epoch 64/100\n",
            "34/34 [==============================] - 0s 1ms/step - loss: 7442.2881 - mae: 7442.2881\n",
            "Epoch 65/100\n",
            "34/34 [==============================] - 0s 1ms/step - loss: 7492.6782 - mae: 7492.6782\n",
            "Epoch 66/100\n",
            "34/34 [==============================] - 0s 1ms/step - loss: 7561.9165 - mae: 7561.9165\n",
            "Epoch 67/100\n",
            "34/34 [==============================] - 0s 1ms/step - loss: 7340.5137 - mae: 7340.5137\n",
            "Epoch 68/100\n",
            "34/34 [==============================] - 0s 1ms/step - loss: 7496.0845 - mae: 7496.0845\n",
            "Epoch 69/100\n",
            "34/34 [==============================] - 0s 1ms/step - loss: 7617.0303 - mae: 7617.0303\n",
            "Epoch 70/100\n",
            "34/34 [==============================] - 0s 1ms/step - loss: 7641.1948 - mae: 7641.1948\n",
            "Epoch 71/100\n",
            "34/34 [==============================] - 0s 1ms/step - loss: 7084.2744 - mae: 7084.2744\n",
            "Epoch 72/100\n",
            "34/34 [==============================] - 0s 1ms/step - loss: 7240.4902 - mae: 7240.4902\n",
            "Epoch 73/100\n",
            "34/34 [==============================] - 0s 1ms/step - loss: 7283.4888 - mae: 7283.4888\n",
            "Epoch 74/100\n",
            "34/34 [==============================] - 0s 1ms/step - loss: 7335.5083 - mae: 7335.5083\n",
            "Epoch 75/100\n",
            "34/34 [==============================] - 0s 1ms/step - loss: 7275.6392 - mae: 7275.6392\n",
            "Epoch 76/100\n",
            "34/34 [==============================] - 0s 1ms/step - loss: 7313.1860 - mae: 7313.1860\n",
            "Epoch 77/100\n",
            "34/34 [==============================] - 0s 1ms/step - loss: 7485.7588 - mae: 7485.7588\n",
            "Epoch 78/100\n",
            "34/34 [==============================] - 0s 1ms/step - loss: 7352.2803 - mae: 7352.2803\n",
            "Epoch 79/100\n",
            "34/34 [==============================] - 0s 1ms/step - loss: 7520.5703 - mae: 7520.5703\n",
            "Epoch 80/100\n",
            "34/34 [==============================] - 0s 1ms/step - loss: 7279.3779 - mae: 7279.3779\n",
            "Epoch 81/100\n",
            "34/34 [==============================] - 0s 2ms/step - loss: 7273.8477 - mae: 7273.8477\n",
            "Epoch 82/100\n",
            "34/34 [==============================] - 0s 1ms/step - loss: 7176.5215 - mae: 7176.5215\n",
            "Epoch 83/100\n",
            "34/34 [==============================] - 0s 1ms/step - loss: 7425.6289 - mae: 7425.6289\n",
            "Epoch 84/100\n",
            "34/34 [==============================] - 0s 1ms/step - loss: 7403.1294 - mae: 7403.1294\n",
            "Epoch 85/100\n",
            "34/34 [==============================] - 0s 1ms/step - loss: 7356.0088 - mae: 7356.0088\n",
            "Epoch 86/100\n",
            "34/34 [==============================] - 0s 1ms/step - loss: 7484.7271 - mae: 7484.7271\n",
            "Epoch 87/100\n",
            "34/34 [==============================] - 0s 1ms/step - loss: 7217.6074 - mae: 7217.6074\n",
            "Epoch 88/100\n",
            "34/34 [==============================] - 0s 1ms/step - loss: 7261.0000 - mae: 7261.0000\n",
            "Epoch 89/100\n",
            "34/34 [==============================] - 0s 1ms/step - loss: 7134.1562 - mae: 7134.1562\n",
            "Epoch 90/100\n",
            "34/34 [==============================] - 0s 1ms/step - loss: 7083.4360 - mae: 7083.4360\n",
            "Epoch 91/100\n",
            "34/34 [==============================] - 0s 1ms/step - loss: 7254.1782 - mae: 7254.1782\n",
            "Epoch 92/100\n",
            "34/34 [==============================] - 0s 1ms/step - loss: 7268.7456 - mae: 7268.7456\n",
            "Epoch 93/100\n",
            "34/34 [==============================] - 0s 1ms/step - loss: 7470.5220 - mae: 7470.5220\n",
            "Epoch 94/100\n",
            "34/34 [==============================] - 0s 1ms/step - loss: 7210.9536 - mae: 7210.9536\n",
            "Epoch 95/100\n",
            "34/34 [==============================] - 0s 1ms/step - loss: 7395.6816 - mae: 7395.6816\n",
            "Epoch 96/100\n",
            "34/34 [==============================] - 0s 1ms/step - loss: 7328.0884 - mae: 7328.0884\n",
            "Epoch 97/100\n",
            "34/34 [==============================] - 0s 1ms/step - loss: 7230.4380 - mae: 7230.4380\n",
            "Epoch 98/100\n",
            "34/34 [==============================] - 0s 1ms/step - loss: 7261.3936 - mae: 7261.3936\n",
            "Epoch 99/100\n",
            "34/34 [==============================] - 0s 1ms/step - loss: 7342.5684 - mae: 7342.5684\n",
            "Epoch 100/100\n",
            "34/34 [==============================] - 0s 1ms/step - loss: 7106.1714 - mae: 7106.1714\n"
          ]
        },
        {
          "output_type": "execute_result",
          "data": {
            "text/plain": [
              "<keras.callbacks.History at 0x7f6b1aaf4610>"
            ]
          },
          "metadata": {},
          "execution_count": 118
        }
      ]
    },
    {
      "cell_type": "code",
      "metadata": {
        "colab": {
          "base_uri": "https://localhost:8080/"
        },
        "id": "eKYda_kgz3Kg",
        "outputId": "b4ffc0d5-f2f5-4d98-c74e-140267db788e"
      },
      "source": [
        "# Check the results of insurance model on the test model\n",
        "insurance_model.evaluate(X_test, y_test)"
      ],
      "execution_count": null,
      "outputs": [
        {
          "output_type": "stream",
          "name": "stdout",
          "text": [
            "9/9 [==============================] - 0s 2ms/step - loss: 7023.3291 - mae: 7023.3291\n"
          ]
        },
        {
          "output_type": "execute_result",
          "data": {
            "text/plain": [
              "[7023.3291015625, 7023.3291015625]"
            ]
          },
          "metadata": {},
          "execution_count": 119
        }
      ]
    },
    {
      "cell_type": "code",
      "metadata": {
        "colab": {
          "base_uri": "https://localhost:8080/"
        },
        "id": "hamDTK9N0LYp",
        "outputId": "9fce8133-7947-4e83-c400-b2cd24293ce4"
      },
      "source": [
        "y_train.median()"
      ],
      "execution_count": null,
      "outputs": [
        {
          "output_type": "execute_result",
          "data": {
            "text/plain": [
              "9575.4421"
            ]
          },
          "metadata": {},
          "execution_count": 122
        }
      ]
    },
    {
      "cell_type": "code",
      "metadata": {
        "colab": {
          "base_uri": "https://localhost:8080/"
        },
        "id": "qzgcEkZV0T5A",
        "outputId": "e4b33b73-d6c3-4dbd-f4de-10ba7c39fe02"
      },
      "source": [
        "y_train.mean()"
      ],
      "execution_count": null,
      "outputs": [
        {
          "output_type": "execute_result",
          "data": {
            "text/plain": [
              "13346.089736364489"
            ]
          },
          "metadata": {},
          "execution_count": 123
        }
      ]
    },
    {
      "cell_type": "markdown",
      "metadata": {
        "id": "qNwQmcjH0lFM"
      },
      "source": [
        "Right now it looks like our model is ot performing very well so we will try to improve it by:\n",
        "1. Adding a layer.\n",
        "2. Training it for longer (200 epochs).\n",
        "3. Changing the optimizer SGD to Adam."
      ]
    },
    {
      "cell_type": "code",
      "metadata": {
        "colab": {
          "base_uri": "https://localhost:8080/"
        },
        "id": "9jCTFWld0ctd",
        "outputId": "0c028291-cd76-4cb4-cffb-2818afddf5aa"
      },
      "source": [
        "# Build a neuaral network\n",
        "tf.random.set_seed(42)\n",
        "\n",
        "# 1.Create a model\n",
        "insurance_model_2 = tf.keras.Sequential([\n",
        "                                       tf.keras.layers.Dense(100),\n",
        "                                       tf.keras.layers.Dense(10),\n",
        "                                       tf.keras.layers.Dense(1)\n",
        "])\n",
        "\n",
        "# 2. Compile the model\n",
        "insurance_model_2.compile(loss=tf.keras.losses.mae,\n",
        "                        optimizer=tf.keras.optimizers.Adam(),\n",
        "                        metrics=[\"mae\"])\n",
        "\n",
        "# 3. Fit the model\n",
        "history = insurance_model_2.fit(X_train, y_train, epochs=200, verbose=1)"
      ],
      "execution_count": null,
      "outputs": [
        {
          "output_type": "stream",
          "name": "stdout",
          "text": [
            "Epoch 1/200\n",
            "34/34 [==============================] - 0s 2ms/step - loss: 13273.1602 - mae: 13273.1602\n",
            "Epoch 2/200\n",
            "34/34 [==============================] - 0s 2ms/step - loss: 13104.4297 - mae: 13104.4297\n",
            "Epoch 3/200\n",
            "34/34 [==============================] - 0s 2ms/step - loss: 12749.5420 - mae: 12749.5420\n",
            "Epoch 4/200\n",
            "34/34 [==============================] - 0s 2ms/step - loss: 12055.7510 - mae: 12055.7510\n",
            "Epoch 5/200\n",
            "34/34 [==============================] - 0s 2ms/step - loss: 10905.8154 - mae: 10905.8154\n",
            "Epoch 6/200\n",
            "34/34 [==============================] - 0s 2ms/step - loss: 9457.7217 - mae: 9457.7217\n",
            "Epoch 7/200\n",
            "34/34 [==============================] - 0s 2ms/step - loss: 8147.6543 - mae: 8147.6543\n",
            "Epoch 8/200\n",
            "34/34 [==============================] - 0s 1ms/step - loss: 7528.8408 - mae: 7528.8408\n",
            "Epoch 9/200\n",
            "34/34 [==============================] - 0s 2ms/step - loss: 7429.1528 - mae: 7429.1528\n",
            "Epoch 10/200\n",
            "34/34 [==============================] - 0s 2ms/step - loss: 7409.0811 - mae: 7409.0811\n",
            "Epoch 11/200\n",
            "34/34 [==============================] - 0s 2ms/step - loss: 7390.8042 - mae: 7390.8042\n",
            "Epoch 12/200\n",
            "34/34 [==============================] - 0s 2ms/step - loss: 7368.9180 - mae: 7368.9180\n",
            "Epoch 13/200\n",
            "34/34 [==============================] - 0s 2ms/step - loss: 7348.5195 - mae: 7348.5195\n",
            "Epoch 14/200\n",
            "34/34 [==============================] - 0s 2ms/step - loss: 7326.4893 - mae: 7326.4893\n",
            "Epoch 15/200\n",
            "34/34 [==============================] - 0s 2ms/step - loss: 7307.5815 - mae: 7307.5815\n",
            "Epoch 16/200\n",
            "34/34 [==============================] - 0s 2ms/step - loss: 7285.7734 - mae: 7285.7734\n",
            "Epoch 17/200\n",
            "34/34 [==============================] - 0s 2ms/step - loss: 7265.7104 - mae: 7265.7104\n",
            "Epoch 18/200\n",
            "34/34 [==============================] - 0s 2ms/step - loss: 7242.5488 - mae: 7242.5488\n",
            "Epoch 19/200\n",
            "34/34 [==============================] - 0s 2ms/step - loss: 7220.5068 - mae: 7220.5068\n",
            "Epoch 20/200\n",
            "34/34 [==============================] - 0s 1ms/step - loss: 7197.1978 - mae: 7197.1978\n",
            "Epoch 21/200\n",
            "34/34 [==============================] - 0s 2ms/step - loss: 7179.0195 - mae: 7179.0195\n",
            "Epoch 22/200\n",
            "34/34 [==============================] - 0s 2ms/step - loss: 7151.2104 - mae: 7151.2104\n",
            "Epoch 23/200\n",
            "34/34 [==============================] - 0s 2ms/step - loss: 7126.4639 - mae: 7126.4639\n",
            "Epoch 24/200\n",
            "34/34 [==============================] - 0s 2ms/step - loss: 7101.9199 - mae: 7101.9199\n",
            "Epoch 25/200\n",
            "34/34 [==============================] - 0s 1ms/step - loss: 7084.3379 - mae: 7084.3379\n",
            "Epoch 26/200\n",
            "34/34 [==============================] - 0s 2ms/step - loss: 7052.3291 - mae: 7052.3291\n",
            "Epoch 27/200\n",
            "34/34 [==============================] - 0s 2ms/step - loss: 7024.3501 - mae: 7024.3501\n",
            "Epoch 28/200\n",
            "34/34 [==============================] - 0s 2ms/step - loss: 6996.6963 - mae: 6996.6963\n",
            "Epoch 29/200\n",
            "34/34 [==============================] - 0s 2ms/step - loss: 6969.0112 - mae: 6969.0112\n",
            "Epoch 30/200\n",
            "34/34 [==============================] - 0s 2ms/step - loss: 6942.1899 - mae: 6942.1899\n",
            "Epoch 31/200\n",
            "34/34 [==============================] - 0s 2ms/step - loss: 6911.7280 - mae: 6911.7280\n",
            "Epoch 32/200\n",
            "34/34 [==============================] - 0s 2ms/step - loss: 6884.0205 - mae: 6884.0205\n",
            "Epoch 33/200\n",
            "34/34 [==============================] - 0s 2ms/step - loss: 6853.4648 - mae: 6853.4648\n",
            "Epoch 34/200\n",
            "34/34 [==============================] - 0s 2ms/step - loss: 6823.0674 - mae: 6823.0674\n",
            "Epoch 35/200\n",
            "34/34 [==============================] - 0s 2ms/step - loss: 6789.6855 - mae: 6789.6855\n",
            "Epoch 36/200\n",
            "34/34 [==============================] - 0s 2ms/step - loss: 6755.7646 - mae: 6755.7646\n",
            "Epoch 37/200\n",
            "34/34 [==============================] - 0s 2ms/step - loss: 6720.2026 - mae: 6720.2026\n",
            "Epoch 38/200\n",
            "34/34 [==============================] - 0s 2ms/step - loss: 6689.7158 - mae: 6689.7158\n",
            "Epoch 39/200\n",
            "34/34 [==============================] - 0s 2ms/step - loss: 6652.4614 - mae: 6652.4614\n",
            "Epoch 40/200\n",
            "34/34 [==============================] - 0s 2ms/step - loss: 6618.1006 - mae: 6618.1006\n",
            "Epoch 41/200\n",
            "34/34 [==============================] - 0s 2ms/step - loss: 6585.8643 - mae: 6585.8643\n",
            "Epoch 42/200\n",
            "34/34 [==============================] - 0s 2ms/step - loss: 6559.4956 - mae: 6559.4956\n",
            "Epoch 43/200\n",
            "34/34 [==============================] - 0s 2ms/step - loss: 6530.0444 - mae: 6530.0444\n",
            "Epoch 44/200\n",
            "34/34 [==============================] - 0s 2ms/step - loss: 6506.8071 - mae: 6506.8071\n",
            "Epoch 45/200\n",
            "34/34 [==============================] - 0s 2ms/step - loss: 6493.5718 - mae: 6493.5718\n",
            "Epoch 46/200\n",
            "34/34 [==============================] - 0s 2ms/step - loss: 6475.9258 - mae: 6475.9258\n",
            "Epoch 47/200\n",
            "34/34 [==============================] - 0s 2ms/step - loss: 6458.8979 - mae: 6458.8979\n",
            "Epoch 48/200\n",
            "34/34 [==============================] - 0s 2ms/step - loss: 6445.1494 - mae: 6445.1494\n",
            "Epoch 49/200\n",
            "34/34 [==============================] - 0s 2ms/step - loss: 6430.9639 - mae: 6430.9639\n",
            "Epoch 50/200\n",
            "34/34 [==============================] - 0s 2ms/step - loss: 6417.7510 - mae: 6417.7510\n",
            "Epoch 51/200\n",
            "34/34 [==============================] - 0s 2ms/step - loss: 6403.2759 - mae: 6403.2759\n",
            "Epoch 52/200\n",
            "34/34 [==============================] - 0s 2ms/step - loss: 6392.4141 - mae: 6392.4141\n",
            "Epoch 53/200\n",
            "34/34 [==============================] - 0s 3ms/step - loss: 6378.7451 - mae: 6378.7451\n",
            "Epoch 54/200\n",
            "34/34 [==============================] - 0s 2ms/step - loss: 6364.9131 - mae: 6364.9131\n",
            "Epoch 55/200\n",
            "34/34 [==============================] - 0s 2ms/step - loss: 6351.5269 - mae: 6351.5269\n",
            "Epoch 56/200\n",
            "34/34 [==============================] - 0s 1ms/step - loss: 6337.6602 - mae: 6337.6602\n",
            "Epoch 57/200\n",
            "34/34 [==============================] - 0s 2ms/step - loss: 6324.8369 - mae: 6324.8369\n",
            "Epoch 58/200\n",
            "34/34 [==============================] - 0s 1ms/step - loss: 6310.1948 - mae: 6310.1948\n",
            "Epoch 59/200\n",
            "34/34 [==============================] - 0s 2ms/step - loss: 6295.6035 - mae: 6295.6035\n",
            "Epoch 60/200\n",
            "34/34 [==============================] - 0s 2ms/step - loss: 6284.8696 - mae: 6284.8696\n",
            "Epoch 61/200\n",
            "34/34 [==============================] - 0s 2ms/step - loss: 6265.6411 - mae: 6265.6411\n",
            "Epoch 62/200\n",
            "34/34 [==============================] - 0s 2ms/step - loss: 6253.0103 - mae: 6253.0103\n",
            "Epoch 63/200\n",
            "34/34 [==============================] - 0s 2ms/step - loss: 6234.9292 - mae: 6234.9292\n",
            "Epoch 64/200\n",
            "34/34 [==============================] - 0s 2ms/step - loss: 6218.0430 - mae: 6218.0430\n",
            "Epoch 65/200\n",
            "34/34 [==============================] - 0s 2ms/step - loss: 6201.1899 - mae: 6201.1899\n",
            "Epoch 66/200\n",
            "34/34 [==============================] - 0s 2ms/step - loss: 6183.9590 - mae: 6183.9590\n",
            "Epoch 67/200\n",
            "34/34 [==============================] - 0s 1ms/step - loss: 6171.2993 - mae: 6171.2993\n",
            "Epoch 68/200\n",
            "34/34 [==============================] - 0s 2ms/step - loss: 6148.8398 - mae: 6148.8398\n",
            "Epoch 69/200\n",
            "34/34 [==============================] - 0s 2ms/step - loss: 6132.5981 - mae: 6132.5981\n",
            "Epoch 70/200\n",
            "34/34 [==============================] - 0s 2ms/step - loss: 6112.3848 - mae: 6112.3848\n",
            "Epoch 71/200\n",
            "34/34 [==============================] - 0s 2ms/step - loss: 6092.7202 - mae: 6092.7202\n",
            "Epoch 72/200\n",
            "34/34 [==============================] - 0s 1ms/step - loss: 6073.7422 - mae: 6073.7422\n",
            "Epoch 73/200\n",
            "34/34 [==============================] - 0s 2ms/step - loss: 6059.4873 - mae: 6059.4873\n",
            "Epoch 74/200\n",
            "34/34 [==============================] - 0s 2ms/step - loss: 6031.3848 - mae: 6031.3848\n",
            "Epoch 75/200\n",
            "34/34 [==============================] - 0s 2ms/step - loss: 6010.3350 - mae: 6010.3350\n",
            "Epoch 76/200\n",
            "34/34 [==============================] - 0s 2ms/step - loss: 5995.2178 - mae: 5995.2178\n",
            "Epoch 77/200\n",
            "34/34 [==============================] - 0s 2ms/step - loss: 5963.0718 - mae: 5963.0718\n",
            "Epoch 78/200\n",
            "34/34 [==============================] - 0s 2ms/step - loss: 5940.0605 - mae: 5940.0605\n",
            "Epoch 79/200\n",
            "34/34 [==============================] - 0s 1ms/step - loss: 5915.1064 - mae: 5915.1064\n",
            "Epoch 80/200\n",
            "34/34 [==============================] - 0s 2ms/step - loss: 5887.9990 - mae: 5887.9990\n",
            "Epoch 81/200\n",
            "34/34 [==============================] - 0s 2ms/step - loss: 5861.6992 - mae: 5861.6992\n",
            "Epoch 82/200\n",
            "34/34 [==============================] - 0s 2ms/step - loss: 5834.3066 - mae: 5834.3066\n",
            "Epoch 83/200\n",
            "34/34 [==============================] - 0s 2ms/step - loss: 5805.8237 - mae: 5805.8237\n",
            "Epoch 84/200\n",
            "34/34 [==============================] - 0s 2ms/step - loss: 5772.3232 - mae: 5772.3232\n",
            "Epoch 85/200\n",
            "34/34 [==============================] - 0s 2ms/step - loss: 5745.1514 - mae: 5745.1514\n",
            "Epoch 86/200\n",
            "34/34 [==============================] - 0s 2ms/step - loss: 5711.3477 - mae: 5711.3477\n",
            "Epoch 87/200\n",
            "34/34 [==============================] - 0s 2ms/step - loss: 5674.5215 - mae: 5674.5215\n",
            "Epoch 88/200\n",
            "34/34 [==============================] - 0s 1ms/step - loss: 5639.4927 - mae: 5639.4927\n",
            "Epoch 89/200\n",
            "34/34 [==============================] - 0s 2ms/step - loss: 5600.6655 - mae: 5600.6655\n",
            "Epoch 90/200\n",
            "34/34 [==============================] - 0s 2ms/step - loss: 5559.4326 - mae: 5559.4326\n",
            "Epoch 91/200\n",
            "34/34 [==============================] - 0s 2ms/step - loss: 5523.6187 - mae: 5523.6187\n",
            "Epoch 92/200\n",
            "34/34 [==============================] - 0s 1ms/step - loss: 5474.1250 - mae: 5474.1250\n",
            "Epoch 93/200\n",
            "34/34 [==============================] - 0s 2ms/step - loss: 5432.2661 - mae: 5432.2661\n",
            "Epoch 94/200\n",
            "34/34 [==============================] - 0s 2ms/step - loss: 5386.0527 - mae: 5386.0527\n",
            "Epoch 95/200\n",
            "34/34 [==============================] - 0s 2ms/step - loss: 5333.1812 - mae: 5333.1812\n",
            "Epoch 96/200\n",
            "34/34 [==============================] - 0s 2ms/step - loss: 5288.8159 - mae: 5288.8159\n",
            "Epoch 97/200\n",
            "34/34 [==============================] - 0s 2ms/step - loss: 5234.6792 - mae: 5234.6792\n",
            "Epoch 98/200\n",
            "34/34 [==============================] - 0s 2ms/step - loss: 5170.9360 - mae: 5170.9360\n",
            "Epoch 99/200\n",
            "34/34 [==============================] - 0s 2ms/step - loss: 5112.9443 - mae: 5112.9443\n",
            "Epoch 100/200\n",
            "34/34 [==============================] - 0s 2ms/step - loss: 5059.8643 - mae: 5059.8643\n",
            "Epoch 101/200\n",
            "34/34 [==============================] - 0s 2ms/step - loss: 4987.6191 - mae: 4987.6191\n",
            "Epoch 102/200\n",
            "34/34 [==============================] - 0s 2ms/step - loss: 4915.2910 - mae: 4915.2910\n",
            "Epoch 103/200\n",
            "34/34 [==============================] - 0s 2ms/step - loss: 4847.3599 - mae: 4847.3599\n",
            "Epoch 104/200\n",
            "34/34 [==============================] - 0s 2ms/step - loss: 4768.0151 - mae: 4768.0151\n",
            "Epoch 105/200\n",
            "34/34 [==============================] - 0s 1ms/step - loss: 4683.4727 - mae: 4683.4727\n",
            "Epoch 106/200\n",
            "34/34 [==============================] - 0s 2ms/step - loss: 4600.5054 - mae: 4600.5054\n",
            "Epoch 107/200\n",
            "34/34 [==============================] - 0s 2ms/step - loss: 4513.1436 - mae: 4513.1436\n",
            "Epoch 108/200\n",
            "34/34 [==============================] - 0s 2ms/step - loss: 4422.2983 - mae: 4422.2983\n",
            "Epoch 109/200\n",
            "34/34 [==============================] - 0s 2ms/step - loss: 4339.9600 - mae: 4339.9600\n",
            "Epoch 110/200\n",
            "34/34 [==============================] - 0s 1ms/step - loss: 4254.3916 - mae: 4254.3916\n",
            "Epoch 111/200\n",
            "34/34 [==============================] - 0s 2ms/step - loss: 4173.1797 - mae: 4173.1797\n",
            "Epoch 112/200\n",
            "34/34 [==============================] - 0s 2ms/step - loss: 4102.2939 - mae: 4102.2939\n",
            "Epoch 113/200\n",
            "34/34 [==============================] - 0s 2ms/step - loss: 4031.9592 - mae: 4031.9592\n",
            "Epoch 114/200\n",
            "34/34 [==============================] - 0s 2ms/step - loss: 3986.0220 - mae: 3986.0220\n",
            "Epoch 115/200\n",
            "34/34 [==============================] - 0s 2ms/step - loss: 3943.2346 - mae: 3943.2346\n",
            "Epoch 116/200\n",
            "34/34 [==============================] - 0s 2ms/step - loss: 3918.8977 - mae: 3918.8977\n",
            "Epoch 117/200\n",
            "34/34 [==============================] - 0s 2ms/step - loss: 3895.5610 - mae: 3895.5610\n",
            "Epoch 118/200\n",
            "34/34 [==============================] - 0s 2ms/step - loss: 3869.5679 - mae: 3869.5679\n",
            "Epoch 119/200\n",
            "34/34 [==============================] - 0s 2ms/step - loss: 3850.2136 - mae: 3850.2136\n",
            "Epoch 120/200\n",
            "34/34 [==============================] - 0s 2ms/step - loss: 3834.7349 - mae: 3834.7349\n",
            "Epoch 121/200\n",
            "34/34 [==============================] - 0s 2ms/step - loss: 3827.0952 - mae: 3827.0952\n",
            "Epoch 122/200\n",
            "34/34 [==============================] - 0s 1ms/step - loss: 3821.6382 - mae: 3821.6382\n",
            "Epoch 123/200\n",
            "34/34 [==============================] - 0s 2ms/step - loss: 3813.8315 - mae: 3813.8315\n",
            "Epoch 124/200\n",
            "34/34 [==============================] - 0s 1ms/step - loss: 3805.7307 - mae: 3805.7307\n",
            "Epoch 125/200\n",
            "34/34 [==============================] - 0s 2ms/step - loss: 3794.7090 - mae: 3794.7090\n",
            "Epoch 126/200\n",
            "34/34 [==============================] - 0s 2ms/step - loss: 3804.4946 - mae: 3804.4946\n",
            "Epoch 127/200\n",
            "34/34 [==============================] - 0s 2ms/step - loss: 3796.0596 - mae: 3796.0596\n",
            "Epoch 128/200\n",
            "34/34 [==============================] - 0s 2ms/step - loss: 3791.0422 - mae: 3791.0422\n",
            "Epoch 129/200\n",
            "34/34 [==============================] - 0s 2ms/step - loss: 3800.0696 - mae: 3800.0696\n",
            "Epoch 130/200\n",
            "34/34 [==============================] - 0s 2ms/step - loss: 3788.5005 - mae: 3788.5005\n",
            "Epoch 131/200\n",
            "34/34 [==============================] - 0s 1ms/step - loss: 3780.8442 - mae: 3780.8442\n",
            "Epoch 132/200\n",
            "34/34 [==============================] - 0s 2ms/step - loss: 3774.5413 - mae: 3774.5413\n",
            "Epoch 133/200\n",
            "34/34 [==============================] - 0s 2ms/step - loss: 3771.0156 - mae: 3771.0156\n",
            "Epoch 134/200\n",
            "34/34 [==============================] - 0s 2ms/step - loss: 3769.3762 - mae: 3769.3762\n",
            "Epoch 135/200\n",
            "34/34 [==============================] - 0s 2ms/step - loss: 3766.7610 - mae: 3766.7610\n",
            "Epoch 136/200\n",
            "34/34 [==============================] - 0s 2ms/step - loss: 3765.5508 - mae: 3765.5508\n",
            "Epoch 137/200\n",
            "34/34 [==============================] - 0s 2ms/step - loss: 3774.5032 - mae: 3774.5032\n",
            "Epoch 138/200\n",
            "34/34 [==============================] - 0s 2ms/step - loss: 3785.3909 - mae: 3785.3909\n",
            "Epoch 139/200\n",
            "34/34 [==============================] - 0s 2ms/step - loss: 3761.1299 - mae: 3761.1299\n",
            "Epoch 140/200\n",
            "34/34 [==============================] - 0s 2ms/step - loss: 3764.1753 - mae: 3764.1753\n",
            "Epoch 141/200\n",
            "34/34 [==============================] - 0s 2ms/step - loss: 3763.9250 - mae: 3763.9250\n",
            "Epoch 142/200\n",
            "34/34 [==============================] - 0s 2ms/step - loss: 3762.7959 - mae: 3762.7959\n",
            "Epoch 143/200\n",
            "34/34 [==============================] - 0s 1ms/step - loss: 3754.4397 - mae: 3754.4397\n",
            "Epoch 144/200\n",
            "34/34 [==============================] - 0s 2ms/step - loss: 3750.3347 - mae: 3750.3347\n",
            "Epoch 145/200\n",
            "34/34 [==============================] - 0s 2ms/step - loss: 3750.4006 - mae: 3750.4006\n",
            "Epoch 146/200\n",
            "34/34 [==============================] - 0s 2ms/step - loss: 3755.4736 - mae: 3755.4736\n",
            "Epoch 147/200\n",
            "34/34 [==============================] - 0s 2ms/step - loss: 3750.3223 - mae: 3750.3223\n",
            "Epoch 148/200\n",
            "34/34 [==============================] - 0s 2ms/step - loss: 3758.1089 - mae: 3758.1089\n",
            "Epoch 149/200\n",
            "34/34 [==============================] - 0s 2ms/step - loss: 3743.4858 - mae: 3743.4858\n",
            "Epoch 150/200\n",
            "34/34 [==============================] - 0s 2ms/step - loss: 3738.5342 - mae: 3738.5342\n",
            "Epoch 151/200\n",
            "34/34 [==============================] - 0s 2ms/step - loss: 3740.1384 - mae: 3740.1384\n",
            "Epoch 152/200\n",
            "34/34 [==============================] - 0s 2ms/step - loss: 3742.4954 - mae: 3742.4954\n",
            "Epoch 153/200\n",
            "34/34 [==============================] - 0s 2ms/step - loss: 3744.4399 - mae: 3744.4399\n",
            "Epoch 154/200\n",
            "34/34 [==============================] - 0s 2ms/step - loss: 3737.1824 - mae: 3737.1824\n",
            "Epoch 155/200\n",
            "34/34 [==============================] - 0s 2ms/step - loss: 3737.6541 - mae: 3737.6541\n",
            "Epoch 156/200\n",
            "34/34 [==============================] - 0s 2ms/step - loss: 3737.1663 - mae: 3737.1663\n",
            "Epoch 157/200\n",
            "34/34 [==============================] - 0s 2ms/step - loss: 3733.1101 - mae: 3733.1101\n",
            "Epoch 158/200\n",
            "34/34 [==============================] - 0s 2ms/step - loss: 3729.5813 - mae: 3729.5813\n",
            "Epoch 159/200\n",
            "34/34 [==============================] - 0s 2ms/step - loss: 3725.9053 - mae: 3725.9053\n",
            "Epoch 160/200\n",
            "34/34 [==============================] - 0s 2ms/step - loss: 3733.2817 - mae: 3733.2817\n",
            "Epoch 161/200\n",
            "34/34 [==============================] - 0s 2ms/step - loss: 3728.2559 - mae: 3728.2559\n",
            "Epoch 162/200\n",
            "34/34 [==============================] - 0s 2ms/step - loss: 3724.5825 - mae: 3724.5825\n",
            "Epoch 163/200\n",
            "34/34 [==============================] - 0s 1ms/step - loss: 3723.0806 - mae: 3723.0806\n",
            "Epoch 164/200\n",
            "34/34 [==============================] - 0s 2ms/step - loss: 3726.9475 - mae: 3726.9475\n",
            "Epoch 165/200\n",
            "34/34 [==============================] - 0s 2ms/step - loss: 3716.5430 - mae: 3716.5430\n",
            "Epoch 166/200\n",
            "34/34 [==============================] - 0s 2ms/step - loss: 3721.9155 - mae: 3721.9155\n",
            "Epoch 167/200\n",
            "34/34 [==============================] - 0s 2ms/step - loss: 3721.1814 - mae: 3721.1814\n",
            "Epoch 168/200\n",
            "34/34 [==============================] - 0s 2ms/step - loss: 3715.2456 - mae: 3715.2456\n",
            "Epoch 169/200\n",
            "34/34 [==============================] - 0s 2ms/step - loss: 3713.9756 - mae: 3713.9756\n",
            "Epoch 170/200\n",
            "34/34 [==============================] - 0s 2ms/step - loss: 3707.9922 - mae: 3707.9922\n",
            "Epoch 171/200\n",
            "34/34 [==============================] - 0s 2ms/step - loss: 3707.4158 - mae: 3707.4158\n",
            "Epoch 172/200\n",
            "34/34 [==============================] - 0s 2ms/step - loss: 3710.6833 - mae: 3710.6833\n",
            "Epoch 173/200\n",
            "34/34 [==============================] - 0s 2ms/step - loss: 3703.3618 - mae: 3703.3618\n",
            "Epoch 174/200\n",
            "34/34 [==============================] - 0s 2ms/step - loss: 3710.9385 - mae: 3710.9385\n",
            "Epoch 175/200\n",
            "34/34 [==============================] - 0s 2ms/step - loss: 3713.0417 - mae: 3713.0417\n",
            "Epoch 176/200\n",
            "34/34 [==============================] - 0s 2ms/step - loss: 3705.0571 - mae: 3705.0571\n",
            "Epoch 177/200\n",
            "34/34 [==============================] - 0s 2ms/step - loss: 3698.9333 - mae: 3698.9333\n",
            "Epoch 178/200\n",
            "34/34 [==============================] - 0s 2ms/step - loss: 3697.9983 - mae: 3697.9983\n",
            "Epoch 179/200\n",
            "34/34 [==============================] - 0s 2ms/step - loss: 3704.9150 - mae: 3704.9150\n",
            "Epoch 180/200\n",
            "34/34 [==============================] - 0s 2ms/step - loss: 3710.3679 - mae: 3710.3679\n",
            "Epoch 181/200\n",
            "34/34 [==============================] - 0s 2ms/step - loss: 3696.6482 - mae: 3696.6482\n",
            "Epoch 182/200\n",
            "34/34 [==============================] - 0s 2ms/step - loss: 3692.7329 - mae: 3692.7329\n",
            "Epoch 183/200\n",
            "34/34 [==============================] - 0s 2ms/step - loss: 3691.1655 - mae: 3691.1655\n",
            "Epoch 184/200\n",
            "34/34 [==============================] - 0s 2ms/step - loss: 3699.2437 - mae: 3699.2437\n",
            "Epoch 185/200\n",
            "34/34 [==============================] - 0s 2ms/step - loss: 3693.2480 - mae: 3693.2480\n",
            "Epoch 186/200\n",
            "34/34 [==============================] - 0s 2ms/step - loss: 3696.1387 - mae: 3696.1387\n",
            "Epoch 187/200\n",
            "34/34 [==============================] - 0s 2ms/step - loss: 3687.8640 - mae: 3687.8640\n",
            "Epoch 188/200\n",
            "34/34 [==============================] - 0s 2ms/step - loss: 3693.3562 - mae: 3693.3562\n",
            "Epoch 189/200\n",
            "34/34 [==============================] - 0s 2ms/step - loss: 3682.7324 - mae: 3682.7324\n",
            "Epoch 190/200\n",
            "34/34 [==============================] - 0s 2ms/step - loss: 3683.2891 - mae: 3683.2891\n",
            "Epoch 191/200\n",
            "34/34 [==============================] - 0s 3ms/step - loss: 3697.6536 - mae: 3697.6536\n",
            "Epoch 192/200\n",
            "34/34 [==============================] - 0s 2ms/step - loss: 3684.6665 - mae: 3684.6665\n",
            "Epoch 193/200\n",
            "34/34 [==============================] - 0s 1ms/step - loss: 3675.5154 - mae: 3675.5154\n",
            "Epoch 194/200\n",
            "34/34 [==============================] - 0s 1ms/step - loss: 3676.3923 - mae: 3676.3923\n",
            "Epoch 195/200\n",
            "34/34 [==============================] - 0s 2ms/step - loss: 3672.8452 - mae: 3672.8452\n",
            "Epoch 196/200\n",
            "34/34 [==============================] - 0s 2ms/step - loss: 3682.0283 - mae: 3682.0283\n",
            "Epoch 197/200\n",
            "34/34 [==============================] - 0s 2ms/step - loss: 3665.7961 - mae: 3665.7961\n",
            "Epoch 198/200\n",
            "34/34 [==============================] - 0s 2ms/step - loss: 3671.7419 - mae: 3671.7419\n",
            "Epoch 199/200\n",
            "34/34 [==============================] - 0s 2ms/step - loss: 3680.5464 - mae: 3680.5464\n",
            "Epoch 200/200\n",
            "34/34 [==============================] - 0s 1ms/step - loss: 3665.6401 - mae: 3665.6401\n"
          ]
        }
      ]
    },
    {
      "cell_type": "markdown",
      "metadata": {
        "id": "h9NnMOKq3xN9"
      },
      "source": [
        "> 🔑 **Note:** For many problems, the [Adam optimizer](https://www.tensorflow.org/api_docs/python/tf/keras/optimizers/Adam) is a great starting choice. See Andrei Karpathy's \"Adam is safe\" point from[ A Recipe for Training Neural Networks](http://karpathy.github.io/2019/04/25/recipe/) for more."
      ]
    },
    {
      "cell_type": "code",
      "metadata": {
        "colab": {
          "base_uri": "https://localhost:8080/"
        },
        "id": "po67TXcR0z4o",
        "outputId": "dbb22e67-8dc4-496d-e326-58bcadca0cb1"
      },
      "source": [
        "# Check the results of insurance model on the test model\n",
        "insurance_model_2.evaluate(X_test, y_test)"
      ],
      "execution_count": null,
      "outputs": [
        {
          "output_type": "stream",
          "name": "stdout",
          "text": [
            "9/9 [==============================] - 0s 2ms/step - loss: 3491.2961 - mae: 3491.2961\n"
          ]
        },
        {
          "output_type": "execute_result",
          "data": {
            "text/plain": [
              "[3491.296142578125, 3491.296142578125]"
            ]
          },
          "metadata": {},
          "execution_count": 145
        }
      ]
    },
    {
      "cell_type": "code",
      "metadata": {
        "colab": {
          "base_uri": "https://localhost:8080/"
        },
        "id": "_iWdOOqr07D4",
        "outputId": "43eb5a5c-44da-4533-ef04-81310ba5a662"
      },
      "source": [
        "y_train.median(), y_train.mean()"
      ],
      "execution_count": null,
      "outputs": [
        {
          "output_type": "execute_result",
          "data": {
            "text/plain": [
              "(9575.4421, 13346.089736364489)"
            ]
          },
          "metadata": {},
          "execution_count": 146
        }
      ]
    },
    {
      "cell_type": "markdown",
      "metadata": {
        "id": "YK94O16n21fk"
      },
      "source": [
        "We have defined history befor for fit to plot the graph of our model to check the performance. So, let's check that out."
      ]
    },
    {
      "cell_type": "code",
      "metadata": {
        "colab": {
          "base_uri": "https://localhost:8080/",
          "height": 296
        },
        "id": "yeGpM8pv1Ag6",
        "outputId": "e94ac0fe-a657-4151-b8b4-b100fbeb5c50"
      },
      "source": [
        "# Plot history/ loss curve/training curve\n",
        "pd.DataFrame(history.history).plot()\n",
        "plt.ylabel(\"loss\")\n",
        "plt.xlabel(\"epochs\")"
      ],
      "execution_count": null,
      "outputs": [
        {
          "output_type": "execute_result",
          "data": {
            "text/plain": [
              "Text(0.5, 0, 'epochs')"
            ]
          },
          "metadata": {},
          "execution_count": 147
        },
        {
          "output_type": "display_data",
          "data": {
            "image/png": "[encoded data removed]",
            "text/plain": [
              "<Figure size 432x288 with 1 Axes>"
            ]
          },
          "metadata": {
            "needs_background": "light"
          }
        }
      ]
    },
    {
      "cell_type": "markdown",
      "metadata": {
        "id": "MGkdNZUX4PCN"
      },
      "source": [
        "> **🤔 Question:** How long should you train for?\n",
        "\n",
        "> It depends on what problem you're working on. Sometimes training won't take very long, other times it'll take longer than you expect. A common method is to set your model training for a very long time (e.g. 1000's of epochs) but set it up with an [EarlyStopping callback](https://www.tensorflow.org/api_docs/python/tf/keras/callbacks/EarlyStopping) so it stops automatically when it stops improving. We'll see this in another module."
      ]
    },
    {
      "cell_type": "markdown",
      "metadata": {
        "id": "0h3jB9Xi4j_u"
      },
      "source": [
        "## Preprocessing data (Normalization and Standardization)"
      ]
    },
    {
      "cell_type": "markdown",
      "metadata": {
        "id": "D8Uw54Mj5Hdp"
      },
      "source": [
        "Let us check the things we have done.\n",
        "1. Not all our data will be in numbers, so before building a model we need to do numerical encoding. ✔️\n",
        "2. We have to make sure all tensors are in the right shape. ✔️\n",
        "3. Scale features ([normalize](https://en.wikipedia.org/wiki/Normalization_(statistics)) and [standardize](https://en.wikipedia.org/wiki/Standardization), mostly normalization) ❌\n",
        "\n",
        "Let's look at the 3rd point"
      ]
    },
    {
      "cell_type": "code",
      "metadata": {
        "colab": {
          "base_uri": "https://localhost:8080/",
          "height": 424
        },
        "id": "sndXXJJf3Ktw",
        "outputId": "b3de0449-6ba2-4ba1-9bdf-c8a0adf574dd"
      },
      "source": [
        "# Look at the dataset\n",
        "X"
      ],
      "execution_count": null,
      "outputs": [
        {
          "output_type": "execute_result",
          "data": {
            "text/html": [
              "<div>\n",
              "<style scoped>\n",
              "    .dataframe tbody tr th:only-of-type {\n",
              "        vertical-align: middle;\n",
              "    }\n",
              "\n",
              "    .dataframe tbody tr th {\n",
              "        vertical-align: top;\n",
              "    }\n",
              "\n",
              "    .dataframe thead th {\n",
              "        text-align: right;\n",
              "    }\n",
              "</style>\n",
              "<table border=\"1\" class=\"dataframe\">\n",
              "  <thead>\n",
              "    <tr style=\"text-align: right;\">\n",
              "      <th></th>\n",
              "      <th>age</th>\n",
              "      <th>bmi</th>\n",
              "      <th>children</th>\n",
              "      <th>sex_female</th>\n",
              "      <th>sex_male</th>\n",
              "      <th>smoker_no</th>\n",
              "      <th>smoker_yes</th>\n",
              "      <th>region_northeast</th>\n",
              "      <th>region_northwest</th>\n",
              "      <th>region_southeast</th>\n",
              "      <th>region_southwest</th>\n",
              "    </tr>\n",
              "  </thead>\n",
              "  <tbody>\n",
              "    <tr>\n",
              "      <th>0</th>\n",
              "      <td>19</td>\n",
              "      <td>27.900</td>\n",
              "      <td>0</td>\n",
              "      <td>1</td>\n",
              "      <td>0</td>\n",
              "      <td>0</td>\n",
              "      <td>1</td>\n",
              "      <td>0</td>\n",
              "      <td>0</td>\n",
              "      <td>0</td>\n",
              "      <td>1</td>\n",
              "    </tr>\n",
              "    <tr>\n",
              "      <th>1</th>\n",
              "      <td>18</td>\n",
              "      <td>33.770</td>\n",
              "      <td>1</td>\n",
              "      <td>0</td>\n",
              "      <td>1</td>\n",
              "      <td>1</td>\n",
              "      <td>0</td>\n",
              "      <td>0</td>\n",
              "      <td>0</td>\n",
              "      <td>1</td>\n",
              "      <td>0</td>\n",
              "    </tr>\n",
              "    <tr>\n",
              "      <th>2</th>\n",
              "      <td>28</td>\n",
              "      <td>33.000</td>\n",
              "      <td>3</td>\n",
              "      <td>0</td>\n",
              "      <td>1</td>\n",
              "      <td>1</td>\n",
              "      <td>0</td>\n",
              "      <td>0</td>\n",
              "      <td>0</td>\n",
              "      <td>1</td>\n",
              "      <td>0</td>\n",
              "    </tr>\n",
              "    <tr>\n",
              "      <th>3</th>\n",
              "      <td>33</td>\n",
              "      <td>22.705</td>\n",
              "      <td>0</td>\n",
              "      <td>0</td>\n",
              "      <td>1</td>\n",
              "      <td>1</td>\n",
              "      <td>0</td>\n",
              "      <td>0</td>\n",
              "      <td>1</td>\n",
              "      <td>0</td>\n",
              "      <td>0</td>\n",
              "    </tr>\n",
              "    <tr>\n",
              "      <th>4</th>\n",
              "      <td>32</td>\n",
              "      <td>28.880</td>\n",
              "      <td>0</td>\n",
              "      <td>0</td>\n",
              "      <td>1</td>\n",
              "      <td>1</td>\n",
              "      <td>0</td>\n",
              "      <td>0</td>\n",
              "      <td>1</td>\n",
              "      <td>0</td>\n",
              "      <td>0</td>\n",
              "    </tr>\n",
              "    <tr>\n",
              "      <th>...</th>\n",
              "      <td>...</td>\n",
              "      <td>...</td>\n",
              "      <td>...</td>\n",
              "      <td>...</td>\n",
              "      <td>...</td>\n",
              "      <td>...</td>\n",
              "      <td>...</td>\n",
              "      <td>...</td>\n",
              "      <td>...</td>\n",
              "      <td>...</td>\n",
              "      <td>...</td>\n",
              "    </tr>\n",
              "    <tr>\n",
              "      <th>1333</th>\n",
              "      <td>50</td>\n",
              "      <td>30.970</td>\n",
              "      <td>3</td>\n",
              "      <td>0</td>\n",
              "      <td>1</td>\n",
              "      <td>1</td>\n",
              "      <td>0</td>\n",
              "      <td>0</td>\n",
              "      <td>1</td>\n",
              "      <td>0</td>\n",
              "      <td>0</td>\n",
              "    </tr>\n",
              "    <tr>\n",
              "      <th>1334</th>\n",
              "      <td>18</td>\n",
              "      <td>31.920</td>\n",
              "      <td>0</td>\n",
              "      <td>1</td>\n",
              "      <td>0</td>\n",
              "      <td>1</td>\n",
              "      <td>0</td>\n",
              "      <td>1</td>\n",
              "      <td>0</td>\n",
              "      <td>0</td>\n",
              "      <td>0</td>\n",
              "    </tr>\n",
              "    <tr>\n",
              "      <th>1335</th>\n",
              "      <td>18</td>\n",
              "      <td>36.850</td>\n",
              "      <td>0</td>\n",
              "      <td>1</td>\n",
              "      <td>0</td>\n",
              "      <td>1</td>\n",
              "      <td>0</td>\n",
              "      <td>0</td>\n",
              "      <td>0</td>\n",
              "      <td>1</td>\n",
              "      <td>0</td>\n",
              "    </tr>\n",
              "    <tr>\n",
              "      <th>1336</th>\n",
              "      <td>21</td>\n",
              "      <td>25.800</td>\n",
              "      <td>0</td>\n",
              "      <td>1</td>\n",
              "      <td>0</td>\n",
              "      <td>1</td>\n",
              "      <td>0</td>\n",
              "      <td>0</td>\n",
              "      <td>0</td>\n",
              "      <td>0</td>\n",
              "      <td>1</td>\n",
              "    </tr>\n",
              "    <tr>\n",
              "      <th>1337</th>\n",
              "      <td>61</td>\n",
              "      <td>29.070</td>\n",
              "      <td>0</td>\n",
              "      <td>1</td>\n",
              "      <td>0</td>\n",
              "      <td>0</td>\n",
              "      <td>1</td>\n",
              "      <td>0</td>\n",
              "      <td>1</td>\n",
              "      <td>0</td>\n",
              "      <td>0</td>\n",
              "    </tr>\n",
              "  </tbody>\n",
              "</table>\n",
              "<p>1338 rows × 11 columns</p>\n",
              "</div>"
            ],
            "text/plain": [
              "      age     bmi  ...  region_southeast  region_southwest\n",
              "0      19  27.900  ...                 0                 1\n",
              "1      18  33.770  ...                 1                 0\n",
              "2      28  33.000  ...                 1                 0\n",
              "3      33  22.705  ...                 0                 0\n",
              "4      32  28.880  ...                 0                 0\n",
              "...   ...     ...  ...               ...               ...\n",
              "1333   50  30.970  ...                 0                 0\n",
              "1334   18  31.920  ...                 0                 0\n",
              "1335   18  36.850  ...                 1                 0\n",
              "1336   21  25.800  ...                 0                 1\n",
              "1337   61  29.070  ...                 0                 0\n",
              "\n",
              "[1338 rows x 11 columns]"
            ]
          },
          "metadata": {},
          "execution_count": 148
        }
      ]
    },
    {
      "cell_type": "markdown",
      "metadata": {
        "id": "bNK_wZwJAsYq"
      },
      "source": [
        "We can see that 'age' and 'bmi' are at different scale."
      ]
    },
    {
      "cell_type": "code",
      "metadata": {
        "colab": {
          "base_uri": "https://localhost:8080/",
          "height": 282
        },
        "id": "JYN2mXnvAqOp",
        "outputId": "9ba08cf0-b376-448a-c3fb-7b37f66479c8"
      },
      "source": [
        "X[\"age\"].plot(kind=\"hist\")"
      ],
      "execution_count": null,
      "outputs": [
        {
          "output_type": "execute_result",
          "data": {
            "text/plain": [
              "<matplotlib.axes._subplots.AxesSubplot at 0x7f6b2a42a1d0>"
            ]
          },
          "metadata": {},
          "execution_count": 150
        },
        {
          "output_type": "display_data",
          "data": {
            "image/png": "[encoded data removed]",
            "text/plain": [
              "<Figure size 432x288 with 1 Axes>"
            ]
          },
          "metadata": {
            "needs_background": "light"
          }
        }
      ]
    },
    {
      "cell_type": "code",
      "metadata": {
        "colab": {
          "base_uri": "https://localhost:8080/",
          "height": 282
        },
        "id": "aNOpu31BA3zh",
        "outputId": "8c02e549-9b3a-42a6-8020-2546fd0afeb0"
      },
      "source": [
        "X[\"bmi\"].plot(kind=\"hist\")"
      ],
      "execution_count": null,
      "outputs": [
        {
          "output_type": "execute_result",
          "data": {
            "text/plain": [
              "<matplotlib.axes._subplots.AxesSubplot at 0x7f6b2a4036d0>"
            ]
          },
          "metadata": {},
          "execution_count": 151
        },
        {
          "output_type": "display_data",
          "data": {
            "image/png": "[encoded data removed]",
            "text/plain": [
              "<Figure size 432x288 with 1 Axes>"
            ]
          },
          "metadata": {
            "needs_background": "light"
          }
        }
      ]
    },
    {
      "cell_type": "markdown",
      "metadata": {
        "id": "50JZvACUA_c8"
      },
      "source": [
        "We want to get both of them at the same scale. This is where normalization comes in. It scales the features between 0 and 1 and perserves all the distribution.\n",
        "\n",
        "Other is standardization which removes the mean and divides each value by [standard deviation](https://en.wikipedia.org/wiki/Standard_deviation). This reduces the effect of outliers.\n",
        "\n",
        "In terms of scaling values, neural networks tend to prefer normalization and often you'll see that neural networks perform well with minimum feature values.\n",
        "\n",
        "These scaling techniques are called `Feature Scaling`.\n",
        "\n",
        "If not sure which one to use, you can try both and see which perform well.\n",
        "\n",
        "📚 **Resources:** Look at the following resources to understand better:\n",
        "* [Scikit-Learn's documentation on preprocessing data.](https://scikit-learn.org/stable/modules/preprocessing.html#preprocessing-data)\n",
        "* [Scale, Standardize or Normalize with Scikit-Learn by Jeff Hale.](https://towardsdatascience.com/scale-standardize-or-normalize-with-scikit-learn-6ccc7d176a02)"
      ]
    },
    {
      "cell_type": "code",
      "metadata": {
        "colab": {
          "base_uri": "https://localhost:8080/",
          "height": 424
        },
        "id": "IXaRnK8GA-fJ",
        "outputId": "907ed65b-ddd3-418b-b00f-8997659d7de0"
      },
      "source": [
        "import pandas as pd\n",
        "import matplotlib.pyplot as plt\n",
        "import tensorflow as tf\n",
        "\n",
        "# Read in the insurance dataset and check the dataset\n",
        "insurance = pd.read_csv(\"https://raw.githubusercontent.com/stedy/Machine-Learning-with-R-datasets/master/insurance.csv\")\n",
        "insurance"
      ],
      "execution_count": null,
      "outputs": [
        {
          "output_type": "execute_result",
          "data": {
            "text/html": [
              "<div>\n",
              "<style scoped>\n",
              "    .dataframe tbody tr th:only-of-type {\n",
              "        vertical-align: middle;\n",
              "    }\n",
              "\n",
              "    .dataframe tbody tr th {\n",
              "        vertical-align: top;\n",
              "    }\n",
              "\n",
              "    .dataframe thead th {\n",
              "        text-align: right;\n",
              "    }\n",
              "</style>\n",
              "<table border=\"1\" class=\"dataframe\">\n",
              "  <thead>\n",
              "    <tr style=\"text-align: right;\">\n",
              "      <th></th>\n",
              "      <th>age</th>\n",
              "      <th>sex</th>\n",
              "      <th>bmi</th>\n",
              "      <th>children</th>\n",
              "      <th>smoker</th>\n",
              "      <th>region</th>\n",
              "      <th>charges</th>\n",
              "    </tr>\n",
              "  </thead>\n",
              "  <tbody>\n",
              "    <tr>\n",
              "      <th>0</th>\n",
              "      <td>19</td>\n",
              "      <td>female</td>\n",
              "      <td>27.900</td>\n",
              "      <td>0</td>\n",
              "      <td>yes</td>\n",
              "      <td>southwest</td>\n",
              "      <td>16884.92400</td>\n",
              "    </tr>\n",
              "    <tr>\n",
              "      <th>1</th>\n",
              "      <td>18</td>\n",
              "      <td>male</td>\n",
              "      <td>33.770</td>\n",
              "      <td>1</td>\n",
              "      <td>no</td>\n",
              "      <td>southeast</td>\n",
              "      <td>1725.55230</td>\n",
              "    </tr>\n",
              "    <tr>\n",
              "      <th>2</th>\n",
              "      <td>28</td>\n",
              "      <td>male</td>\n",
              "      <td>33.000</td>\n",
              "      <td>3</td>\n",
              "      <td>no</td>\n",
              "      <td>southeast</td>\n",
              "      <td>4449.46200</td>\n",
              "    </tr>\n",
              "    <tr>\n",
              "      <th>3</th>\n",
              "      <td>33</td>\n",
              "      <td>male</td>\n",
              "      <td>22.705</td>\n",
              "      <td>0</td>\n",
              "      <td>no</td>\n",
              "      <td>northwest</td>\n",
              "      <td>21984.47061</td>\n",
              "    </tr>\n",
              "    <tr>\n",
              "      <th>4</th>\n",
              "      <td>32</td>\n",
              "      <td>male</td>\n",
              "      <td>28.880</td>\n",
              "      <td>0</td>\n",
              "      <td>no</td>\n",
              "      <td>northwest</td>\n",
              "      <td>3866.85520</td>\n",
              "    </tr>\n",
              "    <tr>\n",
              "      <th>...</th>\n",
              "      <td>...</td>\n",
              "      <td>...</td>\n",
              "      <td>...</td>\n",
              "      <td>...</td>\n",
              "      <td>...</td>\n",
              "      <td>...</td>\n",
              "      <td>...</td>\n",
              "    </tr>\n",
              "    <tr>\n",
              "      <th>1333</th>\n",
              "      <td>50</td>\n",
              "      <td>male</td>\n",
              "      <td>30.970</td>\n",
              "      <td>3</td>\n",
              "      <td>no</td>\n",
              "      <td>northwest</td>\n",
              "      <td>10600.54830</td>\n",
              "    </tr>\n",
              "    <tr>\n",
              "      <th>1334</th>\n",
              "      <td>18</td>\n",
              "      <td>female</td>\n",
              "      <td>31.920</td>\n",
              "      <td>0</td>\n",
              "      <td>no</td>\n",
              "      <td>northeast</td>\n",
              "      <td>2205.98080</td>\n",
              "    </tr>\n",
              "    <tr>\n",
              "      <th>1335</th>\n",
              "      <td>18</td>\n",
              "      <td>female</td>\n",
              "      <td>36.850</td>\n",
              "      <td>0</td>\n",
              "      <td>no</td>\n",
              "      <td>southeast</td>\n",
              "      <td>1629.83350</td>\n",
              "    </tr>\n",
              "    <tr>\n",
              "      <th>1336</th>\n",
              "      <td>21</td>\n",
              "      <td>female</td>\n",
              "      <td>25.800</td>\n",
              "      <td>0</td>\n",
              "      <td>no</td>\n",
              "      <td>southwest</td>\n",
              "      <td>2007.94500</td>\n",
              "    </tr>\n",
              "    <tr>\n",
              "      <th>1337</th>\n",
              "      <td>61</td>\n",
              "      <td>female</td>\n",
              "      <td>29.070</td>\n",
              "      <td>0</td>\n",
              "      <td>yes</td>\n",
              "      <td>northwest</td>\n",
              "      <td>29141.36030</td>\n",
              "    </tr>\n",
              "  </tbody>\n",
              "</table>\n",
              "<p>1338 rows × 7 columns</p>\n",
              "</div>"
            ],
            "text/plain": [
              "      age     sex     bmi  children smoker     region      charges\n",
              "0      19  female  27.900         0    yes  southwest  16884.92400\n",
              "1      18    male  33.770         1     no  southeast   1725.55230\n",
              "2      28    male  33.000         3     no  southeast   4449.46200\n",
              "3      33    male  22.705         0     no  northwest  21984.47061\n",
              "4      32    male  28.880         0     no  northwest   3866.85520\n",
              "...   ...     ...     ...       ...    ...        ...          ...\n",
              "1333   50    male  30.970         3     no  northwest  10600.54830\n",
              "1334   18  female  31.920         0     no  northeast   2205.98080\n",
              "1335   18  female  36.850         0     no  southeast   1629.83350\n",
              "1336   21  female  25.800         0     no  southwest   2007.94500\n",
              "1337   61  female  29.070         0    yes  northwest  29141.36030\n",
              "\n",
              "[1338 rows x 7 columns]"
            ]
          },
          "metadata": {},
          "execution_count": 152
        }
      ]
    },
    {
      "cell_type": "markdown",
      "metadata": {
        "id": "BqOiyCwMEHCe"
      },
      "source": [
        "To prepare our data, we can borrow a few classes from scikit-learn"
      ]
    },
    {
      "cell_type": "code",
      "metadata": {
        "id": "V-Ofm6znEBDt"
      },
      "source": [
        "from sklearn.compose import make_column_transformer\n",
        "from sklearn.preprocessing import MinMaxScaler, OneHotEncoder # MixMaxScalar for normalization, OneHotEncoder for numerical encoding\n",
        "from sklearn.model_selection import train_test_split\n",
        "\n",
        "# Create a column transformer\n",
        "ct = make_column_transformer(\n",
        "    (MinMaxScaler(), [\"age\", \"bmi\", \"children\"]), # turn all values in these columns between 0 and 1\n",
        "    (OneHotEncoder(handle_unknown=\"ignore\"), [\"sex\", \"smoker\", \"region\"])  # Numerical encode the strings\n",
        ")\n",
        "\n",
        "# Create X & y\n",
        "X = insurance.drop(\"charges\", axis=1)\n",
        "y = insurance[\"charges\"]\n",
        "\n",
        "# Build our train and test sets\n",
        "X_train, X_test, y_train, y_test = train_test_split(X, y, test_size=0.2, random_state=42)\n",
        "\n",
        "# Fit the column transformer to our training data\n",
        "ct.fit(X_train)\n",
        "\n",
        "# Transform training data and test data with normalization and OneHotEncoder\n",
        "X_train_normal = ct.transform(X_train)\n",
        "X_test_normal = ct.transform(X_test)"
      ],
      "execution_count": null,
      "outputs": []
    },
    {
      "cell_type": "code",
      "metadata": {
        "colab": {
          "base_uri": "https://localhost:8080/"
        },
        "id": "h_m5w_JeGmFb",
        "outputId": "f2f8bc31-60e0-4c22-f055-57b866bbcee6"
      },
      "source": [
        "# What does our data look like before?\n",
        "X_train.loc[0] "
      ],
      "execution_count": null,
      "outputs": [
        {
          "output_type": "execute_result",
          "data": {
            "text/plain": [
              "age                19\n",
              "sex            female\n",
              "bmi              27.9\n",
              "children            0\n",
              "smoker            yes\n",
              "region      southwest\n",
              "Name: 0, dtype: object"
            ]
          },
          "metadata": {},
          "execution_count": 157
        }
      ]
    },
    {
      "cell_type": "code",
      "metadata": {
        "colab": {
          "base_uri": "https://localhost:8080/"
        },
        "id": "i-LnLP_KG9Fp",
        "outputId": "c7776c20-cfa7-4022-85df-07533f4a714a"
      },
      "source": [
        "# What does our data look like now?\n",
        "X_train_normal"
      ],
      "execution_count": null,
      "outputs": [
        {
          "output_type": "execute_result",
          "data": {
            "text/plain": [
              "array([[0.60869565, 0.10734463, 0.4       , ..., 1.        , 0.        ,\n",
              "        0.        ],\n",
              "       [0.63043478, 0.22491256, 0.        , ..., 0.        , 0.        ,\n",
              "        0.        ],\n",
              "       [0.73913043, 0.23944041, 0.        , ..., 0.        , 1.        ,\n",
              "        0.        ],\n",
              "       ...,\n",
              "       [0.86956522, 0.24791499, 0.        , ..., 0.        , 0.        ,\n",
              "        0.        ],\n",
              "       [0.41304348, 0.85122411, 0.4       , ..., 0.        , 0.        ,\n",
              "        1.        ],\n",
              "       [0.80434783, 0.37503363, 0.        , ..., 0.        , 0.        ,\n",
              "        1.        ]])"
            ]
          },
          "metadata": {},
          "execution_count": 162
        }
      ]
    },
    {
      "cell_type": "markdown",
      "metadata": {
        "id": "bhoGng9YHWNM"
      },
      "source": [
        "Now, our data is in numerical format and this means we can pass it to our neural network."
      ]
    },
    {
      "cell_type": "code",
      "metadata": {
        "colab": {
          "base_uri": "https://localhost:8080/"
        },
        "id": "lzpH2rMNHA1S",
        "outputId": "d640288f-4762-4208-9b03-2722945cc24d"
      },
      "source": [
        "# Let's check the shapes before and now\n",
        "X_train.shape, X_train_normal.shape"
      ],
      "execution_count": null,
      "outputs": [
        {
          "output_type": "execute_result",
          "data": {
            "text/plain": [
              "((1070, 6), (1070, 11))"
            ]
          },
          "metadata": {},
          "execution_count": 163
        }
      ]
    },
    {
      "cell_type": "markdown",
      "metadata": {
        "id": "jtCNoRIXHuaQ"
      },
      "source": [
        "Our data has been normalized and one hot encoded. Now let's build a neural network model and see how it goes."
      ]
    },
    {
      "cell_type": "code",
      "metadata": {
        "colab": {
          "base_uri": "https://localhost:8080/"
        },
        "id": "_BQ3B4BPHsGZ",
        "outputId": "f7309011-9ba1-42e2-d526-f23921a6a12c"
      },
      "source": [
        "# Build a neural network model to fit our normalized data\n",
        "\n",
        "# Create the model\n",
        "insurance_model_3 =  tf.keras.Sequential([\n",
        "                                          tf.keras.layers.Dense(100),\n",
        "                                          tf.keras.layers.Dense(10),\n",
        "                                          tf.keras.layers.Dense(1)\n",
        "])\n",
        "\n",
        "# Compile the model\n",
        "insurance_model_3.compile(loss=tf.keras.losses.mae,\n",
        "                          optimizer=tf.keras.optimizers.Adam(),\n",
        "                          metrics=[\"mae\"])\n",
        "\n",
        "# Fit the model\n",
        "insurance_model_3.fit(X_train_normal, y_train, epochs=200)"
      ],
      "execution_count": null,
      "outputs": [
        {
          "output_type": "stream",
          "name": "stdout",
          "text": [
            "Epoch 1/200\n",
            "34/34 [==============================] - 0s 2ms/step - loss: 13344.1953 - mae: 13344.1953\n",
            "Epoch 2/200\n",
            "34/34 [==============================] - 0s 2ms/step - loss: 13336.0244 - mae: 13336.0244\n",
            "Epoch 3/200\n",
            "34/34 [==============================] - 0s 2ms/step - loss: 13315.7998 - mae: 13315.7998\n",
            "Epoch 4/200\n",
            "34/34 [==============================] - 0s 1ms/step - loss: 13272.6104 - mae: 13272.6104\n",
            "Epoch 5/200\n",
            "34/34 [==============================] - 0s 2ms/step - loss: 13195.0557 - mae: 13195.0557\n",
            "Epoch 6/200\n",
            "34/34 [==============================] - 0s 2ms/step - loss: 13071.6191 - mae: 13071.6191\n",
            "Epoch 7/200\n",
            "34/34 [==============================] - 0s 2ms/step - loss: 12891.7305 - mae: 12891.7305\n",
            "Epoch 8/200\n",
            "34/34 [==============================] - 0s 2ms/step - loss: 12645.2568 - mae: 12645.2568\n",
            "Epoch 9/200\n",
            "34/34 [==============================] - 0s 2ms/step - loss: 12322.0635 - mae: 12322.0635\n",
            "Epoch 10/200\n",
            "34/34 [==============================] - 0s 2ms/step - loss: 11917.5869 - mae: 11917.5869\n",
            "Epoch 11/200\n",
            "34/34 [==============================] - 0s 2ms/step - loss: 11441.0205 - mae: 11441.0205\n",
            "Epoch 12/200\n",
            "34/34 [==============================] - 0s 2ms/step - loss: 10932.2822 - mae: 10932.2822\n",
            "Epoch 13/200\n",
            "34/34 [==============================] - 0s 2ms/step - loss: 10428.0137 - mae: 10428.0137\n",
            "Epoch 14/200\n",
            "34/34 [==============================] - 0s 2ms/step - loss: 9930.2148 - mae: 9930.2148\n",
            "Epoch 15/200\n",
            "34/34 [==============================] - 0s 2ms/step - loss: 9462.1064 - mae: 9462.1064\n",
            "Epoch 16/200\n",
            "34/34 [==============================] - 0s 2ms/step - loss: 9047.3145 - mae: 9047.3145\n",
            "Epoch 17/200\n",
            "34/34 [==============================] - 0s 2ms/step - loss: 8704.6455 - mae: 8704.6455\n",
            "Epoch 18/200\n",
            "34/34 [==============================] - 0s 2ms/step - loss: 8425.4453 - mae: 8425.4453\n",
            "Epoch 19/200\n",
            "34/34 [==============================] - 0s 2ms/step - loss: 8215.7998 - mae: 8215.7998\n",
            "Epoch 20/200\n",
            "34/34 [==============================] - 0s 2ms/step - loss: 8072.0645 - mae: 8072.0645\n",
            "Epoch 21/200\n",
            "34/34 [==============================] - 0s 2ms/step - loss: 7965.2261 - mae: 7965.2261\n",
            "Epoch 22/200\n",
            "34/34 [==============================] - 0s 2ms/step - loss: 7891.2065 - mae: 7891.2065\n",
            "Epoch 23/200\n",
            "34/34 [==============================] - 0s 1ms/step - loss: 7833.2490 - mae: 7833.2490\n",
            "Epoch 24/200\n",
            "34/34 [==============================] - 0s 2ms/step - loss: 7781.1089 - mae: 7781.1089\n",
            "Epoch 25/200\n",
            "34/34 [==============================] - 0s 2ms/step - loss: 7742.4561 - mae: 7742.4561\n",
            "Epoch 26/200\n",
            "34/34 [==============================] - 0s 2ms/step - loss: 7690.9902 - mae: 7690.9902\n",
            "Epoch 27/200\n",
            "34/34 [==============================] - 0s 1ms/step - loss: 7648.5977 - mae: 7648.5977\n",
            "Epoch 28/200\n",
            "34/34 [==============================] - 0s 2ms/step - loss: 7605.9473 - mae: 7605.9473\n",
            "Epoch 29/200\n",
            "34/34 [==============================] - 0s 2ms/step - loss: 7563.2129 - mae: 7563.2129\n",
            "Epoch 30/200\n",
            "34/34 [==============================] - 0s 2ms/step - loss: 7519.2827 - mae: 7519.2827\n",
            "Epoch 31/200\n",
            "34/34 [==============================] - 0s 2ms/step - loss: 7474.9087 - mae: 7474.9087\n",
            "Epoch 32/200\n",
            "34/34 [==============================] - 0s 2ms/step - loss: 7430.3247 - mae: 7430.3247\n",
            "Epoch 33/200\n",
            "34/34 [==============================] - 0s 1ms/step - loss: 7385.5000 - mae: 7385.5000\n",
            "Epoch 34/200\n",
            "34/34 [==============================] - 0s 1ms/step - loss: 7336.7554 - mae: 7336.7554\n",
            "Epoch 35/200\n",
            "34/34 [==============================] - 0s 2ms/step - loss: 7289.3345 - mae: 7289.3345\n",
            "Epoch 36/200\n",
            "34/34 [==============================] - 0s 2ms/step - loss: 7238.4790 - mae: 7238.4790\n",
            "Epoch 37/200\n",
            "34/34 [==============================] - 0s 2ms/step - loss: 7187.3750 - mae: 7187.3750\n",
            "Epoch 38/200\n",
            "34/34 [==============================] - 0s 2ms/step - loss: 7135.7700 - mae: 7135.7700\n",
            "Epoch 39/200\n",
            "34/34 [==============================] - 0s 2ms/step - loss: 7080.1147 - mae: 7080.1147\n",
            "Epoch 40/200\n",
            "34/34 [==============================] - 0s 2ms/step - loss: 7023.9062 - mae: 7023.9062\n",
            "Epoch 41/200\n",
            "34/34 [==============================] - 0s 2ms/step - loss: 6966.5869 - mae: 6966.5869\n",
            "Epoch 42/200\n",
            "34/34 [==============================] - 0s 2ms/step - loss: 6906.6494 - mae: 6906.6494\n",
            "Epoch 43/200\n",
            "34/34 [==============================] - 0s 2ms/step - loss: 6842.9678 - mae: 6842.9678\n",
            "Epoch 44/200\n",
            "34/34 [==============================] - 0s 2ms/step - loss: 6775.4565 - mae: 6775.4565\n",
            "Epoch 45/200\n",
            "34/34 [==============================] - 0s 1ms/step - loss: 6707.1353 - mae: 6707.1353\n",
            "Epoch 46/200\n",
            "34/34 [==============================] - 0s 2ms/step - loss: 6636.8691 - mae: 6636.8691\n",
            "Epoch 47/200\n",
            "34/34 [==============================] - 0s 2ms/step - loss: 6564.0698 - mae: 6564.0698\n",
            "Epoch 48/200\n",
            "34/34 [==============================] - 0s 2ms/step - loss: 6483.8320 - mae: 6483.8320\n",
            "Epoch 49/200\n",
            "34/34 [==============================] - 0s 1ms/step - loss: 6403.2886 - mae: 6403.2886\n",
            "Epoch 50/200\n",
            "34/34 [==============================] - 0s 2ms/step - loss: 6315.8594 - mae: 6315.8594\n",
            "Epoch 51/200\n",
            "34/34 [==============================] - 0s 2ms/step - loss: 6229.4751 - mae: 6229.4751\n",
            "Epoch 52/200\n",
            "34/34 [==============================] - 0s 2ms/step - loss: 6134.7720 - mae: 6134.7720\n",
            "Epoch 53/200\n",
            "34/34 [==============================] - 0s 2ms/step - loss: 6036.8682 - mae: 6036.8682\n",
            "Epoch 54/200\n",
            "34/34 [==============================] - 0s 2ms/step - loss: 5936.0244 - mae: 5936.0244\n",
            "Epoch 55/200\n",
            "34/34 [==============================] - 0s 2ms/step - loss: 5826.1030 - mae: 5826.1030\n",
            "Epoch 56/200\n",
            "34/34 [==============================] - 0s 2ms/step - loss: 5715.2559 - mae: 5715.2559\n",
            "Epoch 57/200\n",
            "34/34 [==============================] - 0s 2ms/step - loss: 5597.2158 - mae: 5597.2158\n",
            "Epoch 58/200\n",
            "34/34 [==============================] - 0s 2ms/step - loss: 5477.7920 - mae: 5477.7920\n",
            "Epoch 59/200\n",
            "34/34 [==============================] - 0s 2ms/step - loss: 5356.4468 - mae: 5356.4468\n",
            "Epoch 60/200\n",
            "34/34 [==============================] - 0s 2ms/step - loss: 5231.1157 - mae: 5231.1157\n",
            "Epoch 61/200\n",
            "34/34 [==============================] - 0s 2ms/step - loss: 5103.5747 - mae: 5103.5747\n",
            "Epoch 62/200\n",
            "34/34 [==============================] - 0s 1ms/step - loss: 4970.8081 - mae: 4970.8081\n",
            "Epoch 63/200\n",
            "34/34 [==============================] - 0s 2ms/step - loss: 4840.7021 - mae: 4840.7021\n",
            "Epoch 64/200\n",
            "34/34 [==============================] - 0s 2ms/step - loss: 4706.8218 - mae: 4706.8218\n",
            "Epoch 65/200\n",
            "34/34 [==============================] - 0s 2ms/step - loss: 4579.1650 - mae: 4579.1650\n",
            "Epoch 66/200\n",
            "34/34 [==============================] - 0s 2ms/step - loss: 4456.2500 - mae: 4456.2500\n",
            "Epoch 67/200\n",
            "34/34 [==============================] - 0s 2ms/step - loss: 4347.0459 - mae: 4347.0459\n",
            "Epoch 68/200\n",
            "34/34 [==============================] - 0s 2ms/step - loss: 4241.2432 - mae: 4241.2432\n",
            "Epoch 69/200\n",
            "34/34 [==============================] - 0s 2ms/step - loss: 4140.8784 - mae: 4140.8784\n",
            "Epoch 70/200\n",
            "34/34 [==============================] - 0s 1ms/step - loss: 4049.9897 - mae: 4049.9897\n",
            "Epoch 71/200\n",
            "34/34 [==============================] - 0s 2ms/step - loss: 3968.9314 - mae: 3968.9314\n",
            "Epoch 72/200\n",
            "34/34 [==============================] - 0s 2ms/step - loss: 3899.2390 - mae: 3899.2390\n",
            "Epoch 73/200\n",
            "34/34 [==============================] - 0s 2ms/step - loss: 3842.3716 - mae: 3842.3716\n",
            "Epoch 74/200\n",
            "34/34 [==============================] - 0s 2ms/step - loss: 3793.7485 - mae: 3793.7485\n",
            "Epoch 75/200\n",
            "34/34 [==============================] - 0s 2ms/step - loss: 3758.6997 - mae: 3758.6997\n",
            "Epoch 76/200\n",
            "34/34 [==============================] - 0s 1ms/step - loss: 3732.6936 - mae: 3732.6936\n",
            "Epoch 77/200\n",
            "34/34 [==============================] - 0s 2ms/step - loss: 3711.1316 - mae: 3711.1316\n",
            "Epoch 78/200\n",
            "34/34 [==============================] - 0s 2ms/step - loss: 3697.6313 - mae: 3697.6313\n",
            "Epoch 79/200\n",
            "34/34 [==============================] - 0s 2ms/step - loss: 3688.6216 - mae: 3688.6216\n",
            "Epoch 80/200\n",
            "34/34 [==============================] - 0s 2ms/step - loss: 3680.1223 - mae: 3680.1223\n",
            "Epoch 81/200\n",
            "34/34 [==============================] - 0s 2ms/step - loss: 3675.1311 - mae: 3675.1311\n",
            "Epoch 82/200\n",
            "34/34 [==============================] - 0s 2ms/step - loss: 3672.4456 - mae: 3672.4456\n",
            "Epoch 83/200\n",
            "34/34 [==============================] - 0s 2ms/step - loss: 3666.9646 - mae: 3666.9646\n",
            "Epoch 84/200\n",
            "34/34 [==============================] - 0s 2ms/step - loss: 3664.2593 - mae: 3664.2593\n",
            "Epoch 85/200\n",
            "34/34 [==============================] - 0s 1ms/step - loss: 3661.6926 - mae: 3661.6926\n",
            "Epoch 86/200\n",
            "34/34 [==============================] - 0s 2ms/step - loss: 3660.0469 - mae: 3660.0469\n",
            "Epoch 87/200\n",
            "34/34 [==============================] - 0s 2ms/step - loss: 3657.3691 - mae: 3657.3691\n",
            "Epoch 88/200\n",
            "34/34 [==============================] - 0s 2ms/step - loss: 3655.0474 - mae: 3655.0474\n",
            "Epoch 89/200\n",
            "34/34 [==============================] - 0s 2ms/step - loss: 3654.0378 - mae: 3654.0378\n",
            "Epoch 90/200\n",
            "34/34 [==============================] - 0s 2ms/step - loss: 3652.1672 - mae: 3652.1672\n",
            "Epoch 91/200\n",
            "34/34 [==============================] - 0s 2ms/step - loss: 3649.0151 - mae: 3649.0151\n",
            "Epoch 92/200\n",
            "34/34 [==============================] - 0s 1ms/step - loss: 3648.4160 - mae: 3648.4160\n",
            "Epoch 93/200\n",
            "34/34 [==============================] - 0s 2ms/step - loss: 3646.1506 - mae: 3646.1506\n",
            "Epoch 94/200\n",
            "34/34 [==============================] - 0s 2ms/step - loss: 3644.4368 - mae: 3644.4368\n",
            "Epoch 95/200\n",
            "34/34 [==============================] - 0s 1ms/step - loss: 3645.5413 - mae: 3645.5413\n",
            "Epoch 96/200\n",
            "34/34 [==============================] - 0s 2ms/step - loss: 3642.5439 - mae: 3642.5439\n",
            "Epoch 97/200\n",
            "34/34 [==============================] - 0s 2ms/step - loss: 3639.8391 - mae: 3639.8391\n",
            "Epoch 98/200\n",
            "34/34 [==============================] - 0s 2ms/step - loss: 3638.0190 - mae: 3638.0190\n",
            "Epoch 99/200\n",
            "34/34 [==============================] - 0s 2ms/step - loss: 3637.2600 - mae: 3637.2600\n",
            "Epoch 100/200\n",
            "34/34 [==============================] - 0s 1ms/step - loss: 3635.8406 - mae: 3635.8406\n",
            "Epoch 101/200\n",
            "34/34 [==============================] - 0s 2ms/step - loss: 3632.9636 - mae: 3632.9636\n",
            "Epoch 102/200\n",
            "34/34 [==============================] - 0s 2ms/step - loss: 3630.4470 - mae: 3630.4470\n",
            "Epoch 103/200\n",
            "34/34 [==============================] - 0s 2ms/step - loss: 3629.3398 - mae: 3629.3398\n",
            "Epoch 104/200\n",
            "34/34 [==============================] - 0s 2ms/step - loss: 3626.8687 - mae: 3626.8687\n",
            "Epoch 105/200\n",
            "34/34 [==============================] - 0s 2ms/step - loss: 3625.3186 - mae: 3625.3186\n",
            "Epoch 106/200\n",
            "34/34 [==============================] - 0s 2ms/step - loss: 3623.9751 - mae: 3623.9751\n",
            "Epoch 107/200\n",
            "34/34 [==============================] - 0s 2ms/step - loss: 3623.5037 - mae: 3623.5037\n",
            "Epoch 108/200\n",
            "34/34 [==============================] - 0s 2ms/step - loss: 3620.8750 - mae: 3620.8750\n",
            "Epoch 109/200\n",
            "34/34 [==============================] - 0s 2ms/step - loss: 3621.1204 - mae: 3621.1204\n",
            "Epoch 110/200\n",
            "34/34 [==============================] - 0s 2ms/step - loss: 3617.9202 - mae: 3617.9202\n",
            "Epoch 111/200\n",
            "34/34 [==============================] - 0s 2ms/step - loss: 3615.0491 - mae: 3615.0491\n",
            "Epoch 112/200\n",
            "34/34 [==============================] - 0s 2ms/step - loss: 3613.0264 - mae: 3613.0264\n",
            "Epoch 113/200\n",
            "34/34 [==============================] - 0s 2ms/step - loss: 3611.5256 - mae: 3611.5256\n",
            "Epoch 114/200\n",
            "34/34 [==============================] - 0s 1ms/step - loss: 3610.6526 - mae: 3610.6526\n",
            "Epoch 115/200\n",
            "34/34 [==============================] - 0s 2ms/step - loss: 3608.9319 - mae: 3608.9319\n",
            "Epoch 116/200\n",
            "34/34 [==============================] - 0s 2ms/step - loss: 3607.5872 - mae: 3607.5872\n",
            "Epoch 117/200\n",
            "34/34 [==============================] - 0s 2ms/step - loss: 3604.4832 - mae: 3604.4832\n",
            "Epoch 118/200\n",
            "34/34 [==============================] - 0s 2ms/step - loss: 3600.8352 - mae: 3600.8352\n",
            "Epoch 119/200\n",
            "34/34 [==============================] - 0s 2ms/step - loss: 3603.1016 - mae: 3603.1016\n",
            "Epoch 120/200\n",
            "34/34 [==============================] - 0s 2ms/step - loss: 3599.7363 - mae: 3599.7363\n",
            "Epoch 121/200\n",
            "34/34 [==============================] - 0s 2ms/step - loss: 3594.9146 - mae: 3594.9146\n",
            "Epoch 122/200\n",
            "34/34 [==============================] - 0s 2ms/step - loss: 3594.2988 - mae: 3594.2988\n",
            "Epoch 123/200\n",
            "34/34 [==============================] - 0s 2ms/step - loss: 3592.2515 - mae: 3592.2515\n",
            "Epoch 124/200\n",
            "34/34 [==============================] - 0s 2ms/step - loss: 3590.0203 - mae: 3590.0203\n",
            "Epoch 125/200\n",
            "34/34 [==============================] - 0s 2ms/step - loss: 3588.0627 - mae: 3588.0627\n",
            "Epoch 126/200\n",
            "34/34 [==============================] - 0s 2ms/step - loss: 3587.1316 - mae: 3587.1316\n",
            "Epoch 127/200\n",
            "34/34 [==============================] - 0s 2ms/step - loss: 3587.7820 - mae: 3587.7820\n",
            "Epoch 128/200\n",
            "34/34 [==============================] - 0s 1ms/step - loss: 3583.7329 - mae: 3583.7329\n",
            "Epoch 129/200\n",
            "34/34 [==============================] - 0s 2ms/step - loss: 3582.3674 - mae: 3582.3674\n",
            "Epoch 130/200\n",
            "34/34 [==============================] - 0s 2ms/step - loss: 3578.7654 - mae: 3578.7654\n",
            "Epoch 131/200\n",
            "34/34 [==============================] - 0s 2ms/step - loss: 3577.3298 - mae: 3577.3298\n",
            "Epoch 132/200\n",
            "34/34 [==============================] - 0s 1ms/step - loss: 3574.4866 - mae: 3574.4866\n",
            "Epoch 133/200\n",
            "34/34 [==============================] - 0s 2ms/step - loss: 3572.8672 - mae: 3572.8672\n",
            "Epoch 134/200\n",
            "34/34 [==============================] - 0s 2ms/step - loss: 3570.7810 - mae: 3570.7810\n",
            "Epoch 135/200\n",
            "34/34 [==============================] - 0s 2ms/step - loss: 3568.8713 - mae: 3568.8713\n",
            "Epoch 136/200\n",
            "34/34 [==============================] - 0s 2ms/step - loss: 3567.4231 - mae: 3567.4231\n",
            "Epoch 137/200\n",
            "34/34 [==============================] - 0s 2ms/step - loss: 3565.8130 - mae: 3565.8130\n",
            "Epoch 138/200\n",
            "34/34 [==============================] - 0s 2ms/step - loss: 3563.4604 - mae: 3563.4604\n",
            "Epoch 139/200\n",
            "34/34 [==============================] - 0s 2ms/step - loss: 3562.7104 - mae: 3562.7104\n",
            "Epoch 140/200\n",
            "34/34 [==============================] - 0s 2ms/step - loss: 3560.4478 - mae: 3560.4478\n",
            "Epoch 141/200\n",
            "34/34 [==============================] - 0s 2ms/step - loss: 3560.5574 - mae: 3560.5574\n",
            "Epoch 142/200\n",
            "34/34 [==============================] - 0s 2ms/step - loss: 3557.6008 - mae: 3557.6008\n",
            "Epoch 143/200\n",
            "34/34 [==============================] - 0s 2ms/step - loss: 3557.6165 - mae: 3557.6165\n",
            "Epoch 144/200\n",
            "34/34 [==============================] - 0s 2ms/step - loss: 3554.5227 - mae: 3554.5227\n",
            "Epoch 145/200\n",
            "34/34 [==============================] - 0s 2ms/step - loss: 3552.8125 - mae: 3552.8125\n",
            "Epoch 146/200\n",
            "34/34 [==============================] - 0s 2ms/step - loss: 3552.9773 - mae: 3552.9773\n",
            "Epoch 147/200\n",
            "34/34 [==============================] - 0s 2ms/step - loss: 3550.4343 - mae: 3550.4343\n",
            "Epoch 148/200\n",
            "34/34 [==============================] - 0s 2ms/step - loss: 3549.1819 - mae: 3549.1819\n",
            "Epoch 149/200\n",
            "34/34 [==============================] - 0s 2ms/step - loss: 3546.3833 - mae: 3546.3833\n",
            "Epoch 150/200\n",
            "34/34 [==============================] - 0s 2ms/step - loss: 3546.2117 - mae: 3546.2117\n",
            "Epoch 151/200\n",
            "34/34 [==============================] - 0s 2ms/step - loss: 3544.3323 - mae: 3544.3323\n",
            "Epoch 152/200\n",
            "34/34 [==============================] - 0s 2ms/step - loss: 3542.8613 - mae: 3542.8613\n",
            "Epoch 153/200\n",
            "34/34 [==============================] - 0s 2ms/step - loss: 3541.2527 - mae: 3541.2527\n",
            "Epoch 154/200\n",
            "34/34 [==============================] - 0s 2ms/step - loss: 3542.5078 - mae: 3542.5078\n",
            "Epoch 155/200\n",
            "34/34 [==============================] - 0s 2ms/step - loss: 3540.4749 - mae: 3540.4749\n",
            "Epoch 156/200\n",
            "34/34 [==============================] - 0s 2ms/step - loss: 3538.3296 - mae: 3538.3296\n",
            "Epoch 157/200\n",
            "34/34 [==============================] - 0s 2ms/step - loss: 3537.0439 - mae: 3537.0439\n",
            "Epoch 158/200\n",
            "34/34 [==============================] - 0s 1ms/step - loss: 3533.7908 - mae: 3533.7908\n",
            "Epoch 159/200\n",
            "34/34 [==============================] - 0s 2ms/step - loss: 3532.3899 - mae: 3532.3899\n",
            "Epoch 160/200\n",
            "34/34 [==============================] - 0s 2ms/step - loss: 3532.2634 - mae: 3532.2634\n",
            "Epoch 161/200\n",
            "34/34 [==============================] - 0s 2ms/step - loss: 3529.0342 - mae: 3529.0342\n",
            "Epoch 162/200\n",
            "34/34 [==============================] - 0s 3ms/step - loss: 3528.4370 - mae: 3528.4370\n",
            "Epoch 163/200\n",
            "34/34 [==============================] - 0s 2ms/step - loss: 3526.9495 - mae: 3526.9495\n",
            "Epoch 164/200\n",
            "34/34 [==============================] - 0s 2ms/step - loss: 3525.7698 - mae: 3525.7698\n",
            "Epoch 165/200\n",
            "34/34 [==============================] - 0s 2ms/step - loss: 3523.7791 - mae: 3523.7791\n",
            "Epoch 166/200\n",
            "34/34 [==============================] - 0s 2ms/step - loss: 3522.0945 - mae: 3522.0945\n",
            "Epoch 167/200\n",
            "34/34 [==============================] - 0s 1ms/step - loss: 3521.3950 - mae: 3521.3950\n",
            "Epoch 168/200\n",
            "34/34 [==============================] - 0s 2ms/step - loss: 3520.4844 - mae: 3520.4844\n",
            "Epoch 169/200\n",
            "34/34 [==============================] - 0s 2ms/step - loss: 3518.9072 - mae: 3518.9072\n",
            "Epoch 170/200\n",
            "34/34 [==============================] - 0s 2ms/step - loss: 3517.5786 - mae: 3517.5786\n",
            "Epoch 171/200\n",
            "34/34 [==============================] - 0s 2ms/step - loss: 3516.8831 - mae: 3516.8831\n",
            "Epoch 172/200\n",
            "34/34 [==============================] - 0s 2ms/step - loss: 3515.3459 - mae: 3515.3459\n",
            "Epoch 173/200\n",
            "34/34 [==============================] - 0s 2ms/step - loss: 3514.2173 - mae: 3514.2173\n",
            "Epoch 174/200\n",
            "34/34 [==============================] - 0s 2ms/step - loss: 3512.9995 - mae: 3512.9995\n",
            "Epoch 175/200\n",
            "34/34 [==============================] - 0s 2ms/step - loss: 3511.7002 - mae: 3511.7002\n",
            "Epoch 176/200\n",
            "34/34 [==============================] - 0s 2ms/step - loss: 3511.6428 - mae: 3511.6428\n",
            "Epoch 177/200\n",
            "34/34 [==============================] - 0s 2ms/step - loss: 3511.9995 - mae: 3511.9995\n",
            "Epoch 178/200\n",
            "34/34 [==============================] - 0s 2ms/step - loss: 3509.4922 - mae: 3509.4922\n",
            "Epoch 179/200\n",
            "34/34 [==============================] - 0s 2ms/step - loss: 3511.4856 - mae: 3511.4856\n",
            "Epoch 180/200\n",
            "34/34 [==============================] - 0s 2ms/step - loss: 3506.5195 - mae: 3506.5195\n",
            "Epoch 181/200\n",
            "34/34 [==============================] - 0s 2ms/step - loss: 3504.4392 - mae: 3504.4392\n",
            "Epoch 182/200\n",
            "34/34 [==============================] - 0s 2ms/step - loss: 3503.8303 - mae: 3503.8303\n",
            "Epoch 183/200\n",
            "34/34 [==============================] - 0s 2ms/step - loss: 3501.8640 - mae: 3501.8640\n",
            "Epoch 184/200\n",
            "34/34 [==============================] - 0s 2ms/step - loss: 3501.2224 - mae: 3501.2224\n",
            "Epoch 185/200\n",
            "34/34 [==============================] - 0s 2ms/step - loss: 3500.7986 - mae: 3500.7986\n",
            "Epoch 186/200\n",
            "34/34 [==============================] - 0s 2ms/step - loss: 3498.4751 - mae: 3498.4751\n",
            "Epoch 187/200\n",
            "34/34 [==============================] - 0s 2ms/step - loss: 3498.5942 - mae: 3498.5942\n",
            "Epoch 188/200\n",
            "34/34 [==============================] - 0s 2ms/step - loss: 3496.0005 - mae: 3496.0005\n",
            "Epoch 189/200\n",
            "34/34 [==============================] - 0s 2ms/step - loss: 3494.6711 - mae: 3494.6711\n",
            "Epoch 190/200\n",
            "34/34 [==============================] - 0s 2ms/step - loss: 3495.7971 - mae: 3495.7971\n",
            "Epoch 191/200\n",
            "34/34 [==============================] - 0s 2ms/step - loss: 3501.7834 - mae: 3501.7834\n",
            "Epoch 192/200\n",
            "34/34 [==============================] - 0s 2ms/step - loss: 3491.3105 - mae: 3491.3105\n",
            "Epoch 193/200\n",
            "34/34 [==============================] - 0s 2ms/step - loss: 3491.5625 - mae: 3491.5625\n",
            "Epoch 194/200\n",
            "34/34 [==============================] - 0s 2ms/step - loss: 3488.1243 - mae: 3488.1243\n",
            "Epoch 195/200\n",
            "34/34 [==============================] - 0s 2ms/step - loss: 3487.2180 - mae: 3487.2180\n",
            "Epoch 196/200\n",
            "34/34 [==============================] - 0s 2ms/step - loss: 3488.7407 - mae: 3488.7407\n",
            "Epoch 197/200\n",
            "34/34 [==============================] - 0s 2ms/step - loss: 3485.3831 - mae: 3485.3831\n",
            "Epoch 198/200\n",
            "34/34 [==============================] - 0s 2ms/step - loss: 3483.9092 - mae: 3483.9092\n",
            "Epoch 199/200\n",
            "34/34 [==============================] - 0s 2ms/step - loss: 3482.9478 - mae: 3482.9478\n",
            "Epoch 200/200\n",
            "34/34 [==============================] - 0s 2ms/step - loss: 3483.4512 - mae: 3483.4512\n"
          ]
        },
        {
          "output_type": "execute_result",
          "data": {
            "text/plain": [
              "<keras.callbacks.History at 0x7f6b29a1e750>"
            ]
          },
          "metadata": {},
          "execution_count": 173
        }
      ]
    },
    {
      "cell_type": "code",
      "metadata": {
        "colab": {
          "base_uri": "https://localhost:8080/"
        },
        "id": "M42RvlpdItki",
        "outputId": "1bebb0e8-bd3d-4b04-87f0-84457481de12"
      },
      "source": [
        "# Evaluate our insurance model trained on normalized data\n",
        "insurance_model_3.evaluate(X_test_normal, y_test)"
      ],
      "execution_count": null,
      "outputs": [
        {
          "output_type": "stream",
          "name": "stdout",
          "text": [
            "9/9 [==============================] - 0s 2ms/step - loss: 3170.4167 - mae: 3170.4167\n"
          ]
        },
        {
          "output_type": "execute_result",
          "data": {
            "text/plain": [
              "[3170.416748046875, 3170.416748046875]"
            ]
          },
          "metadata": {},
          "execution_count": 174
        }
      ]
    },
    {
      "cell_type": "code",
      "metadata": {
        "id": "RjnGq8NeJZzp"
      },
      "source": [
        "# Insurance model 2 results\n",
        "# 9/9 [==============================] - 0s 2ms/step - loss: 3491.2961 - mae: 3491.2961"
      ],
      "execution_count": null,
      "outputs": []
    },
    {
      "cell_type": "markdown",
      "metadata": {
        "id": "BaqEKRZlJjPa"
      },
      "source": [
        "We can see that there are some improvements(not that much) but we can improve the results by more improvements in our model.\n",
        "\n",
        "We can conclude that normalization does not garuntee much improvements in our results much we can definitely try to improve our results.\n",
        "\n",
        "But there is one huge benifit of normalization which is that our model **converges faster**."
      ]
    },
    {
      "cell_type": "code",
      "metadata": {
        "colab": {
          "base_uri": "https://localhost:8080/"
        },
        "id": "G_Ei-AFjJErJ",
        "outputId": "9cf6aad9-dc64-4d05-81ac-6991c23c98aa"
      },
      "source": [
        "insurance_model_3.summary()"
      ],
      "execution_count": null,
      "outputs": [
        {
          "output_type": "stream",
          "name": "stdout",
          "text": [
            "Model: \"sequential_23\"\n",
            "_________________________________________________________________\n",
            "Layer (type)                 Output Shape              Param #   \n",
            "=================================================================\n",
            "dense_51 (Dense)             (None, 100)               1200      \n",
            "_________________________________________________________________\n",
            "dense_52 (Dense)             (None, 10)                1010      \n",
            "_________________________________________________________________\n",
            "dense_53 (Dense)             (None, 1)                 11        \n",
            "=================================================================\n",
            "Total params: 2,221\n",
            "Trainable params: 2,221\n",
            "Non-trainable params: 0\n",
            "_________________________________________________________________\n"
          ]
        }
      ]
    },
    {
      "cell_type": "code",
      "metadata": {
        "id": "z6IsIElFJICq"
      },
      "source": [
        ""
      ],
      "execution_count": null,
      "outputs": []
    }
  ]
}